{
  "nbformat": 4,
  "nbformat_minor": 0,
  "metadata": {
    "colab": {
      "name": "03_Intro_to_pandas.ipynb",
      "provenance": [],
      "include_colab_link": true
    },
    "kernelspec": {
      "name": "python3",
      "display_name": "Python 3"
    },
    "language_info": {
      "name": "python"
    }
  },
  "cells": [
    {
      "cell_type": "markdown",
      "metadata": {
        "id": "view-in-github",
        "colab_type": "text"
      },
      "source": [
        "<a href=\"https://colab.research.google.com/github/araldi/FS22---Big-Data-Analysis-in-Biomedical-Research-376-1723-00L/blob/main/Week2/03_Intro_to_pandas.ipynb\" target=\"_parent\"><img src=\"https://colab.research.google.com/assets/colab-badge.svg\" alt=\"Open In Colab\"/></a>"
      ]
    },
    {
      "cell_type": "markdown",
      "metadata": {
        "id": "46iJ7wTdph0Z"
      },
      "source": [
        "# Intro\n",
        "\n",
        "As you have seen, Python is a very powerful and dynamic programming language with several built-in functions. \n",
        "\n",
        "Sometimes, however, importing libraries is essential to perform certain operations without excessive coding from scratch.\n",
        "\n",
        "Usually, at the beginning of the code or in the first cell of the notebook, you want to import all the libraries that you need. \n",
        "\n"
      ]
    },
    {
      "cell_type": "code",
      "metadata": {
        "id": "agSVuezupmR7"
      },
      "source": [
        "# In this example, we will be importing the following libraries :\n",
        "# pandas, \n",
        "# numpy, \n",
        "\n",
        "# let's import them!\n",
        "\n",
        "import pandas as pd # the aliases speed up the calling the library\n",
        "import numpy as np\n"
      ],
      "execution_count": 1,
      "outputs": []
    },
    {
      "cell_type": "markdown",
      "source": [
        "If you are using a Jupyter Notebook/Lab on your computer, you need to first install Pandas and NumPy if you have not done so already.\n",
        "Run this command on terminal:\n",
        "\n",
        "\n",
        "\n",
        "```\n",
        "pip install pandas\n",
        "pip install numpy\n",
        "```\n",
        "\n"
      ],
      "metadata": {
        "id": "nGvQLSAZK1qM"
      }
    },
    {
      "cell_type": "markdown",
      "metadata": {
        "id": "URQiSy9mpx1z"
      },
      "source": [
        "# What can Pandas do for you?\n",
        "\n",
        "Today we will learn:\n",
        "\n",
        "* Create Series and DataFrames;\n",
        "\n",
        "*   Import data in the form of DataFrames (tables);\n",
        "\n",
        "\n",
        "* Get info on your imported DataFrames;\n",
        "\n",
        "* Subset the DataFrame.\n",
        "\n",
        "\n"
      ]
    },
    {
      "cell_type": "markdown",
      "metadata": {
        "id": "IoA804eN0YdY"
      },
      "source": [
        "# Intro on Pandas DataFrame"
      ]
    },
    {
      "cell_type": "markdown",
      "metadata": {
        "id": "Bost4sY4Ecfx"
      },
      "source": [
        "## Create Series\n",
        "\n"
      ]
    },
    {
      "cell_type": "code",
      "metadata": {
        "id": "09MZCTkuiBPm",
        "colab": {
          "base_uri": "https://localhost:8080/"
        },
        "outputId": "c669f8e4-6bf5-4ae1-a288-560a96241739"
      },
      "source": [
        "# Create an empty Series\n",
        "sr = pd.Series()\n",
        "sr"
      ],
      "execution_count": 2,
      "outputs": [
        {
          "output_type": "stream",
          "name": "stderr",
          "text": [
            "/usr/local/lib/python3.7/dist-packages/ipykernel_launcher.py:2: DeprecationWarning: The default dtype for empty Series will be 'object' instead of 'float64' in a future version. Specify a dtype explicitly to silence this warning.\n",
            "  \n"
          ]
        },
        {
          "output_type": "execute_result",
          "data": {
            "text/plain": [
              "Series([], dtype: float64)"
            ]
          },
          "metadata": {},
          "execution_count": 2
        }
      ]
    },
    {
      "cell_type": "code",
      "metadata": {
        "id": "Rhxr5uS4iKvz",
        "colab": {
          "base_uri": "https://localhost:8080/"
        },
        "outputId": "d5ba3c31-1647-403a-fdb0-268b624a63bd"
      },
      "source": [
        "# Create an empty Series, made of objects (strings)\n",
        "sr = pd.Series(dtype = 'object')\n",
        "sr"
      ],
      "execution_count": 5,
      "outputs": [
        {
          "output_type": "execute_result",
          "data": {
            "text/plain": [
              "Series([], dtype: object)"
            ]
          },
          "metadata": {},
          "execution_count": 5
        }
      ]
    },
    {
      "cell_type": "code",
      "metadata": {
        "colab": {
          "base_uri": "https://localhost:8080/"
        },
        "id": "6f6a4PrHBQG-",
        "outputId": "2001fdea-aa2b-4ed8-95e5-3826a890f3c7"
      },
      "source": [
        "# Create an empty Series, made of integers\n",
        "sr = pd.Series(dtype = 'int64')\n",
        "sr"
      ],
      "execution_count": 6,
      "outputs": [
        {
          "output_type": "execute_result",
          "data": {
            "text/plain": [
              "Series([], dtype: int64)"
            ]
          },
          "metadata": {},
          "execution_count": 6
        }
      ]
    },
    {
      "cell_type": "code",
      "metadata": {
        "id": "lJVWzWY3FUJY",
        "colab": {
          "base_uri": "https://localhost:8080/"
        },
        "outputId": "ba9151eb-da9f-42fc-af9f-c05f05bb91ec"
      },
      "source": [
        "sr = pd.Series(dtype = 'object', index = ['this', 'is', 'an', 'index'])\n",
        "sr"
      ],
      "execution_count": 7,
      "outputs": [
        {
          "output_type": "execute_result",
          "data": {
            "text/plain": [
              "this     NaN\n",
              "is       NaN\n",
              "an       NaN\n",
              "index    NaN\n",
              "dtype: object"
            ]
          },
          "metadata": {},
          "execution_count": 7
        }
      ]
    },
    {
      "cell_type": "code",
      "source": [
        "content = ['THIS', 'IS', 'THE', 'CONTENT']\n",
        "sr = pd.Series(content, dtype = 'object', index = ['this', 'is', 'an', 'index'])\n",
        "sr"
      ],
      "metadata": {
        "colab": {
          "base_uri": "https://localhost:8080/"
        },
        "id": "p14pF-WjingW",
        "outputId": "adc975b2-2a99-4952-d1da-8ac722a6eb23"
      },
      "execution_count": 9,
      "outputs": [
        {
          "output_type": "execute_result",
          "data": {
            "text/plain": [
              "this        THIS\n",
              "is            IS\n",
              "an           THE\n",
              "index    CONTENT\n",
              "dtype: object"
            ]
          },
          "metadata": {},
          "execution_count": 9
        }
      ]
    },
    {
      "cell_type": "code",
      "metadata": {
        "colab": {
          "base_uri": "https://localhost:8080/"
        },
        "id": "rAVcMJM6BoWv",
        "outputId": "202ef76b-54fb-477c-9448-af895ba7aee1"
      },
      "source": [
        "# Create random numbers with numpy (more info later)\n",
        "np.random.randint(36, 46, 5)"
      ],
      "execution_count": 8,
      "outputs": [
        {
          "output_type": "execute_result",
          "data": {
            "text/plain": [
              "array([38, 43, 37, 39, 37])"
            ]
          },
          "metadata": {},
          "execution_count": 8
        }
      ]
    },
    {
      "cell_type": "code",
      "metadata": {
        "id": "GbdzlQxEl7aF"
      },
      "source": [
        "\n",
        "\n",
        "shoe_size = pd.Series(np.random.randint(36, 46, 5)) #creates a series with 5 integer values included in the range 36-46\n",
        "patient = pd.Series(['b', 'a', 'c', 'd', 'f'])"
      ],
      "execution_count": null,
      "outputs": []
    },
    {
      "cell_type": "code",
      "metadata": {
        "colab": {
          "base_uri": "https://localhost:8080/"
        },
        "id": "E1nPk-5gCBOW",
        "outputId": "434a02ae-52bb-4e9e-d853-6dc80b24bb8c"
      },
      "source": [
        "['b', 'a', 'c', 'd', 'f']"
      ],
      "execution_count": null,
      "outputs": [
        {
          "output_type": "execute_result",
          "data": {
            "text/plain": [
              "['b', 'a', 'c', 'd', 'f']"
            ]
          },
          "metadata": {},
          "execution_count": 13
        }
      ]
    },
    {
      "cell_type": "code",
      "metadata": {
        "id": "MHUx40YmmE97",
        "colab": {
          "base_uri": "https://localhost:8080/"
        },
        "outputId": "6ed4739a-4607-4302-a78e-e1446428dd7f"
      },
      "source": [
        "patient"
      ],
      "execution_count": null,
      "outputs": [
        {
          "output_type": "execute_result",
          "data": {
            "text/plain": [
              "0    b\n",
              "1    a\n",
              "2    c\n",
              "3    d\n",
              "4    f\n",
              "dtype: object"
            ]
          },
          "metadata": {},
          "execution_count": 11
        }
      ]
    },
    {
      "cell_type": "code",
      "metadata": {
        "id": "ia-BDqa4mNgD",
        "colab": {
          "base_uri": "https://localhost:8080/"
        },
        "outputId": "f5eab6c7-f54a-4b92-d938-6a2f932e6d68"
      },
      "source": [
        "shoe_size"
      ],
      "execution_count": null,
      "outputs": [
        {
          "output_type": "execute_result",
          "data": {
            "text/plain": [
              "0    37\n",
              "1    45\n",
              "2    38\n",
              "3    45\n",
              "4    38\n",
              "dtype: int64"
            ]
          },
          "metadata": {},
          "execution_count": 12
        }
      ]
    },
    {
      "cell_type": "markdown",
      "metadata": {
        "id": "ySwGbbZolq2X"
      },
      "source": [
        "## Create DataFrames"
      ]
    },
    {
      "cell_type": "code",
      "metadata": {
        "id": "CCTQww16FHpd",
        "colab": {
          "base_uri": "https://localhost:8080/",
          "height": 49
        },
        "outputId": "5bcb906a-05e1-4c06-e30d-4688b57d12c6"
      },
      "source": [
        "# create and empty dataframe\n",
        "\n",
        "df = pd.DataFrame()\n",
        "df"
      ],
      "execution_count": 11,
      "outputs": [
        {
          "output_type": "execute_result",
          "data": {
            "text/html": [
              "\n",
              "  <div id=\"df-a4ddeed5-581c-4647-8c43-2aaf873a27a1\">\n",
              "    <div class=\"colab-df-container\">\n",
              "      <div>\n",
              "<style scoped>\n",
              "    .dataframe tbody tr th:only-of-type {\n",
              "        vertical-align: middle;\n",
              "    }\n",
              "\n",
              "    .dataframe tbody tr th {\n",
              "        vertical-align: top;\n",
              "    }\n",
              "\n",
              "    .dataframe thead th {\n",
              "        text-align: right;\n",
              "    }\n",
              "</style>\n",
              "<table border=\"1\" class=\"dataframe\">\n",
              "  <thead>\n",
              "    <tr style=\"text-align: right;\">\n",
              "      <th></th>\n",
              "    </tr>\n",
              "  </thead>\n",
              "  <tbody>\n",
              "  </tbody>\n",
              "</table>\n",
              "</div>\n",
              "      <button class=\"colab-df-convert\" onclick=\"convertToInteractive('df-a4ddeed5-581c-4647-8c43-2aaf873a27a1')\"\n",
              "              title=\"Convert this dataframe to an interactive table.\"\n",
              "              style=\"display:none;\">\n",
              "        \n",
              "  <svg xmlns=\"http://www.w3.org/2000/svg\" height=\"24px\"viewBox=\"0 0 24 24\"\n",
              "       width=\"24px\">\n",
              "    <path d=\"M0 0h24v24H0V0z\" fill=\"none\"/>\n",
              "    <path d=\"M18.56 5.44l.94 2.06.94-2.06 2.06-.94-2.06-.94-.94-2.06-.94 2.06-2.06.94zm-11 1L8.5 8.5l.94-2.06 2.06-.94-2.06-.94L8.5 2.5l-.94 2.06-2.06.94zm10 10l.94 2.06.94-2.06 2.06-.94-2.06-.94-.94-2.06-.94 2.06-2.06.94z\"/><path d=\"M17.41 7.96l-1.37-1.37c-.4-.4-.92-.59-1.43-.59-.52 0-1.04.2-1.43.59L10.3 9.45l-7.72 7.72c-.78.78-.78 2.05 0 2.83L4 21.41c.39.39.9.59 1.41.59.51 0 1.02-.2 1.41-.59l7.78-7.78 2.81-2.81c.8-.78.8-2.07 0-2.86zM5.41 20L4 18.59l7.72-7.72 1.47 1.35L5.41 20z\"/>\n",
              "  </svg>\n",
              "      </button>\n",
              "      \n",
              "  <style>\n",
              "    .colab-df-container {\n",
              "      display:flex;\n",
              "      flex-wrap:wrap;\n",
              "      gap: 12px;\n",
              "    }\n",
              "\n",
              "    .colab-df-convert {\n",
              "      background-color: #E8F0FE;\n",
              "      border: none;\n",
              "      border-radius: 50%;\n",
              "      cursor: pointer;\n",
              "      display: none;\n",
              "      fill: #1967D2;\n",
              "      height: 32px;\n",
              "      padding: 0 0 0 0;\n",
              "      width: 32px;\n",
              "    }\n",
              "\n",
              "    .colab-df-convert:hover {\n",
              "      background-color: #E2EBFA;\n",
              "      box-shadow: 0px 1px 2px rgba(60, 64, 67, 0.3), 0px 1px 3px 1px rgba(60, 64, 67, 0.15);\n",
              "      fill: #174EA6;\n",
              "    }\n",
              "\n",
              "    [theme=dark] .colab-df-convert {\n",
              "      background-color: #3B4455;\n",
              "      fill: #D2E3FC;\n",
              "    }\n",
              "\n",
              "    [theme=dark] .colab-df-convert:hover {\n",
              "      background-color: #434B5C;\n",
              "      box-shadow: 0px 1px 3px 1px rgba(0, 0, 0, 0.15);\n",
              "      filter: drop-shadow(0px 1px 2px rgba(0, 0, 0, 0.3));\n",
              "      fill: #FFFFFF;\n",
              "    }\n",
              "  </style>\n",
              "\n",
              "      <script>\n",
              "        const buttonEl =\n",
              "          document.querySelector('#df-a4ddeed5-581c-4647-8c43-2aaf873a27a1 button.colab-df-convert');\n",
              "        buttonEl.style.display =\n",
              "          google.colab.kernel.accessAllowed ? 'block' : 'none';\n",
              "\n",
              "        async function convertToInteractive(key) {\n",
              "          const element = document.querySelector('#df-a4ddeed5-581c-4647-8c43-2aaf873a27a1');\n",
              "          const dataTable =\n",
              "            await google.colab.kernel.invokeFunction('convertToInteractive',\n",
              "                                                     [key], {});\n",
              "          if (!dataTable) return;\n",
              "\n",
              "          const docLinkHtml = 'Like what you see? Visit the ' +\n",
              "            '<a target=\"_blank\" href=https://colab.research.google.com/notebooks/data_table.ipynb>data table notebook</a>'\n",
              "            + ' to learn more about interactive tables.';\n",
              "          element.innerHTML = '';\n",
              "          dataTable['output_type'] = 'display_data';\n",
              "          await google.colab.output.renderOutput(dataTable, element);\n",
              "          const docLink = document.createElement('div');\n",
              "          docLink.innerHTML = docLinkHtml;\n",
              "          element.appendChild(docLink);\n",
              "        }\n",
              "      </script>\n",
              "    </div>\n",
              "  </div>\n",
              "  "
            ],
            "text/plain": [
              "Empty DataFrame\n",
              "Columns: []\n",
              "Index: []"
            ]
          },
          "metadata": {},
          "execution_count": 11
        }
      ]
    },
    {
      "cell_type": "code",
      "metadata": {
        "colab": {
          "base_uri": "https://localhost:8080/"
        },
        "id": "YXMdda40CUWN",
        "outputId": "af97bb9e-2dba-4faa-d307-60946c1e033e"
      },
      "source": [
        "type(df)"
      ],
      "execution_count": 12,
      "outputs": [
        {
          "output_type": "execute_result",
          "data": {
            "text/plain": [
              "pandas.core.frame.DataFrame"
            ]
          },
          "metadata": {},
          "execution_count": 12
        }
      ]
    },
    {
      "cell_type": "code",
      "metadata": {
        "id": "fGUtTIaoiX8Y",
        "colab": {
          "base_uri": "https://localhost:8080/",
          "height": 49
        },
        "outputId": "2ca01ecc-0eb3-4393-c816-4c5dad7926ac"
      },
      "source": [
        "# create and empty dataframe with specific columns\n",
        "\n",
        "df = pd.DataFrame(columns = ['these', 'are', 'columns'])\n",
        "df"
      ],
      "execution_count": 13,
      "outputs": [
        {
          "output_type": "execute_result",
          "data": {
            "text/html": [
              "\n",
              "  <div id=\"df-1e13b37f-8f46-4991-845d-c8dfa4cbb653\">\n",
              "    <div class=\"colab-df-container\">\n",
              "      <div>\n",
              "<style scoped>\n",
              "    .dataframe tbody tr th:only-of-type {\n",
              "        vertical-align: middle;\n",
              "    }\n",
              "\n",
              "    .dataframe tbody tr th {\n",
              "        vertical-align: top;\n",
              "    }\n",
              "\n",
              "    .dataframe thead th {\n",
              "        text-align: right;\n",
              "    }\n",
              "</style>\n",
              "<table border=\"1\" class=\"dataframe\">\n",
              "  <thead>\n",
              "    <tr style=\"text-align: right;\">\n",
              "      <th></th>\n",
              "      <th>these</th>\n",
              "      <th>are</th>\n",
              "      <th>columns</th>\n",
              "    </tr>\n",
              "  </thead>\n",
              "  <tbody>\n",
              "  </tbody>\n",
              "</table>\n",
              "</div>\n",
              "      <button class=\"colab-df-convert\" onclick=\"convertToInteractive('df-1e13b37f-8f46-4991-845d-c8dfa4cbb653')\"\n",
              "              title=\"Convert this dataframe to an interactive table.\"\n",
              "              style=\"display:none;\">\n",
              "        \n",
              "  <svg xmlns=\"http://www.w3.org/2000/svg\" height=\"24px\"viewBox=\"0 0 24 24\"\n",
              "       width=\"24px\">\n",
              "    <path d=\"M0 0h24v24H0V0z\" fill=\"none\"/>\n",
              "    <path d=\"M18.56 5.44l.94 2.06.94-2.06 2.06-.94-2.06-.94-.94-2.06-.94 2.06-2.06.94zm-11 1L8.5 8.5l.94-2.06 2.06-.94-2.06-.94L8.5 2.5l-.94 2.06-2.06.94zm10 10l.94 2.06.94-2.06 2.06-.94-2.06-.94-.94-2.06-.94 2.06-2.06.94z\"/><path d=\"M17.41 7.96l-1.37-1.37c-.4-.4-.92-.59-1.43-.59-.52 0-1.04.2-1.43.59L10.3 9.45l-7.72 7.72c-.78.78-.78 2.05 0 2.83L4 21.41c.39.39.9.59 1.41.59.51 0 1.02-.2 1.41-.59l7.78-7.78 2.81-2.81c.8-.78.8-2.07 0-2.86zM5.41 20L4 18.59l7.72-7.72 1.47 1.35L5.41 20z\"/>\n",
              "  </svg>\n",
              "      </button>\n",
              "      \n",
              "  <style>\n",
              "    .colab-df-container {\n",
              "      display:flex;\n",
              "      flex-wrap:wrap;\n",
              "      gap: 12px;\n",
              "    }\n",
              "\n",
              "    .colab-df-convert {\n",
              "      background-color: #E8F0FE;\n",
              "      border: none;\n",
              "      border-radius: 50%;\n",
              "      cursor: pointer;\n",
              "      display: none;\n",
              "      fill: #1967D2;\n",
              "      height: 32px;\n",
              "      padding: 0 0 0 0;\n",
              "      width: 32px;\n",
              "    }\n",
              "\n",
              "    .colab-df-convert:hover {\n",
              "      background-color: #E2EBFA;\n",
              "      box-shadow: 0px 1px 2px rgba(60, 64, 67, 0.3), 0px 1px 3px 1px rgba(60, 64, 67, 0.15);\n",
              "      fill: #174EA6;\n",
              "    }\n",
              "\n",
              "    [theme=dark] .colab-df-convert {\n",
              "      background-color: #3B4455;\n",
              "      fill: #D2E3FC;\n",
              "    }\n",
              "\n",
              "    [theme=dark] .colab-df-convert:hover {\n",
              "      background-color: #434B5C;\n",
              "      box-shadow: 0px 1px 3px 1px rgba(0, 0, 0, 0.15);\n",
              "      filter: drop-shadow(0px 1px 2px rgba(0, 0, 0, 0.3));\n",
              "      fill: #FFFFFF;\n",
              "    }\n",
              "  </style>\n",
              "\n",
              "      <script>\n",
              "        const buttonEl =\n",
              "          document.querySelector('#df-1e13b37f-8f46-4991-845d-c8dfa4cbb653 button.colab-df-convert');\n",
              "        buttonEl.style.display =\n",
              "          google.colab.kernel.accessAllowed ? 'block' : 'none';\n",
              "\n",
              "        async function convertToInteractive(key) {\n",
              "          const element = document.querySelector('#df-1e13b37f-8f46-4991-845d-c8dfa4cbb653');\n",
              "          const dataTable =\n",
              "            await google.colab.kernel.invokeFunction('convertToInteractive',\n",
              "                                                     [key], {});\n",
              "          if (!dataTable) return;\n",
              "\n",
              "          const docLinkHtml = 'Like what you see? Visit the ' +\n",
              "            '<a target=\"_blank\" href=https://colab.research.google.com/notebooks/data_table.ipynb>data table notebook</a>'\n",
              "            + ' to learn more about interactive tables.';\n",
              "          element.innerHTML = '';\n",
              "          dataTable['output_type'] = 'display_data';\n",
              "          await google.colab.output.renderOutput(dataTable, element);\n",
              "          const docLink = document.createElement('div');\n",
              "          docLink.innerHTML = docLinkHtml;\n",
              "          element.appendChild(docLink);\n",
              "        }\n",
              "      </script>\n",
              "    </div>\n",
              "  </div>\n",
              "  "
            ],
            "text/plain": [
              "Empty DataFrame\n",
              "Columns: [these, are, columns]\n",
              "Index: []"
            ]
          },
          "metadata": {},
          "execution_count": 13
        }
      ]
    },
    {
      "cell_type": "code",
      "metadata": {
        "colab": {
          "base_uri": "https://localhost:8080/",
          "height": 206
        },
        "id": "YjD_MP19CepL",
        "outputId": "4762fb92-0c00-4f1d-a474-fe21fad78d60"
      },
      "source": [
        "df = pd.DataFrame(columns = ['these', 'are', 'columns'], index = [0,1,2,3,4])\n",
        "df"
      ],
      "execution_count": 14,
      "outputs": [
        {
          "output_type": "execute_result",
          "data": {
            "text/html": [
              "\n",
              "  <div id=\"df-b6af5302-57f8-4c13-ae46-afeb7156502a\">\n",
              "    <div class=\"colab-df-container\">\n",
              "      <div>\n",
              "<style scoped>\n",
              "    .dataframe tbody tr th:only-of-type {\n",
              "        vertical-align: middle;\n",
              "    }\n",
              "\n",
              "    .dataframe tbody tr th {\n",
              "        vertical-align: top;\n",
              "    }\n",
              "\n",
              "    .dataframe thead th {\n",
              "        text-align: right;\n",
              "    }\n",
              "</style>\n",
              "<table border=\"1\" class=\"dataframe\">\n",
              "  <thead>\n",
              "    <tr style=\"text-align: right;\">\n",
              "      <th></th>\n",
              "      <th>these</th>\n",
              "      <th>are</th>\n",
              "      <th>columns</th>\n",
              "    </tr>\n",
              "  </thead>\n",
              "  <tbody>\n",
              "    <tr>\n",
              "      <th>0</th>\n",
              "      <td>NaN</td>\n",
              "      <td>NaN</td>\n",
              "      <td>NaN</td>\n",
              "    </tr>\n",
              "    <tr>\n",
              "      <th>1</th>\n",
              "      <td>NaN</td>\n",
              "      <td>NaN</td>\n",
              "      <td>NaN</td>\n",
              "    </tr>\n",
              "    <tr>\n",
              "      <th>2</th>\n",
              "      <td>NaN</td>\n",
              "      <td>NaN</td>\n",
              "      <td>NaN</td>\n",
              "    </tr>\n",
              "    <tr>\n",
              "      <th>3</th>\n",
              "      <td>NaN</td>\n",
              "      <td>NaN</td>\n",
              "      <td>NaN</td>\n",
              "    </tr>\n",
              "    <tr>\n",
              "      <th>4</th>\n",
              "      <td>NaN</td>\n",
              "      <td>NaN</td>\n",
              "      <td>NaN</td>\n",
              "    </tr>\n",
              "  </tbody>\n",
              "</table>\n",
              "</div>\n",
              "      <button class=\"colab-df-convert\" onclick=\"convertToInteractive('df-b6af5302-57f8-4c13-ae46-afeb7156502a')\"\n",
              "              title=\"Convert this dataframe to an interactive table.\"\n",
              "              style=\"display:none;\">\n",
              "        \n",
              "  <svg xmlns=\"http://www.w3.org/2000/svg\" height=\"24px\"viewBox=\"0 0 24 24\"\n",
              "       width=\"24px\">\n",
              "    <path d=\"M0 0h24v24H0V0z\" fill=\"none\"/>\n",
              "    <path d=\"M18.56 5.44l.94 2.06.94-2.06 2.06-.94-2.06-.94-.94-2.06-.94 2.06-2.06.94zm-11 1L8.5 8.5l.94-2.06 2.06-.94-2.06-.94L8.5 2.5l-.94 2.06-2.06.94zm10 10l.94 2.06.94-2.06 2.06-.94-2.06-.94-.94-2.06-.94 2.06-2.06.94z\"/><path d=\"M17.41 7.96l-1.37-1.37c-.4-.4-.92-.59-1.43-.59-.52 0-1.04.2-1.43.59L10.3 9.45l-7.72 7.72c-.78.78-.78 2.05 0 2.83L4 21.41c.39.39.9.59 1.41.59.51 0 1.02-.2 1.41-.59l7.78-7.78 2.81-2.81c.8-.78.8-2.07 0-2.86zM5.41 20L4 18.59l7.72-7.72 1.47 1.35L5.41 20z\"/>\n",
              "  </svg>\n",
              "      </button>\n",
              "      \n",
              "  <style>\n",
              "    .colab-df-container {\n",
              "      display:flex;\n",
              "      flex-wrap:wrap;\n",
              "      gap: 12px;\n",
              "    }\n",
              "\n",
              "    .colab-df-convert {\n",
              "      background-color: #E8F0FE;\n",
              "      border: none;\n",
              "      border-radius: 50%;\n",
              "      cursor: pointer;\n",
              "      display: none;\n",
              "      fill: #1967D2;\n",
              "      height: 32px;\n",
              "      padding: 0 0 0 0;\n",
              "      width: 32px;\n",
              "    }\n",
              "\n",
              "    .colab-df-convert:hover {\n",
              "      background-color: #E2EBFA;\n",
              "      box-shadow: 0px 1px 2px rgba(60, 64, 67, 0.3), 0px 1px 3px 1px rgba(60, 64, 67, 0.15);\n",
              "      fill: #174EA6;\n",
              "    }\n",
              "\n",
              "    [theme=dark] .colab-df-convert {\n",
              "      background-color: #3B4455;\n",
              "      fill: #D2E3FC;\n",
              "    }\n",
              "\n",
              "    [theme=dark] .colab-df-convert:hover {\n",
              "      background-color: #434B5C;\n",
              "      box-shadow: 0px 1px 3px 1px rgba(0, 0, 0, 0.15);\n",
              "      filter: drop-shadow(0px 1px 2px rgba(0, 0, 0, 0.3));\n",
              "      fill: #FFFFFF;\n",
              "    }\n",
              "  </style>\n",
              "\n",
              "      <script>\n",
              "        const buttonEl =\n",
              "          document.querySelector('#df-b6af5302-57f8-4c13-ae46-afeb7156502a button.colab-df-convert');\n",
              "        buttonEl.style.display =\n",
              "          google.colab.kernel.accessAllowed ? 'block' : 'none';\n",
              "\n",
              "        async function convertToInteractive(key) {\n",
              "          const element = document.querySelector('#df-b6af5302-57f8-4c13-ae46-afeb7156502a');\n",
              "          const dataTable =\n",
              "            await google.colab.kernel.invokeFunction('convertToInteractive',\n",
              "                                                     [key], {});\n",
              "          if (!dataTable) return;\n",
              "\n",
              "          const docLinkHtml = 'Like what you see? Visit the ' +\n",
              "            '<a target=\"_blank\" href=https://colab.research.google.com/notebooks/data_table.ipynb>data table notebook</a>'\n",
              "            + ' to learn more about interactive tables.';\n",
              "          element.innerHTML = '';\n",
              "          dataTable['output_type'] = 'display_data';\n",
              "          await google.colab.output.renderOutput(dataTable, element);\n",
              "          const docLink = document.createElement('div');\n",
              "          docLink.innerHTML = docLinkHtml;\n",
              "          element.appendChild(docLink);\n",
              "        }\n",
              "      </script>\n",
              "    </div>\n",
              "  </div>\n",
              "  "
            ],
            "text/plain": [
              "  these  are columns\n",
              "0   NaN  NaN     NaN\n",
              "1   NaN  NaN     NaN\n",
              "2   NaN  NaN     NaN\n",
              "3   NaN  NaN     NaN\n",
              "4   NaN  NaN     NaN"
            ]
          },
          "metadata": {},
          "execution_count": 14
        }
      ]
    },
    {
      "cell_type": "code",
      "metadata": {
        "id": "oen_NQANFOdN",
        "colab": {
          "base_uri": "https://localhost:8080/"
        },
        "outputId": "fee0caf2-eb12-439f-bc03-1b9e5009422f"
      },
      "source": [
        "type(df)"
      ],
      "execution_count": 15,
      "outputs": [
        {
          "output_type": "execute_result",
          "data": {
            "text/plain": [
              "pandas.core.frame.DataFrame"
            ]
          },
          "metadata": {},
          "execution_count": 15
        }
      ]
    },
    {
      "cell_type": "code",
      "metadata": {
        "id": "s1fZjNXhcW7u",
        "colab": {
          "base_uri": "https://localhost:8080/",
          "height": 206
        },
        "outputId": "24f00062-ccf4-4d91-f573-2d2dd6007efc"
      },
      "source": [
        "df1 = pd.DataFrame({'patient': ['b', 'a', 'c', 'e', 'f'], # this is the first column\n",
        "                    'height [cm]': np.random.randint(140, 200, 5)} #this is the second columns\n",
        "                   \n",
        "                   )\n",
        "df1"
      ],
      "execution_count": 16,
      "outputs": [
        {
          "output_type": "execute_result",
          "data": {
            "text/html": [
              "\n",
              "  <div id=\"df-cde659d9-d404-404f-9e97-b5242b96664e\">\n",
              "    <div class=\"colab-df-container\">\n",
              "      <div>\n",
              "<style scoped>\n",
              "    .dataframe tbody tr th:only-of-type {\n",
              "        vertical-align: middle;\n",
              "    }\n",
              "\n",
              "    .dataframe tbody tr th {\n",
              "        vertical-align: top;\n",
              "    }\n",
              "\n",
              "    .dataframe thead th {\n",
              "        text-align: right;\n",
              "    }\n",
              "</style>\n",
              "<table border=\"1\" class=\"dataframe\">\n",
              "  <thead>\n",
              "    <tr style=\"text-align: right;\">\n",
              "      <th></th>\n",
              "      <th>patient</th>\n",
              "      <th>height [cm]</th>\n",
              "    </tr>\n",
              "  </thead>\n",
              "  <tbody>\n",
              "    <tr>\n",
              "      <th>0</th>\n",
              "      <td>b</td>\n",
              "      <td>169</td>\n",
              "    </tr>\n",
              "    <tr>\n",
              "      <th>1</th>\n",
              "      <td>a</td>\n",
              "      <td>174</td>\n",
              "    </tr>\n",
              "    <tr>\n",
              "      <th>2</th>\n",
              "      <td>c</td>\n",
              "      <td>178</td>\n",
              "    </tr>\n",
              "    <tr>\n",
              "      <th>3</th>\n",
              "      <td>e</td>\n",
              "      <td>179</td>\n",
              "    </tr>\n",
              "    <tr>\n",
              "      <th>4</th>\n",
              "      <td>f</td>\n",
              "      <td>168</td>\n",
              "    </tr>\n",
              "  </tbody>\n",
              "</table>\n",
              "</div>\n",
              "      <button class=\"colab-df-convert\" onclick=\"convertToInteractive('df-cde659d9-d404-404f-9e97-b5242b96664e')\"\n",
              "              title=\"Convert this dataframe to an interactive table.\"\n",
              "              style=\"display:none;\">\n",
              "        \n",
              "  <svg xmlns=\"http://www.w3.org/2000/svg\" height=\"24px\"viewBox=\"0 0 24 24\"\n",
              "       width=\"24px\">\n",
              "    <path d=\"M0 0h24v24H0V0z\" fill=\"none\"/>\n",
              "    <path d=\"M18.56 5.44l.94 2.06.94-2.06 2.06-.94-2.06-.94-.94-2.06-.94 2.06-2.06.94zm-11 1L8.5 8.5l.94-2.06 2.06-.94-2.06-.94L8.5 2.5l-.94 2.06-2.06.94zm10 10l.94 2.06.94-2.06 2.06-.94-2.06-.94-.94-2.06-.94 2.06-2.06.94z\"/><path d=\"M17.41 7.96l-1.37-1.37c-.4-.4-.92-.59-1.43-.59-.52 0-1.04.2-1.43.59L10.3 9.45l-7.72 7.72c-.78.78-.78 2.05 0 2.83L4 21.41c.39.39.9.59 1.41.59.51 0 1.02-.2 1.41-.59l7.78-7.78 2.81-2.81c.8-.78.8-2.07 0-2.86zM5.41 20L4 18.59l7.72-7.72 1.47 1.35L5.41 20z\"/>\n",
              "  </svg>\n",
              "      </button>\n",
              "      \n",
              "  <style>\n",
              "    .colab-df-container {\n",
              "      display:flex;\n",
              "      flex-wrap:wrap;\n",
              "      gap: 12px;\n",
              "    }\n",
              "\n",
              "    .colab-df-convert {\n",
              "      background-color: #E8F0FE;\n",
              "      border: none;\n",
              "      border-radius: 50%;\n",
              "      cursor: pointer;\n",
              "      display: none;\n",
              "      fill: #1967D2;\n",
              "      height: 32px;\n",
              "      padding: 0 0 0 0;\n",
              "      width: 32px;\n",
              "    }\n",
              "\n",
              "    .colab-df-convert:hover {\n",
              "      background-color: #E2EBFA;\n",
              "      box-shadow: 0px 1px 2px rgba(60, 64, 67, 0.3), 0px 1px 3px 1px rgba(60, 64, 67, 0.15);\n",
              "      fill: #174EA6;\n",
              "    }\n",
              "\n",
              "    [theme=dark] .colab-df-convert {\n",
              "      background-color: #3B4455;\n",
              "      fill: #D2E3FC;\n",
              "    }\n",
              "\n",
              "    [theme=dark] .colab-df-convert:hover {\n",
              "      background-color: #434B5C;\n",
              "      box-shadow: 0px 1px 3px 1px rgba(0, 0, 0, 0.15);\n",
              "      filter: drop-shadow(0px 1px 2px rgba(0, 0, 0, 0.3));\n",
              "      fill: #FFFFFF;\n",
              "    }\n",
              "  </style>\n",
              "\n",
              "      <script>\n",
              "        const buttonEl =\n",
              "          document.querySelector('#df-cde659d9-d404-404f-9e97-b5242b96664e button.colab-df-convert');\n",
              "        buttonEl.style.display =\n",
              "          google.colab.kernel.accessAllowed ? 'block' : 'none';\n",
              "\n",
              "        async function convertToInteractive(key) {\n",
              "          const element = document.querySelector('#df-cde659d9-d404-404f-9e97-b5242b96664e');\n",
              "          const dataTable =\n",
              "            await google.colab.kernel.invokeFunction('convertToInteractive',\n",
              "                                                     [key], {});\n",
              "          if (!dataTable) return;\n",
              "\n",
              "          const docLinkHtml = 'Like what you see? Visit the ' +\n",
              "            '<a target=\"_blank\" href=https://colab.research.google.com/notebooks/data_table.ipynb>data table notebook</a>'\n",
              "            + ' to learn more about interactive tables.';\n",
              "          element.innerHTML = '';\n",
              "          dataTable['output_type'] = 'display_data';\n",
              "          await google.colab.output.renderOutput(dataTable, element);\n",
              "          const docLink = document.createElement('div');\n",
              "          docLink.innerHTML = docLinkHtml;\n",
              "          element.appendChild(docLink);\n",
              "        }\n",
              "      </script>\n",
              "    </div>\n",
              "  </div>\n",
              "  "
            ],
            "text/plain": [
              "  patient  height [cm]\n",
              "0       b          169\n",
              "1       a          174\n",
              "2       c          178\n",
              "3       e          179\n",
              "4       f          168"
            ]
          },
          "metadata": {},
          "execution_count": 16
        }
      ]
    },
    {
      "cell_type": "code",
      "metadata": {
        "colab": {
          "base_uri": "https://localhost:8080/"
        },
        "id": "JcB4wB74C2sz",
        "outputId": "157a02c0-3b80-4e43-8f4e-40628d52aaa9"
      },
      "source": [
        "type({'patient': ['b', 'a', 'c', 'e', 'f'], # this is the first column\n",
        "                    'height [cm]': np.random.randint(140, 200, 5)} #this is the second columns\n",
        "                   \n",
        "                   )"
      ],
      "execution_count": null,
      "outputs": [
        {
          "output_type": "execute_result",
          "data": {
            "text/plain": [
              "dict"
            ]
          },
          "metadata": {},
          "execution_count": 20
        }
      ]
    },
    {
      "cell_type": "code",
      "metadata": {
        "id": "qDFHIuytimHc",
        "colab": {
          "base_uri": "https://localhost:8080/",
          "height": 175
        },
        "outputId": "10cf10af-a4f8-4d43-cc02-822a7e30daa5"
      },
      "source": [
        "df2 = pd.DataFrame({'patient': ['a', 'b', 'd','f'], \n",
        "                    'weight [kg]': np.random.uniform(45, 120, 4)})\n",
        "df2"
      ],
      "execution_count": null,
      "outputs": [
        {
          "output_type": "execute_result",
          "data": {
            "text/html": [
              "<div>\n",
              "<style scoped>\n",
              "    .dataframe tbody tr th:only-of-type {\n",
              "        vertical-align: middle;\n",
              "    }\n",
              "\n",
              "    .dataframe tbody tr th {\n",
              "        vertical-align: top;\n",
              "    }\n",
              "\n",
              "    .dataframe thead th {\n",
              "        text-align: right;\n",
              "    }\n",
              "</style>\n",
              "<table border=\"1\" class=\"dataframe\">\n",
              "  <thead>\n",
              "    <tr style=\"text-align: right;\">\n",
              "      <th></th>\n",
              "      <th>patient</th>\n",
              "      <th>weight [kg]</th>\n",
              "    </tr>\n",
              "  </thead>\n",
              "  <tbody>\n",
              "    <tr>\n",
              "      <th>0</th>\n",
              "      <td>a</td>\n",
              "      <td>100.587558</td>\n",
              "    </tr>\n",
              "    <tr>\n",
              "      <th>1</th>\n",
              "      <td>b</td>\n",
              "      <td>71.860663</td>\n",
              "    </tr>\n",
              "    <tr>\n",
              "      <th>2</th>\n",
              "      <td>d</td>\n",
              "      <td>59.701857</td>\n",
              "    </tr>\n",
              "    <tr>\n",
              "      <th>3</th>\n",
              "      <td>f</td>\n",
              "      <td>77.363304</td>\n",
              "    </tr>\n",
              "  </tbody>\n",
              "</table>\n",
              "</div>"
            ],
            "text/plain": [
              "  patient  weight [kg]\n",
              "0       a   100.587558\n",
              "1       b    71.860663\n",
              "2       d    59.701857\n",
              "3       f    77.363304"
            ]
          },
          "metadata": {},
          "execution_count": 22
        }
      ]
    },
    {
      "cell_type": "code",
      "metadata": {
        "id": "iJA-svIJkTYL",
        "colab": {
          "base_uri": "https://localhost:8080/",
          "height": 205
        },
        "outputId": "fa98f229-d5b7-4f14-db96-35c6a8109cb0"
      },
      "source": [
        "df3 = pd.DataFrame({'patient': ['b', 'a', 'c', 'd', 'f'], \n",
        "                    'shoe size [EU]': np.random.randint(36, 46, 5)})\n",
        "df3"
      ],
      "execution_count": null,
      "outputs": [
        {
          "output_type": "execute_result",
          "data": {
            "text/html": [
              "<div>\n",
              "<style scoped>\n",
              "    .dataframe tbody tr th:only-of-type {\n",
              "        vertical-align: middle;\n",
              "    }\n",
              "\n",
              "    .dataframe tbody tr th {\n",
              "        vertical-align: top;\n",
              "    }\n",
              "\n",
              "    .dataframe thead th {\n",
              "        text-align: right;\n",
              "    }\n",
              "</style>\n",
              "<table border=\"1\" class=\"dataframe\">\n",
              "  <thead>\n",
              "    <tr style=\"text-align: right;\">\n",
              "      <th></th>\n",
              "      <th>patient</th>\n",
              "      <th>shoe size [EU]</th>\n",
              "    </tr>\n",
              "  </thead>\n",
              "  <tbody>\n",
              "    <tr>\n",
              "      <th>0</th>\n",
              "      <td>b</td>\n",
              "      <td>40</td>\n",
              "    </tr>\n",
              "    <tr>\n",
              "      <th>1</th>\n",
              "      <td>a</td>\n",
              "      <td>36</td>\n",
              "    </tr>\n",
              "    <tr>\n",
              "      <th>2</th>\n",
              "      <td>c</td>\n",
              "      <td>43</td>\n",
              "    </tr>\n",
              "    <tr>\n",
              "      <th>3</th>\n",
              "      <td>d</td>\n",
              "      <td>38</td>\n",
              "    </tr>\n",
              "    <tr>\n",
              "      <th>4</th>\n",
              "      <td>f</td>\n",
              "      <td>36</td>\n",
              "    </tr>\n",
              "  </tbody>\n",
              "</table>\n",
              "</div>"
            ],
            "text/plain": [
              "  patient  shoe size [EU]\n",
              "0       b              40\n",
              "1       a              36\n",
              "2       c              43\n",
              "3       d              38\n",
              "4       f              36"
            ]
          },
          "metadata": {},
          "execution_count": 23
        }
      ]
    },
    {
      "cell_type": "markdown",
      "metadata": {
        "id": "d7NGTdnRnB-v"
      },
      "source": [
        "#### Create DataFrame from Series"
      ]
    },
    {
      "cell_type": "code",
      "metadata": {
        "id": "R7TUggnpmQH9",
        "colab": {
          "base_uri": "https://localhost:8080/",
          "height": 205
        },
        "outputId": "9fc636dc-baaa-4a87-d95c-02d081359815"
      },
      "source": [
        "df3 = pd.DataFrame()\n",
        "# populate each column\n",
        "df3['patient'] = patient\n",
        "df3['shoe size [EU]'] = shoe_size\n",
        "df3"
      ],
      "execution_count": null,
      "outputs": [
        {
          "output_type": "execute_result",
          "data": {
            "text/html": [
              "<div>\n",
              "<style scoped>\n",
              "    .dataframe tbody tr th:only-of-type {\n",
              "        vertical-align: middle;\n",
              "    }\n",
              "\n",
              "    .dataframe tbody tr th {\n",
              "        vertical-align: top;\n",
              "    }\n",
              "\n",
              "    .dataframe thead th {\n",
              "        text-align: right;\n",
              "    }\n",
              "</style>\n",
              "<table border=\"1\" class=\"dataframe\">\n",
              "  <thead>\n",
              "    <tr style=\"text-align: right;\">\n",
              "      <th></th>\n",
              "      <th>patient</th>\n",
              "      <th>shoe size [EU]</th>\n",
              "    </tr>\n",
              "  </thead>\n",
              "  <tbody>\n",
              "    <tr>\n",
              "      <th>0</th>\n",
              "      <td>b</td>\n",
              "      <td>37</td>\n",
              "    </tr>\n",
              "    <tr>\n",
              "      <th>1</th>\n",
              "      <td>a</td>\n",
              "      <td>45</td>\n",
              "    </tr>\n",
              "    <tr>\n",
              "      <th>2</th>\n",
              "      <td>c</td>\n",
              "      <td>38</td>\n",
              "    </tr>\n",
              "    <tr>\n",
              "      <th>3</th>\n",
              "      <td>d</td>\n",
              "      <td>45</td>\n",
              "    </tr>\n",
              "    <tr>\n",
              "      <th>4</th>\n",
              "      <td>f</td>\n",
              "      <td>38</td>\n",
              "    </tr>\n",
              "  </tbody>\n",
              "</table>\n",
              "</div>"
            ],
            "text/plain": [
              "  patient  shoe size [EU]\n",
              "0       b              37\n",
              "1       a              45\n",
              "2       c              38\n",
              "3       d              45\n",
              "4       f              38"
            ]
          },
          "metadata": {},
          "execution_count": 24
        }
      ]
    },
    {
      "cell_type": "code",
      "metadata": {
        "colab": {
          "base_uri": "https://localhost:8080/"
        },
        "id": "iKtTAV4-DujO",
        "outputId": "b2ae60ed-59bf-4656-8123-e2857958aef7"
      },
      "source": [
        "df3['shoe size [EU]']"
      ],
      "execution_count": null,
      "outputs": [
        {
          "output_type": "execute_result",
          "data": {
            "text/plain": [
              "0    37\n",
              "1    45\n",
              "2    38\n",
              "3    45\n",
              "4    38\n",
              "Name: shoe size [EU], dtype: int64"
            ]
          },
          "metadata": {},
          "execution_count": 26
        }
      ]
    },
    {
      "cell_type": "code",
      "metadata": {
        "id": "dt7_DrTeJiGS"
      },
      "source": [
        "df3\n"
      ],
      "execution_count": null,
      "outputs": []
    },
    {
      "cell_type": "markdown",
      "metadata": {
        "id": "zpjKx7LbG4jw"
      },
      "source": [
        "## Data import\n",
        "Finally, let's import some data.\n",
        "\n",
        "Most of the data you will deal with in this course is in the form of text (.txt), comma separated variables (.csv), tab separated variables (.tsv), excel files (.xlsx), etc.\n",
        "\n",
        "Pandas will take care of importing different types of data.\n",
        "\n",
        "It creates different objects to contain the data. We will use DataFrames at first."
      ]
    },
    {
      "cell_type": "markdown",
      "metadata": {
        "id": "LBQmLbkTQ6aL"
      },
      "source": [
        "#### Importing from web"
      ]
    },
    {
      "cell_type": "markdown",
      "source": [
        "Comma separated file: \n",
        "\n",
        "\n",
        "```\n",
        "pd.read_csv('filename.csv')\n",
        "```\n",
        "\n"
      ],
      "metadata": {
        "id": "QIJFmJ0wqtp3"
      }
    },
    {
      "cell_type": "code",
      "metadata": {
        "id": "fzUO8cbYE93b",
        "colab": {
          "base_uri": "https://localhost:8080/",
          "height": 522
        },
        "outputId": "52f21b02-dc41-496d-d21e-2d431b8a694e"
      },
      "source": [
        "SNP_file_name =\"https://raw.githubusercontent.com/araldi/HS21---Big-Data-Analysis-in-Biomedical-Research-376-1723-00L-/main/pandas/CD93_exomeSNPs_annotation.csv\"\n",
        "SNPs = pd.read_csv(SNP_file_name)\n",
        "SNPs"
      ],
      "execution_count": 17,
      "outputs": [
        {
          "output_type": "execute_result",
          "data": {
            "text/html": [
              "\n",
              "  <div id=\"df-1ec95bea-7fef-436d-aea1-bb1449637070\">\n",
              "    <div class=\"colab-df-container\">\n",
              "      <div>\n",
              "<style scoped>\n",
              "    .dataframe tbody tr th:only-of-type {\n",
              "        vertical-align: middle;\n",
              "    }\n",
              "\n",
              "    .dataframe tbody tr th {\n",
              "        vertical-align: top;\n",
              "    }\n",
              "\n",
              "    .dataframe thead th {\n",
              "        text-align: right;\n",
              "    }\n",
              "</style>\n",
              "<table border=\"1\" class=\"dataframe\">\n",
              "  <thead>\n",
              "    <tr style=\"text-align: right;\">\n",
              "      <th></th>\n",
              "      <th>Unnamed: 0</th>\n",
              "      <th>Variant name</th>\n",
              "      <th>Variant consequence</th>\n",
              "      <th>Protein allele</th>\n",
              "      <th>Transcript stable ID</th>\n",
              "      <th>PolyPhen score</th>\n",
              "      <th>PolyPhen prediction</th>\n",
              "      <th>SIFT score</th>\n",
              "      <th>SIFT prediction</th>\n",
              "      <th>Chromosome/scaffold name</th>\n",
              "      <th>Chromosome/scaffold position start (bp)</th>\n",
              "      <th>Chromosome/scaffold position end (bp)</th>\n",
              "    </tr>\n",
              "  </thead>\n",
              "  <tbody>\n",
              "    <tr>\n",
              "      <th>0</th>\n",
              "      <td>0</td>\n",
              "      <td>rs7492</td>\n",
              "      <td>3_prime_UTR_variant</td>\n",
              "      <td>NaN</td>\n",
              "      <td>ENST00000246006</td>\n",
              "      <td>NaN</td>\n",
              "      <td>NaN</td>\n",
              "      <td>NaN</td>\n",
              "      <td>NaN</td>\n",
              "      <td>20</td>\n",
              "      <td>23079620</td>\n",
              "      <td>23079620</td>\n",
              "    </tr>\n",
              "    <tr>\n",
              "      <th>1</th>\n",
              "      <td>1</td>\n",
              "      <td>rs2567612</td>\n",
              "      <td>3_prime_UTR_variant</td>\n",
              "      <td>NaN</td>\n",
              "      <td>ENST00000246006</td>\n",
              "      <td>NaN</td>\n",
              "      <td>NaN</td>\n",
              "      <td>NaN</td>\n",
              "      <td>NaN</td>\n",
              "      <td>20</td>\n",
              "      <td>23082535</td>\n",
              "      <td>23082535</td>\n",
              "    </tr>\n",
              "    <tr>\n",
              "      <th>2</th>\n",
              "      <td>2</td>\n",
              "      <td>rs2749811</td>\n",
              "      <td>3_prime_UTR_variant</td>\n",
              "      <td>NaN</td>\n",
              "      <td>ENST00000246006</td>\n",
              "      <td>NaN</td>\n",
              "      <td>NaN</td>\n",
              "      <td>NaN</td>\n",
              "      <td>NaN</td>\n",
              "      <td>20</td>\n",
              "      <td>23079544</td>\n",
              "      <td>23079544</td>\n",
              "    </tr>\n",
              "    <tr>\n",
              "      <th>3</th>\n",
              "      <td>3</td>\n",
              "      <td>rs2749812</td>\n",
              "      <td>3_prime_UTR_variant</td>\n",
              "      <td>NaN</td>\n",
              "      <td>ENST00000246006</td>\n",
              "      <td>NaN</td>\n",
              "      <td>NaN</td>\n",
              "      <td>NaN</td>\n",
              "      <td>NaN</td>\n",
              "      <td>20</td>\n",
              "      <td>23082290</td>\n",
              "      <td>23082290</td>\n",
              "    </tr>\n",
              "    <tr>\n",
              "      <th>4</th>\n",
              "      <td>4</td>\n",
              "      <td>rs2749813</td>\n",
              "      <td>3_prime_UTR_variant</td>\n",
              "      <td>NaN</td>\n",
              "      <td>ENST00000246006</td>\n",
              "      <td>NaN</td>\n",
              "      <td>NaN</td>\n",
              "      <td>NaN</td>\n",
              "      <td>NaN</td>\n",
              "      <td>20</td>\n",
              "      <td>23082347</td>\n",
              "      <td>23082347</td>\n",
              "    </tr>\n",
              "    <tr>\n",
              "      <th>...</th>\n",
              "      <td>...</td>\n",
              "      <td>...</td>\n",
              "      <td>...</td>\n",
              "      <td>...</td>\n",
              "      <td>...</td>\n",
              "      <td>...</td>\n",
              "      <td>...</td>\n",
              "      <td>...</td>\n",
              "      <td>...</td>\n",
              "      <td>...</td>\n",
              "      <td>...</td>\n",
              "      <td>...</td>\n",
              "    </tr>\n",
              "    <tr>\n",
              "      <th>2306</th>\n",
              "      <td>2306</td>\n",
              "      <td>rs1600423846</td>\n",
              "      <td>synonymous_variant</td>\n",
              "      <td>P</td>\n",
              "      <td>ENST00000246006</td>\n",
              "      <td>NaN</td>\n",
              "      <td>NaN</td>\n",
              "      <td>NaN</td>\n",
              "      <td>NaN</td>\n",
              "      <td>20</td>\n",
              "      <td>23085689</td>\n",
              "      <td>23085689</td>\n",
              "    </tr>\n",
              "    <tr>\n",
              "      <th>2307</th>\n",
              "      <td>2307</td>\n",
              "      <td>rs1600424016</td>\n",
              "      <td>missense_variant</td>\n",
              "      <td>W/S</td>\n",
              "      <td>ENST00000246006</td>\n",
              "      <td>1.00</td>\n",
              "      <td>probably damaging</td>\n",
              "      <td>0.00</td>\n",
              "      <td>deleterious</td>\n",
              "      <td>20</td>\n",
              "      <td>23085810</td>\n",
              "      <td>23085810</td>\n",
              "    </tr>\n",
              "    <tr>\n",
              "      <th>2308</th>\n",
              "      <td>2308</td>\n",
              "      <td>rs1600424406</td>\n",
              "      <td>missense_variant</td>\n",
              "      <td>T/P</td>\n",
              "      <td>ENST00000246006</td>\n",
              "      <td>0.36</td>\n",
              "      <td>benign</td>\n",
              "      <td>0.07</td>\n",
              "      <td>tolerated</td>\n",
              "      <td>20</td>\n",
              "      <td>23086186</td>\n",
              "      <td>23086186</td>\n",
              "    </tr>\n",
              "    <tr>\n",
              "      <th>2309</th>\n",
              "      <td>2309</td>\n",
              "      <td>rs1600424446</td>\n",
              "      <td>5_prime_UTR_variant</td>\n",
              "      <td>NaN</td>\n",
              "      <td>ENST00000246006</td>\n",
              "      <td>NaN</td>\n",
              "      <td>NaN</td>\n",
              "      <td>NaN</td>\n",
              "      <td>NaN</td>\n",
              "      <td>20</td>\n",
              "      <td>23086256</td>\n",
              "      <td>23086256</td>\n",
              "    </tr>\n",
              "    <tr>\n",
              "      <th>2310</th>\n",
              "      <td>2310</td>\n",
              "      <td>rs1600424486</td>\n",
              "      <td>5_prime_UTR_variant</td>\n",
              "      <td>NaN</td>\n",
              "      <td>ENST00000246006</td>\n",
              "      <td>NaN</td>\n",
              "      <td>NaN</td>\n",
              "      <td>NaN</td>\n",
              "      <td>NaN</td>\n",
              "      <td>20</td>\n",
              "      <td>23086310</td>\n",
              "      <td>23086310</td>\n",
              "    </tr>\n",
              "  </tbody>\n",
              "</table>\n",
              "<p>2311 rows × 12 columns</p>\n",
              "</div>\n",
              "      <button class=\"colab-df-convert\" onclick=\"convertToInteractive('df-1ec95bea-7fef-436d-aea1-bb1449637070')\"\n",
              "              title=\"Convert this dataframe to an interactive table.\"\n",
              "              style=\"display:none;\">\n",
              "        \n",
              "  <svg xmlns=\"http://www.w3.org/2000/svg\" height=\"24px\"viewBox=\"0 0 24 24\"\n",
              "       width=\"24px\">\n",
              "    <path d=\"M0 0h24v24H0V0z\" fill=\"none\"/>\n",
              "    <path d=\"M18.56 5.44l.94 2.06.94-2.06 2.06-.94-2.06-.94-.94-2.06-.94 2.06-2.06.94zm-11 1L8.5 8.5l.94-2.06 2.06-.94-2.06-.94L8.5 2.5l-.94 2.06-2.06.94zm10 10l.94 2.06.94-2.06 2.06-.94-2.06-.94-.94-2.06-.94 2.06-2.06.94z\"/><path d=\"M17.41 7.96l-1.37-1.37c-.4-.4-.92-.59-1.43-.59-.52 0-1.04.2-1.43.59L10.3 9.45l-7.72 7.72c-.78.78-.78 2.05 0 2.83L4 21.41c.39.39.9.59 1.41.59.51 0 1.02-.2 1.41-.59l7.78-7.78 2.81-2.81c.8-.78.8-2.07 0-2.86zM5.41 20L4 18.59l7.72-7.72 1.47 1.35L5.41 20z\"/>\n",
              "  </svg>\n",
              "      </button>\n",
              "      \n",
              "  <style>\n",
              "    .colab-df-container {\n",
              "      display:flex;\n",
              "      flex-wrap:wrap;\n",
              "      gap: 12px;\n",
              "    }\n",
              "\n",
              "    .colab-df-convert {\n",
              "      background-color: #E8F0FE;\n",
              "      border: none;\n",
              "      border-radius: 50%;\n",
              "      cursor: pointer;\n",
              "      display: none;\n",
              "      fill: #1967D2;\n",
              "      height: 32px;\n",
              "      padding: 0 0 0 0;\n",
              "      width: 32px;\n",
              "    }\n",
              "\n",
              "    .colab-df-convert:hover {\n",
              "      background-color: #E2EBFA;\n",
              "      box-shadow: 0px 1px 2px rgba(60, 64, 67, 0.3), 0px 1px 3px 1px rgba(60, 64, 67, 0.15);\n",
              "      fill: #174EA6;\n",
              "    }\n",
              "\n",
              "    [theme=dark] .colab-df-convert {\n",
              "      background-color: #3B4455;\n",
              "      fill: #D2E3FC;\n",
              "    }\n",
              "\n",
              "    [theme=dark] .colab-df-convert:hover {\n",
              "      background-color: #434B5C;\n",
              "      box-shadow: 0px 1px 3px 1px rgba(0, 0, 0, 0.15);\n",
              "      filter: drop-shadow(0px 1px 2px rgba(0, 0, 0, 0.3));\n",
              "      fill: #FFFFFF;\n",
              "    }\n",
              "  </style>\n",
              "\n",
              "      <script>\n",
              "        const buttonEl =\n",
              "          document.querySelector('#df-1ec95bea-7fef-436d-aea1-bb1449637070 button.colab-df-convert');\n",
              "        buttonEl.style.display =\n",
              "          google.colab.kernel.accessAllowed ? 'block' : 'none';\n",
              "\n",
              "        async function convertToInteractive(key) {\n",
              "          const element = document.querySelector('#df-1ec95bea-7fef-436d-aea1-bb1449637070');\n",
              "          const dataTable =\n",
              "            await google.colab.kernel.invokeFunction('convertToInteractive',\n",
              "                                                     [key], {});\n",
              "          if (!dataTable) return;\n",
              "\n",
              "          const docLinkHtml = 'Like what you see? Visit the ' +\n",
              "            '<a target=\"_blank\" href=https://colab.research.google.com/notebooks/data_table.ipynb>data table notebook</a>'\n",
              "            + ' to learn more about interactive tables.';\n",
              "          element.innerHTML = '';\n",
              "          dataTable['output_type'] = 'display_data';\n",
              "          await google.colab.output.renderOutput(dataTable, element);\n",
              "          const docLink = document.createElement('div');\n",
              "          docLink.innerHTML = docLinkHtml;\n",
              "          element.appendChild(docLink);\n",
              "        }\n",
              "      </script>\n",
              "    </div>\n",
              "  </div>\n",
              "  "
            ],
            "text/plain": [
              "      Unnamed: 0  ... Chromosome/scaffold position end (bp)\n",
              "0              0  ...                              23079620\n",
              "1              1  ...                              23082535\n",
              "2              2  ...                              23079544\n",
              "3              3  ...                              23082290\n",
              "4              4  ...                              23082347\n",
              "...          ...  ...                                   ...\n",
              "2306        2306  ...                              23085689\n",
              "2307        2307  ...                              23085810\n",
              "2308        2308  ...                              23086186\n",
              "2309        2309  ...                              23086256\n",
              "2310        2310  ...                              23086310\n",
              "\n",
              "[2311 rows x 12 columns]"
            ]
          },
          "metadata": {},
          "execution_count": 17
        }
      ]
    },
    {
      "cell_type": "markdown",
      "source": [
        "Tab separated file:\n",
        "\n",
        "\n",
        "```\n",
        "pd.read_csv(filename, sep='\\t')\n",
        "```\n",
        "\n",
        "\n",
        "\n",
        "\n"
      ],
      "metadata": {
        "id": "aryHrPyiq10J"
      }
    },
    {
      "cell_type": "code",
      "metadata": {
        "id": "r_GVdt6cpPbX",
        "colab": {
          "base_uri": "https://localhost:8080/",
          "height": 552
        },
        "outputId": "bf9ad3f1-caa2-4bab-eb36-55004c0dad25"
      },
      "source": [
        "#what happens when you try to upload a tsv file?\n",
        "drugs =  pd.read_csv('https://raw.githubusercontent.com/araldi/HS21---Big-Data-Analysis-in-Biomedical-Research-376-1723-00L-/main/pandas/drugs.tsv')\n",
        "\n",
        "# tsv is a tab-separated file. You need to specify that with the argument sep='\\t'\n",
        "# similar instance if the file is separated by spaces. In the argument you will specify sep =' '\n"
      ],
      "execution_count": null,
      "outputs": [
        {
          "output_type": "error",
          "ename": "ParserError",
          "evalue": "ignored",
          "traceback": [
            "\u001b[0;31m---------------------------------------------------------------------------\u001b[0m",
            "\u001b[0;31mParserError\u001b[0m                               Traceback (most recent call last)",
            "\u001b[0;32m<ipython-input-28-1e8f76b3361c>\u001b[0m in \u001b[0;36m<module>\u001b[0;34m()\u001b[0m\n\u001b[1;32m      1\u001b[0m \u001b[0;31m#what happens when you try to upload a tsv file?\u001b[0m\u001b[0;34m\u001b[0m\u001b[0;34m\u001b[0m\u001b[0;34m\u001b[0m\u001b[0m\n\u001b[0;32m----> 2\u001b[0;31m \u001b[0mdrugs\u001b[0m \u001b[0;34m=\u001b[0m  \u001b[0mpd\u001b[0m\u001b[0;34m.\u001b[0m\u001b[0mread_csv\u001b[0m\u001b[0;34m(\u001b[0m\u001b[0;34m'https://raw.githubusercontent.com/araldi/HS21---Big-Data-Analysis-in-Biomedical-Research-376-1723-00L-/main/pandas/drugs.tsv'\u001b[0m\u001b[0;34m)\u001b[0m\u001b[0;34m\u001b[0m\u001b[0;34m\u001b[0m\u001b[0m\n\u001b[0m\u001b[1;32m      3\u001b[0m \u001b[0;34m\u001b[0m\u001b[0m\n\u001b[1;32m      4\u001b[0m \u001b[0;31m# tsv is a tab-separated file. You need to specify that with the argument sep='\\t'\u001b[0m\u001b[0;34m\u001b[0m\u001b[0;34m\u001b[0m\u001b[0;34m\u001b[0m\u001b[0m\n\u001b[1;32m      5\u001b[0m \u001b[0;31m# similar instance if the file is separated by spaces. In the argument you will specify sep =' '\u001b[0m\u001b[0;34m\u001b[0m\u001b[0;34m\u001b[0m\u001b[0;34m\u001b[0m\u001b[0m\n",
            "\u001b[0;32m/usr/local/lib/python3.7/dist-packages/pandas/io/parsers.py\u001b[0m in \u001b[0;36mread_csv\u001b[0;34m(filepath_or_buffer, sep, delimiter, header, names, index_col, usecols, squeeze, prefix, mangle_dupe_cols, dtype, engine, converters, true_values, false_values, skipinitialspace, skiprows, skipfooter, nrows, na_values, keep_default_na, na_filter, verbose, skip_blank_lines, parse_dates, infer_datetime_format, keep_date_col, date_parser, dayfirst, cache_dates, iterator, chunksize, compression, thousands, decimal, lineterminator, quotechar, quoting, doublequote, escapechar, comment, encoding, dialect, error_bad_lines, warn_bad_lines, delim_whitespace, low_memory, memory_map, float_precision)\u001b[0m\n\u001b[1;32m    686\u001b[0m     )\n\u001b[1;32m    687\u001b[0m \u001b[0;34m\u001b[0m\u001b[0m\n\u001b[0;32m--> 688\u001b[0;31m     \u001b[0;32mreturn\u001b[0m \u001b[0m_read\u001b[0m\u001b[0;34m(\u001b[0m\u001b[0mfilepath_or_buffer\u001b[0m\u001b[0;34m,\u001b[0m \u001b[0mkwds\u001b[0m\u001b[0;34m)\u001b[0m\u001b[0;34m\u001b[0m\u001b[0;34m\u001b[0m\u001b[0m\n\u001b[0m\u001b[1;32m    689\u001b[0m \u001b[0;34m\u001b[0m\u001b[0m\n\u001b[1;32m    690\u001b[0m \u001b[0;34m\u001b[0m\u001b[0m\n",
            "\u001b[0;32m/usr/local/lib/python3.7/dist-packages/pandas/io/parsers.py\u001b[0m in \u001b[0;36m_read\u001b[0;34m(filepath_or_buffer, kwds)\u001b[0m\n\u001b[1;32m    458\u001b[0m \u001b[0;34m\u001b[0m\u001b[0m\n\u001b[1;32m    459\u001b[0m     \u001b[0;32mtry\u001b[0m\u001b[0;34m:\u001b[0m\u001b[0;34m\u001b[0m\u001b[0;34m\u001b[0m\u001b[0m\n\u001b[0;32m--> 460\u001b[0;31m         \u001b[0mdata\u001b[0m \u001b[0;34m=\u001b[0m \u001b[0mparser\u001b[0m\u001b[0;34m.\u001b[0m\u001b[0mread\u001b[0m\u001b[0;34m(\u001b[0m\u001b[0mnrows\u001b[0m\u001b[0;34m)\u001b[0m\u001b[0;34m\u001b[0m\u001b[0;34m\u001b[0m\u001b[0m\n\u001b[0m\u001b[1;32m    461\u001b[0m     \u001b[0;32mfinally\u001b[0m\u001b[0;34m:\u001b[0m\u001b[0;34m\u001b[0m\u001b[0;34m\u001b[0m\u001b[0m\n\u001b[1;32m    462\u001b[0m         \u001b[0mparser\u001b[0m\u001b[0;34m.\u001b[0m\u001b[0mclose\u001b[0m\u001b[0;34m(\u001b[0m\u001b[0;34m)\u001b[0m\u001b[0;34m\u001b[0m\u001b[0;34m\u001b[0m\u001b[0m\n",
            "\u001b[0;32m/usr/local/lib/python3.7/dist-packages/pandas/io/parsers.py\u001b[0m in \u001b[0;36mread\u001b[0;34m(self, nrows)\u001b[0m\n\u001b[1;32m   1196\u001b[0m     \u001b[0;32mdef\u001b[0m \u001b[0mread\u001b[0m\u001b[0;34m(\u001b[0m\u001b[0mself\u001b[0m\u001b[0;34m,\u001b[0m \u001b[0mnrows\u001b[0m\u001b[0;34m=\u001b[0m\u001b[0;32mNone\u001b[0m\u001b[0;34m)\u001b[0m\u001b[0;34m:\u001b[0m\u001b[0;34m\u001b[0m\u001b[0;34m\u001b[0m\u001b[0m\n\u001b[1;32m   1197\u001b[0m         \u001b[0mnrows\u001b[0m \u001b[0;34m=\u001b[0m \u001b[0m_validate_integer\u001b[0m\u001b[0;34m(\u001b[0m\u001b[0;34m\"nrows\"\u001b[0m\u001b[0;34m,\u001b[0m \u001b[0mnrows\u001b[0m\u001b[0;34m)\u001b[0m\u001b[0;34m\u001b[0m\u001b[0;34m\u001b[0m\u001b[0m\n\u001b[0;32m-> 1198\u001b[0;31m         \u001b[0mret\u001b[0m \u001b[0;34m=\u001b[0m \u001b[0mself\u001b[0m\u001b[0;34m.\u001b[0m\u001b[0m_engine\u001b[0m\u001b[0;34m.\u001b[0m\u001b[0mread\u001b[0m\u001b[0;34m(\u001b[0m\u001b[0mnrows\u001b[0m\u001b[0;34m)\u001b[0m\u001b[0;34m\u001b[0m\u001b[0;34m\u001b[0m\u001b[0m\n\u001b[0m\u001b[1;32m   1199\u001b[0m \u001b[0;34m\u001b[0m\u001b[0m\n\u001b[1;32m   1200\u001b[0m         \u001b[0;31m# May alter columns / col_dict\u001b[0m\u001b[0;34m\u001b[0m\u001b[0;34m\u001b[0m\u001b[0;34m\u001b[0m\u001b[0m\n",
            "\u001b[0;32m/usr/local/lib/python3.7/dist-packages/pandas/io/parsers.py\u001b[0m in \u001b[0;36mread\u001b[0;34m(self, nrows)\u001b[0m\n\u001b[1;32m   2155\u001b[0m     \u001b[0;32mdef\u001b[0m \u001b[0mread\u001b[0m\u001b[0;34m(\u001b[0m\u001b[0mself\u001b[0m\u001b[0;34m,\u001b[0m \u001b[0mnrows\u001b[0m\u001b[0;34m=\u001b[0m\u001b[0;32mNone\u001b[0m\u001b[0;34m)\u001b[0m\u001b[0;34m:\u001b[0m\u001b[0;34m\u001b[0m\u001b[0;34m\u001b[0m\u001b[0m\n\u001b[1;32m   2156\u001b[0m         \u001b[0;32mtry\u001b[0m\u001b[0;34m:\u001b[0m\u001b[0;34m\u001b[0m\u001b[0;34m\u001b[0m\u001b[0m\n\u001b[0;32m-> 2157\u001b[0;31m             \u001b[0mdata\u001b[0m \u001b[0;34m=\u001b[0m \u001b[0mself\u001b[0m\u001b[0;34m.\u001b[0m\u001b[0m_reader\u001b[0m\u001b[0;34m.\u001b[0m\u001b[0mread\u001b[0m\u001b[0;34m(\u001b[0m\u001b[0mnrows\u001b[0m\u001b[0;34m)\u001b[0m\u001b[0;34m\u001b[0m\u001b[0;34m\u001b[0m\u001b[0m\n\u001b[0m\u001b[1;32m   2158\u001b[0m         \u001b[0;32mexcept\u001b[0m \u001b[0mStopIteration\u001b[0m\u001b[0;34m:\u001b[0m\u001b[0;34m\u001b[0m\u001b[0;34m\u001b[0m\u001b[0m\n\u001b[1;32m   2159\u001b[0m             \u001b[0;32mif\u001b[0m \u001b[0mself\u001b[0m\u001b[0;34m.\u001b[0m\u001b[0m_first_chunk\u001b[0m\u001b[0;34m:\u001b[0m\u001b[0;34m\u001b[0m\u001b[0;34m\u001b[0m\u001b[0m\n",
            "\u001b[0;32mpandas/_libs/parsers.pyx\u001b[0m in \u001b[0;36mpandas._libs.parsers.TextReader.read\u001b[0;34m()\u001b[0m\n",
            "\u001b[0;32mpandas/_libs/parsers.pyx\u001b[0m in \u001b[0;36mpandas._libs.parsers.TextReader._read_low_memory\u001b[0;34m()\u001b[0m\n",
            "\u001b[0;32mpandas/_libs/parsers.pyx\u001b[0m in \u001b[0;36mpandas._libs.parsers.TextReader._read_rows\u001b[0;34m()\u001b[0m\n",
            "\u001b[0;32mpandas/_libs/parsers.pyx\u001b[0m in \u001b[0;36mpandas._libs.parsers.TextReader._tokenize_rows\u001b[0;34m()\u001b[0m\n",
            "\u001b[0;32mpandas/_libs/parsers.pyx\u001b[0m in \u001b[0;36mpandas._libs.parsers.raise_parser_error\u001b[0;34m()\u001b[0m\n",
            "\u001b[0;31mParserError\u001b[0m: Error tokenizing data. C error: Expected 1 fields in line 4, saw 17\n"
          ]
        }
      ]
    },
    {
      "cell_type": "code",
      "metadata": {
        "id": "JnH9ktBvpcsA",
        "colab": {
          "base_uri": "https://localhost:8080/",
          "height": 649
        },
        "outputId": "7d0780ac-8fa7-4062-ae4d-990b32d398bc"
      },
      "source": [
        "drugs =  pd.read_csv('https://raw.githubusercontent.com/araldi/HS21---Big-Data-Analysis-in-Biomedical-Research-376-1723-00L-/main/pandas/drugs.tsv', \n",
        "                     sep='\\t')\n",
        "drugs"
      ],
      "execution_count": null,
      "outputs": [
        {
          "output_type": "execute_result",
          "data": {
            "text/html": [
              "<div>\n",
              "<style scoped>\n",
              "    .dataframe tbody tr th:only-of-type {\n",
              "        vertical-align: middle;\n",
              "    }\n",
              "\n",
              "    .dataframe tbody tr th {\n",
              "        vertical-align: top;\n",
              "    }\n",
              "\n",
              "    .dataframe thead th {\n",
              "        text-align: right;\n",
              "    }\n",
              "</style>\n",
              "<table border=\"1\" class=\"dataframe\">\n",
              "  <thead>\n",
              "    <tr style=\"text-align: right;\">\n",
              "      <th></th>\n",
              "      <th>PharmGKB Accession Id</th>\n",
              "      <th>Name</th>\n",
              "      <th>Generic Names</th>\n",
              "      <th>Trade Names</th>\n",
              "      <th>Brand Mixtures</th>\n",
              "      <th>Type</th>\n",
              "      <th>Cross-references</th>\n",
              "      <th>SMILES</th>\n",
              "      <th>InChI</th>\n",
              "      <th>Dosing Guideline</th>\n",
              "      <th>External Vocabulary</th>\n",
              "      <th>Clinical Annotation Count</th>\n",
              "      <th>Variant Annotation Count</th>\n",
              "      <th>Pathway Count</th>\n",
              "      <th>VIP Count</th>\n",
              "      <th>Dosing Guideline Sources</th>\n",
              "      <th>Top Clinical Annotation Level</th>\n",
              "      <th>Top FDA Label Testing Level</th>\n",
              "      <th>Top Any Drug Label Testing Level</th>\n",
              "      <th>Label Has Dosing Info</th>\n",
              "      <th>Has Rx Annotation</th>\n",
              "      <th>RxNorm Identifiers</th>\n",
              "      <th>ATC Identifiers</th>\n",
              "      <th>PubChem Compound Identifiers</th>\n",
              "    </tr>\n",
              "  </thead>\n",
              "  <tbody>\n",
              "    <tr>\n",
              "      <th>0</th>\n",
              "      <td>PA164712302</td>\n",
              "      <td>2-amino-1-phenylethanol derivatives</td>\n",
              "      <td>NaN</td>\n",
              "      <td>NaN</td>\n",
              "      <td>NaN</td>\n",
              "      <td>Drug Class</td>\n",
              "      <td>NaN</td>\n",
              "      <td>NaN</td>\n",
              "      <td>NaN</td>\n",
              "      <td>No</td>\n",
              "      <td>ATC:C04AA(2-amino-1-phenylethanol derivatives)</td>\n",
              "      <td>0</td>\n",
              "      <td>0</td>\n",
              "      <td>0</td>\n",
              "      <td>0</td>\n",
              "      <td>NaN</td>\n",
              "      <td>NaN</td>\n",
              "      <td>NaN</td>\n",
              "      <td>NaN</td>\n",
              "      <td>NaN</td>\n",
              "      <td>NaN</td>\n",
              "      <td>NaN</td>\n",
              "      <td>C04AA</td>\n",
              "      <td>NaN</td>\n",
              "    </tr>\n",
              "    <tr>\n",
              "      <th>1</th>\n",
              "      <td>PA134967247</td>\n",
              "      <td>2-methoxyestradiol</td>\n",
              "      <td>NaN</td>\n",
              "      <td>NaN</td>\n",
              "      <td>NaN</td>\n",
              "      <td>Drug</td>\n",
              "      <td>PubChem Compound:66414</td>\n",
              "      <td>NaN</td>\n",
              "      <td>NaN</td>\n",
              "      <td>No</td>\n",
              "      <td>NaN</td>\n",
              "      <td>0</td>\n",
              "      <td>0</td>\n",
              "      <td>0</td>\n",
              "      <td>0</td>\n",
              "      <td>NaN</td>\n",
              "      <td>NaN</td>\n",
              "      <td>NaN</td>\n",
              "      <td>NaN</td>\n",
              "      <td>NaN</td>\n",
              "      <td>NaN</td>\n",
              "      <td>NaN</td>\n",
              "      <td>NaN</td>\n",
              "      <td>66414</td>\n",
              "    </tr>\n",
              "    <tr>\n",
              "      <th>2</th>\n",
              "      <td>PA131887008</td>\n",
              "      <td>3,4-methylenedioxymethamphetamine</td>\n",
              "      <td>Ecstasy,\"MDMA\"</td>\n",
              "      <td>NaN</td>\n",
              "      <td>NaN</td>\n",
              "      <td>Drug</td>\n",
              "      <td>ChEBI:CHEBI:1391,\"Chemical Abstracts Service:4...</td>\n",
              "      <td>CC(CC1=CC2=C(C=C1)OCO2)NC</td>\n",
              "      <td>InChI=1S/C11H15NO2/c1-8(12-2)5-9-3-4-10-11(6-9...</td>\n",
              "      <td>No</td>\n",
              "      <td>NaN</td>\n",
              "      <td>6</td>\n",
              "      <td>12</td>\n",
              "      <td>0</td>\n",
              "      <td>1</td>\n",
              "      <td>NaN</td>\n",
              "      <td>3</td>\n",
              "      <td>NaN</td>\n",
              "      <td>NaN</td>\n",
              "      <td>NaN</td>\n",
              "      <td>NaN</td>\n",
              "      <td>NaN</td>\n",
              "      <td>NaN</td>\n",
              "      <td>1615</td>\n",
              "    </tr>\n",
              "    <tr>\n",
              "      <th>3</th>\n",
              "      <td>PA165958321</td>\n",
              "      <td>3,5-dimethyl-2-(3-pyridyl)thiazolidin-4-one</td>\n",
              "      <td>( )-cis-3,5-Dimethyl-2-(3-pyridyl)thiazolidin-...</td>\n",
              "      <td>NaN</td>\n",
              "      <td>NaN</td>\n",
              "      <td>Drug</td>\n",
              "      <td>PubChem Compound:178014</td>\n",
              "      <td>C[C@H]1C(=O)N([C@H](S1)C2=CN=CC=C2)C.Cl</td>\n",
              "      <td>InChI=1S/C10H12N2OS.ClH/c1-7-9(13)12(2)10(14-7...</td>\n",
              "      <td>No</td>\n",
              "      <td>NaN</td>\n",
              "      <td>0</td>\n",
              "      <td>0</td>\n",
              "      <td>0</td>\n",
              "      <td>1</td>\n",
              "      <td>NaN</td>\n",
              "      <td>NaN</td>\n",
              "      <td>NaN</td>\n",
              "      <td>NaN</td>\n",
              "      <td>NaN</td>\n",
              "      <td>NaN</td>\n",
              "      <td>NaN</td>\n",
              "      <td>NaN</td>\n",
              "      <td>178014</td>\n",
              "    </tr>\n",
              "    <tr>\n",
              "      <th>4</th>\n",
              "      <td>PA165858618</td>\n",
              "      <td>3-aminopyridine-2-carboxaldehyde thiosemicarba...</td>\n",
              "      <td>NaN</td>\n",
              "      <td>NaN</td>\n",
              "      <td>NaN</td>\n",
              "      <td>Drug</td>\n",
              "      <td>PubChem Compound:9571836</td>\n",
              "      <td>C1=CC(=C(N=C1)/C=N/NC(=S)N)N</td>\n",
              "      <td>InChI=1S/C7H9N5S/c8-5-2-1-3-10-6(5)4-11-12-7(9...</td>\n",
              "      <td>No</td>\n",
              "      <td>NaN</td>\n",
              "      <td>0</td>\n",
              "      <td>0</td>\n",
              "      <td>0</td>\n",
              "      <td>1</td>\n",
              "      <td>NaN</td>\n",
              "      <td>NaN</td>\n",
              "      <td>NaN</td>\n",
              "      <td>NaN</td>\n",
              "      <td>NaN</td>\n",
              "      <td>NaN</td>\n",
              "      <td>NaN</td>\n",
              "      <td>NaN</td>\n",
              "      <td>9571836</td>\n",
              "    </tr>\n",
              "    <tr>\n",
              "      <th>...</th>\n",
              "      <td>...</td>\n",
              "      <td>...</td>\n",
              "      <td>...</td>\n",
              "      <td>...</td>\n",
              "      <td>...</td>\n",
              "      <td>...</td>\n",
              "      <td>...</td>\n",
              "      <td>...</td>\n",
              "      <td>...</td>\n",
              "      <td>...</td>\n",
              "      <td>...</td>\n",
              "      <td>...</td>\n",
              "      <td>...</td>\n",
              "      <td>...</td>\n",
              "      <td>...</td>\n",
              "      <td>...</td>\n",
              "      <td>...</td>\n",
              "      <td>...</td>\n",
              "      <td>...</td>\n",
              "      <td>...</td>\n",
              "      <td>...</td>\n",
              "      <td>...</td>\n",
              "      <td>...</td>\n",
              "      <td>...</td>\n",
              "    </tr>\n",
              "    <tr>\n",
              "      <th>3443</th>\n",
              "      <td>PA451978</td>\n",
              "      <td>zonisamide</td>\n",
              "      <td>Zonisamida [Spanish],\"Zonisamidum [Latin]\",\"zo...</td>\n",
              "      <td>Exceglan,\"Excegram\",\"Excegran\",\"Zonegran\"</td>\n",
              "      <td>NaN</td>\n",
              "      <td>Drug</td>\n",
              "      <td>BindingDB:10888,\"ChEBI:CHEBI:10127\",\"Chemical ...</td>\n",
              "      <td>C1=CC=C2C(=C1)C(=NO2)CS(=O)(=O)N</td>\n",
              "      <td>InChI=1S/C8H8N2O3S/c9-14(11,12)5-7-6-3-1-2-4-8...</td>\n",
              "      <td>No</td>\n",
              "      <td>MeSH:C022189(zonisamide),\"ATC:N03AX15(zonisami...</td>\n",
              "      <td>3</td>\n",
              "      <td>7</td>\n",
              "      <td>0</td>\n",
              "      <td>1</td>\n",
              "      <td>NaN</td>\n",
              "      <td>3</td>\n",
              "      <td>NaN</td>\n",
              "      <td>Informative PGx</td>\n",
              "      <td>NaN</td>\n",
              "      <td>NaN</td>\n",
              "      <td>39998</td>\n",
              "      <td>N03AX15</td>\n",
              "      <td>5734</td>\n",
              "    </tr>\n",
              "    <tr>\n",
              "      <th>3444</th>\n",
              "      <td>PA10236</td>\n",
              "      <td>zopiclone</td>\n",
              "      <td>(+-)-zopiclone,\"Zopiclona [INN-Spanish]\",\"Zopi...</td>\n",
              "      <td>Amoban,\"Amovane\",\"Imovance\",\"Imovane\",\"Novo-zo...</td>\n",
              "      <td>NaN</td>\n",
              "      <td>Drug</td>\n",
              "      <td>BindingDB:50054136,\"ChEBI:CHEBI:32315\",\"Chemic...</td>\n",
              "      <td>CN1CCN(CC1)C(=O)OC2C3=NC=CN=C3C(=O)N2C4=NC=C(C...</td>\n",
              "      <td>InChI=1S/C17H17ClN6O3/c1-22-6-8-23(9-7-22)17(2...</td>\n",
              "      <td>No</td>\n",
              "      <td>MeSH:C515050(zopiclone),\"ATC:N05CF01(zopiclone...</td>\n",
              "      <td>0</td>\n",
              "      <td>0</td>\n",
              "      <td>0</td>\n",
              "      <td>0</td>\n",
              "      <td>NaN</td>\n",
              "      <td>NaN</td>\n",
              "      <td>NaN</td>\n",
              "      <td>NaN</td>\n",
              "      <td>NaN</td>\n",
              "      <td>NaN</td>\n",
              "      <td>40001</td>\n",
              "      <td>N05CF01</td>\n",
              "      <td>5735</td>\n",
              "    </tr>\n",
              "    <tr>\n",
              "      <th>3445</th>\n",
              "      <td>PA164924567</td>\n",
              "      <td>Zosuquidar</td>\n",
              "      <td>NaN</td>\n",
              "      <td>NaN</td>\n",
              "      <td>NaN</td>\n",
              "      <td>Drug</td>\n",
              "      <td>NaN</td>\n",
              "      <td>NaN</td>\n",
              "      <td>NaN</td>\n",
              "      <td>No</td>\n",
              "      <td>NaN</td>\n",
              "      <td>0</td>\n",
              "      <td>0</td>\n",
              "      <td>0</td>\n",
              "      <td>1</td>\n",
              "      <td>NaN</td>\n",
              "      <td>NaN</td>\n",
              "      <td>NaN</td>\n",
              "      <td>NaN</td>\n",
              "      <td>NaN</td>\n",
              "      <td>NaN</td>\n",
              "      <td>NaN</td>\n",
              "      <td>NaN</td>\n",
              "      <td>NaN</td>\n",
              "    </tr>\n",
              "    <tr>\n",
              "      <th>3446</th>\n",
              "      <td>PA452606</td>\n",
              "      <td>zoxazolamine</td>\n",
              "      <td>NaN</td>\n",
              "      <td>NaN</td>\n",
              "      <td>NaN</td>\n",
              "      <td>Drug</td>\n",
              "      <td>NaN</td>\n",
              "      <td>NaN</td>\n",
              "      <td>NaN</td>\n",
              "      <td>No</td>\n",
              "      <td>UMLS:C0043534(Zoxazolamine [Chemical/Ingredien...</td>\n",
              "      <td>0</td>\n",
              "      <td>0</td>\n",
              "      <td>0</td>\n",
              "      <td>0</td>\n",
              "      <td>NaN</td>\n",
              "      <td>NaN</td>\n",
              "      <td>NaN</td>\n",
              "      <td>NaN</td>\n",
              "      <td>NaN</td>\n",
              "      <td>NaN</td>\n",
              "      <td>NaN</td>\n",
              "      <td>NaN</td>\n",
              "      <td>NaN</td>\n",
              "    </tr>\n",
              "    <tr>\n",
              "      <th>3447</th>\n",
              "      <td>PA452629</td>\n",
              "      <td>zuclopenthixol</td>\n",
              "      <td>Clopenthixol,\"Zuclopenthixolum [latin]\",\"Zuclo...</td>\n",
              "      <td>Acuphase,\"Clopixol\"</td>\n",
              "      <td>NaN</td>\n",
              "      <td>Drug</td>\n",
              "      <td>ChEBI:CHEBI:51364,\"ChemSpider:4470984\",\"DrugBa...</td>\n",
              "      <td>C1CN(CCN1CC/C=C\\2/C3=CC=CC=C3SC4=C2C=C(C=C4)Cl...</td>\n",
              "      <td>InChI=1S/C22H25ClN2OS/c23-17-7-8-22-20(16-17)1...</td>\n",
              "      <td>No</td>\n",
              "      <td>ATC:N05AF05(zuclopenthixol),\"UMLS:C0376160(Zuc...</td>\n",
              "      <td>1</td>\n",
              "      <td>3</td>\n",
              "      <td>0</td>\n",
              "      <td>1</td>\n",
              "      <td>DPWG</td>\n",
              "      <td>3</td>\n",
              "      <td>NaN</td>\n",
              "      <td>Informative PGx</td>\n",
              "      <td>NaN</td>\n",
              "      <td>NaN</td>\n",
              "      <td>114176</td>\n",
              "      <td>N05AF05</td>\n",
              "      <td>5311507</td>\n",
              "    </tr>\n",
              "  </tbody>\n",
              "</table>\n",
              "<p>3448 rows × 24 columns</p>\n",
              "</div>"
            ],
            "text/plain": [
              "     PharmGKB Accession Id  ... PubChem Compound Identifiers\n",
              "0              PA164712302  ...                          NaN\n",
              "1              PA134967247  ...                        66414\n",
              "2              PA131887008  ...                         1615\n",
              "3              PA165958321  ...                       178014\n",
              "4              PA165858618  ...                      9571836\n",
              "...                    ...  ...                          ...\n",
              "3443              PA451978  ...                         5734\n",
              "3444               PA10236  ...                         5735\n",
              "3445           PA164924567  ...                          NaN\n",
              "3446              PA452606  ...                          NaN\n",
              "3447              PA452629  ...                      5311507\n",
              "\n",
              "[3448 rows x 24 columns]"
            ]
          },
          "metadata": {},
          "execution_count": 32
        }
      ]
    },
    {
      "cell_type": "code",
      "metadata": {
        "colab": {
          "base_uri": "https://localhost:8080/",
          "height": 485
        },
        "id": "0onWxe3XFkgB",
        "outputId": "a3b46f50-7bf1-4982-f76b-e673d0403b32"
      },
      "source": [
        "pd.read_csv(SNP_file_name, sep='\\t')"
      ],
      "execution_count": 18,
      "outputs": [
        {
          "output_type": "execute_result",
          "data": {
            "text/html": [
              "\n",
              "  <div id=\"df-264bb84d-8741-471e-8a59-bc2d5982a01d\">\n",
              "    <div class=\"colab-df-container\">\n",
              "      <div>\n",
              "<style scoped>\n",
              "    .dataframe tbody tr th:only-of-type {\n",
              "        vertical-align: middle;\n",
              "    }\n",
              "\n",
              "    .dataframe tbody tr th {\n",
              "        vertical-align: top;\n",
              "    }\n",
              "\n",
              "    .dataframe thead th {\n",
              "        text-align: right;\n",
              "    }\n",
              "</style>\n",
              "<table border=\"1\" class=\"dataframe\">\n",
              "  <thead>\n",
              "    <tr style=\"text-align: right;\">\n",
              "      <th></th>\n",
              "      <th>,Variant name,Variant consequence,Protein allele,Transcript stable ID,PolyPhen score,PolyPhen prediction,SIFT score,SIFT prediction,Chromosome/scaffold name,Chromosome/scaffold position start (bp),Chromosome/scaffold position end (bp)</th>\n",
              "    </tr>\n",
              "  </thead>\n",
              "  <tbody>\n",
              "    <tr>\n",
              "      <th>0</th>\n",
              "      <td>0,rs7492,3_prime_UTR_variant,,ENST00000246006,...</td>\n",
              "    </tr>\n",
              "    <tr>\n",
              "      <th>1</th>\n",
              "      <td>1,rs2567612,3_prime_UTR_variant,,ENST000002460...</td>\n",
              "    </tr>\n",
              "    <tr>\n",
              "      <th>2</th>\n",
              "      <td>2,rs2749811,3_prime_UTR_variant,,ENST000002460...</td>\n",
              "    </tr>\n",
              "    <tr>\n",
              "      <th>3</th>\n",
              "      <td>3,rs2749812,3_prime_UTR_variant,,ENST000002460...</td>\n",
              "    </tr>\n",
              "    <tr>\n",
              "      <th>4</th>\n",
              "      <td>4,rs2749813,3_prime_UTR_variant,,ENST000002460...</td>\n",
              "    </tr>\n",
              "    <tr>\n",
              "      <th>...</th>\n",
              "      <td>...</td>\n",
              "    </tr>\n",
              "    <tr>\n",
              "      <th>2306</th>\n",
              "      <td>2306,rs1600423846,synonymous_variant,P,ENST000...</td>\n",
              "    </tr>\n",
              "    <tr>\n",
              "      <th>2307</th>\n",
              "      <td>2307,rs1600424016,missense_variant,W/S,ENST000...</td>\n",
              "    </tr>\n",
              "    <tr>\n",
              "      <th>2308</th>\n",
              "      <td>2308,rs1600424406,missense_variant,T/P,ENST000...</td>\n",
              "    </tr>\n",
              "    <tr>\n",
              "      <th>2309</th>\n",
              "      <td>2309,rs1600424446,5_prime_UTR_variant,,ENST000...</td>\n",
              "    </tr>\n",
              "    <tr>\n",
              "      <th>2310</th>\n",
              "      <td>2310,rs1600424486,5_prime_UTR_variant,,ENST000...</td>\n",
              "    </tr>\n",
              "  </tbody>\n",
              "</table>\n",
              "<p>2311 rows × 1 columns</p>\n",
              "</div>\n",
              "      <button class=\"colab-df-convert\" onclick=\"convertToInteractive('df-264bb84d-8741-471e-8a59-bc2d5982a01d')\"\n",
              "              title=\"Convert this dataframe to an interactive table.\"\n",
              "              style=\"display:none;\">\n",
              "        \n",
              "  <svg xmlns=\"http://www.w3.org/2000/svg\" height=\"24px\"viewBox=\"0 0 24 24\"\n",
              "       width=\"24px\">\n",
              "    <path d=\"M0 0h24v24H0V0z\" fill=\"none\"/>\n",
              "    <path d=\"M18.56 5.44l.94 2.06.94-2.06 2.06-.94-2.06-.94-.94-2.06-.94 2.06-2.06.94zm-11 1L8.5 8.5l.94-2.06 2.06-.94-2.06-.94L8.5 2.5l-.94 2.06-2.06.94zm10 10l.94 2.06.94-2.06 2.06-.94-2.06-.94-.94-2.06-.94 2.06-2.06.94z\"/><path d=\"M17.41 7.96l-1.37-1.37c-.4-.4-.92-.59-1.43-.59-.52 0-1.04.2-1.43.59L10.3 9.45l-7.72 7.72c-.78.78-.78 2.05 0 2.83L4 21.41c.39.39.9.59 1.41.59.51 0 1.02-.2 1.41-.59l7.78-7.78 2.81-2.81c.8-.78.8-2.07 0-2.86zM5.41 20L4 18.59l7.72-7.72 1.47 1.35L5.41 20z\"/>\n",
              "  </svg>\n",
              "      </button>\n",
              "      \n",
              "  <style>\n",
              "    .colab-df-container {\n",
              "      display:flex;\n",
              "      flex-wrap:wrap;\n",
              "      gap: 12px;\n",
              "    }\n",
              "\n",
              "    .colab-df-convert {\n",
              "      background-color: #E8F0FE;\n",
              "      border: none;\n",
              "      border-radius: 50%;\n",
              "      cursor: pointer;\n",
              "      display: none;\n",
              "      fill: #1967D2;\n",
              "      height: 32px;\n",
              "      padding: 0 0 0 0;\n",
              "      width: 32px;\n",
              "    }\n",
              "\n",
              "    .colab-df-convert:hover {\n",
              "      background-color: #E2EBFA;\n",
              "      box-shadow: 0px 1px 2px rgba(60, 64, 67, 0.3), 0px 1px 3px 1px rgba(60, 64, 67, 0.15);\n",
              "      fill: #174EA6;\n",
              "    }\n",
              "\n",
              "    [theme=dark] .colab-df-convert {\n",
              "      background-color: #3B4455;\n",
              "      fill: #D2E3FC;\n",
              "    }\n",
              "\n",
              "    [theme=dark] .colab-df-convert:hover {\n",
              "      background-color: #434B5C;\n",
              "      box-shadow: 0px 1px 3px 1px rgba(0, 0, 0, 0.15);\n",
              "      filter: drop-shadow(0px 1px 2px rgba(0, 0, 0, 0.3));\n",
              "      fill: #FFFFFF;\n",
              "    }\n",
              "  </style>\n",
              "\n",
              "      <script>\n",
              "        const buttonEl =\n",
              "          document.querySelector('#df-264bb84d-8741-471e-8a59-bc2d5982a01d button.colab-df-convert');\n",
              "        buttonEl.style.display =\n",
              "          google.colab.kernel.accessAllowed ? 'block' : 'none';\n",
              "\n",
              "        async function convertToInteractive(key) {\n",
              "          const element = document.querySelector('#df-264bb84d-8741-471e-8a59-bc2d5982a01d');\n",
              "          const dataTable =\n",
              "            await google.colab.kernel.invokeFunction('convertToInteractive',\n",
              "                                                     [key], {});\n",
              "          if (!dataTable) return;\n",
              "\n",
              "          const docLinkHtml = 'Like what you see? Visit the ' +\n",
              "            '<a target=\"_blank\" href=https://colab.research.google.com/notebooks/data_table.ipynb>data table notebook</a>'\n",
              "            + ' to learn more about interactive tables.';\n",
              "          element.innerHTML = '';\n",
              "          dataTable['output_type'] = 'display_data';\n",
              "          await google.colab.output.renderOutput(dataTable, element);\n",
              "          const docLink = document.createElement('div');\n",
              "          docLink.innerHTML = docLinkHtml;\n",
              "          element.appendChild(docLink);\n",
              "        }\n",
              "      </script>\n",
              "    </div>\n",
              "  </div>\n",
              "  "
            ],
            "text/plain": [
              "     ,Variant name,Variant consequence,Protein allele,Transcript stable ID,PolyPhen score,PolyPhen prediction,SIFT score,SIFT prediction,Chromosome/scaffold name,Chromosome/scaffold position start (bp),Chromosome/scaffold position end (bp)\n",
              "0     0,rs7492,3_prime_UTR_variant,,ENST00000246006,...                                                                                                                                                                                        \n",
              "1     1,rs2567612,3_prime_UTR_variant,,ENST000002460...                                                                                                                                                                                        \n",
              "2     2,rs2749811,3_prime_UTR_variant,,ENST000002460...                                                                                                                                                                                        \n",
              "3     3,rs2749812,3_prime_UTR_variant,,ENST000002460...                                                                                                                                                                                        \n",
              "4     4,rs2749813,3_prime_UTR_variant,,ENST000002460...                                                                                                                                                                                        \n",
              "...                                                 ...                                                                                                                                                                                        \n",
              "2306  2306,rs1600423846,synonymous_variant,P,ENST000...                                                                                                                                                                                        \n",
              "2307  2307,rs1600424016,missense_variant,W/S,ENST000...                                                                                                                                                                                        \n",
              "2308  2308,rs1600424406,missense_variant,T/P,ENST000...                                                                                                                                                                                        \n",
              "2309  2309,rs1600424446,5_prime_UTR_variant,,ENST000...                                                                                                                                                                                        \n",
              "2310  2310,rs1600424486,5_prime_UTR_variant,,ENST000...                                                                                                                                                                                        \n",
              "\n",
              "[2311 rows x 1 columns]"
            ]
          },
          "metadata": {},
          "execution_count": 18
        }
      ]
    },
    {
      "cell_type": "code",
      "metadata": {
        "id": "XkFzHCXjoQJf"
      },
      "source": [
        "# and an excel file?\n",
        "\n",
        "ETH_workplaces =  pd.read_excel('https://github.com/araldi/HS21---Big-Data-Analysis-in-Biomedical-Research-376-1723-00L-/blob/main/pandas/FS%202021_ETH%20Workplaces%20.xlsx?raw=true')"
      ],
      "execution_count": 19,
      "outputs": []
    },
    {
      "cell_type": "code",
      "metadata": {
        "id": "OGNuWg81pGcj",
        "colab": {
          "base_uri": "https://localhost:8080/",
          "height": 990
        },
        "outputId": "422633dc-fa62-4d17-a630-cc02bc2d9b48"
      },
      "source": [
        "ETH_workplaces"
      ],
      "execution_count": 20,
      "outputs": [
        {
          "output_type": "execute_result",
          "data": {
            "text/html": [
              "\n",
              "  <div id=\"df-4365846a-a8d3-4cf0-8ea4-e42be6e5bb76\">\n",
              "    <div class=\"colab-df-container\">\n",
              "      <div>\n",
              "<style scoped>\n",
              "    .dataframe tbody tr th:only-of-type {\n",
              "        vertical-align: middle;\n",
              "    }\n",
              "\n",
              "    .dataframe tbody tr th {\n",
              "        vertical-align: top;\n",
              "    }\n",
              "\n",
              "    .dataframe thead th {\n",
              "        text-align: right;\n",
              "    }\n",
              "</style>\n",
              "<table border=\"1\" class=\"dataframe\">\n",
              "  <thead>\n",
              "    <tr style=\"text-align: right;\">\n",
              "      <th></th>\n",
              "      <th>Gebäudebereich</th>\n",
              "      <th>Gebäude</th>\n",
              "      <th>Mo -  Fr</th>\n",
              "      <th>Sa + So</th>\n",
              "    </tr>\n",
              "  </thead>\n",
              "  <tbody>\n",
              "    <tr>\n",
              "      <th>0</th>\n",
              "      <td>ET</td>\n",
              "      <td>ETA</td>\n",
              "      <td>06:30 - 20:30</td>\n",
              "      <td>geschlossen</td>\n",
              "    </tr>\n",
              "    <tr>\n",
              "      <th>1</th>\n",
              "      <td>ET</td>\n",
              "      <td>ETF</td>\n",
              "      <td>06:30 - 20:30</td>\n",
              "      <td>geschlossen</td>\n",
              "    </tr>\n",
              "    <tr>\n",
              "      <th>2</th>\n",
              "      <td>ET</td>\n",
              "      <td>ETZ</td>\n",
              "      <td>06:30 - 20:30</td>\n",
              "      <td>geschlossen</td>\n",
              "    </tr>\n",
              "    <tr>\n",
              "      <th>3</th>\n",
              "      <td>HC</td>\n",
              "      <td>HCI</td>\n",
              "      <td>06:30 - 22:00</td>\n",
              "      <td>Sa: 9-19 / So: 10-16</td>\n",
              "    </tr>\n",
              "    <tr>\n",
              "      <th>4</th>\n",
              "      <td>HC</td>\n",
              "      <td>HCP</td>\n",
              "      <td>06:30 - 20:30</td>\n",
              "      <td>geschlossen</td>\n",
              "    </tr>\n",
              "    <tr>\n",
              "      <th>5</th>\n",
              "      <td>HC</td>\n",
              "      <td>HPI</td>\n",
              "      <td>05:45 - 21:00</td>\n",
              "      <td>geschlossen</td>\n",
              "    </tr>\n",
              "    <tr>\n",
              "      <th>6</th>\n",
              "      <td>HG</td>\n",
              "      <td>HG</td>\n",
              "      <td>06:00 - 22:00</td>\n",
              "      <td>08:00 - 17:00</td>\n",
              "    </tr>\n",
              "    <tr>\n",
              "      <th>7</th>\n",
              "      <td>HI</td>\n",
              "      <td>HIL</td>\n",
              "      <td>07:00 - 22:00</td>\n",
              "      <td>Sa: 08:00 - 12:00</td>\n",
              "    </tr>\n",
              "    <tr>\n",
              "      <th>8</th>\n",
              "      <td>HI</td>\n",
              "      <td>HIT</td>\n",
              "      <td>07:00 - 20:30</td>\n",
              "      <td>geschlossen</td>\n",
              "    </tr>\n",
              "    <tr>\n",
              "      <th>9</th>\n",
              "      <td>HP</td>\n",
              "      <td>HPH</td>\n",
              "      <td>07:00 - 20:30</td>\n",
              "      <td>geschlossen</td>\n",
              "    </tr>\n",
              "    <tr>\n",
              "      <th>10</th>\n",
              "      <td>HP</td>\n",
              "      <td>HPK</td>\n",
              "      <td>07:00 - 20:30</td>\n",
              "      <td>geschlossen</td>\n",
              "    </tr>\n",
              "    <tr>\n",
              "      <th>11</th>\n",
              "      <td>HP</td>\n",
              "      <td>HPL</td>\n",
              "      <td>07:00 - 20:30</td>\n",
              "      <td>geschlossen</td>\n",
              "    </tr>\n",
              "    <tr>\n",
              "      <th>12</th>\n",
              "      <td>HP</td>\n",
              "      <td>HPM</td>\n",
              "      <td>07:00 - 20:30</td>\n",
              "      <td>geschlossen</td>\n",
              "    </tr>\n",
              "    <tr>\n",
              "      <th>13</th>\n",
              "      <td>HP</td>\n",
              "      <td>HPT</td>\n",
              "      <td>07:00 - 20:30</td>\n",
              "      <td>geschlossen</td>\n",
              "    </tr>\n",
              "    <tr>\n",
              "      <th>14</th>\n",
              "      <td>HP</td>\n",
              "      <td>HPV</td>\n",
              "      <td>07:00 - 20:30</td>\n",
              "      <td>geschlossen</td>\n",
              "    </tr>\n",
              "    <tr>\n",
              "      <th>15</th>\n",
              "      <td>HP</td>\n",
              "      <td>HPZ</td>\n",
              "      <td>07:00 - 20:30</td>\n",
              "      <td>geschlossen</td>\n",
              "    </tr>\n",
              "    <tr>\n",
              "      <th>16</th>\n",
              "      <td>ML</td>\n",
              "      <td>CLA</td>\n",
              "      <td>07:00 - 20:30</td>\n",
              "      <td>geschlossen</td>\n",
              "    </tr>\n",
              "    <tr>\n",
              "      <th>17</th>\n",
              "      <td>ML</td>\n",
              "      <td>LEE</td>\n",
              "      <td>07:00 - 20:30</td>\n",
              "      <td>geschlossen</td>\n",
              "    </tr>\n",
              "    <tr>\n",
              "      <th>18</th>\n",
              "      <td>ML</td>\n",
              "      <td>ML</td>\n",
              "      <td>07:00 - 20:30</td>\n",
              "      <td>geschlossen</td>\n",
              "    </tr>\n",
              "    <tr>\n",
              "      <th>19</th>\n",
              "      <td>ML</td>\n",
              "      <td>NO</td>\n",
              "      <td>07:00 - 20:30</td>\n",
              "      <td>geschlossen</td>\n",
              "    </tr>\n",
              "    <tr>\n",
              "      <th>20</th>\n",
              "      <td>RZ</td>\n",
              "      <td>IFW</td>\n",
              "      <td>06:45 - 20:30</td>\n",
              "      <td>geschlossen</td>\n",
              "    </tr>\n",
              "    <tr>\n",
              "      <th>21</th>\n",
              "      <td>RZ</td>\n",
              "      <td>ONA</td>\n",
              "      <td>05:30 - 20:30</td>\n",
              "      <td>geschlossen</td>\n",
              "    </tr>\n",
              "    <tr>\n",
              "      <th>22</th>\n",
              "      <td>RZ</td>\n",
              "      <td>RZ</td>\n",
              "      <td>06:45 - 20:30</td>\n",
              "      <td>geschlossen</td>\n",
              "    </tr>\n",
              "    <tr>\n",
              "      <th>23</th>\n",
              "      <td>UN</td>\n",
              "      <td>CAB</td>\n",
              "      <td>06:30 - 20:30</td>\n",
              "      <td>geschlossen</td>\n",
              "    </tr>\n",
              "    <tr>\n",
              "      <th>24</th>\n",
              "      <td>UN</td>\n",
              "      <td>CHN</td>\n",
              "      <td>06:30 - 20:30</td>\n",
              "      <td>geschlossen</td>\n",
              "    </tr>\n",
              "    <tr>\n",
              "      <th>25</th>\n",
              "      <td>UN</td>\n",
              "      <td>LFO</td>\n",
              "      <td>06:30 - 20:30</td>\n",
              "      <td>geschlossen</td>\n",
              "    </tr>\n",
              "    <tr>\n",
              "      <th>26</th>\n",
              "      <td>UN</td>\n",
              "      <td>LFV</td>\n",
              "      <td>06:30 - 20:30</td>\n",
              "      <td>geschlossen</td>\n",
              "    </tr>\n",
              "    <tr>\n",
              "      <th>27</th>\n",
              "      <td>UN</td>\n",
              "      <td>LFW</td>\n",
              "      <td>06:30 - 20:30</td>\n",
              "      <td>geschlossen</td>\n",
              "    </tr>\n",
              "    <tr>\n",
              "      <th>28</th>\n",
              "      <td>NaN</td>\n",
              "      <td>NaN</td>\n",
              "      <td>NaN</td>\n",
              "      <td>NaN</td>\n",
              "    </tr>\n",
              "    <tr>\n",
              "      <th>29</th>\n",
              "      <td>Bitte verlassen Sie die Räumlichkeiten 15 Minu...</td>\n",
              "      <td>NaN</td>\n",
              "      <td>NaN</td>\n",
              "      <td>NaN</td>\n",
              "    </tr>\n",
              "  </tbody>\n",
              "</table>\n",
              "</div>\n",
              "      <button class=\"colab-df-convert\" onclick=\"convertToInteractive('df-4365846a-a8d3-4cf0-8ea4-e42be6e5bb76')\"\n",
              "              title=\"Convert this dataframe to an interactive table.\"\n",
              "              style=\"display:none;\">\n",
              "        \n",
              "  <svg xmlns=\"http://www.w3.org/2000/svg\" height=\"24px\"viewBox=\"0 0 24 24\"\n",
              "       width=\"24px\">\n",
              "    <path d=\"M0 0h24v24H0V0z\" fill=\"none\"/>\n",
              "    <path d=\"M18.56 5.44l.94 2.06.94-2.06 2.06-.94-2.06-.94-.94-2.06-.94 2.06-2.06.94zm-11 1L8.5 8.5l.94-2.06 2.06-.94-2.06-.94L8.5 2.5l-.94 2.06-2.06.94zm10 10l.94 2.06.94-2.06 2.06-.94-2.06-.94-.94-2.06-.94 2.06-2.06.94z\"/><path d=\"M17.41 7.96l-1.37-1.37c-.4-.4-.92-.59-1.43-.59-.52 0-1.04.2-1.43.59L10.3 9.45l-7.72 7.72c-.78.78-.78 2.05 0 2.83L4 21.41c.39.39.9.59 1.41.59.51 0 1.02-.2 1.41-.59l7.78-7.78 2.81-2.81c.8-.78.8-2.07 0-2.86zM5.41 20L4 18.59l7.72-7.72 1.47 1.35L5.41 20z\"/>\n",
              "  </svg>\n",
              "      </button>\n",
              "      \n",
              "  <style>\n",
              "    .colab-df-container {\n",
              "      display:flex;\n",
              "      flex-wrap:wrap;\n",
              "      gap: 12px;\n",
              "    }\n",
              "\n",
              "    .colab-df-convert {\n",
              "      background-color: #E8F0FE;\n",
              "      border: none;\n",
              "      border-radius: 50%;\n",
              "      cursor: pointer;\n",
              "      display: none;\n",
              "      fill: #1967D2;\n",
              "      height: 32px;\n",
              "      padding: 0 0 0 0;\n",
              "      width: 32px;\n",
              "    }\n",
              "\n",
              "    .colab-df-convert:hover {\n",
              "      background-color: #E2EBFA;\n",
              "      box-shadow: 0px 1px 2px rgba(60, 64, 67, 0.3), 0px 1px 3px 1px rgba(60, 64, 67, 0.15);\n",
              "      fill: #174EA6;\n",
              "    }\n",
              "\n",
              "    [theme=dark] .colab-df-convert {\n",
              "      background-color: #3B4455;\n",
              "      fill: #D2E3FC;\n",
              "    }\n",
              "\n",
              "    [theme=dark] .colab-df-convert:hover {\n",
              "      background-color: #434B5C;\n",
              "      box-shadow: 0px 1px 3px 1px rgba(0, 0, 0, 0.15);\n",
              "      filter: drop-shadow(0px 1px 2px rgba(0, 0, 0, 0.3));\n",
              "      fill: #FFFFFF;\n",
              "    }\n",
              "  </style>\n",
              "\n",
              "      <script>\n",
              "        const buttonEl =\n",
              "          document.querySelector('#df-4365846a-a8d3-4cf0-8ea4-e42be6e5bb76 button.colab-df-convert');\n",
              "        buttonEl.style.display =\n",
              "          google.colab.kernel.accessAllowed ? 'block' : 'none';\n",
              "\n",
              "        async function convertToInteractive(key) {\n",
              "          const element = document.querySelector('#df-4365846a-a8d3-4cf0-8ea4-e42be6e5bb76');\n",
              "          const dataTable =\n",
              "            await google.colab.kernel.invokeFunction('convertToInteractive',\n",
              "                                                     [key], {});\n",
              "          if (!dataTable) return;\n",
              "\n",
              "          const docLinkHtml = 'Like what you see? Visit the ' +\n",
              "            '<a target=\"_blank\" href=https://colab.research.google.com/notebooks/data_table.ipynb>data table notebook</a>'\n",
              "            + ' to learn more about interactive tables.';\n",
              "          element.innerHTML = '';\n",
              "          dataTable['output_type'] = 'display_data';\n",
              "          await google.colab.output.renderOutput(dataTable, element);\n",
              "          const docLink = document.createElement('div');\n",
              "          docLink.innerHTML = docLinkHtml;\n",
              "          element.appendChild(docLink);\n",
              "        }\n",
              "      </script>\n",
              "    </div>\n",
              "  </div>\n",
              "  "
            ],
            "text/plain": [
              "                                       Gebäudebereich  ...               Sa + So\n",
              "0                                                  ET  ...          geschlossen \n",
              "1                                                  ET  ...          geschlossen \n",
              "2                                                  ET  ...          geschlossen \n",
              "3                                                  HC  ...  Sa: 9-19 / So: 10-16\n",
              "4                                                  HC  ...          geschlossen \n",
              "5                                                  HC  ...          geschlossen \n",
              "6                                                  HG  ...         08:00 - 17:00\n",
              "7                                                  HI  ...     Sa: 08:00 - 12:00\n",
              "8                                                  HI  ...          geschlossen \n",
              "9                                                  HP  ...          geschlossen \n",
              "10                                                 HP  ...          geschlossen \n",
              "11                                                 HP  ...          geschlossen \n",
              "12                                                 HP  ...          geschlossen \n",
              "13                                                 HP  ...          geschlossen \n",
              "14                                                 HP  ...          geschlossen \n",
              "15                                                 HP  ...          geschlossen \n",
              "16                                                 ML  ...          geschlossen \n",
              "17                                                 ML  ...          geschlossen \n",
              "18                                                 ML  ...          geschlossen \n",
              "19                                                 ML  ...          geschlossen \n",
              "20                                                 RZ  ...          geschlossen \n",
              "21                                                 RZ  ...          geschlossen \n",
              "22                                                 RZ  ...          geschlossen \n",
              "23                                                 UN  ...          geschlossen \n",
              "24                                                 UN  ...          geschlossen \n",
              "25                                                 UN  ...          geschlossen \n",
              "26                                                 UN  ...          geschlossen \n",
              "27                                                 UN  ...          geschlossen \n",
              "28                                                NaN  ...                   NaN\n",
              "29  Bitte verlassen Sie die Räumlichkeiten 15 Minu...  ...                   NaN\n",
              "\n",
              "[30 rows x 4 columns]"
            ]
          },
          "metadata": {},
          "execution_count": 20
        }
      ]
    },
    {
      "cell_type": "markdown",
      "source": [
        "Specify the sheet:\n",
        "\n",
        "\n",
        "\n",
        "```\n",
        "pd.read_excel('filename.xlsx', sheet_name='sheet_name')\n",
        "```\n",
        "\n"
      ],
      "metadata": {
        "id": "pmwSNPLErJ68"
      }
    },
    {
      "cell_type": "markdown",
      "metadata": {
        "id": "0ChduehxQ_qb"
      },
      "source": [
        "#### Importing from a local drive"
      ]
    },
    {
      "cell_type": "code",
      "metadata": {
        "id": "ICvN1ALZOGhQ",
        "colab": {
          "resources": {
            "http://localhost:8080/nbextensions/google.colab/files.js": {
              "data": "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",
              "ok": true,
              "headers": [
                [
                  "content-type",
                  "application/javascript"
                ]
              ],
              "status": 200,
              "status_text": ""
            }
          },
          "base_uri": "https://localhost:8080/",
          "height": 383
        },
        "outputId": "abdf9f43-4251-4ce8-9579-8096c8cbdb27"
      },
      "source": [
        "# choose file from your computer (this works only in google colab, not in Jupyter notebook)\n",
        "from google.colab import files\n",
        "uploaded = files.upload()\n",
        "file_name = 'kidpackgenes.csv'"
      ],
      "execution_count": null,
      "outputs": [
        {
          "output_type": "display_data",
          "data": {
            "text/html": [
              "\n",
              "     <input type=\"file\" id=\"files-d42fabee-8b81-4ab4-bf96-448802a69122\" name=\"files[]\" multiple disabled\n",
              "        style=\"border:none\" />\n",
              "     <output id=\"result-d42fabee-8b81-4ab4-bf96-448802a69122\">\n",
              "      Upload widget is only available when the cell has been executed in the\n",
              "      current browser session. Please rerun this cell to enable.\n",
              "      </output>\n",
              "      <script src=\"/nbextensions/google.colab/files.js\"></script> "
            ],
            "text/plain": [
              "<IPython.core.display.HTML object>"
            ]
          },
          "metadata": {}
        },
        {
          "output_type": "error",
          "ename": "KeyboardInterrupt",
          "evalue": "ignored",
          "traceback": [
            "\u001b[0;31m---------------------------------------------------------------------------\u001b[0m",
            "\u001b[0;31mKeyboardInterrupt\u001b[0m                         Traceback (most recent call last)",
            "\u001b[0;32m<ipython-input-35-dcf2a874f709>\u001b[0m in \u001b[0;36m<module>\u001b[0;34m()\u001b[0m\n\u001b[1;32m      1\u001b[0m \u001b[0;31m# choose file from your computer (this works only in google colab, not in Jupyter notebook)\u001b[0m\u001b[0;34m\u001b[0m\u001b[0;34m\u001b[0m\u001b[0;34m\u001b[0m\u001b[0m\n\u001b[1;32m      2\u001b[0m \u001b[0;32mfrom\u001b[0m \u001b[0mgoogle\u001b[0m\u001b[0;34m.\u001b[0m\u001b[0mcolab\u001b[0m \u001b[0;32mimport\u001b[0m \u001b[0mfiles\u001b[0m\u001b[0;34m\u001b[0m\u001b[0;34m\u001b[0m\u001b[0m\n\u001b[0;32m----> 3\u001b[0;31m \u001b[0muploaded\u001b[0m \u001b[0;34m=\u001b[0m \u001b[0mfiles\u001b[0m\u001b[0;34m.\u001b[0m\u001b[0mupload\u001b[0m\u001b[0;34m(\u001b[0m\u001b[0;34m)\u001b[0m\u001b[0;34m\u001b[0m\u001b[0;34m\u001b[0m\u001b[0m\n\u001b[0m\u001b[1;32m      4\u001b[0m \u001b[0mfile_name\u001b[0m \u001b[0;34m=\u001b[0m \u001b[0;34m'kidpackgenes.csv'\u001b[0m\u001b[0;34m\u001b[0m\u001b[0;34m\u001b[0m\u001b[0m\n",
            "\u001b[0;32m/usr/local/lib/python3.7/dist-packages/google/colab/files.py\u001b[0m in \u001b[0;36mupload\u001b[0;34m()\u001b[0m\n\u001b[1;32m     62\u001b[0m   result = _output.eval_js(\n\u001b[1;32m     63\u001b[0m       'google.colab._files._uploadFiles(\"{input_id}\", \"{output_id}\")'.format(\n\u001b[0;32m---> 64\u001b[0;31m           input_id=input_id, output_id=output_id))\n\u001b[0m\u001b[1;32m     65\u001b[0m   \u001b[0mfiles\u001b[0m \u001b[0;34m=\u001b[0m \u001b[0m_collections\u001b[0m\u001b[0;34m.\u001b[0m\u001b[0mdefaultdict\u001b[0m\u001b[0;34m(\u001b[0m\u001b[0m_six\u001b[0m\u001b[0;34m.\u001b[0m\u001b[0mbinary_type\u001b[0m\u001b[0;34m)\u001b[0m\u001b[0;34m\u001b[0m\u001b[0;34m\u001b[0m\u001b[0m\n\u001b[1;32m     66\u001b[0m   \u001b[0;31m# Mapping from original filename to filename as saved locally.\u001b[0m\u001b[0;34m\u001b[0m\u001b[0;34m\u001b[0m\u001b[0;34m\u001b[0m\u001b[0m\n",
            "\u001b[0;32m/usr/local/lib/python3.7/dist-packages/google/colab/output/_js.py\u001b[0m in \u001b[0;36meval_js\u001b[0;34m(script, ignore_result, timeout_sec)\u001b[0m\n\u001b[1;32m     38\u001b[0m   \u001b[0;32mif\u001b[0m \u001b[0mignore_result\u001b[0m\u001b[0;34m:\u001b[0m\u001b[0;34m\u001b[0m\u001b[0;34m\u001b[0m\u001b[0m\n\u001b[1;32m     39\u001b[0m     \u001b[0;32mreturn\u001b[0m\u001b[0;34m\u001b[0m\u001b[0;34m\u001b[0m\u001b[0m\n\u001b[0;32m---> 40\u001b[0;31m   \u001b[0;32mreturn\u001b[0m \u001b[0m_message\u001b[0m\u001b[0;34m.\u001b[0m\u001b[0mread_reply_from_input\u001b[0m\u001b[0;34m(\u001b[0m\u001b[0mrequest_id\u001b[0m\u001b[0;34m,\u001b[0m \u001b[0mtimeout_sec\u001b[0m\u001b[0;34m)\u001b[0m\u001b[0;34m\u001b[0m\u001b[0;34m\u001b[0m\u001b[0m\n\u001b[0m\u001b[1;32m     41\u001b[0m \u001b[0;34m\u001b[0m\u001b[0m\n\u001b[1;32m     42\u001b[0m \u001b[0;34m\u001b[0m\u001b[0m\n",
            "\u001b[0;32m/usr/local/lib/python3.7/dist-packages/google/colab/_message.py\u001b[0m in \u001b[0;36mread_reply_from_input\u001b[0;34m(message_id, timeout_sec)\u001b[0m\n\u001b[1;32m     99\u001b[0m     \u001b[0mreply\u001b[0m \u001b[0;34m=\u001b[0m \u001b[0m_read_next_input_message\u001b[0m\u001b[0;34m(\u001b[0m\u001b[0;34m)\u001b[0m\u001b[0;34m\u001b[0m\u001b[0;34m\u001b[0m\u001b[0m\n\u001b[1;32m    100\u001b[0m     \u001b[0;32mif\u001b[0m \u001b[0mreply\u001b[0m \u001b[0;34m==\u001b[0m \u001b[0m_NOT_READY\u001b[0m \u001b[0;32mor\u001b[0m \u001b[0;32mnot\u001b[0m \u001b[0misinstance\u001b[0m\u001b[0;34m(\u001b[0m\u001b[0mreply\u001b[0m\u001b[0;34m,\u001b[0m \u001b[0mdict\u001b[0m\u001b[0;34m)\u001b[0m\u001b[0;34m:\u001b[0m\u001b[0;34m\u001b[0m\u001b[0;34m\u001b[0m\u001b[0m\n\u001b[0;32m--> 101\u001b[0;31m       \u001b[0mtime\u001b[0m\u001b[0;34m.\u001b[0m\u001b[0msleep\u001b[0m\u001b[0;34m(\u001b[0m\u001b[0;36m0.025\u001b[0m\u001b[0;34m)\u001b[0m\u001b[0;34m\u001b[0m\u001b[0;34m\u001b[0m\u001b[0m\n\u001b[0m\u001b[1;32m    102\u001b[0m       \u001b[0;32mcontinue\u001b[0m\u001b[0;34m\u001b[0m\u001b[0;34m\u001b[0m\u001b[0m\n\u001b[1;32m    103\u001b[0m     if (reply.get('type') == 'colab_reply' and\n",
            "\u001b[0;31mKeyboardInterrupt\u001b[0m: "
          ]
        }
      ]
    },
    {
      "cell_type": "code",
      "metadata": {
        "id": "JSSAF4ZBPLcP"
      },
      "source": [
        "import io\n",
        "genes = pd.read_csv(io.BytesIO(uploaded[file_name]))\n",
        "# Dataset is now stored in a Pandas Dataframe"
      ],
      "execution_count": null,
      "outputs": []
    },
    {
      "cell_type": "markdown",
      "metadata": {
        "id": "h2GeNfsBRFe0"
      },
      "source": [
        "#### Importing from Google Drive via PyDrive"
      ]
    },
    {
      "cell_type": "code",
      "metadata": {
        "id": "7Y9ziLU2RPgR",
        "colab": {
          "base_uri": "https://localhost:8080/"
        },
        "outputId": "03a5e6cb-181c-47db-f621-1dc62d95f994"
      },
      "source": [
        "from google.colab import drive\n",
        "drive.mount('/content/drive', force_remount=True)"
      ],
      "execution_count": null,
      "outputs": [
        {
          "output_type": "stream",
          "name": "stdout",
          "text": [
            "Mounted at /content/drive\n"
          ]
        }
      ]
    },
    {
      "cell_type": "markdown",
      "metadata": {
        "id": "Z8I3114hqamI"
      },
      "source": [
        "Create a folder on your google drive for this couse (in this case I called it HS21-Big_Data_Analysis_in_Biomedical_Research_376-1723-00L)"
      ]
    },
    {
      "cell_type": "code",
      "metadata": {
        "id": "p0TSZu70TDAM",
        "colab": {
          "base_uri": "https://localhost:8080/"
        },
        "outputId": "e16a0935-5ec4-421b-a28a-fbbfcbe31ac1"
      },
      "source": [
        "!ls"
      ],
      "execution_count": null,
      "outputs": [
        {
          "output_type": "stream",
          "name": "stdout",
          "text": [
            "drive  sample_data\n"
          ]
        }
      ]
    },
    {
      "cell_type": "code",
      "metadata": {
        "colab": {
          "base_uri": "https://localhost:8080/"
        },
        "id": "wp_91GI6HI-n",
        "outputId": "ac93e3cf-775f-4d42-fd3a-04a78d5e5e18"
      },
      "source": [
        "!pwd"
      ],
      "execution_count": null,
      "outputs": [
        {
          "output_type": "stream",
          "name": "stdout",
          "text": [
            "/content\n"
          ]
        }
      ]
    },
    {
      "cell_type": "code",
      "metadata": {
        "id": "zhi_LXdXHOIk"
      },
      "source": [
        "!cd drive\n"
      ],
      "execution_count": null,
      "outputs": []
    },
    {
      "cell_type": "code",
      "metadata": {
        "colab": {
          "base_uri": "https://localhost:8080/"
        },
        "id": "wX_DJsxbHW8a",
        "outputId": "cedea483-628b-4b1b-e62e-251058338f33"
      },
      "source": [
        "cd drive/"
      ],
      "execution_count": null,
      "outputs": [
        {
          "output_type": "stream",
          "name": "stdout",
          "text": [
            "/content/drive\n"
          ]
        }
      ]
    },
    {
      "cell_type": "code",
      "metadata": {
        "colab": {
          "base_uri": "https://localhost:8080/"
        },
        "id": "THDbw96THbpK",
        "outputId": "500803ae-8c8a-4a42-d6c1-7dba9e38301e"
      },
      "source": [
        "ls"
      ],
      "execution_count": null,
      "outputs": [
        {
          "output_type": "stream",
          "name": "stdout",
          "text": [
            " example_saved_dataframe.csv          kidpackgenes.csv  \u001b[0m\u001b[01;34m'Week 2'\u001b[0m/\n",
            "'Google Colab instructions.gslides'  \u001b[01;34m'Week 1'\u001b[0m/\n"
          ]
        }
      ]
    },
    {
      "cell_type": "code",
      "metadata": {
        "id": "C8sJtekVeUQ2"
      },
      "source": [
        "!cd /content/drive/MyDrive/HS21-Big_Data_Analysis_in_Biomedical_Research_376-1723-00L \n",
        "#changes to the folder of interest"
      ],
      "execution_count": null,
      "outputs": []
    },
    {
      "cell_type": "code",
      "metadata": {
        "id": "SpU2LQKTUqGj"
      },
      "source": [
        "directory = '/content/drive/MyDrive/HS21-Big_Data_Analysis_in_Biomedical_Research_376-1723-00L'\n",
        "file_name = 'kidpackgenes.csv'"
      ],
      "execution_count": null,
      "outputs": []
    },
    {
      "cell_type": "code",
      "metadata": {
        "id": "9IJlDJcqPNuL",
        "colab": {
          "base_uri": "https://localhost:8080/",
          "height": 459
        },
        "outputId": "2d015a6b-dd87-4156-ab99-95922df9747a"
      },
      "source": [
        "genes = pd.read_csv('%s/%s' %(directory, file_name))\n",
        "genes"
      ],
      "execution_count": null,
      "outputs": [
        {
          "output_type": "execute_result",
          "data": {
            "text/html": [
              "<div>\n",
              "<style scoped>\n",
              "    .dataframe tbody tr th:only-of-type {\n",
              "        vertical-align: middle;\n",
              "    }\n",
              "\n",
              "    .dataframe tbody tr th {\n",
              "        vertical-align: top;\n",
              "    }\n",
              "\n",
              "    .dataframe thead th {\n",
              "        text-align: right;\n",
              "    }\n",
              "</style>\n",
              "<table border=\"1\" class=\"dataframe\">\n",
              "  <thead>\n",
              "    <tr style=\"text-align: right;\">\n",
              "      <th></th>\n",
              "      <th>Unnamed: 0</th>\n",
              "      <th>1</th>\n",
              "      <th>2</th>\n",
              "      <th>3</th>\n",
              "      <th>4</th>\n",
              "      <th>5</th>\n",
              "      <th>6</th>\n",
              "      <th>7</th>\n",
              "      <th>8</th>\n",
              "      <th>10</th>\n",
              "      <th>11</th>\n",
              "      <th>12</th>\n",
              "      <th>13</th>\n",
              "      <th>14</th>\n",
              "      <th>15</th>\n",
              "      <th>16</th>\n",
              "      <th>17</th>\n",
              "      <th>18</th>\n",
              "      <th>19</th>\n",
              "      <th>20</th>\n",
              "      <th>21</th>\n",
              "      <th>22</th>\n",
              "      <th>23</th>\n",
              "      <th>24</th>\n",
              "      <th>25</th>\n",
              "      <th>26</th>\n",
              "      <th>27</th>\n",
              "      <th>28</th>\n",
              "      <th>29</th>\n",
              "      <th>30</th>\n",
              "      <th>31</th>\n",
              "      <th>33</th>\n",
              "      <th>34</th>\n",
              "      <th>35</th>\n",
              "      <th>36</th>\n",
              "      <th>37</th>\n",
              "      <th>38</th>\n",
              "      <th>39</th>\n",
              "      <th>40</th>\n",
              "      <th>41</th>\n",
              "      <th>42</th>\n",
              "      <th>43</th>\n",
              "      <th>44</th>\n",
              "      <th>45</th>\n",
              "      <th>46</th>\n",
              "      <th>48</th>\n",
              "      <th>49</th>\n",
              "      <th>50</th>\n",
              "      <th>51</th>\n",
              "      <th>52</th>\n",
              "      <th>55</th>\n",
              "      <th>56</th>\n",
              "      <th>57</th>\n",
              "      <th>58</th>\n",
              "      <th>60</th>\n",
              "      <th>61</th>\n",
              "      <th>64</th>\n",
              "      <th>65</th>\n",
              "      <th>66</th>\n",
              "      <th>68</th>\n",
              "      <th>69</th>\n",
              "      <th>72</th>\n",
              "      <th>73</th>\n",
              "      <th>74</th>\n",
              "      <th>75</th>\n",
              "      <th>76</th>\n",
              "      <th>77</th>\n",
              "      <th>78</th>\n",
              "      <th>79</th>\n",
              "      <th>81</th>\n",
              "      <th>83</th>\n",
              "      <th>84</th>\n",
              "      <th>85</th>\n",
              "      <th>86</th>\n",
              "      <th>87</th>\n",
              "    </tr>\n",
              "  </thead>\n",
              "  <tbody>\n",
              "    <tr>\n",
              "      <th>0</th>\n",
              "      <td>1</td>\n",
              "      <td>-0.146342</td>\n",
              "      <td>-0.520637</td>\n",
              "      <td>0.175828</td>\n",
              "      <td>-0.323736</td>\n",
              "      <td>0.172691</td>\n",
              "      <td>0.025156</td>\n",
              "      <td>0.024812</td>\n",
              "      <td>0.172268</td>\n",
              "      <td>0.207188</td>\n",
              "      <td>0.026710</td>\n",
              "      <td>0.370241</td>\n",
              "      <td>0.390749</td>\n",
              "      <td>-0.103504</td>\n",
              "      <td>0.100439</td>\n",
              "      <td>-0.375930</td>\n",
              "      <td>0.277828</td>\n",
              "      <td>-0.130996</td>\n",
              "      <td>-0.009923</td>\n",
              "      <td>-0.399163</td>\n",
              "      <td>-0.127337</td>\n",
              "      <td>0.234942</td>\n",
              "      <td>0.628659</td>\n",
              "      <td>0.032232</td>\n",
              "      <td>-0.051522</td>\n",
              "      <td>0.322164</td>\n",
              "      <td>0.677058</td>\n",
              "      <td>0.626976</td>\n",
              "      <td>-0.075533</td>\n",
              "      <td>0.105881</td>\n",
              "      <td>0.121000</td>\n",
              "      <td>0.544208</td>\n",
              "      <td>0.126653</td>\n",
              "      <td>0.214285</td>\n",
              "      <td>0.426416</td>\n",
              "      <td>-0.385641</td>\n",
              "      <td>0.018007</td>\n",
              "      <td>0.407190</td>\n",
              "      <td>-0.175330</td>\n",
              "      <td>-0.033392</td>\n",
              "      <td>-0.056588</td>\n",
              "      <td>0.380069</td>\n",
              "      <td>0.247337</td>\n",
              "      <td>-0.160898</td>\n",
              "      <td>0.362272</td>\n",
              "      <td>0.190525</td>\n",
              "      <td>0.101010</td>\n",
              "      <td>1.280034</td>\n",
              "      <td>-0.137223</td>\n",
              "      <td>0.013790</td>\n",
              "      <td>0.284715</td>\n",
              "      <td>-0.080554</td>\n",
              "      <td>0.077708</td>\n",
              "      <td>0.071853</td>\n",
              "      <td>-0.225874</td>\n",
              "      <td>-0.148424</td>\n",
              "      <td>-0.104276</td>\n",
              "      <td>0.427028</td>\n",
              "      <td>0.331856</td>\n",
              "      <td>0.167732</td>\n",
              "      <td>-0.576949</td>\n",
              "      <td>0.007349</td>\n",
              "      <td>-0.002330</td>\n",
              "      <td>0.168953</td>\n",
              "      <td>-0.122312</td>\n",
              "      <td>0.240705</td>\n",
              "      <td>-0.347746</td>\n",
              "      <td>-0.001797</td>\n",
              "      <td>-0.260594</td>\n",
              "      <td>0.105968</td>\n",
              "      <td>0.110885</td>\n",
              "      <td>-0.006975</td>\n",
              "      <td>0.550118</td>\n",
              "      <td>0.118934</td>\n",
              "      <td>0.327248</td>\n",
              "    </tr>\n",
              "    <tr>\n",
              "      <th>1</th>\n",
              "      <td>2</td>\n",
              "      <td>-0.465767</td>\n",
              "      <td>0.155823</td>\n",
              "      <td>0.226344</td>\n",
              "      <td>-0.547542</td>\n",
              "      <td>0.041096</td>\n",
              "      <td>0.137012</td>\n",
              "      <td>0.102497</td>\n",
              "      <td>-0.034277</td>\n",
              "      <td>0.500871</td>\n",
              "      <td>0.005533</td>\n",
              "      <td>0.394116</td>\n",
              "      <td>0.474481</td>\n",
              "      <td>-0.004962</td>\n",
              "      <td>0.828600</td>\n",
              "      <td>-0.458895</td>\n",
              "      <td>0.002399</td>\n",
              "      <td>-0.237577</td>\n",
              "      <td>-0.135808</td>\n",
              "      <td>-0.470168</td>\n",
              "      <td>0.088704</td>\n",
              "      <td>-0.039030</td>\n",
              "      <td>0.598749</td>\n",
              "      <td>0.216180</td>\n",
              "      <td>-0.086335</td>\n",
              "      <td>0.509942</td>\n",
              "      <td>0.741002</td>\n",
              "      <td>0.819442</td>\n",
              "      <td>-0.287630</td>\n",
              "      <td>0.253042</td>\n",
              "      <td>-0.122267</td>\n",
              "      <td>0.048518</td>\n",
              "      <td>0.164557</td>\n",
              "      <td>0.208869</td>\n",
              "      <td>0.351322</td>\n",
              "      <td>-0.096956</td>\n",
              "      <td>0.158479</td>\n",
              "      <td>0.566782</td>\n",
              "      <td>-0.171814</td>\n",
              "      <td>0.187912</td>\n",
              "      <td>0.103039</td>\n",
              "      <td>0.605204</td>\n",
              "      <td>-0.010693</td>\n",
              "      <td>0.145773</td>\n",
              "      <td>0.431635</td>\n",
              "      <td>0.408843</td>\n",
              "      <td>0.049612</td>\n",
              "      <td>0.873300</td>\n",
              "      <td>-0.445282</td>\n",
              "      <td>0.050207</td>\n",
              "      <td>0.102510</td>\n",
              "      <td>-0.438553</td>\n",
              "      <td>-0.000697</td>\n",
              "      <td>-0.232677</td>\n",
              "      <td>-0.684507</td>\n",
              "      <td>-0.138210</td>\n",
              "      <td>-0.265029</td>\n",
              "      <td>0.036734</td>\n",
              "      <td>0.474339</td>\n",
              "      <td>0.096666</td>\n",
              "      <td>-0.672424</td>\n",
              "      <td>-0.022295</td>\n",
              "      <td>0.094897</td>\n",
              "      <td>-0.123030</td>\n",
              "      <td>-0.382857</td>\n",
              "      <td>0.371435</td>\n",
              "      <td>-0.447105</td>\n",
              "      <td>-0.134904</td>\n",
              "      <td>-0.250699</td>\n",
              "      <td>0.164698</td>\n",
              "      <td>-0.035022</td>\n",
              "      <td>0.250384</td>\n",
              "      <td>0.463746</td>\n",
              "      <td>-0.514230</td>\n",
              "      <td>0.200956</td>\n",
              "    </tr>\n",
              "    <tr>\n",
              "      <th>2</th>\n",
              "      <td>3</td>\n",
              "      <td>-0.088964</td>\n",
              "      <td>-0.208241</td>\n",
              "      <td>-0.151039</td>\n",
              "      <td>-0.288229</td>\n",
              "      <td>-0.425568</td>\n",
              "      <td>0.121006</td>\n",
              "      <td>-0.097883</td>\n",
              "      <td>-0.007597</td>\n",
              "      <td>0.329636</td>\n",
              "      <td>-0.222495</td>\n",
              "      <td>0.102853</td>\n",
              "      <td>0.078648</td>\n",
              "      <td>-0.175050</td>\n",
              "      <td>0.064488</td>\n",
              "      <td>-0.243920</td>\n",
              "      <td>-0.036435</td>\n",
              "      <td>-0.815732</td>\n",
              "      <td>-0.094098</td>\n",
              "      <td>-0.786828</td>\n",
              "      <td>-0.497140</td>\n",
              "      <td>-0.211386</td>\n",
              "      <td>0.249518</td>\n",
              "      <td>0.195911</td>\n",
              "      <td>-0.136115</td>\n",
              "      <td>-0.079168</td>\n",
              "      <td>0.461258</td>\n",
              "      <td>0.268629</td>\n",
              "      <td>0.075221</td>\n",
              "      <td>0.447445</td>\n",
              "      <td>-0.380212</td>\n",
              "      <td>-0.127944</td>\n",
              "      <td>-0.514944</td>\n",
              "      <td>0.204084</td>\n",
              "      <td>-0.132934</td>\n",
              "      <td>-0.717559</td>\n",
              "      <td>-0.723766</td>\n",
              "      <td>-0.009187</td>\n",
              "      <td>-0.026201</td>\n",
              "      <td>-0.428314</td>\n",
              "      <td>-0.243215</td>\n",
              "      <td>0.017108</td>\n",
              "      <td>0.199045</td>\n",
              "      <td>0.335860</td>\n",
              "      <td>-0.070557</td>\n",
              "      <td>0.296754</td>\n",
              "      <td>-0.147136</td>\n",
              "      <td>0.479280</td>\n",
              "      <td>-0.445308</td>\n",
              "      <td>0.173236</td>\n",
              "      <td>0.198668</td>\n",
              "      <td>-0.086679</td>\n",
              "      <td>-0.161494</td>\n",
              "      <td>0.043638</td>\n",
              "      <td>-0.115692</td>\n",
              "      <td>-0.020515</td>\n",
              "      <td>-0.035825</td>\n",
              "      <td>0.120870</td>\n",
              "      <td>0.474513</td>\n",
              "      <td>0.061214</td>\n",
              "      <td>-1.124604</td>\n",
              "      <td>0.085298</td>\n",
              "      <td>-0.160597</td>\n",
              "      <td>-0.223782</td>\n",
              "      <td>0.135259</td>\n",
              "      <td>-0.014990</td>\n",
              "      <td>-0.458297</td>\n",
              "      <td>-0.050852</td>\n",
              "      <td>-0.168500</td>\n",
              "      <td>0.078716</td>\n",
              "      <td>-0.032231</td>\n",
              "      <td>-0.116947</td>\n",
              "      <td>-0.199880</td>\n",
              "      <td>-0.415793</td>\n",
              "      <td>-0.032004</td>\n",
              "    </tr>\n",
              "    <tr>\n",
              "      <th>3</th>\n",
              "      <td>4</td>\n",
              "      <td>-0.327696</td>\n",
              "      <td>-1.714948</td>\n",
              "      <td>0.068710</td>\n",
              "      <td>-0.168257</td>\n",
              "      <td>-0.471577</td>\n",
              "      <td>0.279013</td>\n",
              "      <td>-0.060734</td>\n",
              "      <td>-0.222574</td>\n",
              "      <td>0.658097</td>\n",
              "      <td>0.129876</td>\n",
              "      <td>0.531540</td>\n",
              "      <td>-0.109510</td>\n",
              "      <td>-0.178851</td>\n",
              "      <td>0.007126</td>\n",
              "      <td>-0.341273</td>\n",
              "      <td>-0.601923</td>\n",
              "      <td>-0.239953</td>\n",
              "      <td>0.307493</td>\n",
              "      <td>-0.264719</td>\n",
              "      <td>-0.105008</td>\n",
              "      <td>0.587365</td>\n",
              "      <td>0.220183</td>\n",
              "      <td>-0.380904</td>\n",
              "      <td>0.073614</td>\n",
              "      <td>0.082134</td>\n",
              "      <td>0.554048</td>\n",
              "      <td>0.300248</td>\n",
              "      <td>0.479317</td>\n",
              "      <td>0.110226</td>\n",
              "      <td>0.060817</td>\n",
              "      <td>0.080991</td>\n",
              "      <td>-0.165642</td>\n",
              "      <td>-0.327310</td>\n",
              "      <td>0.542784</td>\n",
              "      <td>-0.053313</td>\n",
              "      <td>-0.447296</td>\n",
              "      <td>0.701035</td>\n",
              "      <td>0.282916</td>\n",
              "      <td>0.272387</td>\n",
              "      <td>-0.124356</td>\n",
              "      <td>-0.091246</td>\n",
              "      <td>0.121123</td>\n",
              "      <td>-0.091694</td>\n",
              "      <td>0.174790</td>\n",
              "      <td>0.327808</td>\n",
              "      <td>1.024205</td>\n",
              "      <td>0.471022</td>\n",
              "      <td>0.087155</td>\n",
              "      <td>0.398634</td>\n",
              "      <td>-0.053726</td>\n",
              "      <td>0.354639</td>\n",
              "      <td>0.034264</td>\n",
              "      <td>0.684986</td>\n",
              "      <td>0.314253</td>\n",
              "      <td>0.181046</td>\n",
              "      <td>-0.273637</td>\n",
              "      <td>0.234412</td>\n",
              "      <td>0.066505</td>\n",
              "      <td>0.104653</td>\n",
              "      <td>-0.230860</td>\n",
              "      <td>0.074711</td>\n",
              "      <td>0.066029</td>\n",
              "      <td>0.276241</td>\n",
              "      <td>-0.331959</td>\n",
              "      <td>0.153765</td>\n",
              "      <td>-0.140409</td>\n",
              "      <td>-0.119515</td>\n",
              "      <td>-0.289881</td>\n",
              "      <td>0.944493</td>\n",
              "      <td>-0.142710</td>\n",
              "      <td>-1.119866</td>\n",
              "      <td>-0.215536</td>\n",
              "      <td>0.345946</td>\n",
              "      <td>0.056442</td>\n",
              "    </tr>\n",
              "    <tr>\n",
              "      <th>4</th>\n",
              "      <td>5</td>\n",
              "      <td>-0.092327</td>\n",
              "      <td>-0.660456</td>\n",
              "      <td>0.075948</td>\n",
              "      <td>-0.646501</td>\n",
              "      <td>-0.046137</td>\n",
              "      <td>-0.010305</td>\n",
              "      <td>0.368476</td>\n",
              "      <td>-0.043832</td>\n",
              "      <td>-0.321060</td>\n",
              "      <td>0.116657</td>\n",
              "      <td>0.345860</td>\n",
              "      <td>0.282539</td>\n",
              "      <td>-0.077624</td>\n",
              "      <td>0.826049</td>\n",
              "      <td>-0.136295</td>\n",
              "      <td>-0.686548</td>\n",
              "      <td>-0.580715</td>\n",
              "      <td>0.037365</td>\n",
              "      <td>-0.106896</td>\n",
              "      <td>0.196168</td>\n",
              "      <td>0.201661</td>\n",
              "      <td>0.180436</td>\n",
              "      <td>0.052139</td>\n",
              "      <td>-0.001053</td>\n",
              "      <td>0.152552</td>\n",
              "      <td>0.365342</td>\n",
              "      <td>0.462115</td>\n",
              "      <td>-0.155553</td>\n",
              "      <td>0.239003</td>\n",
              "      <td>-0.231050</td>\n",
              "      <td>0.629987</td>\n",
              "      <td>0.020532</td>\n",
              "      <td>0.063029</td>\n",
              "      <td>-0.981387</td>\n",
              "      <td>-0.280845</td>\n",
              "      <td>-0.164185</td>\n",
              "      <td>0.846567</td>\n",
              "      <td>-0.399580</td>\n",
              "      <td>0.340091</td>\n",
              "      <td>0.044768</td>\n",
              "      <td>0.334025</td>\n",
              "      <td>0.032647</td>\n",
              "      <td>0.466371</td>\n",
              "      <td>-0.118516</td>\n",
              "      <td>0.665676</td>\n",
              "      <td>0.443797</td>\n",
              "      <td>0.474259</td>\n",
              "      <td>-0.349966</td>\n",
              "      <td>0.100411</td>\n",
              "      <td>-0.265844</td>\n",
              "      <td>-0.333114</td>\n",
              "      <td>0.914200</td>\n",
              "      <td>-0.088706</td>\n",
              "      <td>-0.457485</td>\n",
              "      <td>-0.046669</td>\n",
              "      <td>0.171069</td>\n",
              "      <td>0.127423</td>\n",
              "      <td>0.483766</td>\n",
              "      <td>0.607528</td>\n",
              "      <td>-1.412080</td>\n",
              "      <td>-0.281975</td>\n",
              "      <td>0.080899</td>\n",
              "      <td>0.855141</td>\n",
              "      <td>-0.487761</td>\n",
              "      <td>-0.033032</td>\n",
              "      <td>0.394082</td>\n",
              "      <td>0.173515</td>\n",
              "      <td>-0.194819</td>\n",
              "      <td>0.149131</td>\n",
              "      <td>-0.097285</td>\n",
              "      <td>-0.288192</td>\n",
              "      <td>-0.491920</td>\n",
              "      <td>-0.722120</td>\n",
              "      <td>0.055477</td>\n",
              "    </tr>\n",
              "    <tr>\n",
              "      <th>...</th>\n",
              "      <td>...</td>\n",
              "      <td>...</td>\n",
              "      <td>...</td>\n",
              "      <td>...</td>\n",
              "      <td>...</td>\n",
              "      <td>...</td>\n",
              "      <td>...</td>\n",
              "      <td>...</td>\n",
              "      <td>...</td>\n",
              "      <td>...</td>\n",
              "      <td>...</td>\n",
              "      <td>...</td>\n",
              "      <td>...</td>\n",
              "      <td>...</td>\n",
              "      <td>...</td>\n",
              "      <td>...</td>\n",
              "      <td>...</td>\n",
              "      <td>...</td>\n",
              "      <td>...</td>\n",
              "      <td>...</td>\n",
              "      <td>...</td>\n",
              "      <td>...</td>\n",
              "      <td>...</td>\n",
              "      <td>...</td>\n",
              "      <td>...</td>\n",
              "      <td>...</td>\n",
              "      <td>...</td>\n",
              "      <td>...</td>\n",
              "      <td>...</td>\n",
              "      <td>...</td>\n",
              "      <td>...</td>\n",
              "      <td>...</td>\n",
              "      <td>...</td>\n",
              "      <td>...</td>\n",
              "      <td>...</td>\n",
              "      <td>...</td>\n",
              "      <td>...</td>\n",
              "      <td>...</td>\n",
              "      <td>...</td>\n",
              "      <td>...</td>\n",
              "      <td>...</td>\n",
              "      <td>...</td>\n",
              "      <td>...</td>\n",
              "      <td>...</td>\n",
              "      <td>...</td>\n",
              "      <td>...</td>\n",
              "      <td>...</td>\n",
              "      <td>...</td>\n",
              "      <td>...</td>\n",
              "      <td>...</td>\n",
              "      <td>...</td>\n",
              "      <td>...</td>\n",
              "      <td>...</td>\n",
              "      <td>...</td>\n",
              "      <td>...</td>\n",
              "      <td>...</td>\n",
              "      <td>...</td>\n",
              "      <td>...</td>\n",
              "      <td>...</td>\n",
              "      <td>...</td>\n",
              "      <td>...</td>\n",
              "      <td>...</td>\n",
              "      <td>...</td>\n",
              "      <td>...</td>\n",
              "      <td>...</td>\n",
              "      <td>...</td>\n",
              "      <td>...</td>\n",
              "      <td>...</td>\n",
              "      <td>...</td>\n",
              "      <td>...</td>\n",
              "      <td>...</td>\n",
              "      <td>...</td>\n",
              "      <td>...</td>\n",
              "      <td>...</td>\n",
              "      <td>...</td>\n",
              "    </tr>\n",
              "    <tr>\n",
              "      <th>4219</th>\n",
              "      <td>4220</td>\n",
              "      <td>-0.314408</td>\n",
              "      <td>0.131512</td>\n",
              "      <td>-0.049018</td>\n",
              "      <td>-0.674385</td>\n",
              "      <td>-0.289890</td>\n",
              "      <td>0.258422</td>\n",
              "      <td>-0.120400</td>\n",
              "      <td>-0.060359</td>\n",
              "      <td>0.706799</td>\n",
              "      <td>-0.326422</td>\n",
              "      <td>-0.380340</td>\n",
              "      <td>-0.368913</td>\n",
              "      <td>0.931502</td>\n",
              "      <td>-1.016158</td>\n",
              "      <td>-0.981808</td>\n",
              "      <td>-0.071584</td>\n",
              "      <td>-0.573209</td>\n",
              "      <td>-0.028650</td>\n",
              "      <td>-0.317049</td>\n",
              "      <td>0.418632</td>\n",
              "      <td>-0.233472</td>\n",
              "      <td>-0.538409</td>\n",
              "      <td>0.363460</td>\n",
              "      <td>-0.384606</td>\n",
              "      <td>-0.167610</td>\n",
              "      <td>-0.293465</td>\n",
              "      <td>-0.286218</td>\n",
              "      <td>-0.446162</td>\n",
              "      <td>0.248994</td>\n",
              "      <td>-0.438437</td>\n",
              "      <td>-0.467668</td>\n",
              "      <td>-0.041652</td>\n",
              "      <td>-0.026247</td>\n",
              "      <td>0.081154</td>\n",
              "      <td>0.435343</td>\n",
              "      <td>1.033418</td>\n",
              "      <td>-0.559874</td>\n",
              "      <td>-0.171956</td>\n",
              "      <td>-0.242801</td>\n",
              "      <td>0.544847</td>\n",
              "      <td>-0.148543</td>\n",
              "      <td>-0.878409</td>\n",
              "      <td>-0.258485</td>\n",
              "      <td>-0.033555</td>\n",
              "      <td>0.084417</td>\n",
              "      <td>-0.388476</td>\n",
              "      <td>0.142540</td>\n",
              "      <td>-0.620232</td>\n",
              "      <td>-0.558445</td>\n",
              "      <td>0.194727</td>\n",
              "      <td>-0.473436</td>\n",
              "      <td>-0.166349</td>\n",
              "      <td>-0.053835</td>\n",
              "      <td>-0.395323</td>\n",
              "      <td>-0.442651</td>\n",
              "      <td>-0.256167</td>\n",
              "      <td>-0.368252</td>\n",
              "      <td>-0.071705</td>\n",
              "      <td>-0.877797</td>\n",
              "      <td>-0.318022</td>\n",
              "      <td>0.382826</td>\n",
              "      <td>-0.458879</td>\n",
              "      <td>0.839517</td>\n",
              "      <td>0.009461</td>\n",
              "      <td>0.379001</td>\n",
              "      <td>0.009101</td>\n",
              "      <td>-0.182293</td>\n",
              "      <td>-0.270911</td>\n",
              "      <td>-0.434925</td>\n",
              "      <td>-0.031925</td>\n",
              "      <td>1.402160</td>\n",
              "      <td>0.502573</td>\n",
              "      <td>-0.061042</td>\n",
              "      <td>-0.206210</td>\n",
              "    </tr>\n",
              "    <tr>\n",
              "      <th>4220</th>\n",
              "      <td>4221</td>\n",
              "      <td>-0.313823</td>\n",
              "      <td>-0.041095</td>\n",
              "      <td>-0.049798</td>\n",
              "      <td>-0.492502</td>\n",
              "      <td>-0.223146</td>\n",
              "      <td>0.172682</td>\n",
              "      <td>-0.164426</td>\n",
              "      <td>0.033539</td>\n",
              "      <td>0.420965</td>\n",
              "      <td>-0.180468</td>\n",
              "      <td>-0.112523</td>\n",
              "      <td>-0.381056</td>\n",
              "      <td>0.760173</td>\n",
              "      <td>-0.024906</td>\n",
              "      <td>-0.688677</td>\n",
              "      <td>-0.515357</td>\n",
              "      <td>-0.700269</td>\n",
              "      <td>-0.034427</td>\n",
              "      <td>-0.225767</td>\n",
              "      <td>0.202414</td>\n",
              "      <td>-0.208466</td>\n",
              "      <td>-0.000793</td>\n",
              "      <td>-0.064705</td>\n",
              "      <td>-0.307689</td>\n",
              "      <td>-0.306335</td>\n",
              "      <td>-0.391340</td>\n",
              "      <td>-0.462373</td>\n",
              "      <td>-0.276149</td>\n",
              "      <td>0.148468</td>\n",
              "      <td>-0.319296</td>\n",
              "      <td>-0.216960</td>\n",
              "      <td>0.114363</td>\n",
              "      <td>-0.026937</td>\n",
              "      <td>0.070962</td>\n",
              "      <td>0.236805</td>\n",
              "      <td>0.822351</td>\n",
              "      <td>-0.311090</td>\n",
              "      <td>0.007215</td>\n",
              "      <td>-0.364885</td>\n",
              "      <td>0.017317</td>\n",
              "      <td>-0.170069</td>\n",
              "      <td>-0.552263</td>\n",
              "      <td>-0.067118</td>\n",
              "      <td>0.049405</td>\n",
              "      <td>-0.378010</td>\n",
              "      <td>-0.301733</td>\n",
              "      <td>-0.174748</td>\n",
              "      <td>-0.189049</td>\n",
              "      <td>-0.483741</td>\n",
              "      <td>0.060192</td>\n",
              "      <td>-0.379339</td>\n",
              "      <td>-0.380877</td>\n",
              "      <td>-0.364083</td>\n",
              "      <td>-0.280015</td>\n",
              "      <td>-0.408077</td>\n",
              "      <td>-0.047049</td>\n",
              "      <td>-0.297752</td>\n",
              "      <td>-0.124044</td>\n",
              "      <td>-0.513821</td>\n",
              "      <td>0.164431</td>\n",
              "      <td>0.399220</td>\n",
              "      <td>-0.233568</td>\n",
              "      <td>0.386740</td>\n",
              "      <td>-0.193878</td>\n",
              "      <td>0.086748</td>\n",
              "      <td>0.198886</td>\n",
              "      <td>-0.167620</td>\n",
              "      <td>-0.336774</td>\n",
              "      <td>0.022460</td>\n",
              "      <td>-0.211773</td>\n",
              "      <td>0.379261</td>\n",
              "      <td>0.465487</td>\n",
              "      <td>0.024584</td>\n",
              "      <td>-0.264364</td>\n",
              "    </tr>\n",
              "    <tr>\n",
              "      <th>4221</th>\n",
              "      <td>4222</td>\n",
              "      <td>-0.091283</td>\n",
              "      <td>0.118607</td>\n",
              "      <td>-0.088939</td>\n",
              "      <td>-0.349571</td>\n",
              "      <td>-0.107676</td>\n",
              "      <td>0.019609</td>\n",
              "      <td>0.187555</td>\n",
              "      <td>0.214635</td>\n",
              "      <td>0.210662</td>\n",
              "      <td>-0.127357</td>\n",
              "      <td>-0.196010</td>\n",
              "      <td>-0.133918</td>\n",
              "      <td>0.446257</td>\n",
              "      <td>-0.746587</td>\n",
              "      <td>-0.373279</td>\n",
              "      <td>-0.501373</td>\n",
              "      <td>-0.453616</td>\n",
              "      <td>-0.028647</td>\n",
              "      <td>-0.234942</td>\n",
              "      <td>0.384661</td>\n",
              "      <td>-0.160134</td>\n",
              "      <td>-0.406659</td>\n",
              "      <td>0.332019</td>\n",
              "      <td>-0.263115</td>\n",
              "      <td>-0.226419</td>\n",
              "      <td>-0.456709</td>\n",
              "      <td>-0.386107</td>\n",
              "      <td>-0.391195</td>\n",
              "      <td>0.228513</td>\n",
              "      <td>-0.122463</td>\n",
              "      <td>0.001813</td>\n",
              "      <td>-0.068646</td>\n",
              "      <td>0.237453</td>\n",
              "      <td>0.212506</td>\n",
              "      <td>0.184103</td>\n",
              "      <td>0.693763</td>\n",
              "      <td>-0.326855</td>\n",
              "      <td>-0.085937</td>\n",
              "      <td>-0.106242</td>\n",
              "      <td>0.445965</td>\n",
              "      <td>-0.258799</td>\n",
              "      <td>-0.638077</td>\n",
              "      <td>0.027586</td>\n",
              "      <td>-0.003253</td>\n",
              "      <td>-0.437091</td>\n",
              "      <td>-0.134138</td>\n",
              "      <td>-0.408940</td>\n",
              "      <td>-0.056419</td>\n",
              "      <td>-0.482028</td>\n",
              "      <td>0.053306</td>\n",
              "      <td>0.213466</td>\n",
              "      <td>-0.421267</td>\n",
              "      <td>-0.549088</td>\n",
              "      <td>-0.131867</td>\n",
              "      <td>-0.376579</td>\n",
              "      <td>-0.136941</td>\n",
              "      <td>-0.367394</td>\n",
              "      <td>-0.190085</td>\n",
              "      <td>-0.470627</td>\n",
              "      <td>0.158837</td>\n",
              "      <td>-0.036453</td>\n",
              "      <td>-0.178309</td>\n",
              "      <td>0.267042</td>\n",
              "      <td>-0.068743</td>\n",
              "      <td>-0.121660</td>\n",
              "      <td>0.004138</td>\n",
              "      <td>-0.170726</td>\n",
              "      <td>-0.129437</td>\n",
              "      <td>-0.379607</td>\n",
              "      <td>0.007242</td>\n",
              "      <td>0.258818</td>\n",
              "      <td>0.284263</td>\n",
              "      <td>-0.008146</td>\n",
              "      <td>-0.047151</td>\n",
              "    </tr>\n",
              "    <tr>\n",
              "      <th>4222</th>\n",
              "      <td>4223</td>\n",
              "      <td>-0.552395</td>\n",
              "      <td>0.125635</td>\n",
              "      <td>-0.290230</td>\n",
              "      <td>-1.283253</td>\n",
              "      <td>-0.870161</td>\n",
              "      <td>-0.131500</td>\n",
              "      <td>0.100046</td>\n",
              "      <td>0.153907</td>\n",
              "      <td>0.582813</td>\n",
              "      <td>-0.273445</td>\n",
              "      <td>-0.446420</td>\n",
              "      <td>-0.341193</td>\n",
              "      <td>1.198299</td>\n",
              "      <td>0.256956</td>\n",
              "      <td>-1.204520</td>\n",
              "      <td>-1.187444</td>\n",
              "      <td>-1.019585</td>\n",
              "      <td>-0.218660</td>\n",
              "      <td>-0.413780</td>\n",
              "      <td>0.470932</td>\n",
              "      <td>-0.538475</td>\n",
              "      <td>-0.136956</td>\n",
              "      <td>-0.193293</td>\n",
              "      <td>-0.400383</td>\n",
              "      <td>-0.200328</td>\n",
              "      <td>-1.046858</td>\n",
              "      <td>-0.676723</td>\n",
              "      <td>-0.987671</td>\n",
              "      <td>0.563457</td>\n",
              "      <td>-0.548281</td>\n",
              "      <td>-0.351891</td>\n",
              "      <td>0.376659</td>\n",
              "      <td>0.222021</td>\n",
              "      <td>0.813280</td>\n",
              "      <td>0.445997</td>\n",
              "      <td>0.992285</td>\n",
              "      <td>-0.060445</td>\n",
              "      <td>-0.578776</td>\n",
              "      <td>-0.585633</td>\n",
              "      <td>1.095909</td>\n",
              "      <td>-0.081006</td>\n",
              "      <td>-0.794722</td>\n",
              "      <td>-0.676367</td>\n",
              "      <td>0.030247</td>\n",
              "      <td>-0.934165</td>\n",
              "      <td>-0.303468</td>\n",
              "      <td>-0.438181</td>\n",
              "      <td>-0.899226</td>\n",
              "      <td>-1.171749</td>\n",
              "      <td>0.257955</td>\n",
              "      <td>-0.976232</td>\n",
              "      <td>-0.486454</td>\n",
              "      <td>-1.533690</td>\n",
              "      <td>-1.242225</td>\n",
              "      <td>-0.585276</td>\n",
              "      <td>-0.596360</td>\n",
              "      <td>-0.521621</td>\n",
              "      <td>-0.256307</td>\n",
              "      <td>-1.056732</td>\n",
              "      <td>-1.427646</td>\n",
              "      <td>-0.100897</td>\n",
              "      <td>-0.341675</td>\n",
              "      <td>1.191507</td>\n",
              "      <td>-0.406165</td>\n",
              "      <td>0.219980</td>\n",
              "      <td>-0.503742</td>\n",
              "      <td>-0.727327</td>\n",
              "      <td>-0.477732</td>\n",
              "      <td>-0.523019</td>\n",
              "      <td>-0.382573</td>\n",
              "      <td>0.830773</td>\n",
              "      <td>0.246017</td>\n",
              "      <td>-0.002329</td>\n",
              "      <td>0.100187</td>\n",
              "    </tr>\n",
              "    <tr>\n",
              "      <th>4223</th>\n",
              "      <td>4224</td>\n",
              "      <td>-0.907778</td>\n",
              "      <td>-0.052512</td>\n",
              "      <td>-0.216276</td>\n",
              "      <td>-1.484158</td>\n",
              "      <td>-0.719684</td>\n",
              "      <td>-0.386958</td>\n",
              "      <td>-0.123006</td>\n",
              "      <td>-0.313543</td>\n",
              "      <td>0.271196</td>\n",
              "      <td>-0.370716</td>\n",
              "      <td>-0.196010</td>\n",
              "      <td>-0.562057</td>\n",
              "      <td>0.439176</td>\n",
              "      <td>-1.602497</td>\n",
              "      <td>-0.939401</td>\n",
              "      <td>-1.241908</td>\n",
              "      <td>-0.763296</td>\n",
              "      <td>-0.171153</td>\n",
              "      <td>-0.666305</td>\n",
              "      <td>-0.122456</td>\n",
              "      <td>-0.551759</td>\n",
              "      <td>-0.815865</td>\n",
              "      <td>-0.422968</td>\n",
              "      <td>-0.248627</td>\n",
              "      <td>-0.770591</td>\n",
              "      <td>-0.968880</td>\n",
              "      <td>-0.625795</td>\n",
              "      <td>-1.026073</td>\n",
              "      <td>0.094802</td>\n",
              "      <td>-0.253006</td>\n",
              "      <td>-0.220891</td>\n",
              "      <td>-0.147759</td>\n",
              "      <td>-0.821205</td>\n",
              "      <td>-0.045769</td>\n",
              "      <td>0.236823</td>\n",
              "      <td>0.446221</td>\n",
              "      <td>-0.350246</td>\n",
              "      <td>-0.452106</td>\n",
              "      <td>-0.469142</td>\n",
              "      <td>0.277810</td>\n",
              "      <td>-0.520033</td>\n",
              "      <td>-0.969650</td>\n",
              "      <td>-0.821341</td>\n",
              "      <td>-0.446220</td>\n",
              "      <td>-0.639821</td>\n",
              "      <td>-0.441566</td>\n",
              "      <td>-0.368879</td>\n",
              "      <td>0.434480</td>\n",
              "      <td>-0.504499</td>\n",
              "      <td>-0.068672</td>\n",
              "      <td>-1.244643</td>\n",
              "      <td>-0.511727</td>\n",
              "      <td>-1.266254</td>\n",
              "      <td>-1.109480</td>\n",
              "      <td>-0.632169</td>\n",
              "      <td>-0.691368</td>\n",
              "      <td>-0.353440</td>\n",
              "      <td>-0.654186</td>\n",
              "      <td>-0.460559</td>\n",
              "      <td>-1.269980</td>\n",
              "      <td>0.037844</td>\n",
              "      <td>-0.134426</td>\n",
              "      <td>-0.267151</td>\n",
              "      <td>-0.653704</td>\n",
              "      <td>-0.601880</td>\n",
              "      <td>-0.472821</td>\n",
              "      <td>-0.446067</td>\n",
              "      <td>-0.528082</td>\n",
              "      <td>-0.126050</td>\n",
              "      <td>-0.546075</td>\n",
              "      <td>0.043611</td>\n",
              "      <td>-0.179660</td>\n",
              "      <td>-0.712337</td>\n",
              "      <td>-0.193261</td>\n",
              "    </tr>\n",
              "  </tbody>\n",
              "</table>\n",
              "<p>4224 rows × 75 columns</p>\n",
              "</div>"
            ],
            "text/plain": [
              "      Unnamed: 0         1         2  ...        85        86        87\n",
              "0              1 -0.146342 -0.520637  ...  0.550118  0.118934  0.327248\n",
              "1              2 -0.465767  0.155823  ...  0.463746 -0.514230  0.200956\n",
              "2              3 -0.088964 -0.208241  ... -0.199880 -0.415793 -0.032004\n",
              "3              4 -0.327696 -1.714948  ... -0.215536  0.345946  0.056442\n",
              "4              5 -0.092327 -0.660456  ... -0.491920 -0.722120  0.055477\n",
              "...          ...       ...       ...  ...       ...       ...       ...\n",
              "4219        4220 -0.314408  0.131512  ...  0.502573 -0.061042 -0.206210\n",
              "4220        4221 -0.313823 -0.041095  ...  0.465487  0.024584 -0.264364\n",
              "4221        4222 -0.091283  0.118607  ...  0.284263 -0.008146 -0.047151\n",
              "4222        4223 -0.552395  0.125635  ...  0.246017 -0.002329  0.100187\n",
              "4223        4224 -0.907778 -0.052512  ... -0.179660 -0.712337 -0.193261\n",
              "\n",
              "[4224 rows x 75 columns]"
            ]
          },
          "metadata": {},
          "execution_count": 51
        }
      ]
    },
    {
      "cell_type": "markdown",
      "metadata": {
        "id": "oISJL1JMehxo"
      },
      "source": [
        "#### Importing from your computer (on Jupyter Notebook)"
      ]
    },
    {
      "cell_type": "code",
      "metadata": {
        "id": "ylPbR--TPD9k"
      },
      "source": [
        "# on Jupyter Lab on your computer, you would add the path of the file\n",
        "# for instance (in MacOsX )\n",
        "\n",
        "genes = pd.read_csv('/Users/elisa/kidpackgenes.csv' )\n",
        "\n",
        "# for instance (in Windows)\n",
        "\n",
        "genes = pd.read_csv('C:\\Documents\\kidpackgenes.csv' )\n"
      ],
      "execution_count": null,
      "outputs": []
    },
    {
      "cell_type": "markdown",
      "metadata": {
        "id": "7y3uMN6qq-ef"
      },
      "source": [
        "## Get info about your DataFrame"
      ]
    },
    {
      "cell_type": "markdown",
      "metadata": {
        "id": "ptHRdK6ieyI9"
      },
      "source": [
        "#### Show parts of the DataFrame"
      ]
    },
    {
      "cell_type": "code",
      "metadata": {
        "id": "rVDgozvodTt5",
        "colab": {
          "base_uri": "https://localhost:8080/",
          "height": 223
        },
        "outputId": "96b3fe0e-1ba8-43a5-9b31-fb130e14b05d"
      },
      "source": [
        "SNPs.head() #shows you the first n rows of the DataFrame"
      ],
      "execution_count": null,
      "outputs": [
        {
          "output_type": "execute_result",
          "data": {
            "text/html": [
              "<div>\n",
              "<style scoped>\n",
              "    .dataframe tbody tr th:only-of-type {\n",
              "        vertical-align: middle;\n",
              "    }\n",
              "\n",
              "    .dataframe tbody tr th {\n",
              "        vertical-align: top;\n",
              "    }\n",
              "\n",
              "    .dataframe thead th {\n",
              "        text-align: right;\n",
              "    }\n",
              "</style>\n",
              "<table border=\"1\" class=\"dataframe\">\n",
              "  <thead>\n",
              "    <tr style=\"text-align: right;\">\n",
              "      <th></th>\n",
              "      <th>Unnamed: 0</th>\n",
              "      <th>Variant name</th>\n",
              "      <th>Variant consequence</th>\n",
              "      <th>Protein allele</th>\n",
              "      <th>Transcript stable ID</th>\n",
              "      <th>PolyPhen score</th>\n",
              "      <th>PolyPhen prediction</th>\n",
              "      <th>SIFT score</th>\n",
              "      <th>SIFT prediction</th>\n",
              "      <th>Chromosome/scaffold name</th>\n",
              "      <th>Chromosome/scaffold position start (bp)</th>\n",
              "      <th>Chromosome/scaffold position end (bp)</th>\n",
              "    </tr>\n",
              "  </thead>\n",
              "  <tbody>\n",
              "    <tr>\n",
              "      <th>0</th>\n",
              "      <td>0</td>\n",
              "      <td>rs7492</td>\n",
              "      <td>3_prime_UTR_variant</td>\n",
              "      <td>NaN</td>\n",
              "      <td>ENST00000246006</td>\n",
              "      <td>NaN</td>\n",
              "      <td>NaN</td>\n",
              "      <td>NaN</td>\n",
              "      <td>NaN</td>\n",
              "      <td>20</td>\n",
              "      <td>23079620</td>\n",
              "      <td>23079620</td>\n",
              "    </tr>\n",
              "    <tr>\n",
              "      <th>1</th>\n",
              "      <td>1</td>\n",
              "      <td>rs2567612</td>\n",
              "      <td>3_prime_UTR_variant</td>\n",
              "      <td>NaN</td>\n",
              "      <td>ENST00000246006</td>\n",
              "      <td>NaN</td>\n",
              "      <td>NaN</td>\n",
              "      <td>NaN</td>\n",
              "      <td>NaN</td>\n",
              "      <td>20</td>\n",
              "      <td>23082535</td>\n",
              "      <td>23082535</td>\n",
              "    </tr>\n",
              "    <tr>\n",
              "      <th>2</th>\n",
              "      <td>2</td>\n",
              "      <td>rs2749811</td>\n",
              "      <td>3_prime_UTR_variant</td>\n",
              "      <td>NaN</td>\n",
              "      <td>ENST00000246006</td>\n",
              "      <td>NaN</td>\n",
              "      <td>NaN</td>\n",
              "      <td>NaN</td>\n",
              "      <td>NaN</td>\n",
              "      <td>20</td>\n",
              "      <td>23079544</td>\n",
              "      <td>23079544</td>\n",
              "    </tr>\n",
              "    <tr>\n",
              "      <th>3</th>\n",
              "      <td>3</td>\n",
              "      <td>rs2749812</td>\n",
              "      <td>3_prime_UTR_variant</td>\n",
              "      <td>NaN</td>\n",
              "      <td>ENST00000246006</td>\n",
              "      <td>NaN</td>\n",
              "      <td>NaN</td>\n",
              "      <td>NaN</td>\n",
              "      <td>NaN</td>\n",
              "      <td>20</td>\n",
              "      <td>23082290</td>\n",
              "      <td>23082290</td>\n",
              "    </tr>\n",
              "    <tr>\n",
              "      <th>4</th>\n",
              "      <td>4</td>\n",
              "      <td>rs2749813</td>\n",
              "      <td>3_prime_UTR_variant</td>\n",
              "      <td>NaN</td>\n",
              "      <td>ENST00000246006</td>\n",
              "      <td>NaN</td>\n",
              "      <td>NaN</td>\n",
              "      <td>NaN</td>\n",
              "      <td>NaN</td>\n",
              "      <td>20</td>\n",
              "      <td>23082347</td>\n",
              "      <td>23082347</td>\n",
              "    </tr>\n",
              "  </tbody>\n",
              "</table>\n",
              "</div>"
            ],
            "text/plain": [
              "   Unnamed: 0  ... Chromosome/scaffold position end (bp)\n",
              "0           0  ...                              23079620\n",
              "1           1  ...                              23082535\n",
              "2           2  ...                              23079544\n",
              "3           3  ...                              23082290\n",
              "4           4  ...                              23082347\n",
              "\n",
              "[5 rows x 12 columns]"
            ]
          },
          "metadata": {},
          "execution_count": 54
        }
      ]
    },
    {
      "cell_type": "code",
      "metadata": {
        "id": "rv5y8i9ldZkp",
        "colab": {
          "base_uri": "https://localhost:8080/",
          "height": 240
        },
        "outputId": "7f5638a2-4732-43de-f21a-c0b8663b4eb1"
      },
      "source": [
        "SNPs.tail() # shows the end of the DataFrame"
      ],
      "execution_count": null,
      "outputs": [
        {
          "output_type": "execute_result",
          "data": {
            "text/html": [
              "<div>\n",
              "<style scoped>\n",
              "    .dataframe tbody tr th:only-of-type {\n",
              "        vertical-align: middle;\n",
              "    }\n",
              "\n",
              "    .dataframe tbody tr th {\n",
              "        vertical-align: top;\n",
              "    }\n",
              "\n",
              "    .dataframe thead th {\n",
              "        text-align: right;\n",
              "    }\n",
              "</style>\n",
              "<table border=\"1\" class=\"dataframe\">\n",
              "  <thead>\n",
              "    <tr style=\"text-align: right;\">\n",
              "      <th></th>\n",
              "      <th>Unnamed: 0</th>\n",
              "      <th>Variant name</th>\n",
              "      <th>Variant consequence</th>\n",
              "      <th>Protein allele</th>\n",
              "      <th>Transcript stable ID</th>\n",
              "      <th>PolyPhen score</th>\n",
              "      <th>PolyPhen prediction</th>\n",
              "      <th>SIFT score</th>\n",
              "      <th>SIFT prediction</th>\n",
              "      <th>Chromosome/scaffold name</th>\n",
              "      <th>Chromosome/scaffold position start (bp)</th>\n",
              "      <th>Chromosome/scaffold position end (bp)</th>\n",
              "    </tr>\n",
              "  </thead>\n",
              "  <tbody>\n",
              "    <tr>\n",
              "      <th>2306</th>\n",
              "      <td>2306</td>\n",
              "      <td>rs1600423846</td>\n",
              "      <td>synonymous_variant</td>\n",
              "      <td>P</td>\n",
              "      <td>ENST00000246006</td>\n",
              "      <td>NaN</td>\n",
              "      <td>NaN</td>\n",
              "      <td>NaN</td>\n",
              "      <td>NaN</td>\n",
              "      <td>20</td>\n",
              "      <td>23085689</td>\n",
              "      <td>23085689</td>\n",
              "    </tr>\n",
              "    <tr>\n",
              "      <th>2307</th>\n",
              "      <td>2307</td>\n",
              "      <td>rs1600424016</td>\n",
              "      <td>missense_variant</td>\n",
              "      <td>W/S</td>\n",
              "      <td>ENST00000246006</td>\n",
              "      <td>1.00</td>\n",
              "      <td>probably damaging</td>\n",
              "      <td>0.00</td>\n",
              "      <td>deleterious</td>\n",
              "      <td>20</td>\n",
              "      <td>23085810</td>\n",
              "      <td>23085810</td>\n",
              "    </tr>\n",
              "    <tr>\n",
              "      <th>2308</th>\n",
              "      <td>2308</td>\n",
              "      <td>rs1600424406</td>\n",
              "      <td>missense_variant</td>\n",
              "      <td>T/P</td>\n",
              "      <td>ENST00000246006</td>\n",
              "      <td>0.36</td>\n",
              "      <td>benign</td>\n",
              "      <td>0.07</td>\n",
              "      <td>tolerated</td>\n",
              "      <td>20</td>\n",
              "      <td>23086186</td>\n",
              "      <td>23086186</td>\n",
              "    </tr>\n",
              "    <tr>\n",
              "      <th>2309</th>\n",
              "      <td>2309</td>\n",
              "      <td>rs1600424446</td>\n",
              "      <td>5_prime_UTR_variant</td>\n",
              "      <td>NaN</td>\n",
              "      <td>ENST00000246006</td>\n",
              "      <td>NaN</td>\n",
              "      <td>NaN</td>\n",
              "      <td>NaN</td>\n",
              "      <td>NaN</td>\n",
              "      <td>20</td>\n",
              "      <td>23086256</td>\n",
              "      <td>23086256</td>\n",
              "    </tr>\n",
              "    <tr>\n",
              "      <th>2310</th>\n",
              "      <td>2310</td>\n",
              "      <td>rs1600424486</td>\n",
              "      <td>5_prime_UTR_variant</td>\n",
              "      <td>NaN</td>\n",
              "      <td>ENST00000246006</td>\n",
              "      <td>NaN</td>\n",
              "      <td>NaN</td>\n",
              "      <td>NaN</td>\n",
              "      <td>NaN</td>\n",
              "      <td>20</td>\n",
              "      <td>23086310</td>\n",
              "      <td>23086310</td>\n",
              "    </tr>\n",
              "  </tbody>\n",
              "</table>\n",
              "</div>"
            ],
            "text/plain": [
              "      Unnamed: 0  ... Chromosome/scaffold position end (bp)\n",
              "2306        2306  ...                              23085689\n",
              "2307        2307  ...                              23085810\n",
              "2308        2308  ...                              23086186\n",
              "2309        2309  ...                              23086256\n",
              "2310        2310  ...                              23086310\n",
              "\n",
              "[5 rows x 12 columns]"
            ]
          },
          "metadata": {},
          "execution_count": 55
        }
      ]
    },
    {
      "cell_type": "code",
      "metadata": {
        "id": "8J4s_ObiddRF",
        "colab": {
          "base_uri": "https://localhost:8080/",
          "height": 379
        },
        "outputId": "b815ccbf-3478-4efd-ba6d-80176793d3c4"
      },
      "source": [
        "SNPs.sample(10) # shows random rows of the DataFrame"
      ],
      "execution_count": null,
      "outputs": [
        {
          "output_type": "execute_result",
          "data": {
            "text/html": [
              "<div>\n",
              "<style scoped>\n",
              "    .dataframe tbody tr th:only-of-type {\n",
              "        vertical-align: middle;\n",
              "    }\n",
              "\n",
              "    .dataframe tbody tr th {\n",
              "        vertical-align: top;\n",
              "    }\n",
              "\n",
              "    .dataframe thead th {\n",
              "        text-align: right;\n",
              "    }\n",
              "</style>\n",
              "<table border=\"1\" class=\"dataframe\">\n",
              "  <thead>\n",
              "    <tr style=\"text-align: right;\">\n",
              "      <th></th>\n",
              "      <th>Unnamed: 0</th>\n",
              "      <th>Variant name</th>\n",
              "      <th>Variant consequence</th>\n",
              "      <th>Protein allele</th>\n",
              "      <th>Transcript stable ID</th>\n",
              "      <th>PolyPhen score</th>\n",
              "      <th>PolyPhen prediction</th>\n",
              "      <th>SIFT score</th>\n",
              "      <th>SIFT prediction</th>\n",
              "      <th>Chromosome/scaffold name</th>\n",
              "      <th>Chromosome/scaffold position start (bp)</th>\n",
              "      <th>Chromosome/scaffold position end (bp)</th>\n",
              "    </tr>\n",
              "  </thead>\n",
              "  <tbody>\n",
              "    <tr>\n",
              "      <th>1672</th>\n",
              "      <td>1672</td>\n",
              "      <td>rs1285176355</td>\n",
              "      <td>3_prime_UTR_variant</td>\n",
              "      <td>NaN</td>\n",
              "      <td>ENST00000246006</td>\n",
              "      <td>NaN</td>\n",
              "      <td>NaN</td>\n",
              "      <td>NaN</td>\n",
              "      <td>NaN</td>\n",
              "      <td>20</td>\n",
              "      <td>23083830</td>\n",
              "      <td>23083830</td>\n",
              "    </tr>\n",
              "    <tr>\n",
              "      <th>1011</th>\n",
              "      <td>1011</td>\n",
              "      <td>rs923644798</td>\n",
              "      <td>3_prime_UTR_variant</td>\n",
              "      <td>NaN</td>\n",
              "      <td>ENST00000246006</td>\n",
              "      <td>NaN</td>\n",
              "      <td>NaN</td>\n",
              "      <td>NaN</td>\n",
              "      <td>NaN</td>\n",
              "      <td>20</td>\n",
              "      <td>23082542</td>\n",
              "      <td>23082542</td>\n",
              "    </tr>\n",
              "    <tr>\n",
              "      <th>1646</th>\n",
              "      <td>1646</td>\n",
              "      <td>rs1278639485</td>\n",
              "      <td>3_prime_UTR_variant</td>\n",
              "      <td>NaN</td>\n",
              "      <td>ENST00000246006</td>\n",
              "      <td>NaN</td>\n",
              "      <td>NaN</td>\n",
              "      <td>NaN</td>\n",
              "      <td>NaN</td>\n",
              "      <td>20</td>\n",
              "      <td>23081942</td>\n",
              "      <td>23081942</td>\n",
              "    </tr>\n",
              "    <tr>\n",
              "      <th>2022</th>\n",
              "      <td>2022</td>\n",
              "      <td>rs1419621893</td>\n",
              "      <td>3_prime_UTR_variant</td>\n",
              "      <td>NaN</td>\n",
              "      <td>ENST00000246006</td>\n",
              "      <td>NaN</td>\n",
              "      <td>NaN</td>\n",
              "      <td>NaN</td>\n",
              "      <td>NaN</td>\n",
              "      <td>20</td>\n",
              "      <td>23080864</td>\n",
              "      <td>23080864</td>\n",
              "    </tr>\n",
              "    <tr>\n",
              "      <th>803</th>\n",
              "      <td>803</td>\n",
              "      <td>rs778302619</td>\n",
              "      <td>3_prime_UTR_variant</td>\n",
              "      <td>NaN</td>\n",
              "      <td>ENST00000246006</td>\n",
              "      <td>NaN</td>\n",
              "      <td>NaN</td>\n",
              "      <td>NaN</td>\n",
              "      <td>NaN</td>\n",
              "      <td>20</td>\n",
              "      <td>23080350</td>\n",
              "      <td>23080350</td>\n",
              "    </tr>\n",
              "    <tr>\n",
              "      <th>67</th>\n",
              "      <td>67</td>\n",
              "      <td>rs35274438</td>\n",
              "      <td>frameshift_variant</td>\n",
              "      <td>V/VX</td>\n",
              "      <td>ENST00000246006</td>\n",
              "      <td>NaN</td>\n",
              "      <td>NaN</td>\n",
              "      <td>NaN</td>\n",
              "      <td>NaN</td>\n",
              "      <td>20</td>\n",
              "      <td>23084799</td>\n",
              "      <td>23084798</td>\n",
              "    </tr>\n",
              "    <tr>\n",
              "      <th>544</th>\n",
              "      <td>544</td>\n",
              "      <td>rs750669404</td>\n",
              "      <td>3_prime_UTR_variant</td>\n",
              "      <td>NaN</td>\n",
              "      <td>ENST00000246006</td>\n",
              "      <td>NaN</td>\n",
              "      <td>NaN</td>\n",
              "      <td>NaN</td>\n",
              "      <td>NaN</td>\n",
              "      <td>20</td>\n",
              "      <td>23083918</td>\n",
              "      <td>23083918</td>\n",
              "    </tr>\n",
              "    <tr>\n",
              "      <th>1231</th>\n",
              "      <td>1231</td>\n",
              "      <td>rs1017940158</td>\n",
              "      <td>3_prime_UTR_variant</td>\n",
              "      <td>NaN</td>\n",
              "      <td>ENST00000246006</td>\n",
              "      <td>NaN</td>\n",
              "      <td>NaN</td>\n",
              "      <td>NaN</td>\n",
              "      <td>NaN</td>\n",
              "      <td>20</td>\n",
              "      <td>23082509</td>\n",
              "      <td>23082509</td>\n",
              "    </tr>\n",
              "    <tr>\n",
              "      <th>1345</th>\n",
              "      <td>1345</td>\n",
              "      <td>rs1164770317</td>\n",
              "      <td>3_prime_UTR_variant</td>\n",
              "      <td>NaN</td>\n",
              "      <td>ENST00000246006</td>\n",
              "      <td>NaN</td>\n",
              "      <td>NaN</td>\n",
              "      <td>NaN</td>\n",
              "      <td>NaN</td>\n",
              "      <td>20</td>\n",
              "      <td>23082164</td>\n",
              "      <td>23082167</td>\n",
              "    </tr>\n",
              "    <tr>\n",
              "      <th>2265</th>\n",
              "      <td>2265</td>\n",
              "      <td>rs1600421063</td>\n",
              "      <td>3_prime_UTR_variant</td>\n",
              "      <td>NaN</td>\n",
              "      <td>ENST00000246006</td>\n",
              "      <td>NaN</td>\n",
              "      <td>NaN</td>\n",
              "      <td>NaN</td>\n",
              "      <td>NaN</td>\n",
              "      <td>20</td>\n",
              "      <td>23081299</td>\n",
              "      <td>23081299</td>\n",
              "    </tr>\n",
              "  </tbody>\n",
              "</table>\n",
              "</div>"
            ],
            "text/plain": [
              "      Unnamed: 0  ... Chromosome/scaffold position end (bp)\n",
              "1672        1672  ...                              23083830\n",
              "1011        1011  ...                              23082542\n",
              "1646        1646  ...                              23081942\n",
              "2022        2022  ...                              23080864\n",
              "803          803  ...                              23080350\n",
              "67            67  ...                              23084798\n",
              "544          544  ...                              23083918\n",
              "1231        1231  ...                              23082509\n",
              "1345        1345  ...                              23082167\n",
              "2265        2265  ...                              23081299\n",
              "\n",
              "[10 rows x 12 columns]"
            ]
          },
          "metadata": {},
          "execution_count": 56
        }
      ]
    },
    {
      "cell_type": "markdown",
      "metadata": {
        "id": "7bayPrI9e2F5"
      },
      "source": [
        "#### Show info about size/shape of DataFrame, columns names, data types and null values\n"
      ]
    },
    {
      "cell_type": "code",
      "metadata": {
        "id": "8R2-eW4_e1tH",
        "colab": {
          "base_uri": "https://localhost:8080/"
        },
        "outputId": "7f9d6f77-bef0-4234-f6e1-fe51ace402e6"
      },
      "source": [
        "SNPs.info()"
      ],
      "execution_count": null,
      "outputs": [
        {
          "output_type": "stream",
          "name": "stdout",
          "text": [
            "<class 'pandas.core.frame.DataFrame'>\n",
            "RangeIndex: 2311 entries, 0 to 2310\n",
            "Data columns (total 12 columns):\n",
            " #   Column                                   Non-Null Count  Dtype  \n",
            "---  ------                                   --------------  -----  \n",
            " 0   Unnamed: 0                               2311 non-null   int64  \n",
            " 1   Variant name                             2311 non-null   object \n",
            " 2   Variant consequence                      2311 non-null   object \n",
            " 3   Protein allele                           989 non-null    object \n",
            " 4   Transcript stable ID                     2311 non-null   object \n",
            " 5   PolyPhen score                           639 non-null    float64\n",
            " 6   PolyPhen prediction                      639 non-null    object \n",
            " 7   SIFT score                               639 non-null    float64\n",
            " 8   SIFT prediction                          639 non-null    object \n",
            " 9   Chromosome/scaffold name                 2311 non-null   int64  \n",
            " 10  Chromosome/scaffold position start (bp)  2311 non-null   int64  \n",
            " 11  Chromosome/scaffold position end (bp)    2311 non-null   int64  \n",
            "dtypes: float64(2), int64(4), object(6)\n",
            "memory usage: 216.8+ KB\n"
          ]
        }
      ]
    },
    {
      "cell_type": "code",
      "metadata": {
        "id": "hwOSGRafzjkZ",
        "colab": {
          "base_uri": "https://localhost:8080/",
          "height": 299
        },
        "outputId": "f4404028-63ff-4b34-e364-1a664313ab61"
      },
      "source": [
        "SNPs.describe()"
      ],
      "execution_count": null,
      "outputs": [
        {
          "output_type": "execute_result",
          "data": {
            "text/html": [
              "<div>\n",
              "<style scoped>\n",
              "    .dataframe tbody tr th:only-of-type {\n",
              "        vertical-align: middle;\n",
              "    }\n",
              "\n",
              "    .dataframe tbody tr th {\n",
              "        vertical-align: top;\n",
              "    }\n",
              "\n",
              "    .dataframe thead th {\n",
              "        text-align: right;\n",
              "    }\n",
              "</style>\n",
              "<table border=\"1\" class=\"dataframe\">\n",
              "  <thead>\n",
              "    <tr style=\"text-align: right;\">\n",
              "      <th></th>\n",
              "      <th>Unnamed: 0</th>\n",
              "      <th>PolyPhen score</th>\n",
              "      <th>SIFT score</th>\n",
              "      <th>Chromosome/scaffold name</th>\n",
              "      <th>Chromosome/scaffold position start (bp)</th>\n",
              "      <th>Chromosome/scaffold position end (bp)</th>\n",
              "    </tr>\n",
              "  </thead>\n",
              "  <tbody>\n",
              "    <tr>\n",
              "      <th>count</th>\n",
              "      <td>2311.000000</td>\n",
              "      <td>639.000000</td>\n",
              "      <td>639.000000</td>\n",
              "      <td>2311.0</td>\n",
              "      <td>2.311000e+03</td>\n",
              "      <td>2.311000e+03</td>\n",
              "    </tr>\n",
              "    <tr>\n",
              "      <th>mean</th>\n",
              "      <td>1155.000000</td>\n",
              "      <td>0.376396</td>\n",
              "      <td>0.196948</td>\n",
              "      <td>20.0</td>\n",
              "      <td>2.308341e+07</td>\n",
              "      <td>2.308341e+07</td>\n",
              "    </tr>\n",
              "    <tr>\n",
              "      <th>std</th>\n",
              "      <td>667.272558</td>\n",
              "      <td>0.409750</td>\n",
              "      <td>0.272003</td>\n",
              "      <td>0.0</td>\n",
              "      <td>2.005353e+03</td>\n",
              "      <td>2.005379e+03</td>\n",
              "    </tr>\n",
              "    <tr>\n",
              "      <th>min</th>\n",
              "      <td>0.000000</td>\n",
              "      <td>0.000000</td>\n",
              "      <td>0.000000</td>\n",
              "      <td>20.0</td>\n",
              "      <td>2.307936e+07</td>\n",
              "      <td>2.307936e+07</td>\n",
              "    </tr>\n",
              "    <tr>\n",
              "      <th>25%</th>\n",
              "      <td>577.500000</td>\n",
              "      <td>0.007000</td>\n",
              "      <td>0.000000</td>\n",
              "      <td>20.0</td>\n",
              "      <td>2.308174e+07</td>\n",
              "      <td>2.308174e+07</td>\n",
              "    </tr>\n",
              "    <tr>\n",
              "      <th>50%</th>\n",
              "      <td>1155.000000</td>\n",
              "      <td>0.113000</td>\n",
              "      <td>0.070000</td>\n",
              "      <td>20.0</td>\n",
              "      <td>2.308388e+07</td>\n",
              "      <td>2.308388e+07</td>\n",
              "    </tr>\n",
              "    <tr>\n",
              "      <th>75%</th>\n",
              "      <td>1732.500000</td>\n",
              "      <td>0.840500</td>\n",
              "      <td>0.290000</td>\n",
              "      <td>20.0</td>\n",
              "      <td>2.308512e+07</td>\n",
              "      <td>2.308512e+07</td>\n",
              "    </tr>\n",
              "    <tr>\n",
              "      <th>max</th>\n",
              "      <td>2310.000000</td>\n",
              "      <td>1.000000</td>\n",
              "      <td>1.000000</td>\n",
              "      <td>20.0</td>\n",
              "      <td>2.308632e+07</td>\n",
              "      <td>2.308632e+07</td>\n",
              "    </tr>\n",
              "  </tbody>\n",
              "</table>\n",
              "</div>"
            ],
            "text/plain": [
              "        Unnamed: 0  ...  Chromosome/scaffold position end (bp)\n",
              "count  2311.000000  ...                           2.311000e+03\n",
              "mean   1155.000000  ...                           2.308341e+07\n",
              "std     667.272558  ...                           2.005379e+03\n",
              "min       0.000000  ...                           2.307936e+07\n",
              "25%     577.500000  ...                           2.308174e+07\n",
              "50%    1155.000000  ...                           2.308388e+07\n",
              "75%    1732.500000  ...                           2.308512e+07\n",
              "max    2310.000000  ...                           2.308632e+07\n",
              "\n",
              "[8 rows x 6 columns]"
            ]
          },
          "metadata": {},
          "execution_count": 58
        }
      ]
    },
    {
      "cell_type": "code",
      "metadata": {
        "id": "Rtuc1A7ee8sI",
        "colab": {
          "base_uri": "https://localhost:8080/"
        },
        "outputId": "43b92b8d-d10b-4138-b64c-5f2520bc1f41"
      },
      "source": [
        "SNPs.columns"
      ],
      "execution_count": null,
      "outputs": [
        {
          "output_type": "execute_result",
          "data": {
            "text/plain": [
              "Index(['Unnamed: 0', 'Variant name', 'Variant consequence', 'Protein allele',\n",
              "       'Transcript stable ID', 'PolyPhen score', 'PolyPhen prediction',\n",
              "       'SIFT score', 'SIFT prediction', 'Chromosome/scaffold name',\n",
              "       'Chromosome/scaffold position start (bp)',\n",
              "       'Chromosome/scaffold position end (bp)'],\n",
              "      dtype='object')"
            ]
          },
          "metadata": {},
          "execution_count": 59
        }
      ]
    },
    {
      "cell_type": "code",
      "metadata": {
        "id": "fKDSfhlrn3nv",
        "colab": {
          "base_uri": "https://localhost:8080/"
        },
        "outputId": "125b1e8c-2342-4887-8887-450339f49b73"
      },
      "source": [
        "SNPs.index"
      ],
      "execution_count": null,
      "outputs": [
        {
          "output_type": "execute_result",
          "data": {
            "text/plain": [
              "RangeIndex(start=0, stop=2311, step=1)"
            ]
          },
          "metadata": {},
          "execution_count": 60
        }
      ]
    },
    {
      "cell_type": "code",
      "metadata": {
        "id": "tpwAK1X1oCn7",
        "colab": {
          "base_uri": "https://localhost:8080/"
        },
        "outputId": "0eff9395-5c67-4655-8475-f328bb5d4001"
      },
      "source": [
        "SNPs.dtypes"
      ],
      "execution_count": null,
      "outputs": [
        {
          "output_type": "execute_result",
          "data": {
            "text/plain": [
              "Unnamed: 0                                   int64\n",
              "Variant name                                object\n",
              "Variant consequence                         object\n",
              "Protein allele                              object\n",
              "Transcript stable ID                        object\n",
              "PolyPhen score                             float64\n",
              "PolyPhen prediction                         object\n",
              "SIFT score                                 float64\n",
              "SIFT prediction                             object\n",
              "Chromosome/scaffold name                     int64\n",
              "Chromosome/scaffold position start (bp)      int64\n",
              "Chromosome/scaffold position end (bp)        int64\n",
              "dtype: object"
            ]
          },
          "metadata": {},
          "execution_count": 61
        }
      ]
    },
    {
      "cell_type": "code",
      "metadata": {
        "id": "pvR-HI3Jof7i",
        "colab": {
          "base_uri": "https://localhost:8080/"
        },
        "outputId": "d4a680d9-2888-41f5-c023-4fe24010b7af"
      },
      "source": [
        "# how many null values in the data frame?\n",
        "SNPs.isna().sum()"
      ],
      "execution_count": null,
      "outputs": [
        {
          "output_type": "execute_result",
          "data": {
            "text/plain": [
              "Unnamed: 0                                    0\n",
              "Variant name                                  0\n",
              "Variant consequence                           0\n",
              "Protein allele                             1322\n",
              "Transcript stable ID                          0\n",
              "PolyPhen score                             1672\n",
              "PolyPhen prediction                        1672\n",
              "SIFT score                                 1672\n",
              "SIFT prediction                            1672\n",
              "Chromosome/scaffold name                      0\n",
              "Chromosome/scaffold position start (bp)       0\n",
              "Chromosome/scaffold position end (bp)         0\n",
              "dtype: int64"
            ]
          },
          "metadata": {},
          "execution_count": 62
        }
      ]
    },
    {
      "cell_type": "code",
      "metadata": {
        "id": "4SZ2PMXNoLv6",
        "colab": {
          "base_uri": "https://localhost:8080/"
        },
        "outputId": "209607dc-3334-48f3-dcb2-240500722460"
      },
      "source": [
        "# how many null values in a specific column?\n",
        "SNPs['PolyPhen prediction'].isna().sum()"
      ],
      "execution_count": null,
      "outputs": [
        {
          "output_type": "execute_result",
          "data": {
            "text/plain": [
              "1672"
            ]
          },
          "metadata": {},
          "execution_count": 63
        }
      ]
    },
    {
      "cell_type": "markdown",
      "metadata": {
        "id": "OtAjhcVrb-Sm"
      },
      "source": [
        "# Getting data from DataFrames\n"
      ]
    },
    {
      "cell_type": "markdown",
      "metadata": {
        "id": "UVUiWcyDrAdl"
      },
      "source": [
        "#### Get values from one column"
      ]
    },
    {
      "cell_type": "code",
      "metadata": {
        "id": "RQHVvsaGjS7S",
        "colab": {
          "base_uri": "https://localhost:8080/"
        },
        "outputId": "76daed2d-69ff-4da9-ba6d-1d5363284f61"
      },
      "source": [
        "SNPs['Variant name']"
      ],
      "execution_count": null,
      "outputs": [
        {
          "output_type": "execute_result",
          "data": {
            "text/plain": [
              "0             rs7492\n",
              "1          rs2567612\n",
              "2          rs2749811\n",
              "3          rs2749812\n",
              "4          rs2749813\n",
              "            ...     \n",
              "2306    rs1600423846\n",
              "2307    rs1600424016\n",
              "2308    rs1600424406\n",
              "2309    rs1600424446\n",
              "2310    rs1600424486\n",
              "Name: Variant name, Length: 2311, dtype: object"
            ]
          },
          "metadata": {},
          "execution_count": 64
        }
      ]
    },
    {
      "cell_type": "code",
      "metadata": {
        "id": "c5Ydu679kKuX",
        "colab": {
          "base_uri": "https://localhost:8080/"
        },
        "outputId": "620592fe-ab99-404d-93fd-e826fd993c2e"
      },
      "source": [
        "#columns are Series!!!\n",
        "\n",
        "type(SNPs['Variant name'])"
      ],
      "execution_count": null,
      "outputs": [
        {
          "output_type": "execute_result",
          "data": {
            "text/plain": [
              "pandas.core.series.Series"
            ]
          },
          "metadata": {},
          "execution_count": 65
        }
      ]
    },
    {
      "cell_type": "code",
      "metadata": {
        "id": "TnS5uKtLkOO-",
        "colab": {
          "base_uri": "https://localhost:8080/"
        },
        "outputId": "99ce0fda-ddb4-4cd3-f175-66c1109962bb"
      },
      "source": [
        "type(SNPs)"
      ],
      "execution_count": null,
      "outputs": [
        {
          "output_type": "execute_result",
          "data": {
            "text/plain": [
              "pandas.core.frame.DataFrame"
            ]
          },
          "metadata": {},
          "execution_count": 66
        }
      ]
    },
    {
      "cell_type": "markdown",
      "metadata": {
        "id": "F4TOi551rC8v"
      },
      "source": [
        "#### Get a value from a specific position of the dataframe"
      ]
    },
    {
      "cell_type": "markdown",
      "metadata": {
        "id": "E39CZmr8rUW3"
      },
      "source": [
        "When you have the names of the columns, use:\n",
        "\n",
        "\n",
        ".loc[ ]\n",
        "\n",
        "\n"
      ]
    },
    {
      "cell_type": "code",
      "metadata": {
        "id": "18JOpgihrGev",
        "colab": {
          "base_uri": "https://localhost:8080/",
          "height": 35
        },
        "outputId": "37fe3896-13d4-448a-89b0-e7c71e3cb000"
      },
      "source": [
        "# index 10 and column Variant name\n",
        "SNPs.loc[10, 'Variant name']"
      ],
      "execution_count": null,
      "outputs": [
        {
          "output_type": "execute_result",
          "data": {
            "application/vnd.google.colaboratory.intrinsic+json": {
              "type": "string"
            },
            "text/plain": [
              "'rs3746732'"
            ]
          },
          "metadata": {},
          "execution_count": 67
        }
      ]
    },
    {
      "cell_type": "code",
      "metadata": {
        "id": "4Ps2dqkfr77t",
        "colab": {
          "base_uri": "https://localhost:8080/"
        },
        "outputId": "cb43f372-bbaa-4d77-bcc3-a666eb2baaed"
      },
      "source": [
        "# a range of rows and column Variant name\n",
        "SNPs.loc[10:20, 'Variant name']"
      ],
      "execution_count": null,
      "outputs": [
        {
          "output_type": "execute_result",
          "data": {
            "text/plain": [
              "10    rs3746732\n",
              "11    rs3803984\n",
              "12    rs3803985\n",
              "13    rs3803986\n",
              "14    rs6048536\n",
              "15    rs6048537\n",
              "16    rs6048538\n",
              "17    rs6048539\n",
              "18    rs6076019\n",
              "19    rs6076020\n",
              "20    rs6076020\n",
              "Name: Variant name, dtype: object"
            ]
          },
          "metadata": {},
          "execution_count": 68
        }
      ]
    },
    {
      "cell_type": "code",
      "metadata": {
        "id": "Ry0eTpL5ubCd",
        "colab": {
          "base_uri": "https://localhost:8080/",
          "height": 427
        },
        "outputId": "9ae4f0ab-d782-4976-ee59-ff09783d923d"
      },
      "source": [
        "# a range of rows for all columns\n",
        "SNPs.loc[10:20, :]"
      ],
      "execution_count": null,
      "outputs": [
        {
          "output_type": "execute_result",
          "data": {
            "text/html": [
              "<div>\n",
              "<style scoped>\n",
              "    .dataframe tbody tr th:only-of-type {\n",
              "        vertical-align: middle;\n",
              "    }\n",
              "\n",
              "    .dataframe tbody tr th {\n",
              "        vertical-align: top;\n",
              "    }\n",
              "\n",
              "    .dataframe thead th {\n",
              "        text-align: right;\n",
              "    }\n",
              "</style>\n",
              "<table border=\"1\" class=\"dataframe\">\n",
              "  <thead>\n",
              "    <tr style=\"text-align: right;\">\n",
              "      <th></th>\n",
              "      <th>Unnamed: 0</th>\n",
              "      <th>Variant name</th>\n",
              "      <th>Variant consequence</th>\n",
              "      <th>Protein allele</th>\n",
              "      <th>Transcript stable ID</th>\n",
              "      <th>PolyPhen score</th>\n",
              "      <th>PolyPhen prediction</th>\n",
              "      <th>SIFT score</th>\n",
              "      <th>SIFT prediction</th>\n",
              "      <th>Chromosome/scaffold name</th>\n",
              "      <th>Chromosome/scaffold position start (bp)</th>\n",
              "      <th>Chromosome/scaffold position end (bp)</th>\n",
              "    </tr>\n",
              "  </thead>\n",
              "  <tbody>\n",
              "    <tr>\n",
              "      <th>10</th>\n",
              "      <td>10</td>\n",
              "      <td>rs3746732</td>\n",
              "      <td>synonymous_variant</td>\n",
              "      <td>R</td>\n",
              "      <td>ENST00000246006</td>\n",
              "      <td>NaN</td>\n",
              "      <td>NaN</td>\n",
              "      <td>NaN</td>\n",
              "      <td>NaN</td>\n",
              "      <td>20</td>\n",
              "      <td>23084705</td>\n",
              "      <td>23084705</td>\n",
              "    </tr>\n",
              "    <tr>\n",
              "      <th>11</th>\n",
              "      <td>11</td>\n",
              "      <td>rs3803984</td>\n",
              "      <td>3_prime_UTR_variant</td>\n",
              "      <td>NaN</td>\n",
              "      <td>ENST00000246006</td>\n",
              "      <td>NaN</td>\n",
              "      <td>NaN</td>\n",
              "      <td>NaN</td>\n",
              "      <td>NaN</td>\n",
              "      <td>20</td>\n",
              "      <td>23080094</td>\n",
              "      <td>23080094</td>\n",
              "    </tr>\n",
              "    <tr>\n",
              "      <th>12</th>\n",
              "      <td>12</td>\n",
              "      <td>rs3803985</td>\n",
              "      <td>3_prime_UTR_variant</td>\n",
              "      <td>NaN</td>\n",
              "      <td>ENST00000246006</td>\n",
              "      <td>NaN</td>\n",
              "      <td>NaN</td>\n",
              "      <td>NaN</td>\n",
              "      <td>NaN</td>\n",
              "      <td>20</td>\n",
              "      <td>23081506</td>\n",
              "      <td>23081506</td>\n",
              "    </tr>\n",
              "    <tr>\n",
              "      <th>13</th>\n",
              "      <td>13</td>\n",
              "      <td>rs3803986</td>\n",
              "      <td>3_prime_UTR_variant</td>\n",
              "      <td>NaN</td>\n",
              "      <td>ENST00000246006</td>\n",
              "      <td>NaN</td>\n",
              "      <td>NaN</td>\n",
              "      <td>NaN</td>\n",
              "      <td>NaN</td>\n",
              "      <td>20</td>\n",
              "      <td>23082256</td>\n",
              "      <td>23082256</td>\n",
              "    </tr>\n",
              "    <tr>\n",
              "      <th>14</th>\n",
              "      <td>14</td>\n",
              "      <td>rs6048536</td>\n",
              "      <td>3_prime_UTR_variant</td>\n",
              "      <td>NaN</td>\n",
              "      <td>ENST00000246006</td>\n",
              "      <td>NaN</td>\n",
              "      <td>NaN</td>\n",
              "      <td>NaN</td>\n",
              "      <td>NaN</td>\n",
              "      <td>20</td>\n",
              "      <td>23082570</td>\n",
              "      <td>23082570</td>\n",
              "    </tr>\n",
              "    <tr>\n",
              "      <th>15</th>\n",
              "      <td>15</td>\n",
              "      <td>rs6048537</td>\n",
              "      <td>3_prime_UTR_variant</td>\n",
              "      <td>NaN</td>\n",
              "      <td>ENST00000246006</td>\n",
              "      <td>NaN</td>\n",
              "      <td>NaN</td>\n",
              "      <td>NaN</td>\n",
              "      <td>NaN</td>\n",
              "      <td>20</td>\n",
              "      <td>23083648</td>\n",
              "      <td>23083648</td>\n",
              "    </tr>\n",
              "    <tr>\n",
              "      <th>16</th>\n",
              "      <td>16</td>\n",
              "      <td>rs6048538</td>\n",
              "      <td>missense_variant</td>\n",
              "      <td>S/Y</td>\n",
              "      <td>ENST00000246006</td>\n",
              "      <td>0.960</td>\n",
              "      <td>probably damaging</td>\n",
              "      <td>0.00</td>\n",
              "      <td>deleterious</td>\n",
              "      <td>20</td>\n",
              "      <td>23085537</td>\n",
              "      <td>23085537</td>\n",
              "    </tr>\n",
              "    <tr>\n",
              "      <th>17</th>\n",
              "      <td>17</td>\n",
              "      <td>rs6048539</td>\n",
              "      <td>synonymous_variant</td>\n",
              "      <td>P</td>\n",
              "      <td>ENST00000246006</td>\n",
              "      <td>NaN</td>\n",
              "      <td>NaN</td>\n",
              "      <td>NaN</td>\n",
              "      <td>NaN</td>\n",
              "      <td>20</td>\n",
              "      <td>23085701</td>\n",
              "      <td>23085701</td>\n",
              "    </tr>\n",
              "    <tr>\n",
              "      <th>18</th>\n",
              "      <td>18</td>\n",
              "      <td>rs6076019</td>\n",
              "      <td>3_prime_UTR_variant</td>\n",
              "      <td>NaN</td>\n",
              "      <td>ENST00000246006</td>\n",
              "      <td>NaN</td>\n",
              "      <td>NaN</td>\n",
              "      <td>NaN</td>\n",
              "      <td>NaN</td>\n",
              "      <td>20</td>\n",
              "      <td>23083642</td>\n",
              "      <td>23083642</td>\n",
              "    </tr>\n",
              "    <tr>\n",
              "      <th>19</th>\n",
              "      <td>19</td>\n",
              "      <td>rs6076020</td>\n",
              "      <td>missense_variant</td>\n",
              "      <td>G/C</td>\n",
              "      <td>ENST00000246006</td>\n",
              "      <td>0.319</td>\n",
              "      <td>benign</td>\n",
              "      <td>0.01</td>\n",
              "      <td>deleterious</td>\n",
              "      <td>20</td>\n",
              "      <td>23085688</td>\n",
              "      <td>23085688</td>\n",
              "    </tr>\n",
              "    <tr>\n",
              "      <th>20</th>\n",
              "      <td>20</td>\n",
              "      <td>rs6076020</td>\n",
              "      <td>missense_variant</td>\n",
              "      <td>G/S</td>\n",
              "      <td>ENST00000246006</td>\n",
              "      <td>0.000</td>\n",
              "      <td>benign</td>\n",
              "      <td>0.50</td>\n",
              "      <td>tolerated</td>\n",
              "      <td>20</td>\n",
              "      <td>23085688</td>\n",
              "      <td>23085688</td>\n",
              "    </tr>\n",
              "  </tbody>\n",
              "</table>\n",
              "</div>"
            ],
            "text/plain": [
              "    Unnamed: 0  ... Chromosome/scaffold position end (bp)\n",
              "10          10  ...                              23084705\n",
              "11          11  ...                              23080094\n",
              "12          12  ...                              23081506\n",
              "13          13  ...                              23082256\n",
              "14          14  ...                              23082570\n",
              "15          15  ...                              23083648\n",
              "16          16  ...                              23085537\n",
              "17          17  ...                              23085701\n",
              "18          18  ...                              23083642\n",
              "19          19  ...                              23085688\n",
              "20          20  ...                              23085688\n",
              "\n",
              "[11 rows x 12 columns]"
            ]
          },
          "metadata": {},
          "execution_count": 69
        }
      ]
    },
    {
      "cell_type": "markdown",
      "metadata": {
        "id": "GwffH5jprkN9"
      },
      "source": [
        "When you have the numerical coordinates, use:\n",
        "\n",
        ".iloc[ ]\n"
      ]
    },
    {
      "cell_type": "code",
      "metadata": {
        "id": "nyCGflOjreKO",
        "colab": {
          "base_uri": "https://localhost:8080/",
          "height": 35
        },
        "outputId": "08533bc6-c6a4-4533-94c6-6ec463f462e1"
      },
      "source": [
        "SNPs.iloc[10, 2]\n",
        "\n",
        "row = 10\n",
        "column = 2\n",
        "SNPs.iloc[row, column]"
      ],
      "execution_count": null,
      "outputs": [
        {
          "output_type": "execute_result",
          "data": {
            "application/vnd.google.colaboratory.intrinsic+json": {
              "type": "string"
            },
            "text/plain": [
              "'synonymous_variant'"
            ]
          },
          "metadata": {},
          "execution_count": 71
        }
      ]
    },
    {
      "cell_type": "markdown",
      "metadata": {
        "id": "m8KsFO6nnsBP"
      },
      "source": [
        "#### Broadcasting"
      ]
    },
    {
      "cell_type": "markdown",
      "metadata": {
        "id": "pfn6j2UnrxbD"
      },
      "source": [
        "I want to know the variant consequence of the variant rs3746732"
      ]
    },
    {
      "cell_type": "code",
      "metadata": {
        "id": "0IfgirTnrSg-",
        "colab": {
          "base_uri": "https://localhost:8080/",
          "height": 129
        },
        "outputId": "f53058d4-3aad-4019-dd0c-5b50821415f4"
      },
      "source": [
        "# use a boolean mask as row selection\n",
        "\n",
        "mask = SNPs['Variant name'] == 'rs6076020'\n",
        "\n",
        "SNPs.loc[mask, :]"
      ],
      "execution_count": null,
      "outputs": [
        {
          "output_type": "execute_result",
          "data": {
            "text/html": [
              "<div>\n",
              "<style scoped>\n",
              "    .dataframe tbody tr th:only-of-type {\n",
              "        vertical-align: middle;\n",
              "    }\n",
              "\n",
              "    .dataframe tbody tr th {\n",
              "        vertical-align: top;\n",
              "    }\n",
              "\n",
              "    .dataframe thead th {\n",
              "        text-align: right;\n",
              "    }\n",
              "</style>\n",
              "<table border=\"1\" class=\"dataframe\">\n",
              "  <thead>\n",
              "    <tr style=\"text-align: right;\">\n",
              "      <th></th>\n",
              "      <th>Unnamed: 0</th>\n",
              "      <th>Variant name</th>\n",
              "      <th>Variant consequence</th>\n",
              "      <th>Protein allele</th>\n",
              "      <th>Transcript stable ID</th>\n",
              "      <th>PolyPhen score</th>\n",
              "      <th>PolyPhen prediction</th>\n",
              "      <th>SIFT score</th>\n",
              "      <th>SIFT prediction</th>\n",
              "      <th>Chromosome/scaffold name</th>\n",
              "      <th>Chromosome/scaffold position start (bp)</th>\n",
              "      <th>Chromosome/scaffold position end (bp)</th>\n",
              "    </tr>\n",
              "  </thead>\n",
              "  <tbody>\n",
              "    <tr>\n",
              "      <th>19</th>\n",
              "      <td>19</td>\n",
              "      <td>rs6076020</td>\n",
              "      <td>missense_variant</td>\n",
              "      <td>G/C</td>\n",
              "      <td>ENST00000246006</td>\n",
              "      <td>0.319</td>\n",
              "      <td>benign</td>\n",
              "      <td>0.01</td>\n",
              "      <td>deleterious</td>\n",
              "      <td>20</td>\n",
              "      <td>23085688</td>\n",
              "      <td>23085688</td>\n",
              "    </tr>\n",
              "    <tr>\n",
              "      <th>20</th>\n",
              "      <td>20</td>\n",
              "      <td>rs6076020</td>\n",
              "      <td>missense_variant</td>\n",
              "      <td>G/S</td>\n",
              "      <td>ENST00000246006</td>\n",
              "      <td>0.000</td>\n",
              "      <td>benign</td>\n",
              "      <td>0.50</td>\n",
              "      <td>tolerated</td>\n",
              "      <td>20</td>\n",
              "      <td>23085688</td>\n",
              "      <td>23085688</td>\n",
              "    </tr>\n",
              "  </tbody>\n",
              "</table>\n",
              "</div>"
            ],
            "text/plain": [
              "    Unnamed: 0  ... Chromosome/scaffold position end (bp)\n",
              "19          19  ...                              23085688\n",
              "20          20  ...                              23085688\n",
              "\n",
              "[2 rows x 12 columns]"
            ]
          },
          "metadata": {},
          "execution_count": 75
        }
      ]
    },
    {
      "cell_type": "code",
      "metadata": {
        "colab": {
          "base_uri": "https://localhost:8080/"
        },
        "id": "rMSQjCXmKlif",
        "outputId": "7a1609d0-afa4-4d7c-a4e7-eadcc93e3a8f"
      },
      "source": [
        "SNPs['Variant name'] == 'rs3746732'"
      ],
      "execution_count": null,
      "outputs": [
        {
          "output_type": "execute_result",
          "data": {
            "text/plain": [
              "0       False\n",
              "1       False\n",
              "2       False\n",
              "3       False\n",
              "4       False\n",
              "        ...  \n",
              "2306    False\n",
              "2307    False\n",
              "2308    False\n",
              "2309    False\n",
              "2310    False\n",
              "Name: Variant name, Length: 2311, dtype: bool"
            ]
          },
          "metadata": {},
          "execution_count": 72
        }
      ]
    },
    {
      "cell_type": "markdown",
      "metadata": {
        "id": "mRiDmQFZstWa"
      },
      "source": [
        "#### Select only specific columns of the DataFrame"
      ]
    },
    {
      "cell_type": "code",
      "metadata": {
        "id": "W_89XpdvsybD",
        "colab": {
          "base_uri": "https://localhost:8080/",
          "height": 422
        },
        "outputId": "13ef2b41-dfc3-4feb-d970-847a6950ed24"
      },
      "source": [
        "drugs_subset = drugs[['PharmGKB Accession Id' ,\t'Name', 'Type']] # list of columns!\n",
        "drugs_subset"
      ],
      "execution_count": null,
      "outputs": [
        {
          "output_type": "execute_result",
          "data": {
            "text/html": [
              "<div>\n",
              "<style scoped>\n",
              "    .dataframe tbody tr th:only-of-type {\n",
              "        vertical-align: middle;\n",
              "    }\n",
              "\n",
              "    .dataframe tbody tr th {\n",
              "        vertical-align: top;\n",
              "    }\n",
              "\n",
              "    .dataframe thead th {\n",
              "        text-align: right;\n",
              "    }\n",
              "</style>\n",
              "<table border=\"1\" class=\"dataframe\">\n",
              "  <thead>\n",
              "    <tr style=\"text-align: right;\">\n",
              "      <th></th>\n",
              "      <th>PharmGKB Accession Id</th>\n",
              "      <th>Name</th>\n",
              "      <th>Type</th>\n",
              "    </tr>\n",
              "  </thead>\n",
              "  <tbody>\n",
              "    <tr>\n",
              "      <th>0</th>\n",
              "      <td>PA164712302</td>\n",
              "      <td>2-amino-1-phenylethanol derivatives</td>\n",
              "      <td>Drug Class</td>\n",
              "    </tr>\n",
              "    <tr>\n",
              "      <th>1</th>\n",
              "      <td>PA134967247</td>\n",
              "      <td>2-methoxyestradiol</td>\n",
              "      <td>Drug</td>\n",
              "    </tr>\n",
              "    <tr>\n",
              "      <th>2</th>\n",
              "      <td>PA131887008</td>\n",
              "      <td>3,4-methylenedioxymethamphetamine</td>\n",
              "      <td>Drug</td>\n",
              "    </tr>\n",
              "    <tr>\n",
              "      <th>3</th>\n",
              "      <td>PA165958321</td>\n",
              "      <td>3,5-dimethyl-2-(3-pyridyl)thiazolidin-4-one</td>\n",
              "      <td>Drug</td>\n",
              "    </tr>\n",
              "    <tr>\n",
              "      <th>4</th>\n",
              "      <td>PA165858618</td>\n",
              "      <td>3-aminopyridine-2-carboxaldehyde thiosemicarba...</td>\n",
              "      <td>Drug</td>\n",
              "    </tr>\n",
              "    <tr>\n",
              "      <th>...</th>\n",
              "      <td>...</td>\n",
              "      <td>...</td>\n",
              "      <td>...</td>\n",
              "    </tr>\n",
              "    <tr>\n",
              "      <th>3443</th>\n",
              "      <td>PA451978</td>\n",
              "      <td>zonisamide</td>\n",
              "      <td>Drug</td>\n",
              "    </tr>\n",
              "    <tr>\n",
              "      <th>3444</th>\n",
              "      <td>PA10236</td>\n",
              "      <td>zopiclone</td>\n",
              "      <td>Drug</td>\n",
              "    </tr>\n",
              "    <tr>\n",
              "      <th>3445</th>\n",
              "      <td>PA164924567</td>\n",
              "      <td>Zosuquidar</td>\n",
              "      <td>Drug</td>\n",
              "    </tr>\n",
              "    <tr>\n",
              "      <th>3446</th>\n",
              "      <td>PA452606</td>\n",
              "      <td>zoxazolamine</td>\n",
              "      <td>Drug</td>\n",
              "    </tr>\n",
              "    <tr>\n",
              "      <th>3447</th>\n",
              "      <td>PA452629</td>\n",
              "      <td>zuclopenthixol</td>\n",
              "      <td>Drug</td>\n",
              "    </tr>\n",
              "  </tbody>\n",
              "</table>\n",
              "<p>3448 rows × 3 columns</p>\n",
              "</div>"
            ],
            "text/plain": [
              "     PharmGKB Accession Id  ...        Type\n",
              "0              PA164712302  ...  Drug Class\n",
              "1              PA134967247  ...        Drug\n",
              "2              PA131887008  ...        Drug\n",
              "3              PA165958321  ...        Drug\n",
              "4              PA165858618  ...        Drug\n",
              "...                    ...  ...         ...\n",
              "3443              PA451978  ...        Drug\n",
              "3444               PA10236  ...        Drug\n",
              "3445           PA164924567  ...        Drug\n",
              "3446              PA452606  ...        Drug\n",
              "3447              PA452629  ...        Drug\n",
              "\n",
              "[3448 rows x 3 columns]"
            ]
          },
          "metadata": {},
          "execution_count": 76
        }
      ]
    },
    {
      "cell_type": "code",
      "metadata": {
        "id": "Cu2wrkQzs478"
      },
      "source": [
        ""
      ],
      "execution_count": null,
      "outputs": []
    },
    {
      "cell_type": "markdown",
      "metadata": {
        "id": "uYG0WOVGPx6K"
      },
      "source": [
        "# Save the dataframe with .to_csv()"
      ]
    },
    {
      "cell_type": "code",
      "metadata": {
        "id": "evaKNYd0P2K5"
      },
      "source": [
        "# save the dataframe on a specific folder in your google drive\n",
        "directory = '/content/drive/MyDrive/HS21-Big_Data_Analysis_in_Biomedical_Research_376-1723-00L'\n",
        "\n",
        "df3.to_csv('%s/example_saved_dataframe.csv' %directory)\n",
        "\n",
        "\n",
        "\n"
      ],
      "execution_count": null,
      "outputs": []
    },
    {
      "cell_type": "code",
      "metadata": {
        "id": "eHuuRD_ta0so",
        "colab": {
          "base_uri": "https://localhost:8080/",
          "height": 17
        },
        "outputId": "d4af292d-8928-4cf5-c659-94503c81eb24"
      },
      "source": [
        "# save the data in google colab space (see the file explorer on the left)\n",
        "\n",
        "df3.to_csv('/content/sample_data/example_saved_dataframe.csv')\n",
        "# and then download it\n",
        "files.download('example_saved_dataframe.csv')\n"
      ],
      "execution_count": null,
      "outputs": [
        {
          "output_type": "display_data",
          "data": {
            "application/javascript": [
              "\n",
              "    async function download(id, filename, size) {\n",
              "      if (!google.colab.kernel.accessAllowed) {\n",
              "        return;\n",
              "      }\n",
              "      const div = document.createElement('div');\n",
              "      const label = document.createElement('label');\n",
              "      label.textContent = `Downloading \"${filename}\": `;\n",
              "      div.appendChild(label);\n",
              "      const progress = document.createElement('progress');\n",
              "      progress.max = size;\n",
              "      div.appendChild(progress);\n",
              "      document.body.appendChild(div);\n",
              "\n",
              "      const buffers = [];\n",
              "      let downloaded = 0;\n",
              "\n",
              "      const channel = await google.colab.kernel.comms.open(id);\n",
              "      // Send a message to notify the kernel that we're ready.\n",
              "      channel.send({})\n",
              "\n",
              "      for await (const message of channel.messages) {\n",
              "        // Send a message to notify the kernel that we're ready.\n",
              "        channel.send({})\n",
              "        if (message.buffers) {\n",
              "          for (const buffer of message.buffers) {\n",
              "            buffers.push(buffer);\n",
              "            downloaded += buffer.byteLength;\n",
              "            progress.value = downloaded;\n",
              "          }\n",
              "        }\n",
              "      }\n",
              "      const blob = new Blob(buffers, {type: 'application/binary'});\n",
              "      const a = document.createElement('a');\n",
              "      a.href = window.URL.createObjectURL(blob);\n",
              "      a.download = filename;\n",
              "      div.appendChild(a);\n",
              "      a.click();\n",
              "      div.remove();\n",
              "    }\n",
              "  "
            ],
            "text/plain": [
              "<IPython.core.display.Javascript object>"
            ]
          },
          "metadata": {}
        },
        {
          "output_type": "display_data",
          "data": {
            "application/javascript": [
              "download(\"download_4fb86cf0-d784-475f-a65d-61ad6454dde2\", \"example_saved_dataframe.csv\", 59)"
            ],
            "text/plain": [
              "<IPython.core.display.Javascript object>"
            ]
          },
          "metadata": {}
        }
      ]
    },
    {
      "cell_type": "code",
      "metadata": {
        "id": "Kc5SrD2tajjs"
      },
      "source": [
        "# on a Jupyter notebook on your computer, simply specify your folder of interest and file\n",
        "\n",
        "df3.to_csv('/Users/elisa/Documents/file.csv')\n",
        "\n",
        "\n"
      ],
      "execution_count": null,
      "outputs": []
    },
    {
      "cell_type": "markdown",
      "metadata": {
        "id": "vHYmZt_xlFCu"
      },
      "source": [
        "# Exercises\n",
        "\n"
      ]
    },
    {
      "cell_type": "markdown",
      "metadata": {
        "id": "J6rz1wI8n14J"
      },
      "source": [
        "#### Exercise 1\n",
        "\n",
        "Import a csv file from your computer and get the info on column names, size, data types, number of null values per column."
      ]
    },
    {
      "cell_type": "code",
      "metadata": {
        "id": "TGd-9noLjZia"
      },
      "source": [
        ""
      ],
      "execution_count": null,
      "outputs": []
    },
    {
      "cell_type": "markdown",
      "metadata": {
        "id": "Hj46-177jZxP"
      },
      "source": [
        "#### Exercise 1b\n",
        "\n",
        "Import an excel file from your computer and do the same as above."
      ]
    },
    {
      "cell_type": "code",
      "metadata": {
        "id": "s0mPBFLFpsn5"
      },
      "source": [
        ""
      ],
      "execution_count": null,
      "outputs": []
    },
    {
      "cell_type": "markdown",
      "metadata": {
        "id": "ANkjjyJZtNPD"
      },
      "source": [
        "#### Exercise 2\n",
        "\n",
        "From the DataFrame above, select only the first 4 columns, and save the dataset as \"dataframe.csv\" on a new \"exercise\" folder in your google drive."
      ]
    },
    {
      "cell_type": "code",
      "metadata": {
        "id": "wChzilb7tT6B"
      },
      "source": [
        ""
      ],
      "execution_count": null,
      "outputs": []
    },
    {
      "cell_type": "markdown",
      "metadata": {
        "id": "5kWl8T5inKP6"
      },
      "source": [
        "#### Exercise 3\n",
        "\n",
        "Create a dictionary that has as key PharmGKB Accession Id and as values the Name of the drug (dataframe *drugs* from above)"
      ]
    },
    {
      "cell_type": "code",
      "metadata": {
        "id": "cAAwo9_PeAh6"
      },
      "source": [
        "drugs.head()"
      ],
      "execution_count": null,
      "outputs": []
    },
    {
      "cell_type": "code",
      "metadata": {
        "id": "0cT2oGN0sdvx"
      },
      "source": [
        ""
      ],
      "execution_count": null,
      "outputs": []
    },
    {
      "cell_type": "markdown",
      "metadata": {
        "id": "U0qw0-g9nt1S"
      },
      "source": [
        "#### Exercise 4\n",
        "\n",
        "Find the row in the file above for aspirin."
      ]
    },
    {
      "cell_type": "code",
      "metadata": {
        "id": "_j64WvWI0GZR"
      },
      "source": [
        ""
      ],
      "execution_count": null,
      "outputs": []
    },
    {
      "cell_type": "code",
      "metadata": {
        "id": "D-Qb4Pc-lRkd"
      },
      "source": [
        ""
      ],
      "execution_count": null,
      "outputs": []
    }
  ]
}