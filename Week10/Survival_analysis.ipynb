{
  "nbformat": 4,
  "nbformat_minor": 0,
  "metadata": {
    "colab": {
      "name": "Survival_analysis.ipynb",
      "provenance": [],
      "authorship_tag": "ABX9TyPvB8vMclTOLn7hFEmGnAHa",
      "include_colab_link": true
    },
    "kernelspec": {
      "name": "python3",
      "display_name": "Python 3"
    },
    "language_info": {
      "name": "python"
    }
  },
  "cells": [
    {
      "cell_type": "markdown",
      "metadata": {
        "id": "view-in-github",
        "colab_type": "text"
      },
      "source": [
        "<a href=\"https://colab.research.google.com/github/araldi/FS22---Big-Data-Analysis-in-Biomedical-Research-376-1723-00L/blob/main/Week10/Survival_analysis.ipynb\" target=\"_parent\"><img src=\"https://colab.research.google.com/assets/colab-badge.svg\" alt=\"Open In Colab\"/></a>"
      ]
    },
    {
      "cell_type": "code",
      "metadata": {
        "colab": {
          "base_uri": "https://localhost:8080/"
        },
        "id": "IO0U9qUF72aN",
        "outputId": "0c0c24a9-0209-4ffe-fb70-f624951a222f"
      },
      "source": [
        "pip install lifelines"
      ],
      "execution_count": null,
      "outputs": [
        {
          "output_type": "stream",
          "name": "stdout",
          "text": [
            "Collecting lifelines\n",
            "  Downloading lifelines-0.26.4-py3-none-any.whl (348 kB)\n",
            "\u001b[?25l\r\u001b[K     |█                               | 10 kB 22.3 MB/s eta 0:00:01\r\u001b[K     |█▉                              | 20 kB 22.2 MB/s eta 0:00:01\r\u001b[K     |██▉                             | 30 kB 27.2 MB/s eta 0:00:01\r\u001b[K     |███▊                            | 40 kB 29.2 MB/s eta 0:00:01\r\u001b[K     |████▊                           | 51 kB 24.6 MB/s eta 0:00:01\r\u001b[K     |█████▋                          | 61 kB 24.6 MB/s eta 0:00:01\r\u001b[K     |██████▋                         | 71 kB 21.1 MB/s eta 0:00:01\r\u001b[K     |███████▌                        | 81 kB 18.6 MB/s eta 0:00:01\r\u001b[K     |████████▌                       | 92 kB 19.5 MB/s eta 0:00:01\r\u001b[K     |█████████▍                      | 102 kB 20.5 MB/s eta 0:00:01\r\u001b[K     |██████████▍                     | 112 kB 20.5 MB/s eta 0:00:01\r\u001b[K     |███████████▎                    | 122 kB 20.5 MB/s eta 0:00:01\r\u001b[K     |████████████▎                   | 133 kB 20.5 MB/s eta 0:00:01\r\u001b[K     |█████████████▏                  | 143 kB 20.5 MB/s eta 0:00:01\r\u001b[K     |██████████████                  | 153 kB 20.5 MB/s eta 0:00:01\r\u001b[K     |███████████████                 | 163 kB 20.5 MB/s eta 0:00:01\r\u001b[K     |████████████████                | 174 kB 20.5 MB/s eta 0:00:01\r\u001b[K     |█████████████████               | 184 kB 20.5 MB/s eta 0:00:01\r\u001b[K     |█████████████████▉              | 194 kB 20.5 MB/s eta 0:00:01\r\u001b[K     |██████████████████▉             | 204 kB 20.5 MB/s eta 0:00:01\r\u001b[K     |███████████████████▊            | 215 kB 20.5 MB/s eta 0:00:01\r\u001b[K     |████████████████████▊           | 225 kB 20.5 MB/s eta 0:00:01\r\u001b[K     |█████████████████████▋          | 235 kB 20.5 MB/s eta 0:00:01\r\u001b[K     |██████████████████████▋         | 245 kB 20.5 MB/s eta 0:00:01\r\u001b[K     |███████████████████████▌        | 256 kB 20.5 MB/s eta 0:00:01\r\u001b[K     |████████████████████████▌       | 266 kB 20.5 MB/s eta 0:00:01\r\u001b[K     |█████████████████████████▍      | 276 kB 20.5 MB/s eta 0:00:01\r\u001b[K     |██████████████████████████▎     | 286 kB 20.5 MB/s eta 0:00:01\r\u001b[K     |███████████████████████████▎    | 296 kB 20.5 MB/s eta 0:00:01\r\u001b[K     |████████████████████████████▏   | 307 kB 20.5 MB/s eta 0:00:01\r\u001b[K     |█████████████████████████████▏  | 317 kB 20.5 MB/s eta 0:00:01\r\u001b[K     |██████████████████████████████  | 327 kB 20.5 MB/s eta 0:00:01\r\u001b[K     |███████████████████████████████ | 337 kB 20.5 MB/s eta 0:00:01\r\u001b[K     |████████████████████████████████| 348 kB 20.5 MB/s eta 0:00:01\r\u001b[K     |████████████████████████████████| 348 kB 20.5 MB/s \n",
            "\u001b[?25hRequirement already satisfied: autograd>=1.3 in /usr/local/lib/python3.7/dist-packages (from lifelines) (1.3)\n",
            "Requirement already satisfied: pandas>=0.23.0 in /usr/local/lib/python3.7/dist-packages (from lifelines) (1.1.5)\n",
            "Requirement already satisfied: numpy>=1.14.0 in /usr/local/lib/python3.7/dist-packages (from lifelines) (1.19.5)\n",
            "Collecting formulaic<0.3,>=0.2.2\n",
            "  Downloading formulaic-0.2.4-py3-none-any.whl (55 kB)\n",
            "\u001b[?25l\r\u001b[K     |█████▉                          | 10 kB 16.0 MB/s eta 0:00:01\r\u001b[K     |███████████▊                    | 20 kB 22.6 MB/s eta 0:00:01\r\u001b[K     |█████████████████▋              | 30 kB 28.9 MB/s eta 0:00:01\r\u001b[K     |███████████████████████▍        | 40 kB 33.2 MB/s eta 0:00:01\r\u001b[K     |█████████████████████████████▎  | 51 kB 35.6 MB/s eta 0:00:01\r\u001b[K     |████████████████████████████████| 55 kB 2.8 MB/s \n",
            "\u001b[?25hCollecting autograd-gamma>=0.3\n",
            "  Downloading autograd-gamma-0.5.0.tar.gz (4.0 kB)\n",
            "Requirement already satisfied: matplotlib>=3.0 in /usr/local/lib/python3.7/dist-packages (from lifelines) (3.2.2)\n",
            "Requirement already satisfied: scipy>=1.2.0 in /usr/local/lib/python3.7/dist-packages (from lifelines) (1.4.1)\n",
            "Requirement already satisfied: future>=0.15.2 in /usr/local/lib/python3.7/dist-packages (from autograd>=1.3->lifelines) (0.16.0)\n",
            "Requirement already satisfied: astor in /usr/local/lib/python3.7/dist-packages (from formulaic<0.3,>=0.2.2->lifelines) (0.8.1)\n",
            "Requirement already satisfied: wrapt in /usr/local/lib/python3.7/dist-packages (from formulaic<0.3,>=0.2.2->lifelines) (1.13.3)\n",
            "Collecting interface-meta>=1.2\n",
            "  Downloading interface_meta-1.2.4-py2.py3-none-any.whl (14 kB)\n",
            "Requirement already satisfied: pyparsing!=2.0.4,!=2.1.2,!=2.1.6,>=2.0.1 in /usr/local/lib/python3.7/dist-packages (from matplotlib>=3.0->lifelines) (3.0.6)\n",
            "Requirement already satisfied: cycler>=0.10 in /usr/local/lib/python3.7/dist-packages (from matplotlib>=3.0->lifelines) (0.11.0)\n",
            "Requirement already satisfied: python-dateutil>=2.1 in /usr/local/lib/python3.7/dist-packages (from matplotlib>=3.0->lifelines) (2.8.2)\n",
            "Requirement already satisfied: kiwisolver>=1.0.1 in /usr/local/lib/python3.7/dist-packages (from matplotlib>=3.0->lifelines) (1.3.2)\n",
            "Requirement already satisfied: pytz>=2017.2 in /usr/local/lib/python3.7/dist-packages (from pandas>=0.23.0->lifelines) (2018.9)\n",
            "Requirement already satisfied: six>=1.5 in /usr/local/lib/python3.7/dist-packages (from python-dateutil>=2.1->matplotlib>=3.0->lifelines) (1.15.0)\n",
            "Building wheels for collected packages: autograd-gamma\n",
            "  Building wheel for autograd-gamma (setup.py) ... \u001b[?25l\u001b[?25hdone\n",
            "  Created wheel for autograd-gamma: filename=autograd_gamma-0.5.0-py3-none-any.whl size=4049 sha256=37898a5d87505214229c97c8e3af4f7f0f4f60728aa039041e7df24c6e52a66b\n",
            "  Stored in directory: /root/.cache/pip/wheels/9f/01/ee/1331593abb5725ff7d8c1333aee93a50a1c29d6ddda9665c9f\n",
            "Successfully built autograd-gamma\n",
            "Installing collected packages: interface-meta, formulaic, autograd-gamma, lifelines\n",
            "Successfully installed autograd-gamma-0.5.0 formulaic-0.2.4 interface-meta-1.2.4 lifelines-0.26.4\n"
          ]
        }
      ]
    },
    {
      "cell_type": "code",
      "metadata": {
        "id": "TEfDwx-J8HbI"
      },
      "source": [
        "from lifelines.datasets import load_waltons\n",
        "df = load_waltons()\n"
      ],
      "execution_count": null,
      "outputs": []
    },
    {
      "cell_type": "code",
      "metadata": {
        "colab": {
          "base_uri": "https://localhost:8080/"
        },
        "id": "2x86fxI8zX0Z",
        "outputId": "ca9f7578-2fb9-48b0-df11-cb83eb605001"
      },
      "source": [
        "df['group'].value_counts()"
      ],
      "execution_count": null,
      "outputs": [
        {
          "output_type": "execute_result",
          "data": {
            "text/plain": [
              "control    129\n",
              "miR-137     34\n",
              "Name: group, dtype: int64"
            ]
          },
          "metadata": {},
          "execution_count": 6
        }
      ]
    },
    {
      "cell_type": "code",
      "metadata": {
        "colab": {
          "base_uri": "https://localhost:8080/",
          "height": 283
        },
        "id": "oI6M_Xazzesq",
        "outputId": "b9b9155e-8145-498a-fab2-11dd53e3d870"
      },
      "source": [
        "df['T'].hist()"
      ],
      "execution_count": null,
      "outputs": [
        {
          "output_type": "execute_result",
          "data": {
            "text/plain": [
              "<matplotlib.axes._subplots.AxesSubplot at 0x7f8b5a3c9cd0>"
            ]
          },
          "metadata": {},
          "execution_count": 8
        },
        {
          "output_type": "display_data",
          "data": {
            "image/png": "[encoded data removed]",
            "text/plain": [
              "<Figure size 432x288 with 1 Axes>"
            ]
          },
          "metadata": {
            "needs_background": "light"
          }
        }
      ]
    },
    {
      "cell_type": "code",
      "metadata": {
        "colab": {
          "base_uri": "https://localhost:8080/"
        },
        "id": "y_poEGij-VGD",
        "outputId": "10fd879c-748a-4e47-c2e8-5d2e86203d46"
      },
      "source": [
        "df['E'].value_counts()"
      ],
      "execution_count": null,
      "outputs": [
        {
          "output_type": "execute_result",
          "data": {
            "text/plain": [
              "1    156\n",
              "0      7\n",
              "Name: E, dtype: int64"
            ]
          },
          "metadata": {},
          "execution_count": 4
        }
      ]
    },
    {
      "cell_type": "code",
      "metadata": {
        "colab": {
          "base_uri": "https://localhost:8080/",
          "height": 423
        },
        "id": "dEAcnVjK054a",
        "outputId": "56db7d3c-aa82-43a6-c4dc-b4ac12db0dca"
      },
      "source": [
        "df"
      ],
      "execution_count": null,
      "outputs": [
        {
          "output_type": "execute_result",
          "data": {
            "text/html": [
              "<div>\n",
              "<style scoped>\n",
              "    .dataframe tbody tr th:only-of-type {\n",
              "        vertical-align: middle;\n",
              "    }\n",
              "\n",
              "    .dataframe tbody tr th {\n",
              "        vertical-align: top;\n",
              "    }\n",
              "\n",
              "    .dataframe thead th {\n",
              "        text-align: right;\n",
              "    }\n",
              "</style>\n",
              "<table border=\"1\" class=\"dataframe\">\n",
              "  <thead>\n",
              "    <tr style=\"text-align: right;\">\n",
              "      <th></th>\n",
              "      <th>T</th>\n",
              "      <th>E</th>\n",
              "      <th>group</th>\n",
              "    </tr>\n",
              "  </thead>\n",
              "  <tbody>\n",
              "    <tr>\n",
              "      <th>0</th>\n",
              "      <td>6.0</td>\n",
              "      <td>1</td>\n",
              "      <td>miR-137</td>\n",
              "    </tr>\n",
              "    <tr>\n",
              "      <th>1</th>\n",
              "      <td>13.0</td>\n",
              "      <td>1</td>\n",
              "      <td>miR-137</td>\n",
              "    </tr>\n",
              "    <tr>\n",
              "      <th>2</th>\n",
              "      <td>13.0</td>\n",
              "      <td>1</td>\n",
              "      <td>miR-137</td>\n",
              "    </tr>\n",
              "    <tr>\n",
              "      <th>3</th>\n",
              "      <td>13.0</td>\n",
              "      <td>1</td>\n",
              "      <td>miR-137</td>\n",
              "    </tr>\n",
              "    <tr>\n",
              "      <th>4</th>\n",
              "      <td>19.0</td>\n",
              "      <td>1</td>\n",
              "      <td>miR-137</td>\n",
              "    </tr>\n",
              "    <tr>\n",
              "      <th>...</th>\n",
              "      <td>...</td>\n",
              "      <td>...</td>\n",
              "      <td>...</td>\n",
              "    </tr>\n",
              "    <tr>\n",
              "      <th>158</th>\n",
              "      <td>60.0</td>\n",
              "      <td>1</td>\n",
              "      <td>control</td>\n",
              "    </tr>\n",
              "    <tr>\n",
              "      <th>159</th>\n",
              "      <td>60.0</td>\n",
              "      <td>1</td>\n",
              "      <td>control</td>\n",
              "    </tr>\n",
              "    <tr>\n",
              "      <th>160</th>\n",
              "      <td>60.0</td>\n",
              "      <td>1</td>\n",
              "      <td>control</td>\n",
              "    </tr>\n",
              "    <tr>\n",
              "      <th>161</th>\n",
              "      <td>60.0</td>\n",
              "      <td>1</td>\n",
              "      <td>control</td>\n",
              "    </tr>\n",
              "    <tr>\n",
              "      <th>162</th>\n",
              "      <td>66.0</td>\n",
              "      <td>1</td>\n",
              "      <td>control</td>\n",
              "    </tr>\n",
              "  </tbody>\n",
              "</table>\n",
              "<p>163 rows × 3 columns</p>\n",
              "</div>"
            ],
            "text/plain": [
              "        T  E    group\n",
              "0     6.0  1  miR-137\n",
              "1    13.0  1  miR-137\n",
              "2    13.0  1  miR-137\n",
              "3    13.0  1  miR-137\n",
              "4    19.0  1  miR-137\n",
              "..    ... ..      ...\n",
              "158  60.0  1  control\n",
              "159  60.0  1  control\n",
              "160  60.0  1  control\n",
              "161  60.0  1  control\n",
              "162  66.0  1  control\n",
              "\n",
              "[163 rows x 3 columns]"
            ]
          },
          "metadata": {},
          "execution_count": 14
        }
      ]
    },
    {
      "cell_type": "markdown",
      "metadata": {
        "id": "FUV4gyscC_BP"
      },
      "source": [
        "# Kaplan-Meier curve and estimate"
      ]
    },
    {
      "cell_type": "code",
      "metadata": {
        "colab": {
          "base_uri": "https://localhost:8080/",
          "height": 297
        },
        "id": "de_-zeXe_sce",
        "outputId": "5f6d1c86-bf8e-40c9-ba40-0aa29a597e47"
      },
      "source": [
        "# Survival plot for the whole dataset\n",
        "\n",
        "from lifelines import KaplanMeierFitter\n",
        "\n",
        "kmf = KaplanMeierFitter()\n",
        "\n",
        "kmf.fit(df['T'], event_observed=df['E'])\n",
        "kmf.plot_survival_function()\n"
      ],
      "execution_count": null,
      "outputs": [
        {
          "output_type": "execute_result",
          "data": {
            "text/plain": [
              "<matplotlib.axes._subplots.AxesSubplot at 0x7f8b58a63bd0>"
            ]
          },
          "metadata": {},
          "execution_count": 10
        },
        {
          "output_type": "display_data",
          "data": {
            "image/png": "[encoded data removed]",
            "text/plain": [
              "<Figure size 432x288 with 1 Axes>"
            ]
          },
          "metadata": {
            "needs_background": "light"
          }
        }
      ]
    },
    {
      "cell_type": "code",
      "metadata": {
        "colab": {
          "base_uri": "https://localhost:8080/",
          "height": 297
        },
        "id": "NAtvItkU_JUV",
        "outputId": "35bdc42a-fd1f-4953-cd6d-4e8bfd2943f2"
      },
      "source": [
        "# survival plot for each group\n",
        "\n",
        "from lifelines import KaplanMeierFitter\n",
        "kmf = {}\n",
        "for i in df['group'].unique():\n",
        "  kmf[i] = KaplanMeierFitter()\n",
        "  df1 = df[df['group'] == i]\n",
        "  kmf[i].fit(df1['T'], event_observed=df1['E'])\n",
        "  kmf[i].plot_survival_function(label = i)\n",
        "\n",
        "import matplotlib.pyplot as plt\n",
        "\n",
        "plt.ylabel('Survival probability')"
      ],
      "execution_count": null,
      "outputs": [
        {
          "output_type": "execute_result",
          "data": {
            "text/plain": [
              "Text(0, 0.5, 'Survival probability')"
            ]
          },
          "metadata": {},
          "execution_count": 13
        },
        {
          "output_type": "display_data",
          "data": {
            "image/png": "[encoded data removed]",
            "text/plain": [
              "<Figure size 432x288 with 1 Axes>"
            ]
          },
          "metadata": {
            "needs_background": "light"
          }
        }
      ]
    },
    {
      "cell_type": "markdown",
      "metadata": {
        "id": "K5zWtZEVDEVE"
      },
      "source": [
        "# Cox proportional hazard model"
      ]
    },
    {
      "cell_type": "code",
      "metadata": {
        "id": "7MXJEmb-DKkT"
      },
      "source": [
        "from lifelines.datasets import load_rossi\n",
        "rossi_dataset = load_rossi()"
      ],
      "execution_count": null,
      "outputs": []
    },
    {
      "cell_type": "code",
      "metadata": {
        "colab": {
          "base_uri": "https://localhost:8080/",
          "height": 408
        },
        "id": "W1OAsbzvDNey",
        "outputId": "22076e03-c09d-4349-dad8-7fa6a193aca2"
      },
      "source": [
        "rossi_dataset"
      ],
      "execution_count": null,
      "outputs": [
        {
          "output_type": "execute_result",
          "data": {
            "text/html": [
              "<div>\n",
              "<style scoped>\n",
              "    .dataframe tbody tr th:only-of-type {\n",
              "        vertical-align: middle;\n",
              "    }\n",
              "\n",
              "    .dataframe tbody tr th {\n",
              "        vertical-align: top;\n",
              "    }\n",
              "\n",
              "    .dataframe thead th {\n",
              "        text-align: right;\n",
              "    }\n",
              "</style>\n",
              "<table border=\"1\" class=\"dataframe\">\n",
              "  <thead>\n",
              "    <tr style=\"text-align: right;\">\n",
              "      <th></th>\n",
              "      <th>week</th>\n",
              "      <th>arrest</th>\n",
              "      <th>fin</th>\n",
              "      <th>age</th>\n",
              "      <th>race</th>\n",
              "      <th>wexp</th>\n",
              "      <th>mar</th>\n",
              "      <th>paro</th>\n",
              "      <th>prio</th>\n",
              "    </tr>\n",
              "  </thead>\n",
              "  <tbody>\n",
              "    <tr>\n",
              "      <th>0</th>\n",
              "      <td>20</td>\n",
              "      <td>1</td>\n",
              "      <td>0</td>\n",
              "      <td>27</td>\n",
              "      <td>1</td>\n",
              "      <td>0</td>\n",
              "      <td>0</td>\n",
              "      <td>1</td>\n",
              "      <td>3</td>\n",
              "    </tr>\n",
              "    <tr>\n",
              "      <th>1</th>\n",
              "      <td>17</td>\n",
              "      <td>1</td>\n",
              "      <td>0</td>\n",
              "      <td>18</td>\n",
              "      <td>1</td>\n",
              "      <td>0</td>\n",
              "      <td>0</td>\n",
              "      <td>1</td>\n",
              "      <td>8</td>\n",
              "    </tr>\n",
              "    <tr>\n",
              "      <th>2</th>\n",
              "      <td>25</td>\n",
              "      <td>1</td>\n",
              "      <td>0</td>\n",
              "      <td>19</td>\n",
              "      <td>0</td>\n",
              "      <td>1</td>\n",
              "      <td>0</td>\n",
              "      <td>1</td>\n",
              "      <td>13</td>\n",
              "    </tr>\n",
              "    <tr>\n",
              "      <th>3</th>\n",
              "      <td>52</td>\n",
              "      <td>0</td>\n",
              "      <td>1</td>\n",
              "      <td>23</td>\n",
              "      <td>1</td>\n",
              "      <td>1</td>\n",
              "      <td>1</td>\n",
              "      <td>1</td>\n",
              "      <td>1</td>\n",
              "    </tr>\n",
              "    <tr>\n",
              "      <th>4</th>\n",
              "      <td>52</td>\n",
              "      <td>0</td>\n",
              "      <td>0</td>\n",
              "      <td>19</td>\n",
              "      <td>0</td>\n",
              "      <td>1</td>\n",
              "      <td>0</td>\n",
              "      <td>1</td>\n",
              "      <td>3</td>\n",
              "    </tr>\n",
              "    <tr>\n",
              "      <th>...</th>\n",
              "      <td>...</td>\n",
              "      <td>...</td>\n",
              "      <td>...</td>\n",
              "      <td>...</td>\n",
              "      <td>...</td>\n",
              "      <td>...</td>\n",
              "      <td>...</td>\n",
              "      <td>...</td>\n",
              "      <td>...</td>\n",
              "    </tr>\n",
              "    <tr>\n",
              "      <th>427</th>\n",
              "      <td>52</td>\n",
              "      <td>0</td>\n",
              "      <td>1</td>\n",
              "      <td>31</td>\n",
              "      <td>0</td>\n",
              "      <td>1</td>\n",
              "      <td>0</td>\n",
              "      <td>1</td>\n",
              "      <td>3</td>\n",
              "    </tr>\n",
              "    <tr>\n",
              "      <th>428</th>\n",
              "      <td>52</td>\n",
              "      <td>0</td>\n",
              "      <td>0</td>\n",
              "      <td>20</td>\n",
              "      <td>1</td>\n",
              "      <td>0</td>\n",
              "      <td>0</td>\n",
              "      <td>1</td>\n",
              "      <td>1</td>\n",
              "    </tr>\n",
              "    <tr>\n",
              "      <th>429</th>\n",
              "      <td>52</td>\n",
              "      <td>0</td>\n",
              "      <td>1</td>\n",
              "      <td>20</td>\n",
              "      <td>1</td>\n",
              "      <td>1</td>\n",
              "      <td>1</td>\n",
              "      <td>1</td>\n",
              "      <td>1</td>\n",
              "    </tr>\n",
              "    <tr>\n",
              "      <th>430</th>\n",
              "      <td>52</td>\n",
              "      <td>0</td>\n",
              "      <td>0</td>\n",
              "      <td>29</td>\n",
              "      <td>1</td>\n",
              "      <td>1</td>\n",
              "      <td>0</td>\n",
              "      <td>1</td>\n",
              "      <td>3</td>\n",
              "    </tr>\n",
              "    <tr>\n",
              "      <th>431</th>\n",
              "      <td>52</td>\n",
              "      <td>0</td>\n",
              "      <td>1</td>\n",
              "      <td>24</td>\n",
              "      <td>1</td>\n",
              "      <td>1</td>\n",
              "      <td>0</td>\n",
              "      <td>1</td>\n",
              "      <td>1</td>\n",
              "    </tr>\n",
              "  </tbody>\n",
              "</table>\n",
              "<p>432 rows × 9 columns</p>\n",
              "</div>"
            ],
            "text/plain": [
              "     week  arrest  fin  age  race  wexp  mar  paro  prio\n",
              "0      20       1    0   27     1     0    0     1     3\n",
              "1      17       1    0   18     1     0    0     1     8\n",
              "2      25       1    0   19     0     1    0     1    13\n",
              "3      52       0    1   23     1     1    1     1     1\n",
              "4      52       0    0   19     0     1    0     1     3\n",
              "..    ...     ...  ...  ...   ...   ...  ...   ...   ...\n",
              "427    52       0    1   31     0     1    0     1     3\n",
              "428    52       0    0   20     1     0    0     1     1\n",
              "429    52       0    1   20     1     1    1     1     1\n",
              "430    52       0    0   29     1     1    0     1     3\n",
              "431    52       0    1   24     1     1    0     1     1\n",
              "\n",
              "[432 rows x 9 columns]"
            ]
          },
          "metadata": {},
          "execution_count": 14
        }
      ]
    },
    {
      "cell_type": "code",
      "metadata": {
        "colab": {
          "base_uri": "https://localhost:8080/",
          "height": 663
        },
        "id": "DCUmw1pZ_MuE",
        "outputId": "d08228fb-3e7f-4c12-c369-5bafcd784542"
      },
      "source": [
        "from lifelines import CoxPHFitter\n",
        "\n",
        "cph = CoxPHFitter()\n",
        "cph.fit(rossi_dataset, duration_col='week', event_col='arrest')\n",
        "cph.print_summary()  \n"
      ],
      "execution_count": null,
      "outputs": [
        {
          "output_type": "display_data",
          "data": {
            "text/latex": "\\begin{tabular}{lrrrrrrrrrr}\n\\toprule\n{} &  coef &  exp(coef) &  se(coef) &  coef lower 95\\% &  coef upper 95\\% &  exp(coef) lower 95\\% &  exp(coef) upper 95\\% &     z &    p &  -log2(p) \\\\\ncovariate &       &            &           &                 &                 &                      &                      &       &      &           \\\\\n\\midrule\nfin       & -0.38 &       0.68 &      0.19 &           -0.75 &           -0.00 &                 0.47 &                 1.00 & -1.98 & 0.05 &      4.40 \\\\\nage       & -0.06 &       0.94 &      0.02 &           -0.10 &           -0.01 &                 0.90 &                 0.99 & -2.61 & 0.01 &      6.79 \\\\\nrace      &  0.31 &       1.37 &      0.31 &           -0.29 &            0.92 &                 0.75 &                 2.50 &  1.02 & 0.31 &      1.70 \\\\\nwexp      & -0.15 &       0.86 &      0.21 &           -0.57 &            0.27 &                 0.57 &                 1.30 & -0.71 & 0.48 &      1.06 \\\\\nmar       & -0.43 &       0.65 &      0.38 &           -1.18 &            0.31 &                 0.31 &                 1.37 & -1.14 & 0.26 &      1.97 \\\\\nparo      & -0.08 &       0.92 &      0.20 &           -0.47 &            0.30 &                 0.63 &                 1.35 & -0.43 & 0.66 &      0.59 \\\\\nprio      &  0.09 &       1.10 &      0.03 &            0.04 &            0.15 &                 1.04 &                 1.16 &  3.19 & 0.00 &      9.48 \\\\\n\\bottomrule\n\\end{tabular}\n",
            "text/html": [
              "<div>\n",
              "<style scoped>\n",
              "    .dataframe tbody tr th:only-of-type {\n",
              "        vertical-align: middle;\n",
              "    }\n",
              "\n",
              "    .dataframe tbody tr th {\n",
              "        vertical-align: top;\n",
              "    }\n",
              "\n",
              "    .dataframe thead th {\n",
              "        text-align: right;\n",
              "    }\n",
              "</style>\n",
              "<table border=\"1\" class=\"dataframe\">\n",
              "  <tbody>\n",
              "    <tr>\n",
              "      <th>model</th>\n",
              "      <td>lifelines.CoxPHFitter</td>\n",
              "    </tr>\n",
              "    <tr>\n",
              "      <th>duration col</th>\n",
              "      <td>'week'</td>\n",
              "    </tr>\n",
              "    <tr>\n",
              "      <th>event col</th>\n",
              "      <td>'arrest'</td>\n",
              "    </tr>\n",
              "    <tr>\n",
              "      <th>baseline estimation</th>\n",
              "      <td>breslow</td>\n",
              "    </tr>\n",
              "    <tr>\n",
              "      <th>number of observations</th>\n",
              "      <td>432</td>\n",
              "    </tr>\n",
              "    <tr>\n",
              "      <th>number of events observed</th>\n",
              "      <td>114</td>\n",
              "    </tr>\n",
              "    <tr>\n",
              "      <th>partial log-likelihood</th>\n",
              "      <td>-658.75</td>\n",
              "    </tr>\n",
              "    <tr>\n",
              "      <th>time fit was run</th>\n",
              "      <td>2021-12-01 16:32:22 UTC</td>\n",
              "    </tr>\n",
              "  </tbody>\n",
              "</table>\n",
              "</div><table border=\"1\" class=\"dataframe\">\n",
              "  <thead>\n",
              "    <tr style=\"text-align: right;\">\n",
              "      <th style=\"min-width: 12px;\"></th>\n",
              "      <th style=\"min-width: 12px;\">coef</th>\n",
              "      <th style=\"min-width: 12px;\">exp(coef)</th>\n",
              "      <th style=\"min-width: 12px;\">se(coef)</th>\n",
              "      <th style=\"min-width: 12px;\">coef lower 95%</th>\n",
              "      <th style=\"min-width: 12px;\">coef upper 95%</th>\n",
              "      <th style=\"min-width: 12px;\">exp(coef) lower 95%</th>\n",
              "      <th style=\"min-width: 12px;\">exp(coef) upper 95%</th>\n",
              "      <th style=\"min-width: 12px;\">z</th>\n",
              "      <th style=\"min-width: 12px;\">p</th>\n",
              "      <th style=\"min-width: 12px;\">-log2(p)</th>\n",
              "    </tr>\n",
              "  </thead>\n",
              "  <tbody>\n",
              "    <tr>\n",
              "      <th>fin</th>\n",
              "      <td>-0.38</td>\n",
              "      <td>0.68</td>\n",
              "      <td>0.19</td>\n",
              "      <td>-0.75</td>\n",
              "      <td>-0.00</td>\n",
              "      <td>0.47</td>\n",
              "      <td>1.00</td>\n",
              "      <td>-1.98</td>\n",
              "      <td>0.05</td>\n",
              "      <td>4.40</td>\n",
              "    </tr>\n",
              "    <tr>\n",
              "      <th>age</th>\n",
              "      <td>-0.06</td>\n",
              "      <td>0.94</td>\n",
              "      <td>0.02</td>\n",
              "      <td>-0.10</td>\n",
              "      <td>-0.01</td>\n",
              "      <td>0.90</td>\n",
              "      <td>0.99</td>\n",
              "      <td>-2.61</td>\n",
              "      <td>0.01</td>\n",
              "      <td>6.79</td>\n",
              "    </tr>\n",
              "    <tr>\n",
              "      <th>race</th>\n",
              "      <td>0.31</td>\n",
              "      <td>1.37</td>\n",
              "      <td>0.31</td>\n",
              "      <td>-0.29</td>\n",
              "      <td>0.92</td>\n",
              "      <td>0.75</td>\n",
              "      <td>2.50</td>\n",
              "      <td>1.02</td>\n",
              "      <td>0.31</td>\n",
              "      <td>1.70</td>\n",
              "    </tr>\n",
              "    <tr>\n",
              "      <th>wexp</th>\n",
              "      <td>-0.15</td>\n",
              "      <td>0.86</td>\n",
              "      <td>0.21</td>\n",
              "      <td>-0.57</td>\n",
              "      <td>0.27</td>\n",
              "      <td>0.57</td>\n",
              "      <td>1.30</td>\n",
              "      <td>-0.71</td>\n",
              "      <td>0.48</td>\n",
              "      <td>1.06</td>\n",
              "    </tr>\n",
              "    <tr>\n",
              "      <th>mar</th>\n",
              "      <td>-0.43</td>\n",
              "      <td>0.65</td>\n",
              "      <td>0.38</td>\n",
              "      <td>-1.18</td>\n",
              "      <td>0.31</td>\n",
              "      <td>0.31</td>\n",
              "      <td>1.37</td>\n",
              "      <td>-1.14</td>\n",
              "      <td>0.26</td>\n",
              "      <td>1.97</td>\n",
              "    </tr>\n",
              "    <tr>\n",
              "      <th>paro</th>\n",
              "      <td>-0.08</td>\n",
              "      <td>0.92</td>\n",
              "      <td>0.20</td>\n",
              "      <td>-0.47</td>\n",
              "      <td>0.30</td>\n",
              "      <td>0.63</td>\n",
              "      <td>1.35</td>\n",
              "      <td>-0.43</td>\n",
              "      <td>0.66</td>\n",
              "      <td>0.59</td>\n",
              "    </tr>\n",
              "    <tr>\n",
              "      <th>prio</th>\n",
              "      <td>0.09</td>\n",
              "      <td>1.10</td>\n",
              "      <td>0.03</td>\n",
              "      <td>0.04</td>\n",
              "      <td>0.15</td>\n",
              "      <td>1.04</td>\n",
              "      <td>1.16</td>\n",
              "      <td>3.19</td>\n",
              "      <td>&lt;0.005</td>\n",
              "      <td>9.48</td>\n",
              "    </tr>\n",
              "  </tbody>\n",
              "</table><br><div>\n",
              "<style scoped>\n",
              "    .dataframe tbody tr th:only-of-type {\n",
              "        vertical-align: middle;\n",
              "    }\n",
              "\n",
              "    .dataframe tbody tr th {\n",
              "        vertical-align: top;\n",
              "    }\n",
              "\n",
              "    .dataframe thead th {\n",
              "        text-align: right;\n",
              "    }\n",
              "</style>\n",
              "<table border=\"1\" class=\"dataframe\">\n",
              "  <tbody>\n",
              "    <tr>\n",
              "      <th>Concordance</th>\n",
              "      <td>0.64</td>\n",
              "    </tr>\n",
              "    <tr>\n",
              "      <th>Partial AIC</th>\n",
              "      <td>1331.50</td>\n",
              "    </tr>\n",
              "    <tr>\n",
              "      <th>log-likelihood ratio test</th>\n",
              "      <td>33.27 on 7 df</td>\n",
              "    </tr>\n",
              "    <tr>\n",
              "      <th>-log2(p) of ll-ratio test</th>\n",
              "      <td>15.37</td>\n",
              "    </tr>\n",
              "  </tbody>\n",
              "</table>\n",
              "</div>"
            ],
            "text/plain": [
              "<lifelines.CoxPHFitter: fitted with 432 total observations, 318 right-censored observations>\n",
              "             duration col = 'week'\n",
              "                event col = 'arrest'\n",
              "      baseline estimation = breslow\n",
              "   number of observations = 432\n",
              "number of events observed = 114\n",
              "   partial log-likelihood = -658.75\n",
              "         time fit was run = 2021-12-01 16:32:22 UTC\n",
              "\n",
              "---\n",
              "            coef  exp(coef)   se(coef)   coef lower 95%   coef upper 95%  exp(coef) lower 95%  exp(coef) upper 95%\n",
              "covariate                                                                                                         \n",
              "fin        -0.38       0.68       0.19            -0.75            -0.00                 0.47                 1.00\n",
              "age        -0.06       0.94       0.02            -0.10            -0.01                 0.90                 0.99\n",
              "race        0.31       1.37       0.31            -0.29             0.92                 0.75                 2.50\n",
              "wexp       -0.15       0.86       0.21            -0.57             0.27                 0.57                 1.30\n",
              "mar        -0.43       0.65       0.38            -1.18             0.31                 0.31                 1.37\n",
              "paro       -0.08       0.92       0.20            -0.47             0.30                 0.63                 1.35\n",
              "prio        0.09       1.10       0.03             0.04             0.15                 1.04                 1.16\n",
              "\n",
              "              z      p   -log2(p)\n",
              "covariate                        \n",
              "fin       -1.98   0.05       4.40\n",
              "age       -2.61   0.01       6.79\n",
              "race       1.02   0.31       1.70\n",
              "wexp      -0.71   0.48       1.06\n",
              "mar       -1.14   0.26       1.97\n",
              "paro      -0.43   0.66       0.59\n",
              "prio       3.19 <0.005       9.48\n",
              "---\n",
              "Concordance = 0.64\n",
              "Partial AIC = 1331.50\n",
              "log-likelihood ratio test = 33.27 on 7 df\n",
              "-log2(p) of ll-ratio test = 15.37"
            ]
          },
          "metadata": {}
        }
      ]
    },
    {
      "cell_type": "code",
      "metadata": {
        "colab": {
          "base_uri": "https://localhost:8080/",
          "height": 295
        },
        "id": "ZwjZKPwOE8gW",
        "outputId": "bd536d82-216f-4d80-ef18-8746b4d40f72"
      },
      "source": [
        "cph.plot()"
      ],
      "execution_count": null,
      "outputs": [
        {
          "output_type": "execute_result",
          "data": {
            "text/plain": [
              "<matplotlib.axes._subplots.AxesSubplot at 0x7f60adc22ed0>"
            ]
          },
          "metadata": {},
          "execution_count": 31
        },
        {
          "output_type": "display_data",
          "data": {
            "image/png": "[encoded data removed]",
            "text/plain": [
              "<Figure size 432x288 with 1 Axes>"
            ]
          },
          "metadata": {
            "needs_background": "light"
          }
        }
      ]
    },
    {
      "cell_type": "code",
      "metadata": {
        "colab": {
          "base_uri": "https://localhost:8080/",
          "height": 278
        },
        "id": "72MNP7x0_QNm",
        "outputId": "585f4329-54a7-48e4-9559-df7f98bc462f"
      },
      "source": [
        "from lifelines import KaplanMeierFitter\n",
        "kmf = {}\n",
        "for i in rossi_dataset['race'].unique():\n",
        "  kmf[i] = KaplanMeierFitter()\n",
        "  df1 = rossi_dataset[rossi_dataset['race'] == i]\n",
        "  kmf[i].fit(df1['week'], event_observed=df1['arrest'])\n",
        "  kmf[i].plot_survival_function(label = i)"
      ],
      "execution_count": null,
      "outputs": [
        {
          "output_type": "display_data",
          "data": {
            "image/png": "[encoded data removed]",
            "text/plain": [
              "<Figure size 432x288 with 1 Axes>"
            ]
          },
          "metadata": {
            "needs_background": "light"
          }
        }
      ]
    },
    {
      "cell_type": "code",
      "metadata": {
        "colab": {
          "base_uri": "https://localhost:8080/",
          "height": 281
        },
        "id": "00EHeNMrECbU",
        "outputId": "d9c146eb-1cd2-4510-8adb-d923281f4f4d"
      },
      "source": [
        "rossi_dataset['age'].hist(bins = 20)"
      ],
      "execution_count": null,
      "outputs": [
        {
          "output_type": "execute_result",
          "data": {
            "text/plain": [
              "<matplotlib.axes._subplots.AxesSubplot at 0x7f60adcef350>"
            ]
          },
          "metadata": {},
          "execution_count": 29
        },
        {
          "output_type": "display_data",
          "data": {
            "image/png": "[encoded data removed]",
            "text/plain": [
              "<Figure size 432x288 with 1 Axes>"
            ]
          },
          "metadata": {
            "needs_background": "light"
          }
        }
      ]
    },
    {
      "cell_type": "code",
      "metadata": {
        "colab": {
          "base_uri": "https://localhost:8080/",
          "height": 295
        },
        "id": "0RJsiDRODzhH",
        "outputId": "8a6d5cd4-7a41-4fc9-9a86-19bc5ee69283"
      },
      "source": [
        "import matplotlib.pyplot as plt\n",
        "\n",
        "\n",
        "kmf = {}\n",
        "age = 20\n",
        "age_label = '<=20'\n",
        "kmf[age_label] = KaplanMeierFitter()\n",
        "df1 = rossi_dataset[rossi_dataset['age'] <= age]\n",
        "kmf[age_label].fit(df1['week'], event_observed=df1['arrest'])\n",
        "kmf[age_label].plot_survival_function(label = age_label)\n",
        "\n",
        "\n",
        "age_label = '>20'\n",
        "kmf[age_label] = KaplanMeierFitter()\n",
        "df1 = rossi_dataset[rossi_dataset['age'] > age]\n",
        "kmf[age_label].fit(df1['week'], event_observed=df1['arrest'])\n",
        "kmf[age_label].plot_survival_function(label = age_label)\n",
        "\n",
        "plt.ylabel('Survival from arrest')"
      ],
      "execution_count": null,
      "outputs": [
        {
          "output_type": "execute_result",
          "data": {
            "text/plain": [
              "Text(0, 0.5, 'Survival from arrest')"
            ]
          },
          "metadata": {},
          "execution_count": 33
        },
        {
          "output_type": "display_data",
          "data": {
            "image/png": "[encoded data removed]",
            "text/plain": [
              "<Figure size 432x288 with 1 Axes>"
            ]
          },
          "metadata": {
            "needs_background": "light"
          }
        }
      ]
    },
    {
      "cell_type": "code",
      "metadata": {
        "id": "gMfi7JR5Egjt",
        "colab": {
          "base_uri": "https://localhost:8080/",
          "height": 283
        },
        "outputId": "6955410b-0964-4858-8c7d-0dcfac8c2b62"
      },
      "source": [
        "rossi_dataset['prio'].hist()"
      ],
      "execution_count": null,
      "outputs": [
        {
          "output_type": "execute_result",
          "data": {
            "text/plain": [
              "<matplotlib.axes._subplots.AxesSubplot at 0x7f8b4def6a10>"
            ]
          },
          "metadata": {},
          "execution_count": 20
        },
        {
          "output_type": "display_data",
          "data": {
            "image/png": "[encoded data removed]",
            "text/plain": [
              "<Figure size 432x288 with 1 Axes>"
            ]
          },
          "metadata": {
            "needs_background": "light"
          }
        }
      ]
    },
    {
      "cell_type": "code",
      "metadata": {
        "colab": {
          "base_uri": "https://localhost:8080/"
        },
        "id": "G_l9DDQH3Auo",
        "outputId": "40a21cad-d69f-4b54-e19a-5bd5a50e4972"
      },
      "source": [
        "rossi_dataset['prio'].describe()"
      ],
      "execution_count": null,
      "outputs": [
        {
          "output_type": "execute_result",
          "data": {
            "text/plain": [
              "count    432.000000\n",
              "mean       2.983796\n",
              "std        2.896068\n",
              "min        0.000000\n",
              "25%        1.000000\n",
              "50%        2.000000\n",
              "75%        4.000000\n",
              "max       18.000000\n",
              "Name: prio, dtype: float64"
            ]
          },
          "metadata": {},
          "execution_count": 22
        }
      ]
    },
    {
      "cell_type": "code",
      "metadata": {
        "colab": {
          "base_uri": "https://localhost:8080/",
          "height": 297
        },
        "id": "LtFPh3Aj3Kz5",
        "outputId": "2951bff4-64b2-456e-e1ce-92365283c914"
      },
      "source": [
        "\n",
        "kmf = {}\n",
        "prio = 3\n",
        "prio_label = '<=3'\n",
        "kmf[prio_label] = KaplanMeierFitter()\n",
        "df1 = rossi_dataset[rossi_dataset['prio'] <= prio]\n",
        "kmf[prio_label].fit(df1['week'], event_observed=df1['arrest'])\n",
        "kmf[prio_label].plot_survival_function(label = prio_label)\n",
        "\n",
        "\n",
        "prio_label = '>3'\n",
        "kmf[prio_label] = KaplanMeierFitter()\n",
        "df1 = rossi_dataset[rossi_dataset['prio'] > prio]\n",
        "kmf[prio_label].fit(df1['week'], event_observed=df1['arrest'])\n",
        "kmf[prio_label].plot_survival_function(label = prio_label)\n",
        "\n",
        "plt.ylabel('Survival from arrest')"
      ],
      "execution_count": null,
      "outputs": [
        {
          "output_type": "execute_result",
          "data": {
            "text/plain": [
              "Text(0, 0.5, 'Survival from arrest')"
            ]
          },
          "metadata": {},
          "execution_count": 25
        },
        {
          "output_type": "display_data",
          "data": {
            "image/png": "[encoded data removed]",
            "text/plain": [
              "<Figure size 432x288 with 1 Axes>"
            ]
          },
          "metadata": {
            "needs_background": "light"
          }
        }
      ]
    },
    {
      "cell_type": "code",
      "metadata": {
        "id": "HCLTyUHS3uOC"
      },
      "source": [
        ""
      ],
      "execution_count": null,
      "outputs": []
    }
  ]
}