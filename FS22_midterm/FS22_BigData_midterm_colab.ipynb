{
  "nbformat": 4,
  "nbformat_minor": 0,
  "metadata": {
    "colab": {
      "name": "FS22_BigData-midterm_colab.ipynb",
      "provenance": [],
      "collapsed_sections": [],
      "authorship_tag": "ABX9TyPy3F9YqmxaFWY2blUmw6Kl",
      "include_colab_link": true
    },
    "kernelspec": {
      "name": "python3",
      "display_name": "Python 3"
    },
    "language_info": {
      "name": "python"
    }
  },
  "cells": [
    {
      "cell_type": "markdown",
      "metadata": {
        "id": "view-in-github",
        "colab_type": "text"
      },
      "source": [
        "<a href=\"https://colab.research.google.com/github/araldi/FS22---Big-Data-Analysis-in-Biomedical-Research-376-1723-00L/blob/main/FS22_midterm/FS22_BigData_midterm_colab.ipynb\" target=\"_parent\"><img src=\"https://colab.research.google.com/assets/colab-badge.svg\" alt=\"Open In Colab\"/></a>"
      ]
    },
    {
      "cell_type": "markdown",
      "metadata": {
        "id": "os5SHy1zV8IP"
      },
      "source": [
        "# Datasets"
      ]
    },
    {
      "cell_type": "markdown",
      "metadata": {
        "id": "Cj7sgoCdVuEN"
      },
      "source": [
        "Life expectancy at birth [years]\n",
        "\n",
        "```\n",
        "https://raw.githubusercontent.com/open-numbers/ddf--gapminder--life_expectancy/master/ddf--datapoints--life_expectancy_at_birth--by--geo--time.csv\n",
        "```\n",
        "\n"
      ]
    },
    {
      "cell_type": "markdown",
      "metadata": {
        "id": "A4N_fmyhVoBK"
      },
      "source": [
        "geo to country name\n",
        "\n",
        "\n",
        "\n",
        "```\n",
        "https://raw.githubusercontent.com/open-numbers/ddf--gapminder--life_expectancy/master/ddf--entities--geo.csv\n",
        "```\n",
        "\n"
      ]
    },
    {
      "cell_type": "markdown",
      "metadata": {
        "id": "eUhRYNM7WxvG"
      },
      "source": [
        "country classifications\n",
        "\n",
        "* Landlocked or costline (landlocked)\n",
        "* Latitude (latitude)\n",
        "* Longitude (longitude)\n",
        "* Religion (main_religion_2008)\n",
        "* Country belongs to the UN (un_state)\n",
        "* Income group (income_groups)\n",
        "\n",
        "\n",
        "```\n",
        "https://raw.githubusercontent.com/open-numbers/ddf--open_numbers--world_development_indicators/master/ddf--entities--geo--country.csv\n",
        "```\n",
        "\n"
      ]
    },
    {
      "cell_type": "markdown",
      "metadata": {
        "id": "gbSOoHgA36mg"
      },
      "source": [
        "Total population by sex, annually from 1950 to 2100.\n",
        "* PopMale: Total male population (thousands)\n",
        "* PopFemale: Total female population (thousands)\n",
        "* PopTotal: Total population, both sexes (thousands)\n",
        "* PopDensity: Population per square kilometre (thousands)\n",
        "\n",
        "\n",
        "\n",
        "```\n",
        "https://population.un.org/wpp/Download/Files/1_Indicators%20(Standard)/CSV_FILES/WPP2019_TotalPopulationBySex.csv\n",
        "```\n",
        "\n"
      ]
    },
    {
      "cell_type": "markdown",
      "metadata": {
        "id": "p3zL2Ujj4U-J"
      },
      "source": [
        "Population by 5-year age groups.\n",
        "* PopMale: Male population in the age group (thousands)\n",
        "* PopFemale: Female population in the age group (thousands)\n",
        "* PopTotal: Total population in the age group (thousands)\n",
        "* AgeGrp (string): label identifying the single age (e.g. 15) or age group (e.g. 15-19)\n",
        "* AgeGrpStart (numeric): initial age of the age group\n",
        "* AgeGrpSpan (numeric): length of the age group, in years\n",
        "\n",
        "\n",
        "\n",
        "\n",
        "```\n",
        "https://population.un.org/wpp/Download/Files/1_Indicators%20(Standard)/CSV_FILES/WPP2019_PopulationByAgeSex_Medium.csv\n",
        "```\n",
        "\n"
      ]
    },
    {
      "cell_type": "markdown",
      "metadata": {
        "id": "VTg2m2m5WD-P"
      },
      "source": [
        "# Instructions\n",
        "\n",
        "* Always use x and y labels, units of measure and titles in your plots.\n",
        "* Make sure that every data in the plot is distinguishable.\n",
        "\n",
        "* The text answers can be either as comments in code-blocks, or in separate text-blocks (preferred for readability).\n",
        "\n",
        "* Make sure the code runs without errors and gives consistent output: restart the notebook and rerun all the cells to make sure it will work consistently before turning in\n",
        "\n",
        "* When you are finished you have to options:\n",
        "\n",
        "  1.   give me access to a private repository on GitHub where you add the midterm\n",
        "  2.   send me an .ipynb (make sure you write your name on the file name)\n",
        "\n",
        "\n",
        "\n"
      ]
    },
    {
      "cell_type": "markdown",
      "source": [
        "# Task 1\n"
      ],
      "metadata": {
        "id": "Y3ZEFpYLMBKy"
      }
    },
    {
      "cell_type": "markdown",
      "metadata": {
        "id": "_vLNlTGlX0BE"
      },
      "source": [
        "### Visualize life-expectancy\n",
        "* Plot life expectancy from 1900 until 2020 in Sustainable Development Goal (SDG) regions (or 'un_sdg_region'). Countries and areas are grouped into eight Sustainable Development Goal (SDG) regions as defined by the United Nations Statistics Division and used for The Sustainable Development Goals Report (https://unstats.un.org/sdgs/indicators/regional-groups/). --> Compute and plot the *mean* life-expectancy in each region from 1900 until 2020\n"
      ]
    },
    {
      "cell_type": "markdown",
      "metadata": {
        "id": "-WIfb5DgKmzJ"
      },
      "source": [
        "* Pick a region of your chosing (not Australia + New Zealand!), and plot the life-expectancy of all the countries in that region from 1900 to 2020. If the plot is too crowded, you can split the countries alphabetically (or in any other order) in 2+ plots. "
      ]
    },
    {
      "cell_type": "markdown",
      "metadata": {
        "id": "U3oUvXsVrC-n"
      },
      "source": [
        "### Countries with the highest and lowest life-expectancy\n",
        "\n",
        "Find and plot life expectancy from 1900 until 2020 of the 5 countries that have the highest and lowest mean life expectancy in 2000-2020."
      ]
    },
    {
      "cell_type": "markdown",
      "metadata": {
        "id": "glmQYPrUsg5V"
      },
      "source": [
        "### Which factors contribute to life-expectancy?\n",
        "\n",
        "\n",
        "* Which of the following factors significantly contribute to 2000-2020 mean life expectancy?\n",
        "  *   Landlocked vs coastline\n",
        "  *   Being a high-upper/middle income country vs lower/middle-low income country\n",
        "  *   Being in the Northern emisphere vs Southern emisphere \n",
        "  *   Longitude\n",
        "\n",
        "  *   Being a christian country vs a country of other religions\n",
        "  * Being a UN state or not\n",
        "\n",
        "* Define the significance threshold.\n",
        "* Which test are you using?\n",
        "* What is the interpretation of the test results?\n",
        "\n",
        "\n",
        "* What is the contribution of these factors to mean life expectancy in 1900-1920?\n",
        "\n",
        "\n",
        "* Use the most appropriate plot(s) to describe both 2000-2020 and 1900-1920 life expectancy distributions in the features that are significantly contributing to affect life expectancy.\n",
        "\n"
      ]
    },
    {
      "cell_type": "markdown",
      "metadata": {
        "id": "cCt4E67mypeR"
      },
      "source": [
        "# Task 2\n",
        "\n",
        "### Ratio female-male population\n",
        " \n",
        "\n",
        "*   Find which countries have a different ratio between males and females of the ages 25-29 in 2010 vs 1950. \n",
        "  * Note: in the 5-year age group dataset there are not only countries but also broader regions, therefore focus only on countries (as found in the \"geo to country name\" file)\n",
        "  * Note: the unit of measure is 1000 individuals, do not transform it to run the statistical test\n",
        "* Which statistical test do you use?\n",
        "* Formulate the null and alternate hypothesis.\n",
        "\n",
        "* Define the significance threshold.\n",
        "* What is the interpretation of the test results?\n",
        "\n",
        "* Plot in the most appropriate way the age distribution of males vs females in these countries (plus Switzerland) in 2010 vs 1950.\n",
        "\n"
      ]
    },
    {
      "cell_type": "markdown",
      "source": [
        "### Note:\n",
        "\n",
        "Since you will be performing multiple statistical tests (one per each nation), you have to adjust the significance threshold of your p-value to avoid false positives (for over 100 test, 20% of p-values will be less than 0.05, by definition, but it does not mean that the comparison you are measuring is significantly different!). This is called multiple testing correction. In practice, divide the significance threshold originally set by the number of tests that, and that is the multiple testing corrected significance threshold."
      ],
      "metadata": {
        "id": "fmxmn0-uWWi4"
      }
    }
  ]
}