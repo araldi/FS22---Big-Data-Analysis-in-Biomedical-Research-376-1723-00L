{
  "cells": [
    {
      "cell_type": "markdown",
      "metadata": {
        "id": "view-in-github",
        "colab_type": "text"
      },
      "source": [
        "<a href=\"https://colab.research.google.com/github/araldi/FS22---Big-Data-Analysis-in-Biomedical-Research-376-1723-00L/blob/main/Week4/Example_of_dataset_prep_from_students.ipynb\" target=\"_parent\"><img src=\"https://colab.research.google.com/assets/colab-badge.svg\" alt=\"Open In Colab\"/></a>"
      ]
    },
    {
      "cell_type": "code",
      "execution_count": null,
      "id": "8e5e1b0b",
      "metadata": {
        "id": "8e5e1b0b"
      },
      "outputs": [],
      "source": [
        "import pandas as pd\n",
        "import json\n",
        "import numpy as np"
      ]
    },
    {
      "cell_type": "code",
      "execution_count": null,
      "id": "b30bcf49",
      "metadata": {
        "id": "b30bcf49"
      },
      "outputs": [],
      "source": [
        "df = pd.DataFrame()\n",
        "to_add = pd.Series(['17.07.2021  09:13:42', 'Vahetuse alguse k√ºsitlus', '[{\"question\":\"Vahetus\",\"questionType\":\"CHOICE\",\"selectedAnser\":\"P√§evane, 12h\"},{\"question\":\"Kas oled olnud eelnevalt t√∂√∂l viimase 36h jooksul?\",\"questionType\":\"CHOICE\",\"selectedAnser\":\"Jah - alustan p√§evavalvet, olin eile p√§eval t√∂√∂l \"},{\"question\":\"Kas t√∂√∂s keskendumine n√µuab sinult eriliselt pingutamist?\",\"questionType\":\"SCALE\",\"selectedAnser\":\"1\"},{\"question\":\"Kui v√§sinuna Sa ennast tunned? \",\"questionType\":\"SCALE\",\"selectedAnser\":\"1\"},{\"question\":\"Kui kurnatuna Sa ennast tunned? \",\"questionType\":\"SCALE\",\"selectedAnser\":\"1\"},{\"question\":\"Kas tunned, et oled t√∂√∂s efektiivne? \",\"questionType\":\"SCALE\",\"selectedAnser\":\"5\"}]'])\n",
        "df = df.append(to_add, ignore_index=True)\n",
        "\n",
        "to_add = pd.Series(['12.07.2021  23:17:26', 'Vahetuse alguse k√ºsitlus', '[{\"question\":\"Vahetus\",\"questionType\":\"CHOICE\",\"selectedAnser\":\"√ñine, 12h\"},{\"question\":\"Kas oled olnud eelnevalt t√∂√∂l viimase 36h jooksul?\",\"questionType\":\"CHOICE\",\"selectedAnser\":\"Jah - Alustan √∂√∂valvet, olin eile √∂√∂sel t√∂√∂l\"},{\"question\":\"Kas t√∂√∂s keskendumine n√µuab sinult eriliselt pingutamist?\",\"questionType\":\"SCALE\",\"selectedAnser\":\"2\"},{\"question\":\"Kui v√§sinuna Sa ennast tunned? \",\"questionType\":\"SCALE\",\"selectedAnser\":\"3\"},{\"question\":\"Kui kurnatuna Sa ennast tunned? \",\"questionType\":\"SCALE\",\"selectedAnser\":\"3\"},{\"question\":\"Kas tunned, et oled t√∂√∂s efektiivne? \",\"questionType\":\"SCALE\",\"selectedAnser\":\"3\"}]'])\n",
        "df = df.append(to_add, ignore_index=True)\n",
        "\n",
        "to_add = pd.Series(['26.07.2021  23:08:39', 'Vahetuse alguse k√ºsitlus','[{\"question\":\"Vahetus\",\"questionType\":\"CHOICE\",\"selectedAnser\":\"P√§evane, 12h\"},{\"question\":\"Kas oled olnud eelnevalt t√∂√∂l viimase 36h jooksul?\",\"questionType\":\"CHOICE\",\"selectedAnser\":\"Jah - alustan p√§evavalvet, olin eile p√§eval t√∂√∂l \"},{\"question\":\"Kas t√∂√∂s keskendumine n√µuab sinult eriliselt pingutamist?\",\"questionType\":\"SCALE\",\"selectedAnser\":\"2\"},{\"question\":\"Kui v√§sinuna Sa ennast tunned? \",\"questionType\":\"SCALE\",\"selectedAnser\":\"2\"},{\"question\":\"Kui kurnatuna Sa ennast tunned? \",\"questionType\":\"SCALE\",\"selectedAnser\":\"1\"},{\"question\":\"Kas tunned, et oled t√∂√∂s efektiivne? \",\"questionType\":\"SCALE\",\"selectedAnser\":\"3\"}]'])\n",
        "df = df.append(to_add, ignore_index=True)"
      ]
    },
    {
      "cell_type": "code",
      "source": [
        "df"
      ],
      "metadata": {
        "id": "CGuSFKTnz_Hv"
      },
      "id": "CGuSFKTnz_Hv",
      "execution_count": null,
      "outputs": []
    },
    {
      "cell_type": "code",
      "source": [
        "to_split = df.iloc[0,2]\n",
        "to_split"
      ],
      "metadata": {
        "id": "VyaZpR9dzd5K"
      },
      "id": "VyaZpR9dzd5K",
      "execution_count": null,
      "outputs": []
    },
    {
      "cell_type": "code",
      "source": [
        "to_split.split(',')"
      ],
      "metadata": {
        "id": "kgo7wlG62NB0"
      },
      "id": "kgo7wlG62NB0",
      "execution_count": null,
      "outputs": []
    },
    {
      "cell_type": "code",
      "source": [
        "to_split.split(':')"
      ],
      "metadata": {
        "id": "EjhAYbGD2UxP"
      },
      "id": "EjhAYbGD2UxP",
      "execution_count": null,
      "outputs": []
    },
    {
      "cell_type": "code",
      "source": [
        "to_split.split('{')"
      ],
      "metadata": {
        "id": "a-szv9KT0jgF"
      },
      "id": "a-szv9KT0jgF",
      "execution_count": null,
      "outputs": []
    },
    {
      "cell_type": "code",
      "source": [
        "to_split.split('},{')"
      ],
      "metadata": {
        "id": "RoE_cRTb04s9"
      },
      "id": "RoE_cRTb04s9",
      "execution_count": null,
      "outputs": []
    },
    {
      "cell_type": "code",
      "execution_count": null,
      "id": "1ccaed48",
      "metadata": {
        "id": "1ccaed48"
      },
      "outputs": [],
      "source": [
        "for index, x in enumerate(df[2]):\n",
        "    if x == np.nan:\n",
        "        pass\n",
        "    else:\n",
        "        try:\n",
        "            x1 = x[1:-1].split('},{')[0] +'}'\n",
        "            x2 = '{' + x[1:-1].split('},{')[1] +'}'\n",
        "            x3 = '{' +x[1:-1].split('},{')[2] +'}'\n",
        "            x4 = '{' +x[1:-1].split('},{')[3] +'}'\n",
        "            x5 = '{' +x[1:-1].split('},{')[4] +'}'\n",
        "            x6 = '{' +x[1:-1].split('},{')[5]\n",
        "\n",
        "\n",
        "\n",
        "\n",
        "            y1 = json.loads(x1)\n",
        "            df.loc[index, 'Vahetus'] = y1['selectedAnser']\n",
        "\n",
        "            y2 = json.loads(x2)\n",
        "            df.loc[index, 'Kas oled olnud eelnevalt tööl viimase 36h jooksul?'] = y2['selectedAnser']\n",
        "\n",
        "            y3 = json.loads(x3)\n",
        "            df.loc[index, 'Kas töös keskendumine nõuab sinult eriliselt pingutamist?'] = y3['selectedAnser']\n",
        "\n",
        "            y4 = json.loads(x4)\n",
        "            df.loc[index, 'Kui väsinuna Sa ennast tunned? '] = y4['selectedAnser']\n",
        "\n",
        "            y5 = json.loads(x5)\n",
        "            df.loc[index, 'Kui kurnatuna Sa ennast tunned? '] = y5['selectedAnser']\n",
        "\n",
        "            y6 = json.loads(x6)\n",
        "            df.loc[index, 'Kas tunned, et oled töös efektiivne? '] = y6['selectedAnser']\n",
        "        except:\n",
        "            pass\n",
        "\n",
        "\n",
        "    #df.loc[index,'question'] = y['question']"
      ]
    },
    {
      "cell_type": "code",
      "execution_count": null,
      "id": "6fdc5345",
      "metadata": {
        "id": "6fdc5345"
      },
      "outputs": [],
      "source": [
        "df.to_csv('output.csv')"
      ]
    },
    {
      "cell_type": "code",
      "source": [
        ""
      ],
      "metadata": {
        "id": "v9I4fVfO0WgD"
      },
      "id": "v9I4fVfO0WgD",
      "execution_count": null,
      "outputs": []
    }
  ],
  "metadata": {
    "kernelspec": {
      "display_name": "Python 3 (ipykernel)",
      "language": "python",
      "name": "python3"
    },
    "language_info": {
      "codemirror_mode": {
        "name": "ipython",
        "version": 3
      },
      "file_extension": ".py",
      "mimetype": "text/x-python",
      "name": "python",
      "nbconvert_exporter": "python",
      "pygments_lexer": "ipython3",
      "version": "3.9.7"
    },
    "toc": {
      "base_numbering": 1,
      "nav_menu": {},
      "number_sections": true,
      "sideBar": true,
      "skip_h1_title": false,
      "title_cell": "Table of Contents",
      "title_sidebar": "Contents",
      "toc_cell": false,
      "toc_position": {},
      "toc_section_display": true,
      "toc_window_display": false
    },
    "colab": {
      "name": "Example_of_dataset_prep_from_students.ipynb",
      "provenance": [],
      "include_colab_link": true
    }
  },
  "nbformat": 4,
  "nbformat_minor": 5
}