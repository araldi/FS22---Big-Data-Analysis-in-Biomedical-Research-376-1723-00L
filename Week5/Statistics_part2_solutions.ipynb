{
  "nbformat": 4,
  "nbformat_minor": 0,
  "metadata": {
    "colab": {
      "name": "Statistics_part2_solutions.ipynb",
      "provenance": [],
      "collapsed_sections": [],
      "authorship_tag": "ABX9TyPitVbcWRyhQ9XElnsoYMPO",
      "include_colab_link": true
    },
    "kernelspec": {
      "name": "python3",
      "display_name": "Python 3"
    },
    "language_info": {
      "name": "python"
    }
  },
  "cells": [
    {
      "cell_type": "markdown",
      "metadata": {
        "id": "view-in-github",
        "colab_type": "text"
      },
      "source": [
        "<a href=\"https://colab.research.google.com/github/araldi/FS22---Big-Data-Analysis-in-Biomedical-Research-376-1723-00L/blob/main/Week5/Statistics_part2_solutions.ipynb\" target=\"_parent\"><img src=\"https://colab.research.google.com/assets/colab-badge.svg\" alt=\"Open In Colab\"/></a>"
      ]
    },
    {
      "cell_type": "code",
      "metadata": {
        "id": "O1DUWIHWiMJf",
        "colab": {
          "base_uri": "https://localhost:8080/"
        },
        "outputId": "3925f3ee-56d5-4ecb-a4cb-e65022feea18"
      },
      "source": [
        "import pandas as pd\n",
        "import numpy as np\n",
        "import seaborn as sns\n",
        "import pylab as pl\n",
        "import matplotlib \n",
        "import matplotlib.pyplot as plt\n",
        "from matplotlib import animation\n",
        "from IPython.display import HTML\n",
        "\n",
        "import scipy as sp\n",
        "from scipy import stats\n",
        "%pylab inline"
      ],
      "execution_count": null,
      "outputs": [
        {
          "output_type": "stream",
          "name": "stdout",
          "text": [
            "Populating the interactive namespace from numpy and matplotlib\n"
          ]
        }
      ]
    },
    {
      "cell_type": "code",
      "metadata": {
        "id": "Y7gBWu7HjfzC"
      },
      "source": [
        "df = pd.read_csv('https://github.com/araldi/HS21---Big-Data-Analysis-in-Biomedical-Research-376-1723-00L-/blob/main/Week5/Week5_statistics_exercise.csv?raw=true')"
      ],
      "execution_count": null,
      "outputs": []
    },
    {
      "cell_type": "code",
      "metadata": {
        "colab": {
          "base_uri": "https://localhost:8080/",
          "height": 250
        },
        "id": "K_P2MK0Vt-ty",
        "outputId": "65f3283a-6c9a-44b9-cb55-5e358a831c35"
      },
      "source": [
        "df.head()"
      ],
      "execution_count": null,
      "outputs": [
        {
          "output_type": "execute_result",
          "data": {
            "text/plain": [
              "   Unnamed: 0      eid  31-0.0  48-0.0  49-0.0  50-0.0  2443-0.0  21002-0.0  \\\n",
              "0      281147  3811815     0.0    94.0   109.0   161.0       0.0       84.1   \n",
              "1       51158  1511686     0.0    67.0    96.0   160.0       0.0       61.9   \n",
              "2      167746  2677649     0.0    78.0   108.0   167.5       0.0       69.2   \n",
              "3      381947  4820009     1.0    88.0   101.0   184.0       0.0       79.5   \n",
              "4      114270  2142869     0.0    76.0    98.0   156.0       0.0       59.0   \n",
              "\n",
              "   21022-0.0  23099-0.0  30740-0.0  30750-0.0  30760-0.0  30770-0.0  30780-0.0  \n",
              "0       54.0       46.9      5.032       35.6      1.287     24.253      4.501  \n",
              "1       41.0       28.6      3.671       31.7      1.059     22.127      5.275  \n",
              "2       55.0       34.7      5.234       25.5      1.423     19.969      3.603  \n",
              "3       45.0       14.1      4.665       35.1      2.018     28.842      3.060  \n",
              "4       60.0       25.4      5.192       40.1      1.581     24.269      5.010  "
            ],
            "text/html": [
              "\n",
              "  <div id=\"df-6f257806-65ab-456e-abbc-556e50fa668d\">\n",
              "    <div class=\"colab-df-container\">\n",
              "      <div>\n",
              "<style scoped>\n",
              "    .dataframe tbody tr th:only-of-type {\n",
              "        vertical-align: middle;\n",
              "    }\n",
              "\n",
              "    .dataframe tbody tr th {\n",
              "        vertical-align: top;\n",
              "    }\n",
              "\n",
              "    .dataframe thead th {\n",
              "        text-align: right;\n",
              "    }\n",
              "</style>\n",
              "<table border=\"1\" class=\"dataframe\">\n",
              "  <thead>\n",
              "    <tr style=\"text-align: right;\">\n",
              "      <th></th>\n",
              "      <th>Unnamed: 0</th>\n",
              "      <th>eid</th>\n",
              "      <th>31-0.0</th>\n",
              "      <th>48-0.0</th>\n",
              "      <th>49-0.0</th>\n",
              "      <th>50-0.0</th>\n",
              "      <th>2443-0.0</th>\n",
              "      <th>21002-0.0</th>\n",
              "      <th>21022-0.0</th>\n",
              "      <th>23099-0.0</th>\n",
              "      <th>30740-0.0</th>\n",
              "      <th>30750-0.0</th>\n",
              "      <th>30760-0.0</th>\n",
              "      <th>30770-0.0</th>\n",
              "      <th>30780-0.0</th>\n",
              "    </tr>\n",
              "  </thead>\n",
              "  <tbody>\n",
              "    <tr>\n",
              "      <th>0</th>\n",
              "      <td>281147</td>\n",
              "      <td>3811815</td>\n",
              "      <td>0.0</td>\n",
              "      <td>94.0</td>\n",
              "      <td>109.0</td>\n",
              "      <td>161.0</td>\n",
              "      <td>0.0</td>\n",
              "      <td>84.1</td>\n",
              "      <td>54.0</td>\n",
              "      <td>46.9</td>\n",
              "      <td>5.032</td>\n",
              "      <td>35.6</td>\n",
              "      <td>1.287</td>\n",
              "      <td>24.253</td>\n",
              "      <td>4.501</td>\n",
              "    </tr>\n",
              "    <tr>\n",
              "      <th>1</th>\n",
              "      <td>51158</td>\n",
              "      <td>1511686</td>\n",
              "      <td>0.0</td>\n",
              "      <td>67.0</td>\n",
              "      <td>96.0</td>\n",
              "      <td>160.0</td>\n",
              "      <td>0.0</td>\n",
              "      <td>61.9</td>\n",
              "      <td>41.0</td>\n",
              "      <td>28.6</td>\n",
              "      <td>3.671</td>\n",
              "      <td>31.7</td>\n",
              "      <td>1.059</td>\n",
              "      <td>22.127</td>\n",
              "      <td>5.275</td>\n",
              "    </tr>\n",
              "    <tr>\n",
              "      <th>2</th>\n",
              "      <td>167746</td>\n",
              "      <td>2677649</td>\n",
              "      <td>0.0</td>\n",
              "      <td>78.0</td>\n",
              "      <td>108.0</td>\n",
              "      <td>167.5</td>\n",
              "      <td>0.0</td>\n",
              "      <td>69.2</td>\n",
              "      <td>55.0</td>\n",
              "      <td>34.7</td>\n",
              "      <td>5.234</td>\n",
              "      <td>25.5</td>\n",
              "      <td>1.423</td>\n",
              "      <td>19.969</td>\n",
              "      <td>3.603</td>\n",
              "    </tr>\n",
              "    <tr>\n",
              "      <th>3</th>\n",
              "      <td>381947</td>\n",
              "      <td>4820009</td>\n",
              "      <td>1.0</td>\n",
              "      <td>88.0</td>\n",
              "      <td>101.0</td>\n",
              "      <td>184.0</td>\n",
              "      <td>0.0</td>\n",
              "      <td>79.5</td>\n",
              "      <td>45.0</td>\n",
              "      <td>14.1</td>\n",
              "      <td>4.665</td>\n",
              "      <td>35.1</td>\n",
              "      <td>2.018</td>\n",
              "      <td>28.842</td>\n",
              "      <td>3.060</td>\n",
              "    </tr>\n",
              "    <tr>\n",
              "      <th>4</th>\n",
              "      <td>114270</td>\n",
              "      <td>2142869</td>\n",
              "      <td>0.0</td>\n",
              "      <td>76.0</td>\n",
              "      <td>98.0</td>\n",
              "      <td>156.0</td>\n",
              "      <td>0.0</td>\n",
              "      <td>59.0</td>\n",
              "      <td>60.0</td>\n",
              "      <td>25.4</td>\n",
              "      <td>5.192</td>\n",
              "      <td>40.1</td>\n",
              "      <td>1.581</td>\n",
              "      <td>24.269</td>\n",
              "      <td>5.010</td>\n",
              "    </tr>\n",
              "  </tbody>\n",
              "</table>\n",
              "</div>\n",
              "      <button class=\"colab-df-convert\" onclick=\"convertToInteractive('df-6f257806-65ab-456e-abbc-556e50fa668d')\"\n",
              "              title=\"Convert this dataframe to an interactive table.\"\n",
              "              style=\"display:none;\">\n",
              "        \n",
              "  <svg xmlns=\"http://www.w3.org/2000/svg\" height=\"24px\"viewBox=\"0 0 24 24\"\n",
              "       width=\"24px\">\n",
              "    <path d=\"M0 0h24v24H0V0z\" fill=\"none\"/>\n",
              "    <path d=\"M18.56 5.44l.94 2.06.94-2.06 2.06-.94-2.06-.94-.94-2.06-.94 2.06-2.06.94zm-11 1L8.5 8.5l.94-2.06 2.06-.94-2.06-.94L8.5 2.5l-.94 2.06-2.06.94zm10 10l.94 2.06.94-2.06 2.06-.94-2.06-.94-.94-2.06-.94 2.06-2.06.94z\"/><path d=\"M17.41 7.96l-1.37-1.37c-.4-.4-.92-.59-1.43-.59-.52 0-1.04.2-1.43.59L10.3 9.45l-7.72 7.72c-.78.78-.78 2.05 0 2.83L4 21.41c.39.39.9.59 1.41.59.51 0 1.02-.2 1.41-.59l7.78-7.78 2.81-2.81c.8-.78.8-2.07 0-2.86zM5.41 20L4 18.59l7.72-7.72 1.47 1.35L5.41 20z\"/>\n",
              "  </svg>\n",
              "      </button>\n",
              "      \n",
              "  <style>\n",
              "    .colab-df-container {\n",
              "      display:flex;\n",
              "      flex-wrap:wrap;\n",
              "      gap: 12px;\n",
              "    }\n",
              "\n",
              "    .colab-df-convert {\n",
              "      background-color: #E8F0FE;\n",
              "      border: none;\n",
              "      border-radius: 50%;\n",
              "      cursor: pointer;\n",
              "      display: none;\n",
              "      fill: #1967D2;\n",
              "      height: 32px;\n",
              "      padding: 0 0 0 0;\n",
              "      width: 32px;\n",
              "    }\n",
              "\n",
              "    .colab-df-convert:hover {\n",
              "      background-color: #E2EBFA;\n",
              "      box-shadow: 0px 1px 2px rgba(60, 64, 67, 0.3), 0px 1px 3px 1px rgba(60, 64, 67, 0.15);\n",
              "      fill: #174EA6;\n",
              "    }\n",
              "\n",
              "    [theme=dark] .colab-df-convert {\n",
              "      background-color: #3B4455;\n",
              "      fill: #D2E3FC;\n",
              "    }\n",
              "\n",
              "    [theme=dark] .colab-df-convert:hover {\n",
              "      background-color: #434B5C;\n",
              "      box-shadow: 0px 1px 3px 1px rgba(0, 0, 0, 0.15);\n",
              "      filter: drop-shadow(0px 1px 2px rgba(0, 0, 0, 0.3));\n",
              "      fill: #FFFFFF;\n",
              "    }\n",
              "  </style>\n",
              "\n",
              "      <script>\n",
              "        const buttonEl =\n",
              "          document.querySelector('#df-6f257806-65ab-456e-abbc-556e50fa668d button.colab-df-convert');\n",
              "        buttonEl.style.display =\n",
              "          google.colab.kernel.accessAllowed ? 'block' : 'none';\n",
              "\n",
              "        async function convertToInteractive(key) {\n",
              "          const element = document.querySelector('#df-6f257806-65ab-456e-abbc-556e50fa668d');\n",
              "          const dataTable =\n",
              "            await google.colab.kernel.invokeFunction('convertToInteractive',\n",
              "                                                     [key], {});\n",
              "          if (!dataTable) return;\n",
              "\n",
              "          const docLinkHtml = 'Like what you see? Visit the ' +\n",
              "            '<a target=\"_blank\" href=https://colab.research.google.com/notebooks/data_table.ipynb>data table notebook</a>'\n",
              "            + ' to learn more about interactive tables.';\n",
              "          element.innerHTML = '';\n",
              "          dataTable['output_type'] = 'display_data';\n",
              "          await google.colab.output.renderOutput(dataTable, element);\n",
              "          const docLink = document.createElement('div');\n",
              "          docLink.innerHTML = docLinkHtml;\n",
              "          element.appendChild(docLink);\n",
              "        }\n",
              "      </script>\n",
              "    </div>\n",
              "  </div>\n",
              "  "
            ]
          },
          "metadata": {},
          "execution_count": 3
        }
      ]
    },
    {
      "cell_type": "code",
      "metadata": {
        "id": "ISsZRXhHzMtT"
      },
      "source": [
        "# calculate BMI\n",
        "df['BMI']= df['21002-0.0'] / np.power(df['50-0.0']/100,2)"
      ],
      "execution_count": null,
      "outputs": []
    },
    {
      "cell_type": "markdown",
      "metadata": {
        "id": "ZWTonZYy_4v9"
      },
      "source": [
        "# Null hypothesis testing"
      ]
    },
    {
      "cell_type": "markdown",
      "metadata": {
        "id": "a0-zdMMMsylm"
      },
      "source": [
        "Let's test if the observed differences between BMI in males and females are due to randomness."
      ]
    },
    {
      "cell_type": "code",
      "metadata": {
        "id": "__bdo7xtvRJq",
        "colab": {
          "base_uri": "https://localhost:8080/"
        },
        "outputId": "1dadf01c-4b8b-4d2d-ecdc-548c67710817"
      },
      "source": [
        "# What is the observed difference between male and female BMI?\n",
        "\n",
        "# mean of BMI of males\n",
        "np.mean(df[df['31-0.0'] == 1]['BMI']) "
      ],
      "execution_count": null,
      "outputs": [
        {
          "output_type": "execute_result",
          "data": {
            "text/plain": [
              "27.866019956496995"
            ]
          },
          "metadata": {},
          "execution_count": 7
        }
      ]
    },
    {
      "cell_type": "code",
      "metadata": {
        "id": "d90pciNZvb1_",
        "colab": {
          "base_uri": "https://localhost:8080/"
        },
        "outputId": "464e9a4d-c9b1-4724-d486-a3a6166cea5f"
      },
      "source": [
        "# mean of BMI of females\n",
        "np.mean(df[df['31-0.0'] == 0]['BMI']) "
      ],
      "execution_count": null,
      "outputs": [
        {
          "output_type": "execute_result",
          "data": {
            "text/plain": [
              "27.083051213959653"
            ]
          },
          "metadata": {},
          "execution_count": 8
        }
      ]
    },
    {
      "cell_type": "code",
      "metadata": {
        "id": "JQuzP8mNvecn"
      },
      "source": [
        "observed_difference = np.mean(df[df['31-0.0'] == 1]['BMI']) - np.mean(df[df['31-0.0'] == 0]['BMI']) "
      ],
      "execution_count": null,
      "outputs": []
    },
    {
      "cell_type": "code",
      "metadata": {
        "id": "UAAzQ26MvjW_",
        "colab": {
          "base_uri": "https://localhost:8080/"
        },
        "outputId": "6ea8ee01-a290-4f33-fb1e-15d66c0266bb"
      },
      "source": [
        "observed_difference"
      ],
      "execution_count": null,
      "outputs": [
        {
          "output_type": "execute_result",
          "data": {
            "text/plain": [
              "0.7829687425373422"
            ]
          },
          "metadata": {},
          "execution_count": 10
        }
      ]
    },
    {
      "cell_type": "code",
      "metadata": {
        "id": "92YIzw68pYnk"
      },
      "source": [
        "# Test if the null hypothesis is true\n",
        "\n",
        "#null hypothesis: BMI in males and females is identical\n",
        "# random sampling of males should give us differences compared to the whole male population \n",
        "# that are as extreme or more than the differences with the female population\n",
        "\n",
        "# the null hypothesis array will contain the difference between samples of the male population\n",
        "# then we will test how many times the null array is bigger than the observed difference between males and females\n",
        "\n",
        "null_hypothesis = np.empty(1)\n",
        "df_males = df[df['31-0.0'] == 1]\n",
        "# let's simulate the sampling in the same population (male)\n",
        "for i in range(1000):\n",
        "  males_sample = np.mean(df_males['BMI'].sample(100))\n",
        "  difference = males_sample-np.mean(df_males['BMI'])\n",
        "  null_hypothesis = np.append(null_hypothesis, difference)"
      ],
      "execution_count": null,
      "outputs": []
    },
    {
      "cell_type": "code",
      "metadata": {
        "id": "rGygUXRGtLa6",
        "colab": {
          "base_uri": "https://localhost:8080/"
        },
        "outputId": "7e85c62c-70fb-4d4a-b208-da75282ff1e8"
      },
      "source": [
        "# let's compare the sampling in males with the observed differences\n",
        "chances_true_null_hypothesis = np.mean(null_hypothesis >= observed_difference)\n",
        "np.mean(null_hypothesis >= observed_difference)"
      ],
      "execution_count": null,
      "outputs": [
        {
          "output_type": "execute_result",
          "data": {
            "text/plain": [
              "0.03996003996003996"
            ]
          },
          "metadata": {},
          "execution_count": 18
        }
      ]
    },
    {
      "cell_type": "code",
      "source": [
        "print('The chances of the female and males having identical BMI distribution is {:.3%}'.format(chances_true_null_hypothesis))"
      ],
      "metadata": {
        "colab": {
          "base_uri": "https://localhost:8080/"
        },
        "id": "PQRIH6pxqSP2",
        "outputId": "9d9dc952-2adc-4c43-c1c3-af82d329385b"
      },
      "execution_count": null,
      "outputs": [
        {
          "output_type": "stream",
          "name": "stdout",
          "text": [
            "The chances of the female and males having identical BMI distribution is 4.296%\n"
          ]
        }
      ]
    },
    {
      "cell_type": "markdown",
      "metadata": {
        "id": "nM1fV9eIYpP7"
      },
      "source": [
        "# Significance and p-value\n",
        "\n",
        "![image.png](data:image/png;base64,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)"
      ]
    },
    {
      "cell_type": "markdown",
      "metadata": {
        "id": "1MPUgVHpHq8D"
      },
      "source": [
        "# Z-test\n",
        "\n",
        "Z-test is a test to determine if a samples has different mean from the population. \n",
        "\n",
        "The $Z$ statistics is : $Z = \\frac{\\bar{X} - \\mu }{s}$ and $s = \\sigma / \\sqrt(N)$\n",
        "\n",
        "\n",
        "\n",
        "Certain conditions must hold true in the data in order to properly utilize z-tests.\n",
        "\n",
        "1) Population mean and population standard deviation must be known.\n",
        "\n",
        "2) Sample mean is known.\n",
        "\n",
        "3) Assumption or test that the sample of data offers some variation and therefore would form a normal distribution by resampling - consistent with the Central Limit Theorem.\n",
        "\n",
        "4) Sample observations were randomly drawn from a population.\n",
        "\n",
        "5) Sample size is known and sufficiently large - often n>=30.\n",
        "\n",
        "6) Assumption that the population from which the sample is drawn from is approximately normal.\n",
        "\n",
        "\n"
      ]
    },
    {
      "cell_type": "markdown",
      "metadata": {
        "id": "kuygOtYsZStO"
      },
      "source": [
        "Weaknesses of z-test:\n",
        "\n",
        "* Need the true population mean\n",
        "* Need the true population standard deviation\n",
        "\n",
        "Usually, we only have access to the sample mean and standard deviation. In this case, a Student's t-test is appropriate."
      ]
    },
    {
      "cell_type": "markdown",
      "source": [
        "### Null hypothesis testing steps\n",
        "\n",
        "**1.   Take measurements from a large control group we'll call the population.**\n",
        "\n",
        "\n"
      ],
      "metadata": {
        "id": "9CnLwWAlrW6_"
      }
    },
    {
      "cell_type": "code",
      "metadata": {
        "id": "ijQhRc6DX5nl",
        "colab": {
          "base_uri": "https://localhost:8080/"
        },
        "outputId": "ce8d32e8-482f-477e-aab6-6d0f1e75332e"
      },
      "source": [
        "# Population: males. Measurement: BMI\n",
        "df_males = df[df['31-0.0'] == 1]\n",
        "df_males.dropna(subset=['BMI'], inplace = True)"
      ],
      "execution_count": null,
      "outputs": [
        {
          "output_type": "stream",
          "name": "stderr",
          "text": [
            "/usr/local/lib/python3.7/dist-packages/pandas/util/_decorators.py:311: SettingWithCopyWarning: \n",
            "A value is trying to be set on a copy of a slice from a DataFrame\n",
            "\n",
            "See the caveats in the documentation: https://pandas.pydata.org/pandas-docs/stable/user_guide/indexing.html#returning-a-view-versus-a-copy\n",
            "  return func(*args, **kwargs)\n"
          ]
        }
      ]
    },
    {
      "cell_type": "code",
      "metadata": {
        "id": "cQNnc0VBYKyz"
      },
      "source": [
        "# calculate mean and std of the population from scratch\n",
        "sum_BMI = 0\n",
        "sum_std = 0\n",
        "\n",
        "for i in df_males['BMI']:\n",
        "  sum_BMI = sum_BMI + i\n",
        "pop_mean = sum_BMI/len(df_males['BMI'])\n",
        "\n",
        "for i in df_males['BMI']:\n",
        "  sum_std = sum_std + (i - pop_mean)**2\n",
        "mean_std = sum_std/len(df_males['BMI'])\n",
        "pop_std = sqrt(mean_std)"
      ],
      "execution_count": null,
      "outputs": []
    },
    {
      "cell_type": "code",
      "metadata": {
        "id": "wxpBPotHo5xq"
      },
      "source": [
        "# let's show a sampling distribution of the population\n",
        "# let's create 500 samples of 100 individuals each\n",
        "import random\n",
        "np.random.seed(2022)\n",
        "\n",
        "sample_means = []\n",
        "n= 100\n",
        "for sample in range(0, 500):\n",
        "    sample_values = random.sample(list(df_males['BMI']), n)    \n",
        "    sample_mean = np.mean(sample_values)\n",
        "    sample_means.append(sample_mean)"
      ],
      "execution_count": null,
      "outputs": []
    },
    {
      "cell_type": "code",
      "metadata": {
        "colab": {
          "base_uri": "https://localhost:8080/",
          "height": 372
        },
        "id": "zFBBfvTOpPno",
        "outputId": "51d4e907-d7cc-4bdd-f853-f4935024e898"
      },
      "source": [
        "sns.distplot(sample_means, color='darksalmon')\n",
        "plt.title(\"Sampling Distribution ($n=100$) of BMI of males\", y=1.015, fontsize=20)\n",
        "plt.xlabel(\"BMI [kg/m^2]\", labelpad=14)\n",
        "plt.vlines(x = pop_mean, ymin = 0, ymax=1, linestyle = '--', label = 'population mean')\n",
        "plt.legend()\n",
        "plt.ylabel(\"frequency of occurence\", labelpad=14);"
      ],
      "execution_count": null,
      "outputs": [
        {
          "output_type": "stream",
          "name": "stderr",
          "text": [
            "/usr/local/lib/python3.7/dist-packages/seaborn/distributions.py:2619: FutureWarning: `distplot` is a deprecated function and will be removed in a future version. Please adapt your code to use either `displot` (a figure-level function with similar flexibility) or `histplot` (an axes-level function for histograms).\n",
            "  warnings.warn(msg, FutureWarning)\n"
          ]
        },
        {
          "output_type": "display_data",
          "data": {
            "text/plain": [
              "<Figure size 432x288 with 1 Axes>"
            ],
            "image/png": "[encoded data removed]"
          },
          "metadata": {
            "needs_background": "light"
          }
        }
      ]
    },
    {
      "cell_type": "markdown",
      "source": [
        "**2. Declare a null and alternative hypothesis.\n",
        "Is it a right-tailed, left-tailed or two-tailed test?**\n",
        "\n",
        "*Null hypothesis*: Males taller than 180cm have equal BMI to males in the population.\n",
        "\n",
        "\n",
        "\n",
        "*Alternative hypothesis*: Males taller than 180cm have DIFFERENT BMI compared to males in the population\n",
        "\n",
        "\n",
        "*Alternative hypothesis*: Males taller than 180cm have HIGHER BMI than males in the population--> right-tailed\n",
        "\n",
        "\n",
        "*Alternative hypothesis*: Males taller than 180cm have LOWER BMI than males in the population --> left-tailed\n"
      ],
      "metadata": {
        "id": "ksLwkkaBrFm9"
      }
    },
    {
      "cell_type": "markdown",
      "source": [
        "**3. Decide on an alpha level - the probability of obtaining a sample mean with treatment from the population.**\n",
        "\n",
        "Alpha level will be 0.05"
      ],
      "metadata": {
        "id": "D0VKC0eaxYYF"
      }
    },
    {
      "cell_type": "markdown",
      "source": [
        "**4. Apply a treatment to a new sample group of size n and record measurements.**\n",
        "\n"
      ],
      "metadata": {
        "id": "B1te55Ntw45k"
      }
    },
    {
      "cell_type": "code",
      "metadata": {
        "id": "OsdpQ8_hHqpk"
      },
      "source": [
        "# two samples of the population (independent)\n",
        "\n",
        "sample1 = random.sample(list(df_males[(df_males['50-0.0'] > 180)]['BMI']), 1000)\n",
        "sample2 = random.sample(list(df_males[(df_males['50-0.0'] <= 180) ]['BMI']), 1000)"
      ],
      "execution_count": null,
      "outputs": []
    },
    {
      "cell_type": "markdown",
      "source": [
        "**5. Take a sufficient number of samples of size n from the population values \n",
        "and record a single statistic of each sample such as the mean or median. \n",
        "This is called the sampling distribution.\n",
        "For example: take 1000 males taller than 180cm or shorter than 180cm as sampling distribution.**"
      ],
      "metadata": {
        "id": "GcJo8jQl0kCI"
      }
    },
    {
      "cell_type": "code",
      "source": [
        "sample1_mean = np.mean(sample1)\n",
        "\n",
        "sample2_mean = np.mean(sample2)"
      ],
      "metadata": {
        "id": "Q2QLWfQA19r6"
      },
      "execution_count": null,
      "outputs": []
    },
    {
      "cell_type": "code",
      "source": [
        "print(\"The mean of men taller than 180 is {:.3f}\".format(sample1_mean))"
      ],
      "metadata": {
        "colab": {
          "base_uri": "https://localhost:8080/"
        },
        "id": "S3k0Ri8v245A",
        "outputId": "3d11a40f-c04c-443d-9eb6-67267bc37276"
      },
      "execution_count": null,
      "outputs": [
        {
          "output_type": "stream",
          "name": "stdout",
          "text": [
            "The mean of men taller than 180 is 27.468\n"
          ]
        }
      ]
    },
    {
      "cell_type": "code",
      "source": [
        "print(\"The mean of men shorter than 180 is {:.3f}\".format(sample2_mean))"
      ],
      "metadata": {
        "colab": {
          "base_uri": "https://localhost:8080/"
        },
        "id": "3H7FP8E_3C4Y",
        "outputId": "6aa8c4ec-3ae4-4b19-e3df-0ec50504e88f"
      },
      "execution_count": null,
      "outputs": [
        {
          "output_type": "stream",
          "name": "stdout",
          "text": [
            "The mean of men shorter than 180 is 27.752\n"
          ]
        }
      ]
    },
    {
      "cell_type": "markdown",
      "source": [
        "**6. Verify data collected meets the requirements needed to run a z-test (see above).**"
      ],
      "metadata": {
        "id": "MFW-Zqwt2O7e"
      }
    },
    {
      "cell_type": "code",
      "metadata": {
        "colab": {
          "base_uri": "https://localhost:8080/",
          "height": 460
        },
        "id": "t8NisJrT1fpI",
        "outputId": "73793f43-2b1a-43aa-dc87-20fd480f3b6b"
      },
      "source": [
        "## does the data follow a normal distribution?\n",
        "\n",
        "## Are there more than 30 data points?\n",
        "\n",
        "# let's display the above distribution\n",
        "plt.figure(figsize = (10,5))\n",
        "sns.distplot(sample1, color='darksalmon', label ='men taller than 180cm')\n",
        "sns.distplot(sample2, color='green', label ='men shorter than 180cm')\n",
        "\n",
        "plt.title(\"BMI of males\", y=1.015, fontsize=20)\n",
        "plt.xlabel(\"BMI [kg/m^2]\", labelpad=14)\n",
        "plt.axvline(x = pop_mean,  linestyle = '--', color = 'k', label= 'population_mean')\n",
        "plt.axvline(x = np.mean(sample1),  linestyle = '--', color = 'b', label = 'men taller than 180cm')\n",
        "plt.axvline(x = np.mean(sample2), linestyle = '--', color = 'r', label = 'men shorter than 180cm')\n",
        "plt.legend()\n",
        "plt.ylabel(\"frequency of occurence\", labelpad=14);"
      ],
      "execution_count": null,
      "outputs": [
        {
          "output_type": "stream",
          "name": "stderr",
          "text": [
            "/usr/local/lib/python3.7/dist-packages/seaborn/distributions.py:2619: FutureWarning: `distplot` is a deprecated function and will be removed in a future version. Please adapt your code to use either `displot` (a figure-level function with similar flexibility) or `histplot` (an axes-level function for histograms).\n",
            "  warnings.warn(msg, FutureWarning)\n",
            "/usr/local/lib/python3.7/dist-packages/seaborn/distributions.py:2619: FutureWarning: `distplot` is a deprecated function and will be removed in a future version. Please adapt your code to use either `displot` (a figure-level function with similar flexibility) or `histplot` (an axes-level function for histograms).\n",
            "  warnings.warn(msg, FutureWarning)\n"
          ]
        },
        {
          "output_type": "display_data",
          "data": {
            "text/plain": [
              "<Figure size 720x360 with 1 Axes>"
            ],
            "image/png": "[encoded data removed]"
          },
          "metadata": {
            "needs_background": "light"
          }
        }
      ]
    },
    {
      "cell_type": "markdown",
      "source": [
        "**7. Calculate the standard deviation of the sampling distribution - called the standard error.**"
      ],
      "metadata": {
        "id": "2K5rrD6K2Yb4"
      }
    },
    {
      "cell_type": "code",
      "source": [
        "std_err1 = np.std(df_males['BMI'])/sqrt(len(sample1))\n",
        "std_err2 = np.std(df_males['BMI'])/sqrt(len(sample2))"
      ],
      "metadata": {
        "id": "NSCvj6tU22fG"
      },
      "execution_count": null,
      "outputs": []
    },
    {
      "cell_type": "markdown",
      "source": [
        "\n",
        "**8. Compute how many standard errors the statistic (such as the mean) of the sample group \n",
        "with treatment is from the statistic (such as the mean) of the sampling distribution. \n",
        "This is called the z-score.**"
      ],
      "metadata": {
        "id": "VD_C96kr4UfQ"
      }
    },
    {
      "cell_type": "code",
      "source": [
        "z_score_sample1 = (np.mean(df_males['BMI']) - np.mean(sample1))/ (np.std(df_males['BMI'])/sqrt(len(sample1)))"
      ],
      "metadata": {
        "id": "tOyCn6ue2jCD"
      },
      "execution_count": null,
      "outputs": []
    },
    {
      "cell_type": "code",
      "source": [
        "z_score_sample1"
      ],
      "metadata": {
        "colab": {
          "base_uri": "https://localhost:8080/"
        },
        "id": "Hwhv6b0O5akl",
        "outputId": "6fc7f870-1df9-4252-ca57-c69be67e98f5"
      },
      "execution_count": null,
      "outputs": [
        {
          "output_type": "execute_result",
          "data": {
            "text/plain": [
              "2.954373453768695"
            ]
          },
          "metadata": {},
          "execution_count": 41
        }
      ]
    },
    {
      "cell_type": "markdown",
      "source": [
        "\n",
        "\n",
        "\n",
        "\n",
        "\n",
        "\n",
        "**9. Determine if this sample group with treatment is significantly different from the population based on the pre-decided alpha level.**"
      ],
      "metadata": {
        "id": "r5GXI45Yxyl6"
      }
    },
    {
      "cell_type": "markdown",
      "source": [
        "Calculate the p-value from the two Z-scores, using the distribution of probability of the normal gaussian for a critical value obtained with:\n"
      ],
      "metadata": {
        "id": "Vc045R6j7RKH"
      }
    },
    {
      "cell_type": "code",
      "source": [
        "import scipy\n",
        "scipy.stats.norm.sf(abs(z_score_sample1))"
      ],
      "metadata": {
        "colab": {
          "base_uri": "https://localhost:8080/"
        },
        "id": "DGk6Sf1q5dre",
        "outputId": "c86f1716-5047-4c0c-89a2-ce59f896ba44"
      },
      "execution_count": null,
      "outputs": [
        {
          "output_type": "execute_result",
          "data": {
            "text/plain": [
              "0.001566523080699466"
            ]
          },
          "metadata": {},
          "execution_count": 42
        }
      ]
    },
    {
      "cell_type": "markdown",
      "source": [
        "Is this sample group with treatment significantly different from the population?"
      ],
      "metadata": {
        "id": "Y1lGv5B45lXc"
      }
    },
    {
      "cell_type": "markdown",
      "metadata": {
        "id": "qBcan7Ze1ifU"
      },
      "source": [
        "## Exercise 1\n",
        "\n",
        "* Do females with BMI >25 kg/m^2 have higher LDL compared to the female population?\n",
        "\n",
        "* Do females shorter than 160cm have glycated haemoglobin lower comparet do the females of the population?\n",
        "\n",
        "\n",
        "Obtain the treatment sample, decide on the alpha, calculate Z-score of each sample vs population, and determined if the samples are significantly different from the population.\n",
        "\n"
      ]
    },
    {
      "cell_type": "code",
      "source": [
        "# retrieve fields for glycated haemoglobin and LDL\n",
        "dict1 = pd.read_csv('https://github.com/araldi/HS21---Big-Data-Analysis-in-Biomedical-Research-376-1723-00L-/raw/main/Week3/Week3_homework_dictionary_part1.csv')"
      ],
      "metadata": {
        "id": "zWqmnMGK8Zb9"
      },
      "execution_count": null,
      "outputs": []
    },
    {
      "cell_type": "code",
      "source": [
        "dict1"
      ],
      "metadata": {
        "id": "HAICo3H_7rSv",
        "colab": {
          "base_uri": "https://localhost:8080/",
          "height": 488
        },
        "outputId": "25e2e69d-a04c-46bf-d480-ffc2d5d8e92d"
      },
      "execution_count": null,
      "outputs": [
        {
          "output_type": "execute_result",
          "data": {
            "text/plain": [
              "                                Description       Code\n",
              "0                                 PatientID        eid\n",
              "1                                    Gender     31-0.0\n",
              "2                               Height [cm]     50-0.0\n",
              "3                               Weight [Kg]  21002-0.0\n",
              "4                  Waist circumference [cm]     48-0.0\n",
              "5                    Hip circumference [cm]     49-0.0\n",
              "6                   Body_fat_percentage [%]  23099-0.0\n",
              "7              Diabetes diagnosed by doctor   2443-0.0\n",
              "8                                AgeRecruit  21022-0.0\n",
              "9                          Glucose [mmol/L]  30740-0.0\n",
              "10  Glycated haemoglobin (HbA1c) [mmol/mol]  30750-0.0\n",
              "11                      LDL direct [mmol/L]  30780-0.0\n",
              "12                 HDL cholesterol [mmol/L]  30760-0.0\n",
              "13                           IGF-1 [nmol/L]  30770-0.0"
            ],
            "text/html": [
              "\n",
              "  <div id=\"df-d507dfa2-914c-40e9-b2f9-0d67d8d1c002\">\n",
              "    <div class=\"colab-df-container\">\n",
              "      <div>\n",
              "<style scoped>\n",
              "    .dataframe tbody tr th:only-of-type {\n",
              "        vertical-align: middle;\n",
              "    }\n",
              "\n",
              "    .dataframe tbody tr th {\n",
              "        vertical-align: top;\n",
              "    }\n",
              "\n",
              "    .dataframe thead th {\n",
              "        text-align: right;\n",
              "    }\n",
              "</style>\n",
              "<table border=\"1\" class=\"dataframe\">\n",
              "  <thead>\n",
              "    <tr style=\"text-align: right;\">\n",
              "      <th></th>\n",
              "      <th>Description</th>\n",
              "      <th>Code</th>\n",
              "    </tr>\n",
              "  </thead>\n",
              "  <tbody>\n",
              "    <tr>\n",
              "      <th>0</th>\n",
              "      <td>PatientID</td>\n",
              "      <td>eid</td>\n",
              "    </tr>\n",
              "    <tr>\n",
              "      <th>1</th>\n",
              "      <td>Gender</td>\n",
              "      <td>31-0.0</td>\n",
              "    </tr>\n",
              "    <tr>\n",
              "      <th>2</th>\n",
              "      <td>Height [cm]</td>\n",
              "      <td>50-0.0</td>\n",
              "    </tr>\n",
              "    <tr>\n",
              "      <th>3</th>\n",
              "      <td>Weight [Kg]</td>\n",
              "      <td>21002-0.0</td>\n",
              "    </tr>\n",
              "    <tr>\n",
              "      <th>4</th>\n",
              "      <td>Waist circumference [cm]</td>\n",
              "      <td>48-0.0</td>\n",
              "    </tr>\n",
              "    <tr>\n",
              "      <th>5</th>\n",
              "      <td>Hip circumference [cm]</td>\n",
              "      <td>49-0.0</td>\n",
              "    </tr>\n",
              "    <tr>\n",
              "      <th>6</th>\n",
              "      <td>Body_fat_percentage [%]</td>\n",
              "      <td>23099-0.0</td>\n",
              "    </tr>\n",
              "    <tr>\n",
              "      <th>7</th>\n",
              "      <td>Diabetes diagnosed by doctor</td>\n",
              "      <td>2443-0.0</td>\n",
              "    </tr>\n",
              "    <tr>\n",
              "      <th>8</th>\n",
              "      <td>AgeRecruit</td>\n",
              "      <td>21022-0.0</td>\n",
              "    </tr>\n",
              "    <tr>\n",
              "      <th>9</th>\n",
              "      <td>Glucose [mmol/L]</td>\n",
              "      <td>30740-0.0</td>\n",
              "    </tr>\n",
              "    <tr>\n",
              "      <th>10</th>\n",
              "      <td>Glycated haemoglobin (HbA1c) [mmol/mol]</td>\n",
              "      <td>30750-0.0</td>\n",
              "    </tr>\n",
              "    <tr>\n",
              "      <th>11</th>\n",
              "      <td>LDL direct [mmol/L]</td>\n",
              "      <td>30780-0.0</td>\n",
              "    </tr>\n",
              "    <tr>\n",
              "      <th>12</th>\n",
              "      <td>HDL cholesterol [mmol/L]</td>\n",
              "      <td>30760-0.0</td>\n",
              "    </tr>\n",
              "    <tr>\n",
              "      <th>13</th>\n",
              "      <td>IGF-1 [nmol/L]</td>\n",
              "      <td>30770-0.0</td>\n",
              "    </tr>\n",
              "  </tbody>\n",
              "</table>\n",
              "</div>\n",
              "      <button class=\"colab-df-convert\" onclick=\"convertToInteractive('df-d507dfa2-914c-40e9-b2f9-0d67d8d1c002')\"\n",
              "              title=\"Convert this dataframe to an interactive table.\"\n",
              "              style=\"display:none;\">\n",
              "        \n",
              "  <svg xmlns=\"http://www.w3.org/2000/svg\" height=\"24px\"viewBox=\"0 0 24 24\"\n",
              "       width=\"24px\">\n",
              "    <path d=\"M0 0h24v24H0V0z\" fill=\"none\"/>\n",
              "    <path d=\"M18.56 5.44l.94 2.06.94-2.06 2.06-.94-2.06-.94-.94-2.06-.94 2.06-2.06.94zm-11 1L8.5 8.5l.94-2.06 2.06-.94-2.06-.94L8.5 2.5l-.94 2.06-2.06.94zm10 10l.94 2.06.94-2.06 2.06-.94-2.06-.94-.94-2.06-.94 2.06-2.06.94z\"/><path d=\"M17.41 7.96l-1.37-1.37c-.4-.4-.92-.59-1.43-.59-.52 0-1.04.2-1.43.59L10.3 9.45l-7.72 7.72c-.78.78-.78 2.05 0 2.83L4 21.41c.39.39.9.59 1.41.59.51 0 1.02-.2 1.41-.59l7.78-7.78 2.81-2.81c.8-.78.8-2.07 0-2.86zM5.41 20L4 18.59l7.72-7.72 1.47 1.35L5.41 20z\"/>\n",
              "  </svg>\n",
              "      </button>\n",
              "      \n",
              "  <style>\n",
              "    .colab-df-container {\n",
              "      display:flex;\n",
              "      flex-wrap:wrap;\n",
              "      gap: 12px;\n",
              "    }\n",
              "\n",
              "    .colab-df-convert {\n",
              "      background-color: #E8F0FE;\n",
              "      border: none;\n",
              "      border-radius: 50%;\n",
              "      cursor: pointer;\n",
              "      display: none;\n",
              "      fill: #1967D2;\n",
              "      height: 32px;\n",
              "      padding: 0 0 0 0;\n",
              "      width: 32px;\n",
              "    }\n",
              "\n",
              "    .colab-df-convert:hover {\n",
              "      background-color: #E2EBFA;\n",
              "      box-shadow: 0px 1px 2px rgba(60, 64, 67, 0.3), 0px 1px 3px 1px rgba(60, 64, 67, 0.15);\n",
              "      fill: #174EA6;\n",
              "    }\n",
              "\n",
              "    [theme=dark] .colab-df-convert {\n",
              "      background-color: #3B4455;\n",
              "      fill: #D2E3FC;\n",
              "    }\n",
              "\n",
              "    [theme=dark] .colab-df-convert:hover {\n",
              "      background-color: #434B5C;\n",
              "      box-shadow: 0px 1px 3px 1px rgba(0, 0, 0, 0.15);\n",
              "      filter: drop-shadow(0px 1px 2px rgba(0, 0, 0, 0.3));\n",
              "      fill: #FFFFFF;\n",
              "    }\n",
              "  </style>\n",
              "\n",
              "      <script>\n",
              "        const buttonEl =\n",
              "          document.querySelector('#df-d507dfa2-914c-40e9-b2f9-0d67d8d1c002 button.colab-df-convert');\n",
              "        buttonEl.style.display =\n",
              "          google.colab.kernel.accessAllowed ? 'block' : 'none';\n",
              "\n",
              "        async function convertToInteractive(key) {\n",
              "          const element = document.querySelector('#df-d507dfa2-914c-40e9-b2f9-0d67d8d1c002');\n",
              "          const dataTable =\n",
              "            await google.colab.kernel.invokeFunction('convertToInteractive',\n",
              "                                                     [key], {});\n",
              "          if (!dataTable) return;\n",
              "\n",
              "          const docLinkHtml = 'Like what you see? Visit the ' +\n",
              "            '<a target=\"_blank\" href=https://colab.research.google.com/notebooks/data_table.ipynb>data table notebook</a>'\n",
              "            + ' to learn more about interactive tables.';\n",
              "          element.innerHTML = '';\n",
              "          dataTable['output_type'] = 'display_data';\n",
              "          await google.colab.output.renderOutput(dataTable, element);\n",
              "          const docLink = document.createElement('div');\n",
              "          docLink.innerHTML = docLinkHtml;\n",
              "          element.appendChild(docLink);\n",
              "        }\n",
              "      </script>\n",
              "    </div>\n",
              "  </div>\n",
              "  "
            ]
          },
          "metadata": {},
          "execution_count": 6
        }
      ]
    },
    {
      "cell_type": "code",
      "source": [
        "females = df[(df['31-0.0'] == 0)]\n",
        "females.dropna(subset= ['BMI', '30780-0.0', '30750-0.0'], inplace=True)\n"
      ],
      "metadata": {
        "colab": {
          "base_uri": "https://localhost:8080/"
        },
        "id": "5DOh4OOsi7vB",
        "outputId": "e18eb341-2c4f-4812-93f0-f741ab721b15"
      },
      "execution_count": null,
      "outputs": [
        {
          "output_type": "stream",
          "name": "stderr",
          "text": [
            "/usr/local/lib/python3.7/dist-packages/pandas/util/_decorators.py:311: SettingWithCopyWarning: \n",
            "A value is trying to be set on a copy of a slice from a DataFrame\n",
            "\n",
            "See the caveats in the documentation: https://pandas.pydata.org/pandas-docs/stable/user_guide/indexing.html#returning-a-view-versus-a-copy\n",
            "  return func(*args, **kwargs)\n"
          ]
        }
      ]
    },
    {
      "cell_type": "code",
      "source": [
        "BMI25 = females[females['BMI'] >25].sample(500)\n",
        "Z_score1 = (np.mean(females['30780-0.0']) - np.mean(BMI25['30780-0.0']) )/(np.std(females['30780-0.0'])/sqrt(len(BMI25)))"
      ],
      "metadata": {
        "id": "ZfxTWi-TjHAv"
      },
      "execution_count": null,
      "outputs": []
    },
    {
      "cell_type": "code",
      "source": [
        "Z_score1"
      ],
      "metadata": {
        "colab": {
          "base_uri": "https://localhost:8080/"
        },
        "id": "s1r75_k2jqEM",
        "outputId": "b92701a9-8ec3-4fd1-a2a4-9b91c771b7c6"
      },
      "execution_count": null,
      "outputs": [
        {
          "output_type": "execute_result",
          "data": {
            "text/plain": [
              "-2.0737132073413744"
            ]
          },
          "metadata": {},
          "execution_count": 106
        }
      ]
    },
    {
      "cell_type": "code",
      "source": [
        "import scipy\n",
        "scipy.stats.norm.sf(abs(Z_score1))"
      ],
      "metadata": {
        "colab": {
          "base_uri": "https://localhost:8080/"
        },
        "id": "i3U_it4VkMhD",
        "outputId": "aeac57fb-8619-439b-e47f-ca50e606bf25"
      },
      "execution_count": null,
      "outputs": [
        {
          "output_type": "execute_result",
          "data": {
            "text/plain": [
              "0.019052976944765692"
            ]
          },
          "metadata": {},
          "execution_count": 107
        }
      ]
    },
    {
      "cell_type": "code",
      "source": [
        "from statsmodels.stats.weightstats import ztest\n",
        "\n",
        "ztest(BMI25['30780-0.0'],value = np.mean(females['30780-0.0']), alternative='larger')"
      ],
      "metadata": {
        "colab": {
          "base_uri": "https://localhost:8080/"
        },
        "id": "SNZYIlG7ju4_",
        "outputId": "a9754544-838c-4ecb-bfc4-c8a0efb18852"
      },
      "execution_count": null,
      "outputs": [
        {
          "output_type": "execute_result",
          "data": {
            "text/plain": [
              "(-1.3568918893971338, 0.9125922178477599)"
            ]
          },
          "metadata": {},
          "execution_count": 98
        }
      ]
    },
    {
      "cell_type": "code",
      "source": [
        "height160 = females[females['50-0.0']<160].sample(500)\n",
        "\n",
        "Z_score2 = (np.mean(females['30750-0.0']) - np.mean(height160['30750-0.0']) )/(np.std(females['30750-0.0'])/sqrt(len(height160)))\n",
        "\n",
        "scipy.stats.norm.sf(abs(Z_score2))"
      ],
      "metadata": {
        "colab": {
          "base_uri": "https://localhost:8080/"
        },
        "id": "s5rYU0O5lNHp",
        "outputId": "b6fc6113-33b6-4957-fc0e-80749316b024"
      },
      "execution_count": null,
      "outputs": [
        {
          "output_type": "execute_result",
          "data": {
            "text/plain": [
              "1.0980690731870728e-05"
            ]
          },
          "metadata": {},
          "execution_count": 112
        }
      ]
    },
    {
      "cell_type": "code",
      "source": [
        "ztest(height160['30750-0.0'], value = np.mean(females['30750-0.0']), alternative='larger')"
      ],
      "metadata": {
        "colab": {
          "base_uri": "https://localhost:8080/"
        },
        "id": "-GH2bz3MlNKe",
        "outputId": "3a3f4b62-0d39-4c82-819a-918dadb5be1f"
      },
      "execution_count": null,
      "outputs": [
        {
          "output_type": "execute_result",
          "data": {
            "text/plain": [
              "(4.017459344873696, 2.9414490363982784e-05)"
            ]
          },
          "metadata": {},
          "execution_count": 111
        }
      ]
    },
    {
      "cell_type": "code",
      "source": [
        "np.mean(females['30750-0.0'])"
      ],
      "metadata": {
        "colab": {
          "base_uri": "https://localhost:8080/"
        },
        "id": "IalOIuaylNNF",
        "outputId": "7d0dee8b-8654-4f04-e9f9-48f64e73a682"
      },
      "execution_count": null,
      "outputs": [
        {
          "output_type": "execute_result",
          "data": {
            "text/plain": [
              "35.80552012545731"
            ]
          },
          "metadata": {},
          "execution_count": 79
        }
      ]
    },
    {
      "cell_type": "code",
      "source": [
        "height160['30750-0.0']"
      ],
      "metadata": {
        "colab": {
          "base_uri": "https://localhost:8080/"
        },
        "id": "D6dH9HjaoLEn",
        "outputId": "b0ce180e-b1f3-4e7e-a0db-ee1e807dbd7e"
      },
      "execution_count": null,
      "outputs": [
        {
          "output_type": "execute_result",
          "data": {
            "text/plain": [
              "4930      NaN\n",
              "3465     30.6\n",
              "5493     46.6\n",
              "7825     31.7\n",
              "14052    35.3\n",
              "15376    36.7\n",
              "1611     35.3\n",
              "9023     32.7\n",
              "1244     29.0\n",
              "11503    37.1\n",
              "1988     34.0\n",
              "14976    33.7\n",
              "4165     34.2\n",
              "18172    37.0\n",
              "3580     33.1\n",
              "12085    37.9\n",
              "18776    42.0\n",
              "18299     NaN\n",
              "6692     40.2\n",
              "10487    33.0\n",
              "17636    34.3\n",
              "17662    35.4\n",
              "17838    37.4\n",
              "5004     39.5\n",
              "3180     39.5\n",
              "13594    41.5\n",
              "2915      NaN\n",
              "189      34.1\n",
              "1104     33.1\n",
              "18728    37.7\n",
              "8168     33.6\n",
              "13251    34.0\n",
              "12299    36.9\n",
              "7659     32.5\n",
              "1608     27.8\n",
              "18577     NaN\n",
              "5821     30.8\n",
              "9154      NaN\n",
              "3302     33.9\n",
              "6628     41.4\n",
              "10065    31.9\n",
              "2921     37.8\n",
              "4470      NaN\n",
              "15949    38.2\n",
              "10634    30.1\n",
              "2032      NaN\n",
              "14465    29.1\n",
              "11383    37.4\n",
              "19357    40.0\n",
              "7559     30.3\n",
              "Name: 30750-0.0, dtype: float64"
            ]
          },
          "metadata": {},
          "execution_count": 80
        }
      ]
    },
    {
      "cell_type": "markdown",
      "metadata": {
        "id": "uy-ufh3a1o1Y"
      },
      "source": [
        "Careful! Is it two tailed or one tailed? How do you adjust the p-value?\n"
      ]
    },
    {
      "cell_type": "code",
      "source": [
        ""
      ],
      "metadata": {
        "id": "KbIBnMwO7sZu"
      },
      "execution_count": null,
      "outputs": []
    },
    {
      "cell_type": "markdown",
      "metadata": {
        "id": "HoMVRbln18r6"
      },
      "source": [
        "Now the easy part: verify your work with statsmodels\n",
        "\n",
        "\n",
        "```\n",
        "from statsmodels.stats.weightstats import ztest\n",
        "\n",
        "ztest(sample1,value = mean, alternative='two-sided')\n",
        "```\n",
        "\n"
      ]
    },
    {
      "cell_type": "markdown",
      "metadata": {
        "id": "NXT3M4bVV4Pk"
      },
      "source": [
        "Interpretation?"
      ]
    },
    {
      "cell_type": "markdown",
      "source": [
        "Show the plots for the distributions of samples and the population (including mean)."
      ],
      "metadata": {
        "id": "LJToM5eNCACS"
      }
    },
    {
      "cell_type": "markdown",
      "metadata": {
        "id": "X5PQyYIzesR6"
      },
      "source": [
        "# t-test\n",
        "\n",
        "\n",
        "A t-test is used to see if two separate samples have the same mean value. However, T-Tests differ from z-tests because we use them when the mean and standard deviations of the population are not known. Situations to use a T-Test:\n",
        "* Data is independent\n",
        "* Approximately normally distributed data\n",
        "* Similar amount of variance within the groups being compared (homogenous)\n",
        "\n",
        "The t-statistic is a ratio between the difference between two groups and the difference within the groups."
      ]
    },
    {
      "cell_type": "markdown",
      "metadata": {
        "id": "Xit9H2E32Zf9"
      },
      "source": [
        "## Exercise 2\n",
        "\n",
        "Let's calculate a t-statistic and compute a p-value in practice for the BMI of two small samples of males and females.\n",
        "\n",
        "\n",
        "Samples:\n",
        "\n",
        "\n",
        "```\n",
        "males = df[df['31-0.0'] == 1]['BMI'].sample(25)\n",
        "\n",
        "females = df[df['31-0.0'] == 0]['BMI'].sample(25)\n",
        "\n",
        "```\n",
        "\n",
        "#### Descriptive procedure\n",
        "\n",
        "The observed difference between samples (effect size) is a random variable, and under the null hypothesis it is zero.\n",
        "\n",
        "\n",
        "```\n",
        "tstat = observed difference between sample means / standard error of the difference between the means\n",
        "\n",
        "tstat = (mean(X1) - mean(X2)) / sed\n",
        "\n",
        "```\n",
        "\n",
        "We need the standard error of the difference (observed effect size) among samples:\n",
        "\n",
        "```\n",
        "sed = sqrt(se1^2 + se2^2)\n",
        "\n",
        "se = std / sqrt(n)\n",
        "```\n",
        "\n",
        "\n",
        "\n",
        "Once we obtain the tstat, obtain from the t-distribution the frequency of the obtained t-statistics, hence, the p-value\n",
        "\n",
        "```\n",
        "from scipy import stats\n",
        "stats.t.sf(np.abs(tstat), n-1)*2\n",
        "```\n",
        "Careful! It is multiplied by two because is a two-tailed for independent samples\n",
        "\n",
        "Lastly, validate with a pre-made function\n",
        "`stats.ttest_ind(males, females)`"
      ]
    },
    {
      "cell_type": "markdown",
      "source": [
        "Show the plots for the distributions of samples (including mean)."
      ],
      "metadata": {
        "id": "82zF9gYcCNre"
      }
    },
    {
      "cell_type": "code",
      "source": [
        ""
      ],
      "metadata": {
        "id": "PokjaCcGCNXq"
      },
      "execution_count": null,
      "outputs": []
    },
    {
      "cell_type": "markdown",
      "metadata": {
        "id": "jwW2zTbRl-JQ"
      },
      "source": [
        "# Chi-square\n",
        "\n",
        "It is used to decide whether there is a relationship exists between two variables of a population. Useful when analyzing survey results of 2 categorical variables.\n",
        "H₀: The two categorical variables have no relationship\n",
        "H₁: There is a relationship between two categorical variables\n",
        "\n",
        "The number of degrees of freedom of the χ2 independence test statistics:\n",
        "\n",
        "d.f. = (# rows -1) *(#columns-1)\n",
        "\n",
        "![image.png](data:image/png;base64,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)"
      ]
    },
    {
      "cell_type": "code",
      "metadata": {
        "id": "ca1J_jqvm1In"
      },
      "source": [
        "# is there a difference between having diabetes in individuals taller or shorter than 180cm?\n"
      ],
      "execution_count": null,
      "outputs": []
    },
    {
      "cell_type": "code",
      "metadata": {
        "id": "JEAGnIFbuMIB"
      },
      "source": [
        "conditions = [df['50-0.0']<180, df['50-0.0']>=180]\n",
        "choices = ['short', 'tall']\n",
        "df['height'] = np.select(conditions, choices, default= None)"
      ],
      "execution_count": null,
      "outputs": []
    },
    {
      "cell_type": "code",
      "metadata": {
        "id": "ZLnmOfBru7L_"
      },
      "source": [
        "conditions = [df['2443-0.0']==0, df['2443-0.0']==1]\n",
        "choices = ['no', 'yes']\n",
        "df['diabetes'] = np.select(conditions, choices, default= None)"
      ],
      "execution_count": null,
      "outputs": []
    },
    {
      "cell_type": "code",
      "metadata": {
        "id": "o73MzqPdve99"
      },
      "source": [
        "df.dropna(subset= ['height','diabetes'], inplace =True)"
      ],
      "execution_count": null,
      "outputs": []
    },
    {
      "cell_type": "code",
      "metadata": {
        "id": "zVGKVnSvvN1y"
      },
      "source": [
        "# create contingency table\n",
        "data_crosstab = pd.crosstab(df['height'],\n",
        "                            df['diabetes'],\n",
        "                           margins=True, margins_name=\"Total\")"
      ],
      "execution_count": null,
      "outputs": []
    },
    {
      "cell_type": "code",
      "metadata": {
        "colab": {
          "base_uri": "https://localhost:8080/",
          "height": 173
        },
        "id": "Cs2V260GvTmC",
        "outputId": "810ed5de-1507-4ca0-cb20-2f1d48c2e728"
      },
      "source": [
        "data_crosstab"
      ],
      "execution_count": null,
      "outputs": [
        {
          "output_type": "execute_result",
          "data": {
            "text/html": [
              "<div>\n",
              "<style scoped>\n",
              "    .dataframe tbody tr th:only-of-type {\n",
              "        vertical-align: middle;\n",
              "    }\n",
              "\n",
              "    .dataframe tbody tr th {\n",
              "        vertical-align: top;\n",
              "    }\n",
              "\n",
              "    .dataframe thead th {\n",
              "        text-align: right;\n",
              "    }\n",
              "</style>\n",
              "<table border=\"1\" class=\"dataframe\">\n",
              "  <thead>\n",
              "    <tr style=\"text-align: right;\">\n",
              "      <th>diabetes</th>\n",
              "      <th>no</th>\n",
              "      <th>yes</th>\n",
              "      <th>Total</th>\n",
              "    </tr>\n",
              "    <tr>\n",
              "      <th>height</th>\n",
              "      <th></th>\n",
              "      <th></th>\n",
              "      <th></th>\n",
              "    </tr>\n",
              "  </thead>\n",
              "  <tbody>\n",
              "    <tr>\n",
              "      <th>short</th>\n",
              "      <td>16336</td>\n",
              "      <td>929</td>\n",
              "      <td>17265</td>\n",
              "    </tr>\n",
              "    <tr>\n",
              "      <th>tall</th>\n",
              "      <td>2418</td>\n",
              "      <td>129</td>\n",
              "      <td>2547</td>\n",
              "    </tr>\n",
              "    <tr>\n",
              "      <th>Total</th>\n",
              "      <td>18754</td>\n",
              "      <td>1058</td>\n",
              "      <td>19812</td>\n",
              "    </tr>\n",
              "  </tbody>\n",
              "</table>\n",
              "</div>"
            ],
            "text/plain": [
              "diabetes     no   yes  Total\n",
              "height                      \n",
              "short     16336   929  17265\n",
              "tall       2418   129   2547\n",
              "Total     18754  1058  19812"
            ]
          },
          "metadata": {},
          "execution_count": 198
        }
      ]
    },
    {
      "cell_type": "markdown",
      "metadata": {
        "id": "YnXeI8Y7xv3m"
      },
      "source": [
        "## Exercise 3\n",
        "Calculate the chi-square statistics according to the formula above and then retrieve the critical value from the chi-squared distribution for the probability and number of degrees of freedom.\n",
        "\n",
        "```\n",
        "degrees_freedom = (len(rows)-1)*(len(columns)-1)\n",
        "stats.distributions.chi2.sf(chi_square, degrees_freedom)\n",
        "```\n",
        "\n",
        "Lastly, validate your results with the pre-made function:\n",
        "\n",
        "```\n",
        "scipy.stats.chi2_contingency(contingency_table, 1)\n",
        "```\n",
        "\n",
        "\n"
      ]
    },
    {
      "cell_type": "markdown",
      "source": [
        "Find an appropriate way to plot the data."
      ],
      "metadata": {
        "id": "Jd6ux0KpCVGc"
      }
    },
    {
      "cell_type": "markdown",
      "metadata": {
        "id": "gdgn_RCjYA_l"
      },
      "source": [
        "# K-S test\n",
        "\n",
        "Does the BMI follow a normal distribution in the population?"
      ]
    },
    {
      "cell_type": "code",
      "metadata": {
        "id": "z7JKQLafhEXs",
        "colab": {
          "base_uri": "https://localhost:8080/"
        },
        "outputId": "2c0aa270-2b43-43f1-cd3b-3eb47fbedbec"
      },
      "source": [
        "from scipy.stats import kstest\n",
        "\n",
        "#perform Kolmogorov-Smirnov test\n",
        "kstest(df['BMI'], 'norm')"
      ],
      "execution_count": null,
      "outputs": [
        {
          "output_type": "execute_result",
          "data": {
            "text/plain": [
              "KstestResult(statistic=nan, pvalue=nan)"
            ]
          },
          "metadata": {},
          "execution_count": 235
        }
      ]
    },
    {
      "cell_type": "code",
      "metadata": {
        "id": "_pRMAXF8608r"
      },
      "source": [
        "df_clean = df.dropna(subset = ['BMI'])"
      ],
      "execution_count": null,
      "outputs": []
    },
    {
      "cell_type": "code",
      "metadata": {
        "colab": {
          "base_uri": "https://localhost:8080/"
        },
        "id": "JWBHmwOn3yWa",
        "outputId": "6350dd47-c7e3-4ef7-e42e-3d88fb96cb5b"
      },
      "source": [
        "kstest(df_clean['BMI'], 'norm')"
      ],
      "execution_count": null,
      "outputs": [
        {
          "output_type": "execute_result",
          "data": {
            "text/plain": [
              "KstestResult(statistic=1.0, pvalue=0.0)"
            ]
          },
          "metadata": {},
          "execution_count": 237
        }
      ]
    },
    {
      "cell_type": "markdown",
      "metadata": {
        "id": "RJJlqGRT7LDb"
      },
      "source": [
        "Interpretation?"
      ]
    },
    {
      "cell_type": "code",
      "metadata": {
        "id": "KLwHyYzT8gmF"
      },
      "source": [
        "kstest?"
      ],
      "execution_count": null,
      "outputs": []
    },
    {
      "cell_type": "code",
      "metadata": {
        "id": "qwSdrxsl8kK7"
      },
      "source": [
        "kstest(df_clean['BMI'], 'norm')"
      ],
      "execution_count": null,
      "outputs": []
    },
    {
      "cell_type": "code",
      "metadata": {
        "id": "PP5QRXEh7IRt"
      },
      "source": [
        "# Is female BMI distributed in the same way as male BMI?"
      ],
      "execution_count": null,
      "outputs": []
    },
    {
      "cell_type": "code",
      "metadata": {
        "colab": {
          "base_uri": "https://localhost:8080/"
        },
        "id": "V2RqVZtJ7Vob",
        "outputId": "16713147-5b89-4095-9271-a825fff0a4fe"
      },
      "source": [
        "from scipy.stats import ks_2samp\n",
        "ks_2samp(df_clean['31-0.0'] == 0, df_clean['31-0.0'] == 1)"
      ],
      "execution_count": null,
      "outputs": [
        {
          "output_type": "execute_result",
          "data": {
            "text/plain": [
              "Ks_2sampResult(statistic=0.08584360070404823, pvalue=4.5885622071368556e-64)"
            ]
          },
          "metadata": {},
          "execution_count": 238
        }
      ]
    },
    {
      "cell_type": "code",
      "metadata": {
        "colab": {
          "base_uri": "https://localhost:8080/",
          "height": 384
        },
        "id": "SXuMjIf_7ioQ",
        "outputId": "3fe4893e-8dfe-42da-afb7-093ea42ade4c"
      },
      "source": [
        "sns.distplot(df_clean[df_clean['31-0.0'] == 0]['BMI'], color='mediumpurple')\n",
        "sns.distplot(df_clean[df_clean['31-0.0'] == 1]['BMI'], color='mediumseagreen')\n",
        "# plt.xlim(0,100)"
      ],
      "execution_count": null,
      "outputs": [
        {
          "output_type": "stream",
          "name": "stderr",
          "text": [
            "/usr/local/lib/python3.7/dist-packages/seaborn/distributions.py:2619: FutureWarning: `distplot` is a deprecated function and will be removed in a future version. Please adapt your code to use either `displot` (a figure-level function with similar flexibility) or `histplot` (an axes-level function for histograms).\n",
            "  warnings.warn(msg, FutureWarning)\n",
            "/usr/local/lib/python3.7/dist-packages/seaborn/distributions.py:2619: FutureWarning: `distplot` is a deprecated function and will be removed in a future version. Please adapt your code to use either `displot` (a figure-level function with similar flexibility) or `histplot` (an axes-level function for histograms).\n",
            "  warnings.warn(msg, FutureWarning)\n"
          ]
        },
        {
          "output_type": "execute_result",
          "data": {
            "text/plain": [
              "<matplotlib.axes._subplots.AxesSubplot at 0x7f544394f290>"
            ]
          },
          "metadata": {},
          "execution_count": 241
        },
        {
          "output_type": "display_data",
          "data": {
            "image/png": "[encoded data removed]",
            "text/plain": [
              "<Figure size 432x288 with 1 Axes>"
            ]
          },
          "metadata": {
            "needs_background": "light"
          }
        }
      ]
    },
    {
      "cell_type": "code",
      "metadata": {
        "id": "i5mg8Z8w75Cb"
      },
      "source": [
        ""
      ],
      "execution_count": null,
      "outputs": []
    }
  ]
}