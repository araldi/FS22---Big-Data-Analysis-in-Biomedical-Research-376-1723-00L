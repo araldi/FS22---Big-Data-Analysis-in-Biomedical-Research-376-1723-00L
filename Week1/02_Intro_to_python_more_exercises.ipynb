{
  "nbformat": 4,
  "nbformat_minor": 0,
  "metadata": {
    "colab": {
      "name": "Intro_to_python_more_exercises.ipynb",
      "provenance": [],
      "include_colab_link": true
    },
    "kernelspec": {
      "name": "python3",
      "display_name": "Python 3"
    },
    "language_info": {
      "name": "python"
    }
  },
  "cells": [
    {
      "cell_type": "markdown",
      "metadata": {
        "id": "view-in-github",
        "colab_type": "text"
      },
      "source": [
        "<a href=\"https://colab.research.google.com/github/araldi/FS22---Big-Data-Analysis-in-Biomedical-Research-376-1723-00L/blob/main/Week1/Intro_to_python_more_exercises.ipynb\" target=\"_parent\"><img src=\"https://colab.research.google.com/assets/colab-badge.svg\" alt=\"Open In Colab\"/></a>"
      ]
    },
    {
      "cell_type": "markdown",
      "metadata": {
        "id": "m_DZO2Qjrv9Q"
      },
      "source": [
        "## A couple more things to learn\n",
        "\n"
      ]
    },
    {
      "cell_type": "markdown",
      "source": [
        "### Working with strings and lists"
      ],
      "metadata": {
        "id": "8UYX49DqkdaR"
      }
    },
    {
      "cell_type": "markdown",
      "source": [
        "#### Check if element in string/list"
      ],
      "metadata": {
        "id": "u67wT5vwlhyq"
      }
    },
    {
      "cell_type": "code",
      "source": [
        "# check if an element is in a string\n",
        "\n",
        "my_string = 'this_is_a_very_long_string'\n",
        "\n",
        "'a' in my_string"
      ],
      "metadata": {
        "id": "nWsNX0vfk3GH"
      },
      "execution_count": null,
      "outputs": []
    },
    {
      "cell_type": "code",
      "source": [
        "# check if an element is in a list\n",
        "\n",
        "my_list = ['this', 'is', 'a', 'list']\n",
        "\n",
        "'a' in my_list"
      ],
      "metadata": {
        "id": "R2qlEX5lkalp"
      },
      "execution_count": null,
      "outputs": []
    },
    {
      "cell_type": "markdown",
      "source": [
        "#### List comprehension\n"
      ],
      "metadata": {
        "id": "HRTSarwblma5"
      }
    },
    {
      "cell_type": "code",
      "source": [
        "# Example:\n",
        "# i want a new list with only elements in the list that contain 'i'\n",
        "\n",
        "# I could do a for loop\n",
        "\n",
        "new_list = [] #initialize new list\n",
        "\n",
        "for i in my_list:\n",
        "  if 'i' in i:\n",
        "    new_list.append(i)\n",
        "\n",
        "    # new_list = new_list + [i]  # This is equivalent\n",
        "print(new_list)"
      ],
      "metadata": {
        "id": "mNi9-BexlEsC"
      },
      "execution_count": null,
      "outputs": []
    },
    {
      "cell_type": "code",
      "source": [
        "# or I could use list comprehension\n",
        "\n",
        "# iterate over the elements of a list, and create a new list if the element satisfy the condition\n",
        "\n",
        "new_list = [i for i in my_list if 'i' in i]"
      ],
      "metadata": {
        "id": "hCP79_kglvdi"
      },
      "execution_count": null,
      "outputs": []
    },
    {
      "cell_type": "code",
      "source": [
        "[i+ ' has i' for i in my_list if 'i' in i]"
      ],
      "metadata": {
        "id": "-NGjfQvHlVYY"
      },
      "execution_count": null,
      "outputs": []
    },
    {
      "cell_type": "code",
      "source": [
        "# create a new list only with multiples of 2\n",
        "another_list = [0, 5, 8, 9, 23, 56, 2]\n",
        "\n",
        "new_list = [i for i in another_list if i%2==0]\n",
        "\n",
        "print(new_list)"
      ],
      "metadata": {
        "id": "yHrrLuIClejw"
      },
      "execution_count": null,
      "outputs": []
    },
    {
      "cell_type": "code",
      "source": [
        "# create a new list that takes only the odd numbers and multiplies them by 5\n",
        "\n",
        "new_list_2 = [i*5 for i in another_list if i%2==1]\n",
        "print(new_list_2)"
      ],
      "metadata": {
        "id": "EJTis3F3m1RA"
      },
      "execution_count": null,
      "outputs": []
    },
    {
      "cell_type": "code",
      "source": [
        "# create a new list that takes the odd numbers and multiply them by 5, otherwise keeps the even number\n",
        "\n",
        "new_list_3 = [i*5 if i%2==1 else i for i in another_list]\n",
        "print(new_list_3)"
      ],
      "metadata": {
        "id": "-sIqoDyCnMFX"
      },
      "execution_count": null,
      "outputs": []
    },
    {
      "cell_type": "markdown",
      "source": [
        "### built-in function enumerate()\n",
        "enumerate() loops over an iterable object and keep track of how many iterations have occurred."
      ],
      "metadata": {
        "id": "aw5MaNItkbyF"
      }
    },
    {
      "cell_type": "code",
      "metadata": {
        "id": "_zbU64B1sLiy"
      },
      "source": [
        "# enumerate() example\n",
        "\n",
        "months = ['Jan','Feb','Mar','Apr','May','Jun','Jul','Aug','Sep','Oct','Nov','Dec']\n",
        "\n",
        "for iteration, element in enumerate(months):\n",
        "  print(\"iteration: \", iteration)\n",
        "  print(\"element name: \", element)"
      ],
      "execution_count": null,
      "outputs": []
    },
    {
      "cell_type": "code",
      "metadata": {
        "id": "kODgahc2tRjs"
      },
      "source": [
        "for iteration, element in enumerate(months):\n",
        "  print(\"month number {} is {}\".format(iteration +1, element))"
      ],
      "execution_count": null,
      "outputs": []
    },
    {
      "cell_type": "code",
      "metadata": {
        "id": "_CCL0TV3swhN"
      },
      "source": [
        "for iteration, element in enumerate(months):\n",
        "  print(\"month number {month_number} is {element}\".format(month_number = iteration +1, element = element))"
      ],
      "execution_count": null,
      "outputs": []
    },
    {
      "cell_type": "markdown",
      "metadata": {
        "id": "iu1BDVM8tgge"
      },
      "source": [
        "### Functions\n",
        "\n",
        "A function is a block of code which only runs when it is called.\n",
        "\n",
        "You can pass data, known as parameters, into a function.\n",
        "\n",
        "A function can return data as a result.\n",
        "\n",
        "It increases the readability of the code, and allows for faster coding of repetitive operations."
      ]
    },
    {
      "cell_type": "code",
      "metadata": {
        "id": "1qCP_dYOtzi7"
      },
      "source": [
        "# synthax of a function\n",
        "\n",
        "def boring_sum_function(parameter1, parameter2):\n",
        "  sum = parameter1 + parameter2\n",
        "  return sum\n",
        "\n",
        "# note that nothing happens when the cell is run"
      ],
      "execution_count": null,
      "outputs": []
    },
    {
      "cell_type": "code",
      "metadata": {
        "id": "8u4SPKEevs1V"
      },
      "source": [
        "#minimal function\n",
        "\n",
        "def boring_sum_function(parameter1, parameter2):\n",
        "  return parameter1 + parameter2\n"
      ],
      "execution_count": null,
      "outputs": []
    },
    {
      "cell_type": "code",
      "metadata": {
        "id": "BEGG6yesuOLj"
      },
      "source": [
        "# call the function\n",
        "boring_sum_function(1,3)\n"
      ],
      "execution_count": null,
      "outputs": []
    },
    {
      "cell_type": "code",
      "metadata": {
        "id": "5MZDkeCFu5pO"
      },
      "source": [
        "# try again\n",
        "boring_sum_function(\"boring\",3)"
      ],
      "execution_count": null,
      "outputs": []
    },
    {
      "cell_type": "code",
      "metadata": {
        "id": "3Y8ah_4uvP5x"
      },
      "source": [
        "# try again\n",
        "boring_sum_function(1,8)"
      ],
      "execution_count": null,
      "outputs": []
    },
    {
      "cell_type": "code",
      "metadata": {
        "id": "L5QdaIyHuUaB"
      },
      "source": [
        "def less_boring_sum_function(parameter1, parameter2):\n",
        "  '''\n",
        "  DOCSTRING:\n",
        "  this functions returns the sum of the two parameters\n",
        "  '''\n",
        "  sum = parameter1 + parameter2\n",
        "  print(\"I will now return the sum of the input parameters:\")\n",
        "  return sum"
      ],
      "execution_count": null,
      "outputs": []
    },
    {
      "cell_type": "code",
      "metadata": {
        "id": "vaEGhrkSunxy"
      },
      "source": [
        "less_boring_sum_function?"
      ],
      "execution_count": null,
      "outputs": []
    },
    {
      "cell_type": "code",
      "metadata": {
        "id": "6ma8sUFeusTB"
      },
      "source": [
        "help(less_boring_sum_function)"
      ],
      "execution_count": null,
      "outputs": []
    },
    {
      "cell_type": "code",
      "metadata": {
        "id": "yJovp1zyudm2"
      },
      "source": [
        "less_boring_sum_function(1, 2)"
      ],
      "execution_count": null,
      "outputs": []
    },
    {
      "cell_type": "markdown",
      "metadata": {
        "id": "G4wUQL43ZTBJ"
      },
      "source": [
        "## More exercises\n"
      ]
    },
    {
      "cell_type": "markdown",
      "source": [
        "### Exercise 1"
      ],
      "metadata": {
        "id": "xNIjGedSho4o"
      }
    },
    {
      "cell_type": "markdown",
      "source": [
        "Write a Python program (function!) that accepts an integer. Test whether an integer is greater than 4^4 and which is if the remainder divided by 34 is 4.\n",
        "\n",
        "\n",
        "\n",
        "```\n",
        "Input: 922\n",
        "Output: True\n",
        "\n",
        "\n",
        "Input: 914\n",
        "Output: False\n",
        "\n",
        "\n",
        "Input: 38\n",
        "Output: False\n",
        "```\n",
        "\n",
        "\n"
      ],
      "metadata": {
        "id": "DBfTMlfxhvex"
      }
    },
    {
      "cell_type": "code",
      "source": [
        "# your code\n",
        "def check_my_integer(n):\n",
        "\n",
        "  #### continue"
      ],
      "metadata": {
        "id": "gEWzUVPWjEK9"
      },
      "execution_count": null,
      "outputs": []
    },
    {
      "cell_type": "markdown",
      "source": [
        "### Exercise 2\n",
        "\n",
        "Write a Python program to check the nth-1 string is a proper substring of nth string in a given list of strings. Go to the editor\n",
        "\n",
        "```\n",
        "Input:\n",
        "['a', 'abb', 'sfs', 'oo', 'de', 'sfde']\n",
        "Output:\n",
        "True\n",
        "Input:\n",
        "['a', 'abb', 'sfs', 'oo', 'ee', 'sfde']\n",
        "Output:\n",
        "False\n",
        "Input:\n",
        "['a', 'abb', 'sad', 'ooaaesdfe', 'sfsdfde', 'sfsd', 'sfsdf', 'qwrew']\n",
        "Output:\n",
        "False\n",
        "Input:\n",
        "['a', 'abb', 'sad', 'ooaaesdfe', 'sfsdfde', 'sfsd', 'sfsdf', 'qwsfsdfrew']\n",
        "Output:\n",
        "True\n",
        "```\n",
        "\n"
      ],
      "metadata": {
        "id": "8hOOisAgiXHH"
      }
    },
    {
      "cell_type": "code",
      "source": [
        "# your code\n",
        "\n",
        "def check_my_list(input_list):\n",
        "\n",
        "  condition =   # continue\n",
        "\n",
        "  return condition\n"
      ],
      "metadata": {
        "id": "gqR-HvodjQ8q"
      },
      "execution_count": null,
      "outputs": []
    },
    {
      "cell_type": "markdown",
      "source": [
        "### Calendar Exercise"
      ],
      "metadata": {
        "id": "Wml_Ubc_htE4"
      }
    },
    {
      "cell_type": "markdown",
      "metadata": {
        "id": "HV07P7uKrdxS"
      },
      "source": [
        "#### A calendar"
      ]
    },
    {
      "cell_type": "markdown",
      "metadata": {
        "id": "ZE-Mj_7cZHD5"
      },
      "source": [
        "Create a code which writes out\n",
        "the month, day, and day of the week for each day of the year\n",
        "and that works for both years with 28 days in feb, and 29 days in feb\n",
        "just by changing the value of the variable feb.\n",
        "\n",
        "It should look like this, in the case of a year starting on a Monday (simplest case):\n",
        "\n",
        "\n",
        "\n",
        "```\n",
        "1 Jan M\n",
        "2 Jan Tue\n",
        "3 Jan W\n",
        "4 Jan Thr\n",
        "5 Jan F\n",
        "6 Jan Sat\n",
        "7 Jan Sun\n",
        "8 Jan M\n",
        "9 Jan Tue\n",
        "10 Jan W\n",
        "....\n",
        "....\n",
        "```\n",
        "\n"
      ]
    },
    {
      "cell_type": "code",
      "metadata": {
        "id": "lecD5l_NRslK"
      },
      "source": [
        "days_of_the_week = ['M','Tue','W','Thr','F','Sat','Sun']\n",
        "months = ['Jan','Feb','Mar','Apr','May','Jun','Jul','Aug','Sep','Oct','Nov','Dec']\n",
        "feb = 28\n",
        "month_lenght = [31, feb, 31, 30, 31, 30, 31, 31, 30, 31, 30, 31]"
      ],
      "execution_count": null,
      "outputs": []
    },
    {
      "cell_type": "code",
      "metadata": {
        "id": "nSVr0iJo-kL3"
      },
      "source": [
        "# HINT:\n",
        "\n",
        "# initialize your indexes and counters...\n",
        "\n",
        "#then open the month loop...\n",
        "for index, month in enumerate(months):  \n",
        "  # then open the day loop...\n",
        "\n",
        "  ## your solution\n"
      ],
      "execution_count": null,
      "outputs": []
    },
    {
      "cell_type": "markdown",
      "metadata": {
        "id": "4ho6sYWOwEE1"
      },
      "source": [
        "Can you recreate an output like this?\n",
        "\n",
        "```\n",
        "The 1st of Jan is a M\n",
        "The 2nd of Jan is a Tue\n",
        "The 3rd of Jan is a W\n",
        "The 4th of Jan is a Thr\n",
        "The 5th of Jan is a F\n",
        "The 6th of Jan is a Sat\n",
        "The 7th of Jan is a Sun\n",
        "The 8th of Jan is a M\n",
        "The 9th of Jan is a Tue\n",
        "The 10th of Jan is a W\n",
        ".....\n",
        ".....\n",
        "```\n",
        "\n"
      ]
    },
    {
      "cell_type": "code",
      "metadata": {
        "id": "3H1IuJBX_CJx"
      },
      "source": [
        "days_of_the_week = ['M','Tue','W','Thr','F','Sat','Sun']\n",
        "months = ['Jan','Feb','Mar','Apr','May','Jun','Jul','Aug','Sep','Oct','Nov','Dec']\n",
        "feb = 28\n",
        "month_lenght = [31, feb, 31, 30, 31, 30, 31, 31, 30, 31, 30, 31]\n",
        "\n",
        "\n",
        "#HINT\n",
        "# Use a dictionary to choose the appropriate the suffix\n",
        "day_suffix_dict = {1: 'st', 2 : 'nd', 3: 'rd'}\n",
        "\n",
        "# your code...\n",
        "\n"
      ],
      "execution_count": null,
      "outputs": []
    }
  ]
}
