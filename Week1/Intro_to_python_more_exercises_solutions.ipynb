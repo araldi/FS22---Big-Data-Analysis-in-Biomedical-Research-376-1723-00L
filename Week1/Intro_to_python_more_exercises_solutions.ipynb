{
  "nbformat": 4,
  "nbformat_minor": 0,
  "metadata": {
    "colab": {
      "name": "Intro_to_python_more_exercises_solutions.ipynb",
      "provenance": [],
      "include_colab_link": true
    },
    "kernelspec": {
      "name": "python3",
      "display_name": "Python 3"
    },
    "language_info": {
      "name": "python"
    }
  },
  "cells": [
    {
      "cell_type": "markdown",
      "metadata": {
        "id": "view-in-github",
        "colab_type": "text"
      },
      "source": [
        "<a href=\"https://colab.research.google.com/github/araldi/FS22---Big-Data-Analysis-in-Biomedical-Research-376-1723-00L/blob/main/Week1/Intro_to_python_more_exercises_solutions.ipynb\" target=\"_parent\"><img src=\"https://colab.research.google.com/assets/colab-badge.svg\" alt=\"Open In Colab\"/></a>"
      ]
    },
    {
      "cell_type": "markdown",
      "metadata": {
        "id": "m_DZO2Qjrv9Q"
      },
      "source": [
        "## A couple more things to learn\n",
        "\n",
        "### built-in function enumerate()\n",
        "enumerate() loops over an iterable object and keep track of how many iterations have occurred."
      ]
    },
    {
      "cell_type": "code",
      "metadata": {
        "id": "_zbU64B1sLiy"
      },
      "source": [
        "# enumerate() example\n",
        "\n",
        "months = ['Jan','Feb','Mar','Apr','May','Jun','Jul','Aug','Sep','Oct','Nov','Dec']\n",
        "\n",
        "for iteration, element in enumerate(months):\n",
        "  print(\"iteration: \", iteration)\n",
        "  print(\"element name: \", element)"
      ],
      "execution_count": null,
      "outputs": []
    },
    {
      "cell_type": "code",
      "metadata": {
        "id": "kODgahc2tRjs"
      },
      "source": [
        "for iteration, element in enumerate(months):\n",
        "  print(\"month number {} is {}\".format(iteration +1, element))"
      ],
      "execution_count": null,
      "outputs": []
    },
    {
      "cell_type": "code",
      "metadata": {
        "id": "_CCL0TV3swhN"
      },
      "source": [
        "for iteration, element in enumerate(months):\n",
        "  print(\"month number {month_number} is {element}\".format(month_number = iteration +1, element = element))"
      ],
      "execution_count": null,
      "outputs": []
    },
    {
      "cell_type": "markdown",
      "metadata": {
        "id": "iu1BDVM8tgge"
      },
      "source": [
        "### Function\n",
        "\n",
        "A function is a block of code which only runs when it is called.\n",
        "\n",
        "You can pass data, known as parameters, into a function.\n",
        "\n",
        "A function can return data as a result.\n",
        "\n",
        "It increases the readability of the code, and allows for faster coding of repetitive operations."
      ]
    },
    {
      "cell_type": "code",
      "metadata": {
        "id": "1qCP_dYOtzi7"
      },
      "source": [
        "# synthax of a function\n",
        "\n",
        "def boring_sum_function(parameter1, parameter2):\n",
        "  sum = parameter1 + parameter2\n",
        "  return sum\n",
        "\n",
        "# note that nothing happens when the cell is run"
      ],
      "execution_count": null,
      "outputs": []
    },
    {
      "cell_type": "code",
      "metadata": {
        "id": "8u4SPKEevs1V"
      },
      "source": [
        "#minimal function\n",
        "\n",
        "def boring_sum_function(parameter1, parameter2):\n",
        "  return parameter1 + parameter2\n"
      ],
      "execution_count": null,
      "outputs": []
    },
    {
      "cell_type": "code",
      "metadata": {
        "id": "BEGG6yesuOLj"
      },
      "source": [
        "# call the function\n",
        "boring_sum_function(1,3)\n"
      ],
      "execution_count": null,
      "outputs": []
    },
    {
      "cell_type": "code",
      "metadata": {
        "id": "5MZDkeCFu5pO"
      },
      "source": [
        "# try again\n",
        "boring_sum_function(\"boring\",3)"
      ],
      "execution_count": null,
      "outputs": []
    },
    {
      "cell_type": "code",
      "metadata": {
        "id": "3Y8ah_4uvP5x"
      },
      "source": [
        "# try again\n",
        "boring_sum_function(1,3,4)"
      ],
      "execution_count": null,
      "outputs": []
    },
    {
      "cell_type": "code",
      "metadata": {
        "id": "L5QdaIyHuUaB"
      },
      "source": [
        "def less_boring_sum_function(parameter1, parameter2):\n",
        "  '''\n",
        "  DOCSTRING:\n",
        "  this functions returns the sum of the two parameters\n",
        "  '''\n",
        "  sum = parameter1 + parameter2\n",
        "  print(\"I will now return the sum of the input parameters:\")\n",
        "  return sum"
      ],
      "execution_count": null,
      "outputs": []
    },
    {
      "cell_type": "code",
      "metadata": {
        "id": "vaEGhrkSunxy"
      },
      "source": [
        "less_boring_sum_function?"
      ],
      "execution_count": null,
      "outputs": []
    },
    {
      "cell_type": "code",
      "metadata": {
        "id": "6ma8sUFeusTB"
      },
      "source": [
        "help(less_boring_sum_function)"
      ],
      "execution_count": null,
      "outputs": []
    },
    {
      "cell_type": "code",
      "metadata": {
        "id": "yJovp1zyudm2"
      },
      "source": [
        "less_boring_sum_function(1, 2)"
      ],
      "execution_count": null,
      "outputs": []
    },
    {
      "cell_type": "markdown",
      "metadata": {
        "id": "G4wUQL43ZTBJ"
      },
      "source": [
        "## if-else, for loop exercises\n",
        "\n"
      ]
    },
    {
      "cell_type": "markdown",
      "metadata": {
        "id": "HV07P7uKrdxS"
      },
      "source": [
        "#### A calendar"
      ]
    },
    {
      "cell_type": "markdown",
      "metadata": {
        "id": "ZE-Mj_7cZHD5"
      },
      "source": [
        "Create a for loop (possibly a nested for loop) which writes out\n",
        "the month, day, and day of the week for each day of the year\n",
        "and that works for both years with 28 days in feb, and 29 days in feb\n",
        "just by changing the value of the variable feb\n",
        "it should look like this, in the case of a year starting on a Monday (simplest case)"
      ]
    },
    {
      "cell_type": "code",
      "metadata": {
        "id": "lecD5l_NRslK"
      },
      "source": [
        "days_of_the_week = ['M','Tue','W','Thr','F','Sat','Sun']\n",
        "months = ['Jan','Feb','Mar','Apr','May','Jun','Jul','Aug','Sep','Oct','Nov','Dec']\n",
        "feb = 29\n",
        "month_lenght = [31, feb, 31, 30, 31, 30, 31, 31, 30, 31, 30, 31]"
      ],
      "execution_count": null,
      "outputs": []
    },
    {
      "cell_type": "markdown",
      "metadata": {
        "id": "w2q2t7XKv7jt"
      },
      "source": [
        "The output could be like this, for example:"
      ]
    },
    {
      "cell_type": "code",
      "metadata": {
        "id": "P8eNNR1zv4Hd"
      },
      "source": [
        "\n",
        "week_index = 0\n",
        "\n",
        "#for example....\n",
        "for index, month in enumerate(months):  \n",
        "\n",
        "# remove\n",
        "\n",
        "  for day in range(month_lenght[index]):\n",
        "    day = day + 1\n",
        "    weekday = days_of_the_week[week_index]\n",
        "    week_index +=1\n",
        "    if week_index == 7:\n",
        "      week_index = 0\n",
        "\n",
        "    print('{0} {1} {2}'.format(day,  month, weekday))\n"
      ],
      "execution_count": null,
      "outputs": []
    },
    {
      "cell_type": "markdown",
      "metadata": {
        "id": "4ho6sYWOwEE1"
      },
      "source": [
        "Can you recreate an output like this?"
      ]
    },
    {
      "cell_type": "code",
      "metadata": {
        "id": "oqCAZCdXWWjt"
      },
      "source": [
        "#HINT\n",
        "# Use a dictionary to choose the appropriate the suffix\n",
        "day_suffix_dict = {1: 'st', 2 : 'nd', 3: 'rd'}\n",
        "\n",
        "week_index = 0\n",
        "\n",
        "#remove\n",
        "\n",
        "for index, month in enumerate(months):  \n",
        "  for day in range(month_lenght[index]):\n",
        "    day = day + 1\n",
        "    weekday = days_of_the_week[week_index]\n",
        "    week_index +=1\n",
        "    if week_index == 7:\n",
        "      week_index = 0\n",
        "    # give the right suffix to the day\n",
        "    if day in day_suffix_dict.keys():\n",
        "      day_suffix = day_suffix_dict[day]\n",
        "    else:\n",
        "      day_suffix = 'th'\n",
        "    print('The {0}{1} of {2} is a {3}'.format(day, day_suffix, month, weekday))\n"
      ],
      "execution_count": null,
      "outputs": []
    },
    {
      "cell_type": "code",
      "metadata": {
        "colab": {
          "base_uri": "https://localhost:8080/"
        },
        "id": "PWXZw1i0ww9z",
        "outputId": "45070a1d-541a-47b2-84f9-9ac19f48ec8d"
      },
      "source": [
        "# now modify the code to output the nth day of the year\n",
        "\n",
        "week_index = 5\n",
        "counter = 0\n",
        "nth_day = int(input(\"which day: \"))\n",
        "\n",
        "if nth_day <= 365:\n",
        "  for index, month in enumerate(months):  \n",
        "    for day in range(month_lenght[index]):\n",
        "      counter +=1 \n",
        "      day = day + 1\n",
        "      weekday = days_of_the_week[week_index]\n",
        "      week_index +=1\n",
        "      if week_index == 7:\n",
        "        week_index = 0\n",
        "\n",
        "      if counter == nth_day:\n",
        "        break\n",
        "    \n",
        "    if counter == nth_day:\n",
        "      break\n",
        "\n",
        "      \n",
        "  print('{0} {1} {2}'.format(day,  month, weekday))\n",
        "\n",
        "else:\n",
        "  print('that day does not exist')\n",
        "    "
      ],
      "execution_count": null,
      "outputs": [
        {
          "output_type": "stream",
          "name": "stdout",
          "text": [
            "which day: 56\n",
            "25 Feb F\n"
          ]
        }
      ]
    },
    {
      "cell_type": "markdown",
      "source": [
        "Create a code whose output is which day of the week is any day in 2022 (in format dd/mm).\n",
        "\n",
        "Can you use functions where useful?\n",
        "\n",
        "2022 starts on Saturday and February has 28 days"
      ],
      "metadata": {
        "id": "gUQHu-Ss2ssA"
      }
    },
    {
      "cell_type": "code",
      "metadata": {
        "id": "yWESx5VU6dbC",
        "colab": {
          "base_uri": "https://localhost:8080/"
        },
        "outputId": "85d3a8cd-4b4d-4f7b-e59d-e29ebf1e9989"
      },
      "source": [
        "# HINT\n",
        "# use a dictionary to input the info about the year\n",
        "year = {'feb' : 28,\n",
        "        'week_index' : 5,\n",
        "        'year' : 2022}\n",
        "\n",
        "#for example\n",
        "feb = year['feb'] \n",
        "month_length = [31, feb, 31, 30, 31, 30, 31, 31, 30, 31, 30, 31]\n",
        "\n",
        "week_index = year['week_index']\n",
        "\n",
        "yyyy = year['year']\n",
        "\n",
        "input_date = input(\"input a date in 2022 in format dd/mm: \")\n",
        "\n",
        "\n",
        "\n",
        "# Initialize a dictionary to store all the possible dates and corresponding weekdays in the year 2022\n",
        "dict_days = {}\n",
        "\n",
        "# loop over the months\n",
        "for index, month in enumerate(months):  \n",
        "  \n",
        "  # this is necessary for creating the date to store in the dictionary, \n",
        "  # since it has to be in format dd/mm\n",
        "  if index <9:\n",
        "    month = \"0{month}\".format(month = index+1)\n",
        "  else:\n",
        "    month = \"{month}\".format(month = index+1)\n",
        "\n",
        "  # loop over the days in the month\n",
        "  for day in range(month_lenght[index]):\n",
        "    day = day + 1  # necessary since python starts to count from 0!\n",
        "    \n",
        "    # determine the day of the week\n",
        "    weekday = days_of_the_week[week_index]\n",
        "    week_index +=1\n",
        "\n",
        "    # reset the week index if the week is finished\n",
        "    if week_index == 7:\n",
        "      week_index = 0\n",
        "\n",
        "    # this is necessary for creating the date to store in the dictionary, \n",
        "    # since it has to be in format dd/mm    \n",
        "    if day <10:\n",
        "      day = \"0{day}\".format(day = day)\n",
        "\n",
        "    # date to use to created a dictionary\n",
        "    date = '{day}/{month}'.format(day = day, month = month)\n",
        "    \n",
        "    # new entry in the dictionary\n",
        "    dict_days[date] = weekday\n",
        "\n",
        "\n",
        "print('the {date}/22 is a {weekday}'.format(date = input_date, \n",
        "                                            weekday = dict_days[input_date]))\n"
      ],
      "execution_count": null,
      "outputs": [
        {
          "output_type": "stream",
          "name": "stdout",
          "text": [
            "input a date in 2022 in format dd/mm: 25/02\n",
            "the 25/02/22 is a F\n"
          ]
        }
      ]
    },
    {
      "cell_type": "code",
      "source": [
        "dict_days"
      ],
      "metadata": {
        "colab": {
          "base_uri": "https://localhost:8080/"
        },
        "id": "7ENkRzJ93nBv",
        "outputId": "997615c2-afb7-4f26-88a2-25510dda8411"
      },
      "execution_count": null,
      "outputs": [
        {
          "output_type": "execute_result",
          "data": {
            "text/plain": [
              "{'1/01': 'M',\n",
              " '1/02': 'Thr',\n",
              " '1/03': 'F',\n",
              " '1/04': 'M',\n",
              " '1/05': 'W',\n",
              " '1/06': 'Sat',\n",
              " '1/07': 'M',\n",
              " '1/08': 'Thr',\n",
              " '1/09': 'Sun',\n",
              " '1/10': 'Tue',\n",
              " '1/11': 'F',\n",
              " '1/12': 'Sun',\n",
              " '10/01': 'W',\n",
              " '10/02': 'Sat',\n",
              " '10/03': 'Sun',\n",
              " '10/04': 'W',\n",
              " '10/05': 'F',\n",
              " '10/06': 'M',\n",
              " '10/07': 'W',\n",
              " '10/08': 'Sat',\n",
              " '10/09': 'Tue',\n",
              " '10/10': 'Thr',\n",
              " '10/11': 'Sun',\n",
              " '10/12': 'Tue',\n",
              " '11/01': 'Thr',\n",
              " '11/02': 'Sun',\n",
              " '11/03': 'M',\n",
              " '11/04': 'Thr',\n",
              " '11/05': 'Sat',\n",
              " '11/06': 'Tue',\n",
              " '11/07': 'Thr',\n",
              " '11/08': 'Sun',\n",
              " '11/09': 'W',\n",
              " '11/10': 'F',\n",
              " '11/11': 'M',\n",
              " '11/12': 'W',\n",
              " '12/01': 'F',\n",
              " '12/02': 'M',\n",
              " '12/03': 'Tue',\n",
              " '12/04': 'F',\n",
              " '12/05': 'Sun',\n",
              " '12/06': 'W',\n",
              " '12/07': 'F',\n",
              " '12/08': 'M',\n",
              " '12/09': 'Thr',\n",
              " '12/10': 'Sat',\n",
              " '12/11': 'Tue',\n",
              " '12/12': 'Thr',\n",
              " '13/01': 'Sat',\n",
              " '13/02': 'Tue',\n",
              " '13/03': 'W',\n",
              " '13/04': 'Sat',\n",
              " '13/05': 'M',\n",
              " '13/06': 'Thr',\n",
              " '13/07': 'Sat',\n",
              " '13/08': 'Tue',\n",
              " '13/09': 'F',\n",
              " '13/10': 'Sun',\n",
              " '13/11': 'W',\n",
              " '13/12': 'F',\n",
              " '14/01': 'Sun',\n",
              " '14/02': 'W',\n",
              " '14/03': 'Thr',\n",
              " '14/04': 'Sun',\n",
              " '14/05': 'Tue',\n",
              " '14/06': 'F',\n",
              " '14/07': 'Sun',\n",
              " '14/08': 'W',\n",
              " '14/09': 'Sat',\n",
              " '14/10': 'M',\n",
              " '14/11': 'Thr',\n",
              " '14/12': 'Sat',\n",
              " '15/01': 'M',\n",
              " '15/02': 'Thr',\n",
              " '15/03': 'F',\n",
              " '15/04': 'M',\n",
              " '15/05': 'W',\n",
              " '15/06': 'Sat',\n",
              " '15/07': 'M',\n",
              " '15/08': 'Thr',\n",
              " '15/09': 'Sun',\n",
              " '15/10': 'Tue',\n",
              " '15/11': 'F',\n",
              " '15/12': 'Sun',\n",
              " '16/01': 'Tue',\n",
              " '16/02': 'F',\n",
              " '16/03': 'Sat',\n",
              " '16/04': 'Tue',\n",
              " '16/05': 'Thr',\n",
              " '16/06': 'Sun',\n",
              " '16/07': 'Tue',\n",
              " '16/08': 'F',\n",
              " '16/09': 'M',\n",
              " '16/10': 'W',\n",
              " '16/11': 'Sat',\n",
              " '16/12': 'M',\n",
              " '17/01': 'W',\n",
              " '17/02': 'Sat',\n",
              " '17/03': 'Sun',\n",
              " '17/04': 'W',\n",
              " '17/05': 'F',\n",
              " '17/06': 'M',\n",
              " '17/07': 'W',\n",
              " '17/08': 'Sat',\n",
              " '17/09': 'Tue',\n",
              " '17/10': 'Thr',\n",
              " '17/11': 'Sun',\n",
              " '17/12': 'Tue',\n",
              " '18/01': 'Thr',\n",
              " '18/02': 'Sun',\n",
              " '18/03': 'M',\n",
              " '18/04': 'Thr',\n",
              " '18/05': 'Sat',\n",
              " '18/06': 'Tue',\n",
              " '18/07': 'Thr',\n",
              " '18/08': 'Sun',\n",
              " '18/09': 'W',\n",
              " '18/10': 'F',\n",
              " '18/11': 'M',\n",
              " '18/12': 'W',\n",
              " '19/01': 'F',\n",
              " '19/02': 'M',\n",
              " '19/03': 'Tue',\n",
              " '19/04': 'F',\n",
              " '19/05': 'Sun',\n",
              " '19/06': 'W',\n",
              " '19/07': 'F',\n",
              " '19/08': 'M',\n",
              " '19/09': 'Thr',\n",
              " '19/10': 'Sat',\n",
              " '19/11': 'Tue',\n",
              " '19/12': 'Thr',\n",
              " '2/01': 'Tue',\n",
              " '2/02': 'F',\n",
              " '2/03': 'Sat',\n",
              " '2/04': 'Tue',\n",
              " '2/05': 'Thr',\n",
              " '2/06': 'Sun',\n",
              " '2/07': 'Tue',\n",
              " '2/08': 'F',\n",
              " '2/09': 'M',\n",
              " '2/10': 'W',\n",
              " '2/11': 'Sat',\n",
              " '2/12': 'M',\n",
              " '20/01': 'Sat',\n",
              " '20/02': 'Tue',\n",
              " '20/03': 'W',\n",
              " '20/04': 'Sat',\n",
              " '20/05': 'M',\n",
              " '20/06': 'Thr',\n",
              " '20/07': 'Sat',\n",
              " '20/08': 'Tue',\n",
              " '20/09': 'F',\n",
              " '20/10': 'Sun',\n",
              " '20/11': 'W',\n",
              " '20/12': 'F',\n",
              " '21/01': 'Sun',\n",
              " '21/02': 'W',\n",
              " '21/03': 'Thr',\n",
              " '21/04': 'Sun',\n",
              " '21/05': 'Tue',\n",
              " '21/06': 'F',\n",
              " '21/07': 'Sun',\n",
              " '21/08': 'W',\n",
              " '21/09': 'Sat',\n",
              " '21/10': 'M',\n",
              " '21/11': 'Thr',\n",
              " '21/12': 'Sat',\n",
              " '22/01': 'M',\n",
              " '22/02': 'Thr',\n",
              " '22/03': 'F',\n",
              " '22/04': 'M',\n",
              " '22/05': 'W',\n",
              " '22/06': 'Sat',\n",
              " '22/07': 'M',\n",
              " '22/08': 'Thr',\n",
              " '22/09': 'Sun',\n",
              " '22/10': 'Tue',\n",
              " '22/11': 'F',\n",
              " '22/12': 'Sun',\n",
              " '23/01': 'Tue',\n",
              " '23/02': 'F',\n",
              " '23/03': 'Sat',\n",
              " '23/04': 'Tue',\n",
              " '23/05': 'Thr',\n",
              " '23/06': 'Sun',\n",
              " '23/07': 'Tue',\n",
              " '23/08': 'F',\n",
              " '23/09': 'M',\n",
              " '23/10': 'W',\n",
              " '23/11': 'Sat',\n",
              " '23/12': 'M',\n",
              " '24/01': 'W',\n",
              " '24/02': 'Sat',\n",
              " '24/03': 'Sun',\n",
              " '24/04': 'W',\n",
              " '24/05': 'F',\n",
              " '24/06': 'M',\n",
              " '24/07': 'W',\n",
              " '24/08': 'Sat',\n",
              " '24/09': 'Tue',\n",
              " '24/10': 'Thr',\n",
              " '24/11': 'Sun',\n",
              " '24/12': 'Tue',\n",
              " '25/01': 'Thr',\n",
              " '25/02': 'Sun',\n",
              " '25/03': 'M',\n",
              " '25/04': 'Thr',\n",
              " '25/05': 'Sat',\n",
              " '25/06': 'Tue',\n",
              " '25/07': 'Thr',\n",
              " '25/08': 'Sun',\n",
              " '25/09': 'W',\n",
              " '25/10': 'F',\n",
              " '25/11': 'M',\n",
              " '25/12': 'W',\n",
              " '26/01': 'F',\n",
              " '26/02': 'M',\n",
              " '26/03': 'Tue',\n",
              " '26/04': 'F',\n",
              " '26/05': 'Sun',\n",
              " '26/06': 'W',\n",
              " '26/07': 'F',\n",
              " '26/08': 'M',\n",
              " '26/09': 'Thr',\n",
              " '26/10': 'Sat',\n",
              " '26/11': 'Tue',\n",
              " '26/12': 'Thr',\n",
              " '27/01': 'Sat',\n",
              " '27/02': 'Tue',\n",
              " '27/03': 'W',\n",
              " '27/04': 'Sat',\n",
              " '27/05': 'M',\n",
              " '27/06': 'Thr',\n",
              " '27/07': 'Sat',\n",
              " '27/08': 'Tue',\n",
              " '27/09': 'F',\n",
              " '27/10': 'Sun',\n",
              " '27/11': 'W',\n",
              " '27/12': 'F',\n",
              " '28/01': 'Sun',\n",
              " '28/02': 'W',\n",
              " '28/03': 'Thr',\n",
              " '28/04': 'Sun',\n",
              " '28/05': 'Tue',\n",
              " '28/06': 'F',\n",
              " '28/07': 'Sun',\n",
              " '28/08': 'W',\n",
              " '28/09': 'Sat',\n",
              " '28/10': 'M',\n",
              " '28/11': 'Thr',\n",
              " '28/12': 'Sat',\n",
              " '29/01': 'M',\n",
              " '29/02': 'Thr',\n",
              " '29/03': 'F',\n",
              " '29/04': 'M',\n",
              " '29/05': 'W',\n",
              " '29/06': 'Sat',\n",
              " '29/07': 'M',\n",
              " '29/08': 'Thr',\n",
              " '29/09': 'Sun',\n",
              " '29/10': 'Tue',\n",
              " '29/11': 'F',\n",
              " '29/12': 'Sun',\n",
              " '3/01': 'W',\n",
              " '3/02': 'Sat',\n",
              " '3/03': 'Sun',\n",
              " '3/04': 'W',\n",
              " '3/05': 'F',\n",
              " '3/06': 'M',\n",
              " '3/07': 'W',\n",
              " '3/08': 'Sat',\n",
              " '3/09': 'Tue',\n",
              " '3/10': 'Thr',\n",
              " '3/11': 'Sun',\n",
              " '3/12': 'Tue',\n",
              " '30/01': 'Tue',\n",
              " '30/03': 'Sat',\n",
              " '30/04': 'Tue',\n",
              " '30/05': 'Thr',\n",
              " '30/06': 'Sun',\n",
              " '30/07': 'Tue',\n",
              " '30/08': 'F',\n",
              " '30/09': 'M',\n",
              " '30/10': 'W',\n",
              " '30/11': 'Sat',\n",
              " '30/12': 'M',\n",
              " '31/01': 'W',\n",
              " '31/03': 'Sun',\n",
              " '31/05': 'F',\n",
              " '31/07': 'W',\n",
              " '31/08': 'Sat',\n",
              " '31/10': 'Thr',\n",
              " '31/12': 'Tue',\n",
              " '4/01': 'Thr',\n",
              " '4/02': 'Sun',\n",
              " '4/03': 'M',\n",
              " '4/04': 'Thr',\n",
              " '4/05': 'Sat',\n",
              " '4/06': 'Tue',\n",
              " '4/07': 'Thr',\n",
              " '4/08': 'Sun',\n",
              " '4/09': 'W',\n",
              " '4/10': 'F',\n",
              " '4/11': 'M',\n",
              " '4/12': 'W',\n",
              " '5/01': 'F',\n",
              " '5/02': 'M',\n",
              " '5/03': 'Tue',\n",
              " '5/04': 'F',\n",
              " '5/05': 'Sun',\n",
              " '5/06': 'W',\n",
              " '5/07': 'F',\n",
              " '5/08': 'M',\n",
              " '5/09': 'Thr',\n",
              " '5/10': 'Sat',\n",
              " '5/11': 'Tue',\n",
              " '5/12': 'Thr',\n",
              " '6/01': 'Sat',\n",
              " '6/02': 'Tue',\n",
              " '6/03': 'W',\n",
              " '6/04': 'Sat',\n",
              " '6/05': 'M',\n",
              " '6/06': 'Thr',\n",
              " '6/07': 'Sat',\n",
              " '6/08': 'Tue',\n",
              " '6/09': 'F',\n",
              " '6/10': 'Sun',\n",
              " '6/11': 'W',\n",
              " '6/12': 'F',\n",
              " '7/01': 'Sun',\n",
              " '7/02': 'W',\n",
              " '7/03': 'Thr',\n",
              " '7/04': 'Sun',\n",
              " '7/05': 'Tue',\n",
              " '7/06': 'F',\n",
              " '7/07': 'Sun',\n",
              " '7/08': 'W',\n",
              " '7/09': 'Sat',\n",
              " '7/10': 'M',\n",
              " '7/11': 'Thr',\n",
              " '7/12': 'Sat',\n",
              " '8/01': 'M',\n",
              " '8/02': 'Thr',\n",
              " '8/03': 'F',\n",
              " '8/04': 'M',\n",
              " '8/05': 'W',\n",
              " '8/06': 'Sat',\n",
              " '8/07': 'M',\n",
              " '8/08': 'Thr',\n",
              " '8/09': 'Sun',\n",
              " '8/10': 'Tue',\n",
              " '8/11': 'F',\n",
              " '8/12': 'Sun',\n",
              " '9/01': 'Tue',\n",
              " '9/02': 'F',\n",
              " '9/03': 'Sat',\n",
              " '9/04': 'Tue',\n",
              " '9/05': 'Thr',\n",
              " '9/06': 'Sun',\n",
              " '9/07': 'Tue',\n",
              " '9/08': 'F',\n",
              " '9/09': 'M',\n",
              " '9/10': 'W',\n",
              " '9/11': 'Sat',\n",
              " '9/12': 'M'}"
            ]
          },
          "metadata": {},
          "execution_count": 12
        }
      ]
    },
    {
      "cell_type": "code",
      "source": [
        ""
      ],
      "metadata": {
        "id": "jYuIMVrg4onv"
      },
      "execution_count": null,
      "outputs": []
    }
  ]
}