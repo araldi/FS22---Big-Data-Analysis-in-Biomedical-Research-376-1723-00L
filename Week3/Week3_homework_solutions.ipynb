{
  "nbformat": 4,
  "nbformat_minor": 0,
  "metadata": {
    "colab": {
      "name": "Week3_homework_solutions.ipynb",
      "provenance": [],
      "authorship_tag": "ABX9TyPUYVEl8QJ/MNpFbrFj2pM4",
      "include_colab_link": true
    },
    "kernelspec": {
      "name": "python3",
      "display_name": "Python 3"
    },
    "language_info": {
      "name": "python"
    }
  },
  "cells": [
    {
      "cell_type": "markdown",
      "metadata": {
        "id": "view-in-github",
        "colab_type": "text"
      },
      "source": [
        "<a href=\"https://colab.research.google.com/github/araldi/FS22---Big-Data-Analysis-in-Biomedical-Research-376-1723-00L/blob/main/Week3/Week3_homework_solutions.ipynb\" target=\"_parent\"><img src=\"https://colab.research.google.com/assets/colab-badge.svg\" alt=\"Open In Colab\"/></a>"
      ]
    },
    {
      "cell_type": "markdown",
      "metadata": {
        "id": "Rv86f7pR3Skz"
      },
      "source": [
        "# Blood biochemical parameters and physical features in diabetic patients versus healthy individuals"
      ]
    },
    {
      "cell_type": "markdown",
      "metadata": {
        "id": "sF2QTzdz2g4N"
      },
      "source": [
        "Sometimes real data is complicated. In this week's homework, obtaining the final dataset will be more challenging than usual.\n",
        "\n",
        "You can find below the links to four datasets which are parts of one bigger dataset.\n",
        "\n",
        "You will also find two dictionaries. Use one to decode the column codes to their content description, the other one to decode the diabetic status of the participants.\n"
      ]
    },
    {
      "cell_type": "markdown",
      "metadata": {
        "id": "Rc7K1aqr5dlC"
      },
      "source": [
        "\n",
        "Dictionaries:\n",
        "```\n",
        "https://github.com/araldi/HS21---Big-Data-Analysis-in-Biomedical-Research-376-1723-00L-/raw/main/Week3/Week3_homework_dictionary_part2.csv\n",
        "\n",
        "\n",
        "https://github.com/araldi/HS21---Big-Data-Analysis-in-Biomedical-Research-376-1723-00L-/raw/main/Week3/Week3_homework_dictionary_part1.csv\n",
        "```\n",
        "\n",
        "Data:\n",
        "```\n",
        "https://github.com/araldi/HS21---Big-Data-Analysis-in-Biomedical-Research-376-1723-00L-/blob/main/Week3/Week3_homework_dataA.csv?raw=true\n",
        "\n",
        "\n",
        "https://github.com/araldi/HS21---Big-Data-Analysis-in-Biomedical-Research-376-1723-00L-/blob/main/Week3/Week3_homework_dataB.csv?raw=true\n",
        "\n",
        "\n",
        "https://github.com/araldi/HS21---Big-Data-Analysis-in-Biomedical-Research-376-1723-00L-/blob/main/Week3/Week3_homework_dataC.csv?raw=true\n",
        "\n",
        "\n",
        "https://github.com/araldi/HS21---Big-Data-Analysis-in-Biomedical-Research-376-1723-00L-/blob/main/Week3/Week3_homework_dataD.csv?raw=true\n",
        "```\n",
        "\n"
      ]
    },
    {
      "cell_type": "markdown",
      "metadata": {
        "id": "aueuRMzVA69x"
      },
      "source": [
        "#### Tasks\n",
        "\n",
        "\n",
        "*   Explore the datasets and appropriately merge/concatenate them to obtain one dataset. \n",
        "\n",
        "*   Prepare the dataset: remove duplicates, remove NaN and missing diabetes data.\n",
        "\n",
        "* How many diabetics (in percentage) are in the dataset?  \n",
        "\n",
        "\n",
        "*   Find the mean and standard deviation of glycated haemoglobin and glucose in healthy patients and in patients with diabetes. \n",
        "\n",
        "*  Divide the population by age, and find mean and standard deviation of glycated haemoglobin and glucose in healthy patients and in patients with diabetes in the different age groups (example: younger than 50, 50-54, 55-59, 60-64, 65-69, older than 70)\n",
        "\n",
        "*   Optional: obtain the same information for males and females separately"
      ]
    },
    {
      "cell_type": "markdown",
      "metadata": {
        "id": "Nat7VJ-0BshQ"
      },
      "source": [
        "## Solution"
      ]
    },
    {
      "cell_type": "markdown",
      "metadata": {
        "id": "5obwv8fGBwa1"
      },
      "source": [
        "#### Import the datasets and inspect them"
      ]
    },
    {
      "cell_type": "code",
      "metadata": {
        "id": "m5SAjFxKBYKZ"
      },
      "source": [
        "import pandas as pd"
      ],
      "execution_count": null,
      "outputs": []
    },
    {
      "cell_type": "code",
      "metadata": {
        "id": "BgM8lWnqBYta"
      },
      "source": [
        "dict2 = pd.read_csv('https://github.com/araldi/HS21---Big-Data-Analysis-in-Biomedical-Research-376-1723-00L-/raw/main/Week3/Week3_homework_dictionary_part2.csv')"
      ],
      "execution_count": null,
      "outputs": []
    },
    {
      "cell_type": "code",
      "metadata": {
        "id": "b6aBcWKhBYq7"
      },
      "source": [
        "dict1 = pd.read_csv('https://github.com/araldi/HS21---Big-Data-Analysis-in-Biomedical-Research-376-1723-00L-/raw/main/Week3/Week3_homework_dictionary_part1.csv')"
      ],
      "execution_count": null,
      "outputs": []
    },
    {
      "cell_type": "code",
      "metadata": {
        "id": "3UQJsIdABkxV"
      },
      "source": [
        "dict1"
      ],
      "execution_count": null,
      "outputs": []
    },
    {
      "cell_type": "code",
      "metadata": {
        "id": "q3w_oRoOBpEn"
      },
      "source": [
        "dict2"
      ],
      "execution_count": null,
      "outputs": []
    },
    {
      "cell_type": "markdown",
      "metadata": {
        "id": "M88QUSzyB4zd"
      },
      "source": [
        "Dict1 is the decoding of the columns, dict2 is the decoding of the diabetes status (code '2443-0.0')"
      ]
    },
    {
      "cell_type": "code",
      "metadata": {
        "id": "_DRbp_c18Etl"
      },
      "source": [
        "dfA = pd.read_csv('https://github.com/araldi/HS21---Big-Data-Analysis-in-Biomedical-Research-376-1723-00L-/blob/main/Week3/Week3_homework_dataA.csv?raw=true')"
      ],
      "execution_count": null,
      "outputs": []
    },
    {
      "cell_type": "code",
      "metadata": {
        "id": "idrjUztf8Eqh"
      },
      "source": [
        "dfB = pd.read_csv('https://github.com/araldi/HS21---Big-Data-Analysis-in-Biomedical-Research-376-1723-00L-/blob/main/Week3/Week3_homework_dataB.csv?raw=true')"
      ],
      "execution_count": null,
      "outputs": []
    },
    {
      "cell_type": "code",
      "metadata": {
        "id": "zlM54QWL8EgM"
      },
      "source": [
        "dfC = pd.read_csv('https://github.com/araldi/HS21---Big-Data-Analysis-in-Biomedical-Research-376-1723-00L-/blob/main/Week3/Week3_homework_dataC.csv?raw=true')"
      ],
      "execution_count": null,
      "outputs": []
    },
    {
      "cell_type": "code",
      "metadata": {
        "id": "dozlHaHm8abj"
      },
      "source": [
        "dfD = pd.read_csv('https://github.com/araldi/HS21---Big-Data-Analysis-in-Biomedical-Research-376-1723-00L-/blob/main/Week3/Week3_homework_dataD.csv?raw=true')"
      ],
      "execution_count": null,
      "outputs": []
    },
    {
      "cell_type": "code",
      "metadata": {
        "id": "XBPfMZNy8eBh"
      },
      "source": [
        "dfA.info()"
      ],
      "execution_count": null,
      "outputs": []
    },
    {
      "cell_type": "code",
      "metadata": {
        "id": "A7ApRPAb8hnR"
      },
      "source": [
        "dfC.info()"
      ],
      "execution_count": null,
      "outputs": []
    },
    {
      "cell_type": "code",
      "metadata": {
        "id": "ameZdGge8gsh"
      },
      "source": [
        "dfB.info()"
      ],
      "execution_count": null,
      "outputs": []
    },
    {
      "cell_type": "code",
      "metadata": {
        "id": "jGCKtfrc8jx9"
      },
      "source": [
        "dfD.info()"
      ],
      "execution_count": null,
      "outputs": []
    },
    {
      "cell_type": "markdown",
      "metadata": {
        "id": "mUzxzRIMDQcC"
      },
      "source": [
        "### Prepare the dataset"
      ]
    },
    {
      "cell_type": "markdown",
      "metadata": {
        "id": "g0_lx49mDSgk"
      },
      "source": [
        "#### Merge and concatenate the datasets"
      ]
    },
    {
      "cell_type": "markdown",
      "metadata": {
        "id": "R7F_Teg9CB__"
      },
      "source": [
        "Looks like there are two pairs of dataframes with different patients and same columns. Let's concatenate the the dfs with same columns (A and C, and B and D)"
      ]
    },
    {
      "cell_type": "code",
      "metadata": {
        "id": "xPFCdyt3A4-i"
      },
      "source": [
        "df1 = pd.concat([dfB, dfD])"
      ],
      "execution_count": null,
      "outputs": []
    },
    {
      "cell_type": "code",
      "metadata": {
        "id": "U57G999SBB3H"
      },
      "source": [
        "df1"
      ],
      "execution_count": null,
      "outputs": []
    },
    {
      "cell_type": "code",
      "metadata": {
        "id": "vTc-lqfFA-VW"
      },
      "source": [
        "df2 = pd.concat([dfA, dfC])"
      ],
      "execution_count": null,
      "outputs": []
    },
    {
      "cell_type": "code",
      "metadata": {
        "id": "h1tG5tClBEV7"
      },
      "source": [
        "df2"
      ],
      "execution_count": null,
      "outputs": []
    },
    {
      "cell_type": "markdown",
      "metadata": {
        "id": "rM-bMWTrCXE8"
      },
      "source": [
        "df1 and df2 have probably duplicate individuals, or some individuals in one dataframe are not present in the other one. Since the info we need is on both dataframes, we need to get rid of individuals for which there is not one or the other info. Let's merge the new dataframes df1 and df2 with the *inner* method."
      ]
    },
    {
      "cell_type": "code",
      "metadata": {
        "id": "lEQKK9E4BE1g"
      },
      "source": [
        "df = pd.merge(df1, df2, how='inner', on='eid')"
      ],
      "execution_count": null,
      "outputs": []
    },
    {
      "cell_type": "code",
      "metadata": {
        "id": "Sg0_7yIWBMsK"
      },
      "source": [
        "df"
      ],
      "execution_count": null,
      "outputs": []
    },
    {
      "cell_type": "markdown",
      "metadata": {
        "id": "yinyMBE0DWsa"
      },
      "source": [
        "#### Clean the dataset (remove duplicates, rename columns, remove NaN)"
      ]
    },
    {
      "cell_type": "markdown",
      "metadata": {
        "id": "qkkna-sIC27y"
      },
      "source": [
        "There might still be duplicates. Let's get rid of them. And to be clean, let's also reset the index."
      ]
    },
    {
      "cell_type": "code",
      "metadata": {
        "id": "lGX0wGDaBNMY"
      },
      "source": [
        "df = df.drop_duplicates().reset_index(drop=True)"
      ],
      "execution_count": null,
      "outputs": []
    },
    {
      "cell_type": "code",
      "metadata": {
        "id": "fYslqszcBRy0"
      },
      "source": [
        "df"
      ],
      "execution_count": null,
      "outputs": []
    },
    {
      "cell_type": "markdown",
      "metadata": {
        "id": "Kki50kFqDfzB"
      },
      "source": [
        "Rename the columns to understand which ones we need (before cleaning the NaN)"
      ]
    },
    {
      "cell_type": "code",
      "metadata": {
        "id": "dhEXDmO5DfiD"
      },
      "source": [
        "# info on the columns are in dict1\n",
        "dict1"
      ],
      "execution_count": null,
      "outputs": []
    },
    {
      "cell_type": "code",
      "metadata": {
        "id": "voAxpjcDCV8V"
      },
      "source": [
        "type(dict1)"
      ],
      "execution_count": null,
      "outputs": []
    },
    {
      "cell_type": "code",
      "metadata": {
        "id": "Vd7suLlUBUck"
      },
      "source": [
        "cols_dict = {}\n",
        "for index, value in enumerate(dict1['Code']):\n",
        "  cols_dict[value] = dict1.loc[index, 'Description']\n",
        "cols_dict"
      ],
      "execution_count": null,
      "outputs": []
    },
    {
      "cell_type": "code",
      "metadata": {
        "id": "t443iVDuD1FL"
      },
      "source": [
        "df = df.rename(columns = cols_dict)\n",
        "df"
      ],
      "execution_count": null,
      "outputs": []
    },
    {
      "cell_type": "code",
      "metadata": {
        "id": "kpaZWgYoC0ev"
      },
      "source": [
        "df.isna().sum()"
      ],
      "execution_count": null,
      "outputs": []
    },
    {
      "cell_type": "markdown",
      "metadata": {
        "id": "CS1dKxg3D8th"
      },
      "source": [
        "The columns we need are Glucose, Glycated haemoglobin (HbA1c), Gender, Diabetes diagnosed by doctor, AgeRecruit. Let's get rid of NaN in these columns only."
      ]
    },
    {
      "cell_type": "code",
      "metadata": {
        "id": "GjmMqP4cD5wd"
      },
      "source": [
        "df = df.dropna(subset= ['Glucose [mmol/L]', 'Glycated haemoglobin (HbA1c) [mmol/mol]', 'Gender', 'Diabetes diagnosed by doctor', 'AgeRecruit'])"
      ],
      "execution_count": null,
      "outputs": []
    },
    {
      "cell_type": "code",
      "metadata": {
        "id": "kEetM8n8Ecvv"
      },
      "source": [
        "df"
      ],
      "execution_count": null,
      "outputs": []
    },
    {
      "cell_type": "markdown",
      "metadata": {
        "id": "xZ7jTITrEju8"
      },
      "source": [
        "Deal with missing diabetes info (coding in dict2)\n"
      ]
    },
    {
      "cell_type": "code",
      "metadata": {
        "id": "pTlJ12lNEdY-"
      },
      "source": [
        "dict2"
      ],
      "execution_count": null,
      "outputs": []
    },
    {
      "cell_type": "markdown",
      "metadata": {
        "id": "nt-pdTOPFMOg"
      },
      "source": [
        "Let's see how many missing values we have"
      ]
    },
    {
      "cell_type": "code",
      "metadata": {
        "id": "RU5grNV5FKY9"
      },
      "source": [
        "df['Diabetes diagnosed by doctor'].value_counts()"
      ],
      "execution_count": null,
      "outputs": []
    },
    {
      "cell_type": "markdown",
      "metadata": {
        "id": "ZiOG0GkKE0Lx"
      },
      "source": [
        "We will replace the values -1 and -3 with a NaN using NumPy.select() "
      ]
    },
    {
      "cell_type": "code",
      "metadata": {
        "id": "Q6nFnGJ0Ex-i"
      },
      "source": [
        "import numpy as np\n",
        "\n",
        "condition = [(df['Diabetes diagnosed by doctor'] <0)] #this satisfies both the -1 and -3 conditions\n",
        "choice = [np.nan]\n",
        "df['Diabetes'] = np.select(condition, choice, default = df['Diabetes diagnosed by doctor'])"
      ],
      "execution_count": null,
      "outputs": []
    },
    {
      "cell_type": "code",
      "metadata": {
        "id": "bvc3uiwjGVvF"
      },
      "source": [
        "df['Diabetes'].value_counts() # the NaN are not considered!"
      ],
      "execution_count": null,
      "outputs": []
    },
    {
      "cell_type": "code",
      "metadata": {
        "id": "Qq2u6pRfGVrJ"
      },
      "source": [
        "df = df.dropna(subset =['Diabetes'])"
      ],
      "execution_count": null,
      "outputs": []
    },
    {
      "cell_type": "markdown",
      "metadata": {
        "id": "5cuwMfuyFwWG"
      },
      "source": [
        "As an alternative to np.select and dropna, we can subset the dataset for values of 'Diabetes diagnosed by doctor' >= 0 "
      ]
    },
    {
      "cell_type": "code",
      "metadata": {
        "id": "kWYGZUFYFcM5"
      },
      "source": [
        "df = df[df['Diabetes diagnosed by doctor']>=0]"
      ],
      "execution_count": null,
      "outputs": []
    },
    {
      "cell_type": "code",
      "metadata": {
        "id": "pRchtPLLF43o"
      },
      "source": [
        "df"
      ],
      "execution_count": null,
      "outputs": []
    },
    {
      "cell_type": "markdown",
      "metadata": {
        "id": "jcZ4yoANGvDY"
      },
      "source": [
        "### How many diabetics in the cohort?"
      ]
    },
    {
      "cell_type": "code",
      "metadata": {
        "id": "mCao4uczG85F"
      },
      "source": [
        "df['Diabetes'].value_counts(normalize = True)"
      ],
      "execution_count": null,
      "outputs": []
    },
    {
      "cell_type": "code",
      "metadata": {
        "id": "3YE0kvbQHDZM"
      },
      "source": [
        "percent_diabetics = df['Diabetes'].value_counts(normalize = True).values[1]"
      ],
      "execution_count": null,
      "outputs": []
    },
    {
      "cell_type": "code",
      "metadata": {
        "id": "p9ohl0EhF5kL"
      },
      "source": [
        "print('There are {:.1%} diabetics in the cohort'.format(percent_diabetics) ) # format as a percentage with 2 decimal digits"
      ],
      "execution_count": null,
      "outputs": []
    },
    {
      "cell_type": "markdown",
      "metadata": {
        "id": "KFu723tqIO5-"
      },
      "source": [
        "### Glucose and glycated haemoglobin in patients with or without diabetes"
      ]
    },
    {
      "cell_type": "code",
      "metadata": {
        "id": "yjZj5myxHU9r"
      },
      "source": [
        "diabetes_yes_no = {0: 'patients without diabetes', 1: 'patients with diabetes'}\n",
        "\n",
        "for i in range(0,2):\n",
        "  subset = df[df['Diabetes'] == i]\n",
        "  for biomarker in ['Glucose [mmol/L]', 'Glycated haemoglobin (HbA1c) [mmol/mol]']:\n",
        "    mean = np.mean(subset[biomarker])\n",
        "    std = np.std(subset[biomarker])\n",
        "    print('In {}, {} mean is {:.3f} and standard deviation is {:.3f}'.format(diabetes_yes_no[i], biomarker, mean, std ))"
      ],
      "execution_count": null,
      "outputs": []
    },
    {
      "cell_type": "markdown",
      "metadata": {
        "id": "r84URQW0MXPN"
      },
      "source": [
        "### Same as above, but also divided by males/females"
      ]
    },
    {
      "cell_type": "code",
      "metadata": {
        "id": "8wf3ewd4Jg82"
      },
      "source": [
        "diabetes_yes_no = {0: 'patients without diabetes', 1: 'patients with diabetes'}\n",
        "gender_dict = {0 :'Female', 1: 'Male'}\n",
        "\n",
        "for gender in gender_dict:\n",
        "  gender_subset = df[df[\"Gender\"] == gender]\n",
        "\n",
        "  for i in range(0,2):\n",
        "    subset = gender_subset[gender_subset['Diabetes'] == i]\n",
        "    for biomarker in ['Glucose [mmol/L]', 'Glycated haemoglobin (HbA1c) [mmol/mol]']:\n",
        "      mean = np.mean(subset[biomarker])\n",
        "      std = np.std(subset[biomarker])\n",
        "      print('In {} {}, {} mean is {:.3f} and standard deviation is {:.3f}'.format(gender_dict[gender], diabetes_yes_no[i], biomarker, mean, std ))"
      ],
      "execution_count": null,
      "outputs": []
    },
    {
      "cell_type": "code",
      "metadata": {
        "id": "GEymt9LkPwHw"
      },
      "source": [
        "# let's make it a table\n",
        "\n",
        "diabetes_yes_no = {0: 'no', 1: 'yes'}\n",
        "gender_dict = {0 :'Female', 1: 'Male'}\n",
        "\n",
        "columns = ['Gender', 'Diabetes?',   \n",
        "           'Glucose [mmol/L] mean', 'Glucose [mmol/L] std',\n",
        "           'Glycated haemoglobin (HbA1c) [mmol/mol] mean', 'Glycated haemoglobin (HbA1c) [mmol/mol] std']\n",
        "table_gender_diabetes = pd.DataFrame(columns = columns)\n",
        "\n",
        "for gender in gender_dict:\n",
        "  gender_subset = df[df[\"Gender\"] == gender]\n",
        "\n",
        "  for i in range(0,2):\n",
        "    subset = gender_subset[gender_subset['Diabetes'] == i]\n",
        "    mean = {}\n",
        "    std = {}\n",
        "    for biomarker in ['Glucose [mmol/L]', 'Glycated haemoglobin (HbA1c) [mmol/mol]']:\n",
        "      mean[biomarker] = np.mean(subset[biomarker])\n",
        "      std[biomarker] = np.std(subset[biomarker])\n",
        "    \n",
        "    to_add = pd.Series([gender_dict[gender], diabetes_yes_no[i],\n",
        "                        mean['Glucose [mmol/L]'], std['Glucose [mmol/L]'],\n",
        "                        mean['Glycated haemoglobin (HbA1c) [mmol/mol]'], std['Glycated haemoglobin (HbA1c) [mmol/mol]'],\n",
        "                          \n",
        "                          ], index = columns)\n",
        "    table_gender_diabetes = table_gender_diabetes.append(to_add, ignore_index=True)\n",
        "  \n",
        "\n"
      ],
      "execution_count": null,
      "outputs": []
    },
    {
      "cell_type": "code",
      "metadata": {
        "id": "BqXlyWDrREgN"
      },
      "source": [
        "table_gender_diabetes"
      ],
      "execution_count": null,
      "outputs": []
    },
    {
      "cell_type": "markdown",
      "metadata": {
        "id": "0B0MD0o9NwJw"
      },
      "source": [
        "Determine levels of glucose and HbA1C in different ages"
      ]
    },
    {
      "cell_type": "code",
      "metadata": {
        "id": "NxN-iE_3OKBK"
      },
      "source": [
        "# First, let's check the age distribution of the population\n",
        "df['AgeRecruit'].describe()"
      ],
      "execution_count": null,
      "outputs": []
    },
    {
      "cell_type": "markdown",
      "metadata": {
        "id": "G_DD_sXtOJda"
      },
      "source": [
        ""
      ]
    },
    {
      "cell_type": "code",
      "metadata": {
        "id": "9SlpVPvuNsId"
      },
      "source": [
        "conditions = [df['AgeRecruit'] < 50, \n",
        "              (df['AgeRecruit'] >= 50) & (df['AgeRecruit'] < 55),\n",
        "              (df['AgeRecruit'] >= 55) & (df['AgeRecruit'] < 60),\n",
        "              (df['AgeRecruit'] >= 60) & (df['AgeRecruit'] < 65),\n",
        "              df['AgeRecruit'] >= 65\n",
        "              ]\n",
        "\n",
        "choices = [0, 1, 2, 3, 4]\n",
        "\n",
        "df['AgeBin'] = np.select(conditions, choices, default = np.nan)"
      ],
      "execution_count": null,
      "outputs": []
    },
    {
      "cell_type": "code",
      "metadata": {
        "id": "m0ZDxZQvOygM"
      },
      "source": [
        "# let's check that there are enough individuals in each bin\n",
        "df['AgeBin'].value_counts()"
      ],
      "execution_count": null,
      "outputs": []
    },
    {
      "cell_type": "code",
      "metadata": {
        "id": "j2SUcdSRO5c3"
      },
      "source": [
        "age_bin_dic = {0 : 'younger than 50',\n",
        "               1: \"between 50 and 54\",\n",
        "               2: \"between 55 and 60\",\n",
        "               3: \"between 60 and 64\",\n",
        "               4: 'older than 65'}\n",
        "\n",
        "diabetes_yes_no = {0: 'patients without diabetes', 1: 'patients with diabetes'}\n",
        "\n",
        "for age in age_bin_dic:\n",
        "  age_subset = df[df[\"AgeBin\"] == age]\n",
        "\n",
        "  for i in range(0,2):\n",
        "    subset = age_subset[age_subset['Diabetes'] == i]\n",
        "    for biomarker in ['Glucose [mmol/L]', 'Glycated haemoglobin (HbA1c) [mmol/mol]']:\n",
        "      mean = np.mean(subset[biomarker])\n",
        "      std = np.std(subset[biomarker])\n",
        "      print('In {} {}, {} mean is {:.3f} and standard deviation is {:.3f}'.format(diabetes_yes_no[i], age_bin_dic[age],  biomarker, mean, std ))\n",
        "        "
      ],
      "execution_count": null,
      "outputs": []
    },
    {
      "cell_type": "code",
      "metadata": {
        "id": "iaKpl3hVRQb6"
      },
      "source": [
        "# let's make it a table\n",
        "\n",
        "diabetes_yes_no = {0: 'no', 1: 'yes'}\n",
        "\n",
        "age_bin_dic = {0 : 'younger than 50',\n",
        "               1: \"between 50 and 54\",\n",
        "               2: \"between 55 and 60\",\n",
        "               3: \"between 60 and 64\",\n",
        "               4: 'older than 65'}\n",
        "\n",
        "columns = ['Age', 'Diabetes?',   \n",
        "           'Glucose [mmol/L] mean', 'Glucose [mmol/L] std',\n",
        "           'Glycated haemoglobin (HbA1c) [mmol/mol] mean', 'Glycated haemoglobin (HbA1c) [mmol/mol] std']\n",
        "table_age_diabetes = pd.DataFrame(columns = columns)\n",
        "\n",
        "for age in age_bin_dic:\n",
        "  age_subset = df[df[\"AgeBin\"] == age]\n",
        "\n",
        "  for i in range(0,2):\n",
        "    subset = age_subset[age_subset['Diabetes'] == i]\n",
        "    mean = {}\n",
        "    std = {}\n",
        "    for biomarker in ['Glucose [mmol/L]', 'Glycated haemoglobin (HbA1c) [mmol/mol]']:\n",
        "      mean[biomarker] = np.mean(subset[biomarker])\n",
        "      std[biomarker] = np.std(subset[biomarker])\n",
        "    \n",
        "    to_add = pd.Series([age_bin_dic[age], diabetes_yes_no[i],\n",
        "                        mean['Glucose [mmol/L]'], std['Glucose [mmol/L]'],\n",
        "                        mean['Glycated haemoglobin (HbA1c) [mmol/mol]'], std['Glycated haemoglobin (HbA1c) [mmol/mol]'],\n",
        "                          \n",
        "                          ], index = columns)\n",
        "    table_age_diabetes = table_age_diabetes.append(to_add, ignore_index=True)\n",
        "  "
      ],
      "execution_count": null,
      "outputs": []
    },
    {
      "cell_type": "code",
      "metadata": {
        "id": "y1IdmInNRe8y"
      },
      "source": [
        "table_age_diabetes"
      ],
      "execution_count": null,
      "outputs": []
    },
    {
      "cell_type": "markdown",
      "metadata": {
        "id": "c-jtnCeoO4mu"
      },
      "source": [
        ""
      ]
    },
    {
      "cell_type": "markdown",
      "metadata": {
        "id": "aWZA93i1N1dp"
      },
      "source": [
        ""
      ]
    }
  ]
}